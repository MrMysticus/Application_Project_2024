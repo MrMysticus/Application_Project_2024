{
 "cells": [
  {
   "cell_type": "code",
   "execution_count": 1,
   "metadata": {},
   "outputs": [
    {
     "name": "stdout",
     "output_type": "stream",
     "text": [
      "{'access_token': 'eyJhbGciOiJSUzI1NiIsInR5cCIgOiAiSldUIiwia2lkIiA6ICJPbWpOY21GRmgwTjV6Wlg1eHg5Zk9mbE0xNFljTmY3WFlieG02OTJtczhBIn0.eyJleHAiOjE3Mjk3MTk1MjAsImlhdCI6MTcyOTU3NTUyMCwianRpIjoiYjdjZmQ0NWYtZjBhZS00MWE3LTlhMjUtNWYyZDkzOWEwNjg4IiwiaXNzIjoiaHR0cHM6Ly9hY2NvdW50cy5raWVscmVnaW9uLmFkZGl4LmlvL3JlYWxtcy9pbmZvcG9ydGFsIiwiYXVkIjoiYWNjb3VudCIsInN1YiI6IjM1MGJiZTlmLWUzYzQtNGU1My1hN2QzLWJiMjdmOTA3MWIxOCIsInR5cCI6IkJlYXJlciIsImF6cCI6InF1YW50dW1sZWFwIiwic2Vzc2lvbl9zdGF0ZSI6ImJjNWU3MzQ2LTE4NjAtNDE4Ni1iNzVkLWM1OGVkMzQ3MTIwZiIsImFjciI6IjEiLCJyZWFsbV9hY2Nlc3MiOnsicm9sZXMiOlsiZGVmYXVsdC1yb2xlcy1pbmZvcG9ydGFsIiwib2ZmbGluZV9hY2Nlc3MiLCJ1bWFfYXV0aG9yaXphdGlvbiJdfSwicmVzb3VyY2VfYWNjZXNzIjp7InF1YW50dW1sZWFwIjp7InJvbGVzIjpbImRhdGEtY29uc3VtZXItcWwiXX0sImFjY291bnQiOnsicm9sZXMiOlsibWFuYWdlLWFjY291bnQiLCJtYW5hZ2UtYWNjb3VudC1saW5rcyIsInZpZXctcHJvZmlsZSJdfX0sInNjb3BlIjoicm9sZXMgcHJvZmlsZSBlbWFpbCIsInNpZCI6ImJjNWU3MzQ2LTE4NjAtNDE4Ni1iNzVkLWM1OGVkMzQ3MTIwZiIsImVtYWlsX3ZlcmlmaWVkIjp0cnVlLCJuYW1lIjoiQ2xhYXMgUmVzb3ciLCJwcmVmZXJyZWRfdXNlcm5hbWUiOiJjbGFhcy5yZXNvd0BzdHVkZW50LmZoLWtpZWwuZGUiLCJnaXZlbl9uYW1lIjoiQ2xhYXMiLCJmYW1pbHlfbmFtZSI6IlJlc293IiwiZW1haWwiOiJjbGFhcy5yZXNvd0BzdHVkZW50LmZoLWtpZWwuZGUifQ.fBB_UFdwRS2GjWSMseDF_OjZYb6i0Q965xyIlA_jzEhRBo6w2rD6I42NAlUuntC05gtCciiiBzA4M-YSlex1qtCLAwzYg5q8iD989R0BQinXSNiiPHn8_Rnuxww4R0gG-zmCxuuCeFCpPpVKqS9SRsLKCcz5GG6PDSHSklMSk2Jcs2z21pViDVI3qj--Mq3sJC39-kRiUtxdOXUTfb3mAWKWyjYIM_QtUwk7Zf5vJQxa7Y8iq9Ft_QxhXEDw4MUhKmS5zUGgdWYpZGX-rp_uAgiBhWx8nmoZy9ijz9yMANA2-ZcGxZWYjv6UTFlhltjT58eSkBY-MqsuIMhboWVQ3g', 'expires_in': 144000, 'refresh_expires_in': 172800, 'refresh_token': 'eyJhbGciOiJIUzI1NiIsInR5cCIgOiAiSldUIiwia2lkIiA6ICI3ZTQ4NWY5MC00NGZmLTQwZTYtODUyYi1kMDE0NDBhZmQ3NTgifQ.eyJleHAiOjE3Mjk3NDgzMjAsImlhdCI6MTcyOTU3NTUyMCwianRpIjoiZTc1ODUyOGMtYzBhOC00MzI5LTkzMWMtODBjNzk1ZTNmYTM1IiwiaXNzIjoiaHR0cHM6Ly9hY2NvdW50cy5raWVscmVnaW9uLmFkZGl4LmlvL3JlYWxtcy9pbmZvcG9ydGFsIiwiYXVkIjoiaHR0cHM6Ly9hY2NvdW50cy5raWVscmVnaW9uLmFkZGl4LmlvL3JlYWxtcy9pbmZvcG9ydGFsIiwic3ViIjoiMzUwYmJlOWYtZTNjNC00ZTUzLWE3ZDMtYmIyN2Y5MDcxYjE4IiwidHlwIjoiUmVmcmVzaCIsImF6cCI6InF1YW50dW1sZWFwIiwic2Vzc2lvbl9zdGF0ZSI6ImJjNWU3MzQ2LTE4NjAtNDE4Ni1iNzVkLWM1OGVkMzQ3MTIwZiIsInNjb3BlIjoicm9sZXMgcHJvZmlsZSBlbWFpbCIsInNpZCI6ImJjNWU3MzQ2LTE4NjAtNDE4Ni1iNzVkLWM1OGVkMzQ3MTIwZiJ9.HrdYjqeIQxNlnY7G0DdJGMl_ynfkIw3IEWHJwyeZxPo', 'token_type': 'Bearer', 'not-before-policy': 1687955313, 'session_state': 'bc5e7346-1860-4186-b75d-c58ed347120f', 'scope': 'roles profile email'}\n"
     ]
    }
   ],
   "source": [
    "import requests\n",
    "import json\n",
    "import pandas as pd\n",
    "\n",
    "# Define the URL\n",
    "url = \"https://accounts.kielregion.addix.io/realms/infoportal/protocol/openid-connect/token\"\n",
    "\n",
    "# Define the headers\n",
    "headers = {\n",
    "    'Content-Type': 'application/x-www-form-urlencoded'\n",
    "}\n",
    "\n",
    "# Define the data\n",
    "data = {\n",
    "    'grant_type': 'password',\n",
    "    'username': MYUSERNAME,  \n",
    "    'password': PASSWORD, \n",
    "    'client_id': 'quantumleap',\n",
    "    'client_secret': CLIENTSECRET\n",
    "}\n",
    "\n",
    "# Send the request\n",
    "response = requests.post(url, headers=headers, data=data)\n",
    "\n",
    "# Print the response\n",
    "token_text = response.text\n",
    "\n",
    "token = json.loads(token_text)\n",
    "print(token)\n"
   ]
  },
  {
   "cell_type": "code",
   "execution_count": 2,
   "metadata": {},
   "outputs": [
    {
     "data": {
      "text/plain": [
       "'eyJhbGciOiJSUzI1NiIsInR5cCIgOiAiSldUIiwia2lkIiA6ICJPbWpOY21GRmgwTjV6Wlg1eHg5Zk9mbE0xNFljTmY3WFlieG02OTJtczhBIn0.eyJleHAiOjE3Mjk3MTk1MjAsImlhdCI6MTcyOTU3NTUyMCwianRpIjoiYjdjZmQ0NWYtZjBhZS00MWE3LTlhMjUtNWYyZDkzOWEwNjg4IiwiaXNzIjoiaHR0cHM6Ly9hY2NvdW50cy5raWVscmVnaW9uLmFkZGl4LmlvL3JlYWxtcy9pbmZvcG9ydGFsIiwiYXVkIjoiYWNjb3VudCIsInN1YiI6IjM1MGJiZTlmLWUzYzQtNGU1My1hN2QzLWJiMjdmOTA3MWIxOCIsInR5cCI6IkJlYXJlciIsImF6cCI6InF1YW50dW1sZWFwIiwic2Vzc2lvbl9zdGF0ZSI6ImJjNWU3MzQ2LTE4NjAtNDE4Ni1iNzVkLWM1OGVkMzQ3MTIwZiIsImFjciI6IjEiLCJyZWFsbV9hY2Nlc3MiOnsicm9sZXMiOlsiZGVmYXVsdC1yb2xlcy1pbmZvcG9ydGFsIiwib2ZmbGluZV9hY2Nlc3MiLCJ1bWFfYXV0aG9yaXphdGlvbiJdfSwicmVzb3VyY2VfYWNjZXNzIjp7InF1YW50dW1sZWFwIjp7InJvbGVzIjpbImRhdGEtY29uc3VtZXItcWwiXX0sImFjY291bnQiOnsicm9sZXMiOlsibWFuYWdlLWFjY291bnQiLCJtYW5hZ2UtYWNjb3VudC1saW5rcyIsInZpZXctcHJvZmlsZSJdfX0sInNjb3BlIjoicm9sZXMgcHJvZmlsZSBlbWFpbCIsInNpZCI6ImJjNWU3MzQ2LTE4NjAtNDE4Ni1iNzVkLWM1OGVkMzQ3MTIwZiIsImVtYWlsX3ZlcmlmaWVkIjp0cnVlLCJuYW1lIjoiQ2xhYXMgUmVzb3ciLCJwcmVmZXJyZWRfdXNlcm5hbWUiOiJjbGFhcy5yZXNvd0BzdHVkZW50LmZoLWtpZWwuZGUiLCJnaXZlbl9uYW1lIjoiQ2xhYXMiLCJmYW1pbHlfbmFtZSI6IlJlc293IiwiZW1haWwiOiJjbGFhcy5yZXNvd0BzdHVkZW50LmZoLWtpZWwuZGUifQ.fBB_UFdwRS2GjWSMseDF_OjZYb6i0Q965xyIlA_jzEhRBo6w2rD6I42NAlUuntC05gtCciiiBzA4M-YSlex1qtCLAwzYg5q8iD989R0BQinXSNiiPHn8_Rnuxww4R0gG-zmCxuuCeFCpPpVKqS9SRsLKCcz5GG6PDSHSklMSk2Jcs2z21pViDVI3qj--Mq3sJC39-kRiUtxdOXUTfb3mAWKWyjYIM_QtUwk7Zf5vJQxa7Y8iq9Ft_QxhXEDw4MUhKmS5zUGgdWYpZGX-rp_uAgiBhWx8nmoZy9ijz9yMANA2-ZcGxZWYjv6UTFlhltjT58eSkBY-MqsuIMhboWVQ3g'"
      ]
     },
     "execution_count": 2,
     "metadata": {},
     "output_type": "execute_result"
    }
   ],
   "source": [
    "my_token = token['access_token']\n",
    "my_token"
   ]
  },
  {
   "cell_type": "code",
   "execution_count": 3,
   "metadata": {},
   "outputs": [
    {
     "name": "stdout",
     "output_type": "stream",
     "text": [
      "<class 'pandas.core.frame.DataFrame'>\n",
      "RangeIndex: 233 entries, 0 to 232\n",
      "Data columns (total 7 columns):\n",
      " #   Column            Non-Null Count  Dtype \n",
      "---  ------            --------------  ----- \n",
      " 0   id                233 non-null    int64 \n",
      " 1   name              233 non-null    object\n",
      " 2   state             233 non-null    object\n",
      " 3   created_at        233 non-null    object\n",
      " 4   maximum_capacity  233 non-null    int64 \n",
      " 5   pickups           233 non-null    int64 \n",
      " 6   dropoffs          233 non-null    int64 \n",
      "dtypes: int64(4), object(3)\n",
      "memory usage: 12.9+ KB\n"
     ]
    }
   ],
   "source": [
    "hub_list_all_time = pd.read_csv('Hub List all time + pick up and drop offs.csv')\n",
    "\n",
    "hub_list_all_time.info()"
   ]
  },
  {
   "cell_type": "code",
   "execution_count": 4,
   "metadata": {},
   "outputs": [
    {
     "name": "stdout",
     "output_type": "stream",
     "text": [
      "['24367', '24368', '24369', '24370', '24371', '24373', '24375', '24376', '24379', '24380', '24381', '24383', '24385', '24389', '24391', '24392', '24393', '24395', '24397', '24399', '24408', '24412', '24413', '24415', '24417', '24419', '24436', '24457', '24465', '24466', '24467', '24469', '24471', '24481', '26224', '26889']\n"
     ]
    }
   ],
   "source": [
    "# Original list of IDs\n",
    "float_list = [24367., 24368., 24369., 24370., 24371., 24373., 24375., 24376.,\n",
    "       24379., 24380., 24381., 24383., 24385., 24389., 24391., 24392.,\n",
    "       24393., 24395., 24397., 24399., 24408., 24412., 24413., 24415.,\n",
    "       24417., 24419., 24436., 24457., 24465., 24466., 24467., 24469.,\n",
    "       24471., 24481., 26224., 26889.]\n",
    "\n",
    "int_list = [int(num) for num in float_list]\n",
    "\n",
    "# Convert each integer to string\n",
    "string_list = [str(num) for num in int_list]\n",
    "\n",
    "# Display the result\n",
    "print(string_list)"
   ]
  },
  {
   "cell_type": "code",
   "execution_count": 5,
   "metadata": {},
   "outputs": [
    {
     "data": {
      "text/html": [
       "<div>\n",
       "<style scoped>\n",
       "    .dataframe tbody tr th:only-of-type {\n",
       "        vertical-align: middle;\n",
       "    }\n",
       "\n",
       "    .dataframe tbody tr th {\n",
       "        vertical-align: top;\n",
       "    }\n",
       "\n",
       "    .dataframe thead th {\n",
       "        text-align: right;\n",
       "    }\n",
       "</style>\n",
       "<table border=\"1\" class=\"dataframe\">\n",
       "  <thead>\n",
       "    <tr style=\"text-align: right;\">\n",
       "      <th></th>\n",
       "      <th>index</th>\n",
       "      <th>entityId</th>\n",
       "      <th>entityType</th>\n",
       "      <th>availableBikeNumber</th>\n",
       "      <th>totalSlotNumber</th>\n",
       "      <th>freeSlotNumber</th>\n",
       "    </tr>\n",
       "  </thead>\n",
       "  <tbody>\n",
       "    <tr>\n",
       "      <th>0</th>\n",
       "      <td>2024-06-17T11:00:00.000+00:00</td>\n",
       "      <td>24370</td>\n",
       "      <td>BikeHireDockingStation</td>\n",
       "      <td>10.098361</td>\n",
       "      <td>25.0</td>\n",
       "      <td>13.000000</td>\n",
       "    </tr>\n",
       "    <tr>\n",
       "      <th>1</th>\n",
       "      <td>2024-06-17T12:00:00.000+00:00</td>\n",
       "      <td>24370</td>\n",
       "      <td>BikeHireDockingStation</td>\n",
       "      <td>8.508475</td>\n",
       "      <td>25.0</td>\n",
       "      <td>14.491525</td>\n",
       "    </tr>\n",
       "    <tr>\n",
       "      <th>2</th>\n",
       "      <td>2024-06-17T13:00:00.000+00:00</td>\n",
       "      <td>24370</td>\n",
       "      <td>BikeHireDockingStation</td>\n",
       "      <td>10.898305</td>\n",
       "      <td>25.0</td>\n",
       "      <td>12.203390</td>\n",
       "    </tr>\n",
       "    <tr>\n",
       "      <th>3</th>\n",
       "      <td>2024-06-17T14:00:00.000+00:00</td>\n",
       "      <td>24370</td>\n",
       "      <td>BikeHireDockingStation</td>\n",
       "      <td>11.181818</td>\n",
       "      <td>25.0</td>\n",
       "      <td>12.000000</td>\n",
       "    </tr>\n",
       "    <tr>\n",
       "      <th>4</th>\n",
       "      <td>2024-06-17T15:00:00.000+00:00</td>\n",
       "      <td>24370</td>\n",
       "      <td>BikeHireDockingStation</td>\n",
       "      <td>10.555556</td>\n",
       "      <td>25.0</td>\n",
       "      <td>12.444444</td>\n",
       "    </tr>\n",
       "    <tr>\n",
       "      <th>...</th>\n",
       "      <td>...</td>\n",
       "      <td>...</td>\n",
       "      <td>...</td>\n",
       "      <td>...</td>\n",
       "      <td>...</td>\n",
       "      <td>...</td>\n",
       "    </tr>\n",
       "    <tr>\n",
       "      <th>7255</th>\n",
       "      <td>2024-10-01T02:00:00.000+00:00</td>\n",
       "      <td>24376</td>\n",
       "      <td>BikeHireDockingStation</td>\n",
       "      <td>8.000000</td>\n",
       "      <td>20.0</td>\n",
       "      <td>12.000000</td>\n",
       "    </tr>\n",
       "    <tr>\n",
       "      <th>7256</th>\n",
       "      <td>2024-10-01T03:00:00.000+00:00</td>\n",
       "      <td>24376</td>\n",
       "      <td>BikeHireDockingStation</td>\n",
       "      <td>8.000000</td>\n",
       "      <td>20.0</td>\n",
       "      <td>12.000000</td>\n",
       "    </tr>\n",
       "    <tr>\n",
       "      <th>7257</th>\n",
       "      <td>2024-10-01T04:00:00.000+00:00</td>\n",
       "      <td>24376</td>\n",
       "      <td>BikeHireDockingStation</td>\n",
       "      <td>6.850000</td>\n",
       "      <td>20.0</td>\n",
       "      <td>13.150000</td>\n",
       "    </tr>\n",
       "    <tr>\n",
       "      <th>7258</th>\n",
       "      <td>2024-10-01T05:00:00.000+00:00</td>\n",
       "      <td>24376</td>\n",
       "      <td>BikeHireDockingStation</td>\n",
       "      <td>4.933333</td>\n",
       "      <td>20.0</td>\n",
       "      <td>15.066667</td>\n",
       "    </tr>\n",
       "    <tr>\n",
       "      <th>7259</th>\n",
       "      <td>2024-10-01T06:00:00.000+00:00</td>\n",
       "      <td>24376</td>\n",
       "      <td>BikeHireDockingStation</td>\n",
       "      <td>3.550000</td>\n",
       "      <td>20.0</td>\n",
       "      <td>16.200000</td>\n",
       "    </tr>\n",
       "  </tbody>\n",
       "</table>\n",
       "<p>7260 rows × 6 columns</p>\n",
       "</div>"
      ],
      "text/plain": [
       "                              index entityId              entityType  \\\n",
       "0     2024-06-17T11:00:00.000+00:00    24370  BikeHireDockingStation   \n",
       "1     2024-06-17T12:00:00.000+00:00    24370  BikeHireDockingStation   \n",
       "2     2024-06-17T13:00:00.000+00:00    24370  BikeHireDockingStation   \n",
       "3     2024-06-17T14:00:00.000+00:00    24370  BikeHireDockingStation   \n",
       "4     2024-06-17T15:00:00.000+00:00    24370  BikeHireDockingStation   \n",
       "...                             ...      ...                     ...   \n",
       "7255  2024-10-01T02:00:00.000+00:00    24376  BikeHireDockingStation   \n",
       "7256  2024-10-01T03:00:00.000+00:00    24376  BikeHireDockingStation   \n",
       "7257  2024-10-01T04:00:00.000+00:00    24376  BikeHireDockingStation   \n",
       "7258  2024-10-01T05:00:00.000+00:00    24376  BikeHireDockingStation   \n",
       "7259  2024-10-01T06:00:00.000+00:00    24376  BikeHireDockingStation   \n",
       "\n",
       "      availableBikeNumber  totalSlotNumber  freeSlotNumber  \n",
       "0               10.098361             25.0       13.000000  \n",
       "1                8.508475             25.0       14.491525  \n",
       "2               10.898305             25.0       12.203390  \n",
       "3               11.181818             25.0       12.000000  \n",
       "4               10.555556             25.0       12.444444  \n",
       "...                   ...              ...             ...  \n",
       "7255             8.000000             20.0       12.000000  \n",
       "7256             8.000000             20.0       12.000000  \n",
       "7257             6.850000             20.0       13.150000  \n",
       "7258             4.933333             20.0       15.066667  \n",
       "7259             3.550000             20.0       16.200000  \n",
       "\n",
       "[7260 rows x 6 columns]"
      ]
     },
     "execution_count": 5,
     "metadata": {},
     "output_type": "execute_result"
    }
   ],
   "source": [
    "# Constructing request\n",
    "# Defining a function to loop through API responses and create df from it\n",
    "# Loop through ID list to make all the API calls\n",
    "\n",
    "import requests\n",
    "import pandas as pd\n",
    "import re\n",
    "\n",
    "# Define the base URL and IDs you want to access\n",
    "base_url = \"https://apis.kielregion.addix.io/ql/v2/entities/urn:ngsi-ld:BikeHireDockingStation:KielRegion\"\n",
    "ids = ['24370', '24397', '24376']\n",
    "       \n",
    "# Define parameters and headers\n",
    "params = {\n",
    "    'type': 'BikeHireDockingStation',\n",
    "    'fromDate': '2024-04-23T00:00:00',\n",
    "    'toDate': '2024-10-01T06:59:59',\n",
    "    'attrs': 'totalSlotNumber,availableBikeNumber,freeSlotNumber',\n",
    "    'aggrPeriod': 'hour',\n",
    "    'aggrMethod':'avg'\n",
    "}\n",
    "headers = {\n",
    "    'NGSILD-Tenant': 'infoportal',\n",
    "    'Authorization': f'Bearer {my_token}'} \n",
    "\n",
    "# Function to extract data into a DataFrame\n",
    "def attributes_to_dataframe_with_index(data, attribute_names):\n",
    "    extracted_data = {}\n",
    "    \n",
    "    # Extract entityId and entityType\n",
    "    entity_id = data.get('entityId', '')\n",
    "    entity_type = data.get('entityType', '')\n",
    "    \n",
    "    # Extract the number after \"KielRegion\" from the entityId\n",
    "    match = re.search(r'KielRegion:(\\d+)', entity_id)\n",
    "    entity_id_number = match.group(1) if match else ''\n",
    "    \n",
    "    # Loop through each attribute dictionary in 'attributes'\n",
    "    for attribute in data.get('attributes', []):\n",
    "        attr_name = attribute.get('attrName')\n",
    "        if attr_name in attribute_names:\n",
    "            extracted_data[attr_name] = attribute.get('values', [])\n",
    "\n",
    "    # Extract the index from the response\n",
    "    index_values = data.get('index', [])\n",
    "    \n",
    "    # Create a pandas DataFrame from the dictionary\n",
    "    df = pd.DataFrame(extracted_data)\n",
    "    \n",
    "    # Add the index values, entityId number, and entityType as new columns\n",
    "    df['index'] = index_values\n",
    "    df['entityId'] = entity_id_number\n",
    "    df['entityType'] = entity_type\n",
    "    \n",
    "    # Reorder the columns to have 'index', 'entityId', and 'entityType' first\n",
    "    column_order = ['index', 'entityId', 'entityType'] + attribute_names\n",
    "    df = df[column_order]\n",
    "\n",
    "    return df\n",
    "\n",
    "# Loop through the list of IDs and make requests\n",
    "dfs = []  # List to hold DataFrames for each ID\n",
    "\n",
    "for entity_id in ids:\n",
    "    url = f\"{base_url}:{entity_id}\"  # Construct URL for each ID\n",
    "    \n",
    "    # Make the request\n",
    "    response = requests.get(url, headers=headers, params=params)\n",
    "\n",
    "    # Check the response\n",
    "    if response.status_code == 200:\n",
    "        data = response.json()  # Parse the JSON response\n",
    "        df = attributes_to_dataframe_with_index(data, ['availableBikeNumber', 'totalSlotNumber', 'freeSlotNumber'])\n",
    "        dfs.append(df)  # Add the DataFrame to the list\n",
    "    else:\n",
    "        print(f\"Error: {response.status_code}, {response.text}\")\n",
    "\n",
    "# Concatenate all DataFrames into a single DataFrame if needed\n",
    "final_df = pd.concat(dfs, ignore_index=True)\n",
    "\n",
    "# Display the resulting DataFrame\n",
    "final_df\n"
   ]
  },
  {
   "cell_type": "code",
   "execution_count": 6,
   "metadata": {},
   "outputs": [
    {
     "name": "stdout",
     "output_type": "stream",
     "text": [
      "<class 'pandas.core.frame.DataFrame'>\n",
      "RangeIndex: 7260 entries, 0 to 7259\n",
      "Data columns (total 6 columns):\n",
      " #   Column               Non-Null Count  Dtype  \n",
      "---  ------               --------------  -----  \n",
      " 0   index                7260 non-null   object \n",
      " 1   entityId             7260 non-null   int64  \n",
      " 2   entityType           7260 non-null   object \n",
      " 3   availableBikeNumber  7260 non-null   float64\n",
      " 4   totalSlotNumber      7260 non-null   float64\n",
      " 5   freeSlotNumber       7260 non-null   float64\n",
      "dtypes: float64(3), int64(1), object(2)\n",
      "memory usage: 340.4+ KB\n"
     ]
    }
   ],
   "source": [
    "final_df['entityId'] = pd.to_numeric(final_df['entityId'])\n",
    "\n",
    "final_df.info()"
   ]
  },
  {
   "cell_type": "code",
   "execution_count": 7,
   "metadata": {},
   "outputs": [
    {
     "data": {
      "text/html": [
       "<div>\n",
       "<style scoped>\n",
       "    .dataframe tbody tr th:only-of-type {\n",
       "        vertical-align: middle;\n",
       "    }\n",
       "\n",
       "    .dataframe tbody tr th {\n",
       "        vertical-align: top;\n",
       "    }\n",
       "\n",
       "    .dataframe thead th {\n",
       "        text-align: right;\n",
       "    }\n",
       "</style>\n",
       "<table border=\"1\" class=\"dataframe\">\n",
       "  <thead>\n",
       "    <tr style=\"text-align: right;\">\n",
       "      <th></th>\n",
       "      <th>index</th>\n",
       "      <th>entityId</th>\n",
       "      <th>entityType</th>\n",
       "      <th>availableBikeNumber</th>\n",
       "      <th>totalSlotNumber</th>\n",
       "      <th>freeSlotNumber</th>\n",
       "      <th>name</th>\n",
       "    </tr>\n",
       "  </thead>\n",
       "  <tbody>\n",
       "    <tr>\n",
       "      <th>0</th>\n",
       "      <td>2024-06-17T11:00:00.000+00:00</td>\n",
       "      <td>24370</td>\n",
       "      <td>BikeHireDockingStation</td>\n",
       "      <td>10.098361</td>\n",
       "      <td>25.0</td>\n",
       "      <td>13.000000</td>\n",
       "      <td>Alter Markt</td>\n",
       "    </tr>\n",
       "    <tr>\n",
       "      <th>1</th>\n",
       "      <td>2024-06-17T12:00:00.000+00:00</td>\n",
       "      <td>24370</td>\n",
       "      <td>BikeHireDockingStation</td>\n",
       "      <td>8.508475</td>\n",
       "      <td>25.0</td>\n",
       "      <td>14.491525</td>\n",
       "      <td>Alter Markt</td>\n",
       "    </tr>\n",
       "    <tr>\n",
       "      <th>2</th>\n",
       "      <td>2024-06-17T13:00:00.000+00:00</td>\n",
       "      <td>24370</td>\n",
       "      <td>BikeHireDockingStation</td>\n",
       "      <td>10.898305</td>\n",
       "      <td>25.0</td>\n",
       "      <td>12.203390</td>\n",
       "      <td>Alter Markt</td>\n",
       "    </tr>\n",
       "    <tr>\n",
       "      <th>3</th>\n",
       "      <td>2024-06-17T14:00:00.000+00:00</td>\n",
       "      <td>24370</td>\n",
       "      <td>BikeHireDockingStation</td>\n",
       "      <td>11.181818</td>\n",
       "      <td>25.0</td>\n",
       "      <td>12.000000</td>\n",
       "      <td>Alter Markt</td>\n",
       "    </tr>\n",
       "    <tr>\n",
       "      <th>4</th>\n",
       "      <td>2024-06-17T15:00:00.000+00:00</td>\n",
       "      <td>24370</td>\n",
       "      <td>BikeHireDockingStation</td>\n",
       "      <td>10.555556</td>\n",
       "      <td>25.0</td>\n",
       "      <td>12.444444</td>\n",
       "      <td>Alter Markt</td>\n",
       "    </tr>\n",
       "  </tbody>\n",
       "</table>\n",
       "</div>"
      ],
      "text/plain": [
       "                           index  entityId              entityType  \\\n",
       "0  2024-06-17T11:00:00.000+00:00     24370  BikeHireDockingStation   \n",
       "1  2024-06-17T12:00:00.000+00:00     24370  BikeHireDockingStation   \n",
       "2  2024-06-17T13:00:00.000+00:00     24370  BikeHireDockingStation   \n",
       "3  2024-06-17T14:00:00.000+00:00     24370  BikeHireDockingStation   \n",
       "4  2024-06-17T15:00:00.000+00:00     24370  BikeHireDockingStation   \n",
       "\n",
       "   availableBikeNumber  totalSlotNumber  freeSlotNumber         name  \n",
       "0            10.098361             25.0       13.000000  Alter Markt  \n",
       "1             8.508475             25.0       14.491525  Alter Markt  \n",
       "2            10.898305             25.0       12.203390  Alter Markt  \n",
       "3            11.181818             25.0       12.000000  Alter Markt  \n",
       "4            10.555556             25.0       12.444444  Alter Markt  "
      ]
     },
     "execution_count": 7,
     "metadata": {},
     "output_type": "execute_result"
    }
   ],
   "source": [
    "final = pd.merge(final_df, hub_list_all_time, how='left', left_on='entityId', right_on='id')\n",
    "final.drop(['id','state','created_at','maximum_capacity','pickups','dropoffs'], axis=1, inplace=True)\n",
    "\n",
    "final.head()"
   ]
  },
  {
   "cell_type": "code",
   "execution_count": 37,
   "metadata": {},
   "outputs": [
    {
     "name": "stdout",
     "output_type": "stream",
     "text": [
      "<class 'pandas.core.frame.DataFrame'>\n",
      "RangeIndex: 7260 entries, 0 to 7259\n",
      "Data columns (total 7 columns):\n",
      " #   Column               Non-Null Count  Dtype              \n",
      "---  ------               --------------  -----              \n",
      " 0   index                7260 non-null   datetime64[ns, UTC]\n",
      " 1   entityId             7260 non-null   int64              \n",
      " 2   entityType           7260 non-null   object             \n",
      " 3   availableBikeNumber  7260 non-null   float64            \n",
      " 4   totalSlotNumber      7260 non-null   float64            \n",
      " 5   freeSlotNumber       7260 non-null   float64            \n",
      " 6   name                 7260 non-null   object             \n",
      "dtypes: datetime64[ns, UTC](1), float64(3), int64(1), object(2)\n",
      "memory usage: 397.2+ KB\n"
     ]
    }
   ],
   "source": [
    "final.info()"
   ]
  },
  {
   "cell_type": "code",
   "execution_count": 36,
   "metadata": {},
   "outputs": [],
   "source": [
    "import numpy as np\n",
    "import pandas as pd\n",
    "import matplotlib.pyplot as plt\n",
    "from statsmodels.tsa.arima.model import ARIMA\n",
    "from sklearn.metrics import mean_squared_error"
   ]
  },
  {
   "cell_type": "code",
   "execution_count": 37,
   "metadata": {},
   "outputs": [
    {
     "name": "stdout",
     "output_type": "stream",
     "text": [
      "<class 'pandas.core.frame.DataFrame'>\n",
      "RangeIndex: 7239 entries, 0 to 7238\n",
      "Data columns (total 2 columns):\n",
      " #   Column               Non-Null Count  Dtype              \n",
      "---  ------               --------------  -----              \n",
      " 0   index                7239 non-null   datetime64[ns, UTC]\n",
      " 1   availableBikeNumber  7239 non-null   float64            \n",
      "dtypes: datetime64[ns, UTC](1), float64(1)\n",
      "memory usage: 113.2 KB\n"
     ]
    },
    {
     "name": "stderr",
     "output_type": "stream",
     "text": [
      "/var/folders/q2/4b4lyr6d0b320kbxlhgj_9z00000gn/T/ipykernel_4036/3450867657.py:3: SettingWithCopyWarning: \n",
      "A value is trying to be set on a copy of a slice from a DataFrame.\n",
      "Try using .loc[row_indexer,col_indexer] = value instead\n",
      "\n",
      "See the caveats in the documentation: https://pandas.pydata.org/pandas-docs/stable/user_guide/indexing.html#returning-a-view-versus-a-copy\n",
      "  final_df['index'] = pd.to_datetime(final_df['index'])\n"
     ]
    }
   ],
   "source": [
    "final_df = final[['index','availableBikeNumber']]\n",
    "\n",
    "final_df['index'] = pd.to_datetime(final_df['index'])\n",
    "\n",
    "final_df.info()"
   ]
  },
  {
   "cell_type": "code",
   "execution_count": 41,
   "metadata": {},
   "outputs": [
    {
     "data": {
      "text/html": [
       "<div>\n",
       "<style scoped>\n",
       "    .dataframe tbody tr th:only-of-type {\n",
       "        vertical-align: middle;\n",
       "    }\n",
       "\n",
       "    .dataframe tbody tr th {\n",
       "        vertical-align: top;\n",
       "    }\n",
       "\n",
       "    .dataframe thead th {\n",
       "        text-align: right;\n",
       "    }\n",
       "</style>\n",
       "<table border=\"1\" class=\"dataframe\">\n",
       "  <thead>\n",
       "    <tr style=\"text-align: right;\">\n",
       "      <th></th>\n",
       "      <th>index</th>\n",
       "      <th>entityId</th>\n",
       "      <th>entityType</th>\n",
       "      <th>availableBikeNumber</th>\n",
       "      <th>totalSlotNumber</th>\n",
       "      <th>freeSlotNumber</th>\n",
       "      <th>name</th>\n",
       "    </tr>\n",
       "  </thead>\n",
       "  <tbody>\n",
       "    <tr>\n",
       "      <th>0</th>\n",
       "      <td>2024-06-17T11:00:00.000+00:00</td>\n",
       "      <td>24370</td>\n",
       "      <td>BikeHireDockingStation</td>\n",
       "      <td>10.098361</td>\n",
       "      <td>25.0</td>\n",
       "      <td>13.000000</td>\n",
       "      <td>Alter Markt</td>\n",
       "    </tr>\n",
       "    <tr>\n",
       "      <th>1</th>\n",
       "      <td>2024-06-17T12:00:00.000+00:00</td>\n",
       "      <td>24370</td>\n",
       "      <td>BikeHireDockingStation</td>\n",
       "      <td>8.508475</td>\n",
       "      <td>25.0</td>\n",
       "      <td>14.491525</td>\n",
       "      <td>Alter Markt</td>\n",
       "    </tr>\n",
       "    <tr>\n",
       "      <th>2</th>\n",
       "      <td>2024-06-17T13:00:00.000+00:00</td>\n",
       "      <td>24370</td>\n",
       "      <td>BikeHireDockingStation</td>\n",
       "      <td>10.898305</td>\n",
       "      <td>25.0</td>\n",
       "      <td>12.203390</td>\n",
       "      <td>Alter Markt</td>\n",
       "    </tr>\n",
       "    <tr>\n",
       "      <th>3</th>\n",
       "      <td>2024-06-17T14:00:00.000+00:00</td>\n",
       "      <td>24370</td>\n",
       "      <td>BikeHireDockingStation</td>\n",
       "      <td>11.181818</td>\n",
       "      <td>25.0</td>\n",
       "      <td>12.000000</td>\n",
       "      <td>Alter Markt</td>\n",
       "    </tr>\n",
       "    <tr>\n",
       "      <th>4</th>\n",
       "      <td>2024-06-17T15:00:00.000+00:00</td>\n",
       "      <td>24370</td>\n",
       "      <td>BikeHireDockingStation</td>\n",
       "      <td>10.555556</td>\n",
       "      <td>25.0</td>\n",
       "      <td>12.444444</td>\n",
       "      <td>Alter Markt</td>\n",
       "    </tr>\n",
       "  </tbody>\n",
       "</table>\n",
       "</div>"
      ],
      "text/plain": [
       "                           index  entityId              entityType  \\\n",
       "0  2024-06-17T11:00:00.000+00:00     24370  BikeHireDockingStation   \n",
       "1  2024-06-17T12:00:00.000+00:00     24370  BikeHireDockingStation   \n",
       "2  2024-06-17T13:00:00.000+00:00     24370  BikeHireDockingStation   \n",
       "3  2024-06-17T14:00:00.000+00:00     24370  BikeHireDockingStation   \n",
       "4  2024-06-17T15:00:00.000+00:00     24370  BikeHireDockingStation   \n",
       "\n",
       "   availableBikeNumber  totalSlotNumber  freeSlotNumber         name  \n",
       "0            10.098361             25.0       13.000000  Alter Markt  \n",
       "1             8.508475             25.0       14.491525  Alter Markt  \n",
       "2            10.898305             25.0       12.203390  Alter Markt  \n",
       "3            11.181818             25.0       12.000000  Alter Markt  \n",
       "4            10.555556             25.0       12.444444  Alter Markt  "
      ]
     },
     "execution_count": 41,
     "metadata": {},
     "output_type": "execute_result"
    }
   ],
   "source": [
    "final.head()"
   ]
  },
  {
   "cell_type": "code",
   "execution_count": 9,
   "metadata": {},
   "outputs": [
    {
     "data": {
      "text/html": [
       "<div>\n",
       "<style scoped>\n",
       "    .dataframe tbody tr th:only-of-type {\n",
       "        vertical-align: middle;\n",
       "    }\n",
       "\n",
       "    .dataframe tbody tr th {\n",
       "        vertical-align: top;\n",
       "    }\n",
       "\n",
       "    .dataframe thead th {\n",
       "        text-align: right;\n",
       "    }\n",
       "</style>\n",
       "<table border=\"1\" class=\"dataframe\">\n",
       "  <thead>\n",
       "    <tr style=\"text-align: right;\">\n",
       "      <th></th>\n",
       "      <th>index</th>\n",
       "      <th>entityId</th>\n",
       "      <th>entityType</th>\n",
       "      <th>availableBikeNumber</th>\n",
       "      <th>totalSlotNumber</th>\n",
       "      <th>freeSlotNumber</th>\n",
       "      <th>name</th>\n",
       "    </tr>\n",
       "  </thead>\n",
       "  <tbody>\n",
       "    <tr>\n",
       "      <th>7255</th>\n",
       "      <td>2024-10-01T02:00:00.000+00:00</td>\n",
       "      <td>24376</td>\n",
       "      <td>BikeHireDockingStation</td>\n",
       "      <td>8.000000</td>\n",
       "      <td>20.0</td>\n",
       "      <td>12.000000</td>\n",
       "      <td>Kirchhofallee</td>\n",
       "    </tr>\n",
       "    <tr>\n",
       "      <th>7256</th>\n",
       "      <td>2024-10-01T03:00:00.000+00:00</td>\n",
       "      <td>24376</td>\n",
       "      <td>BikeHireDockingStation</td>\n",
       "      <td>8.000000</td>\n",
       "      <td>20.0</td>\n",
       "      <td>12.000000</td>\n",
       "      <td>Kirchhofallee</td>\n",
       "    </tr>\n",
       "    <tr>\n",
       "      <th>7257</th>\n",
       "      <td>2024-10-01T04:00:00.000+00:00</td>\n",
       "      <td>24376</td>\n",
       "      <td>BikeHireDockingStation</td>\n",
       "      <td>6.850000</td>\n",
       "      <td>20.0</td>\n",
       "      <td>13.150000</td>\n",
       "      <td>Kirchhofallee</td>\n",
       "    </tr>\n",
       "    <tr>\n",
       "      <th>7258</th>\n",
       "      <td>2024-10-01T05:00:00.000+00:00</td>\n",
       "      <td>24376</td>\n",
       "      <td>BikeHireDockingStation</td>\n",
       "      <td>4.933333</td>\n",
       "      <td>20.0</td>\n",
       "      <td>15.066667</td>\n",
       "      <td>Kirchhofallee</td>\n",
       "    </tr>\n",
       "    <tr>\n",
       "      <th>7259</th>\n",
       "      <td>2024-10-01T06:00:00.000+00:00</td>\n",
       "      <td>24376</td>\n",
       "      <td>BikeHireDockingStation</td>\n",
       "      <td>3.550000</td>\n",
       "      <td>20.0</td>\n",
       "      <td>16.200000</td>\n",
       "      <td>Kirchhofallee</td>\n",
       "    </tr>\n",
       "  </tbody>\n",
       "</table>\n",
       "</div>"
      ],
      "text/plain": [
       "                              index  entityId              entityType  \\\n",
       "7255  2024-10-01T02:00:00.000+00:00     24376  BikeHireDockingStation   \n",
       "7256  2024-10-01T03:00:00.000+00:00     24376  BikeHireDockingStation   \n",
       "7257  2024-10-01T04:00:00.000+00:00     24376  BikeHireDockingStation   \n",
       "7258  2024-10-01T05:00:00.000+00:00     24376  BikeHireDockingStation   \n",
       "7259  2024-10-01T06:00:00.000+00:00     24376  BikeHireDockingStation   \n",
       "\n",
       "      availableBikeNumber  totalSlotNumber  freeSlotNumber           name  \n",
       "7255             8.000000             20.0       12.000000  Kirchhofallee  \n",
       "7256             8.000000             20.0       12.000000  Kirchhofallee  \n",
       "7257             6.850000             20.0       13.150000  Kirchhofallee  \n",
       "7258             4.933333             20.0       15.066667  Kirchhofallee  \n",
       "7259             3.550000             20.0       16.200000  Kirchhofallee  "
      ]
     },
     "execution_count": 9,
     "metadata": {},
     "output_type": "execute_result"
    }
   ],
   "source": [
    "final.tail()"
   ]
  },
  {
   "cell_type": "code",
   "execution_count": 11,
   "metadata": {},
   "outputs": [
    {
     "name": "stdout",
     "output_type": "stream",
     "text": [
      "<class 'pandas.core.frame.DataFrame'>\n",
      "RangeIndex: 7260 entries, 0 to 7259\n",
      "Data columns (total 7 columns):\n",
      " #   Column               Non-Null Count  Dtype              \n",
      "---  ------               --------------  -----              \n",
      " 0   index                7260 non-null   datetime64[ns, UTC]\n",
      " 1   entityId             7260 non-null   int64              \n",
      " 2   entityType           7260 non-null   object             \n",
      " 3   availableBikeNumber  7260 non-null   float64            \n",
      " 4   totalSlotNumber      7260 non-null   float64            \n",
      " 5   freeSlotNumber       7260 non-null   float64            \n",
      " 6   name                 7260 non-null   object             \n",
      "dtypes: datetime64[ns, UTC](1), float64(3), int64(1), object(2)\n",
      "memory usage: 397.2+ KB\n"
     ]
    }
   ],
   "source": [
    "final['index'] = pd.to_datetime(final['index'])\n",
    "final.info()"
   ]
  },
  {
   "cell_type": "markdown",
   "metadata": {},
   "source": [
    "## ARIMA Forecast"
   ]
  },
  {
   "cell_type": "code",
   "execution_count": 80,
   "metadata": {},
   "outputs": [
    {
     "data": {
      "image/png": "[encoded data removed]",
      "text/plain": [
       "<Figure size 1000x600 with 1 Axes>"
      ]
     },
     "metadata": {},
     "output_type": "display_data"
    },
    {
     "name": "stderr",
     "output_type": "stream",
     "text": [
      "/Users/user/Desktop/Master DataScience/Semester 1/Programming and Tools for Data Science/.conda/lib/python3.12/site-packages/statsmodels/tsa/base/tsa_model.py:473: ValueWarning: No frequency information was provided, so inferred frequency h will be used.\n",
      "  self._init_dates(dates, freq)\n",
      "/Users/user/Desktop/Master DataScience/Semester 1/Programming and Tools for Data Science/.conda/lib/python3.12/site-packages/statsmodels/tsa/base/tsa_model.py:473: ValueWarning: No frequency information was provided, so inferred frequency h will be used.\n",
      "  self._init_dates(dates, freq)\n",
      "/Users/user/Desktop/Master DataScience/Semester 1/Programming and Tools for Data Science/.conda/lib/python3.12/site-packages/statsmodels/tsa/base/tsa_model.py:473: ValueWarning: No frequency information was provided, so inferred frequency h will be used.\n",
      "  self._init_dates(dates, freq)\n",
      "/Users/user/Desktop/Master DataScience/Semester 1/Programming and Tools for Data Science/.conda/lib/python3.12/site-packages/statsmodels/tsa/statespace/sarimax.py:966: UserWarning: Non-stationary starting autoregressive parameters found. Using zeros as starting parameters.\n",
      "  warn('Non-stationary starting autoregressive parameters'\n",
      "/Users/user/Desktop/Master DataScience/Semester 1/Programming and Tools for Data Science/.conda/lib/python3.12/site-packages/statsmodels/tsa/statespace/sarimax.py:978: UserWarning: Non-invertible starting MA parameters found. Using zeros as starting parameters.\n",
      "  warn('Non-invertible starting MA parameters found.'\n"
     ]
    },
    {
     "name": "stdout",
     "output_type": "stream",
     "text": [
      "Vorhersagen: 2024-10-12 10:00:00+00:00    3.867434\n",
      "2024-10-12 11:00:00+00:00    3.868998\n",
      "2024-10-12 12:00:00+00:00    3.867120\n",
      "2024-10-12 13:00:00+00:00    3.865522\n",
      "2024-10-12 14:00:00+00:00    3.864084\n",
      "2024-10-12 15:00:00+00:00    3.862793\n",
      "2024-10-12 16:00:00+00:00    3.861633\n",
      "2024-10-12 17:00:00+00:00    3.860590\n",
      "2024-10-12 18:00:00+00:00    3.859654\n",
      "2024-10-12 19:00:00+00:00    3.858813\n",
      "Freq: h, Name: predicted_mean, dtype: float64\n"
     ]
    },
    {
     "data": {
      "image/png": "[encoded data removed]",
      "text/plain": [
       "<Figure size 1000x600 with 1 Axes>"
      ]
     },
     "metadata": {},
     "output_type": "display_data"
    },
    {
     "name": "stderr",
     "output_type": "stream",
     "text": [
      "/Users/user/Desktop/Master DataScience/Semester 1/Programming and Tools for Data Science/.conda/lib/python3.12/site-packages/statsmodels/tsa/base/tsa_model.py:473: ValueWarning: No frequency information was provided, so inferred frequency h will be used.\n",
      "  self._init_dates(dates, freq)\n",
      "/Users/user/Desktop/Master DataScience/Semester 1/Programming and Tools for Data Science/.conda/lib/python3.12/site-packages/statsmodels/tsa/base/tsa_model.py:473: ValueWarning: No frequency information was provided, so inferred frequency h will be used.\n",
      "  self._init_dates(dates, freq)\n",
      "/Users/user/Desktop/Master DataScience/Semester 1/Programming and Tools for Data Science/.conda/lib/python3.12/site-packages/statsmodels/tsa/base/tsa_model.py:473: ValueWarning: No frequency information was provided, so inferred frequency h will be used.\n",
      "  self._init_dates(dates, freq)\n",
      "/Users/user/Desktop/Master DataScience/Semester 1/Programming and Tools for Data Science/.conda/lib/python3.12/site-packages/statsmodels/tsa/statespace/sarimax.py:966: UserWarning: Non-stationary starting autoregressive parameters found. Using zeros as starting parameters.\n",
      "  warn('Non-stationary starting autoregressive parameters'\n",
      "/Users/user/Desktop/Master DataScience/Semester 1/Programming and Tools for Data Science/.conda/lib/python3.12/site-packages/statsmodels/tsa/statespace/sarimax.py:978: UserWarning: Non-invertible starting MA parameters found. Using zeros as starting parameters.\n",
      "  warn('Non-invertible starting MA parameters found.'\n"
     ]
    },
    {
     "name": "stdout",
     "output_type": "stream",
     "text": [
      "Mean Squared Error: 1.696463913810866\n"
     ]
    }
   ],
   "source": [
    "# 1. Set 'index' column as the DataFrame index\n",
    "final_df.set_index('index', inplace=True)\n",
    "\n",
    "# 2. Extract the 'availableBikeNumber' column for the ARIMA model\n",
    "time_series = final_df['availableBikeNumber']\n",
    "\n",
    "# 3. Plot the time series\n",
    "plt.figure(figsize=(10, 6))\n",
    "plt.plot(time_series, label='Original Time Series')\n",
    "plt.title('Beispiel Zeitreihe')\n",
    "plt.xlabel('Zeit')\n",
    "plt.ylabel('Verfügbare Fahrräder')\n",
    "plt.legend()\n",
    "plt.show()\n",
    "\n",
    "# 4. ARIMA Modell trainieren (p, d, q Parameter sind hier als Beispiel gewählt)\n",
    "# p: Ordnung des autoregressiven Teils (AR)\n",
    "# d: Grad der Differenzierung (I)\n",
    "# q: Ordnung des gleitenden Durchschnitts (MA)\n",
    "model = ARIMA(time_series, order=(2, 1, 2))\n",
    "model_fit = model.fit()\n",
    "\n",
    "# 5. Vorhersage der nächsten 10 Werte\n",
    "forecast = model_fit.forecast(steps=10)\n",
    "print(\"Vorhersagen:\", forecast)\n",
    "\n",
    "# 6. Plot der Vorhersagen\n",
    "n = len(time_series)  # n is the length of the time series\n",
    "plt.figure(figsize=(10, 6))\n",
    "plt.plot(time_series, label='Original Time Series')\n",
    "plt.plot(np.arange(n, n+10), forecast, color='red', label='Forecast')\n",
    "plt.title('ARIMA Vorhersage')\n",
    "plt.xlabel('Zeit')\n",
    "plt.ylabel('Verfügbare Fahrräder')\n",
    "plt.legend()\n",
    "plt.show()\n",
    "\n",
    "# 7. Modellbewertung (Optional: Mit MSE)\n",
    "train_size = int(len(time_series) * 0.8)\n",
    "train, test = time_series[0:train_size], time_series[train_size:]\n",
    "model_fit = ARIMA(train, order=(2, 1, 2)).fit()\n",
    "predictions = model_fit.forecast(steps=len(test))\n",
    "mse = mean_squared_error(test, predictions)\n",
    "print(f'Mean Squared Error: {mse}')\n"
   ]
  },
  {
   "cell_type": "code",
   "execution_count": 81,
   "metadata": {},
   "outputs": [
    {
     "data": {
      "image/png": "[encoded data removed]",
      "text/plain": [
       "<Figure size 1000x600 with 1 Axes>"
      ]
     },
     "metadata": {},
     "output_type": "display_data"
    }
   ],
   "source": [
    "# Length of the original time series\n",
    "n = len(time_series)\n",
    "\n",
    "# Create a time range for the forecast\n",
    "forecast_index = pd.date_range(start=time_series.index[-1] + pd.Timedelta(days=1), periods=10, freq='D')\n",
    "\n",
    "# Plot der Vorhersagen\n",
    "plt.figure(figsize=(10, 6))\n",
    "plt.plot(time_series, label='Original Time Series')\n",
    "plt.plot(forecast_index, forecast, color='red', marker='o', label='Forecast')\n",
    "plt.title('ARIMA Vorhersage')\n",
    "plt.xlabel('Zeit')\n",
    "plt.ylabel('Verfügbare Fahrräder')\n",
    "plt.legend()\n",
    "plt.xticks(rotation=45)  # Rotate x-axis labels for better readability\n",
    "plt.grid()  # Add grid for better visibility\n",
    "plt.show()\n"
   ]
  },
  {
   "cell_type": "code",
   "execution_count": 22,
   "metadata": {},
   "outputs": [],
   "source": [
    "from sklearn.metrics import accuracy_score, f1_score, mean_absolute_error, mean_absolute_percentage_error\n",
    "\n",
    "# Updated evaluation function with confusion matrix\n",
    "def evaluation_test(model, y_test, y_pred, pred_num):\n",
    "    # Calculate performance metrics\n",
    "    mae = mean_absolute_error(y_test, y_pred)\n",
    "    mape = mean_absolute_percentage_error(y_test, y_pred)\n",
    "    mse = mean_squared_error(y_test, y_pred)\n",
    "    \n",
    "    # Create a new DataFrame for the result\n",
    "    result_df = pd.DataFrame([{\n",
    "        'Model': model,\n",
    "        'MAE': mae,\n",
    "        'MAPE': mape,\n",
    "        'MSE': mse,\n",
    "        'Pred_num': f'{pred_num} hour'\n",
    "    }])\n",
    "    \n",
    "    # Concatenate the new DataFrame with global_result_list\n",
    "    global global_result_list\n",
    "    global_result_list = pd.concat([global_result_list, result_df], axis=0, ignore_index=True)\n",
    "    \n",
    "    return global_result_list\n",
    "\n",
    "# Assuming global_result_list is already defined as an empty DataFrame\n",
    "global_result_list = pd.DataFrame(columns=['Model', 'MAE', 'MAPE', 'Pred_num'])\n"
   ]
  },
  {
   "cell_type": "code",
   "execution_count": 54,
   "metadata": {},
   "outputs": [
    {
     "data": {
      "text/plain": [
       "array([24370, 24397, 24376])"
      ]
     },
     "execution_count": 54,
     "metadata": {},
     "output_type": "execute_result"
    }
   ],
   "source": [
    "ids = pd.to_numeric(ids)\n",
    "ids"
   ]
  },
  {
   "cell_type": "code",
   "execution_count": 27,
   "metadata": {},
   "outputs": [
    {
     "data": {
      "text/plain": [
       "2414    18.0\n",
       "Name: availableBikeNumber, dtype: float64"
      ]
     },
     "execution_count": 27,
     "metadata": {},
     "output_type": "execute_result"
    }
   ],
   "source": [
    "validation_data = final[final['index'] == '2024-10-01 01:00:00']\n",
    "validation_data[validation_data['entityId']==24370]['availableBikeNumber']"
   ]
  },
  {
   "cell_type": "markdown",
   "metadata": {},
   "source": [
    "## SARIMA Forecast"
   ]
  },
  {
   "cell_type": "code",
   "execution_count": 29,
   "metadata": {},
   "outputs": [
    {
     "name": "stdout",
     "output_type": "stream",
     "text": [
      "Forecasting for station 24370\n"
     ]
    },
    {
     "name": "stderr",
     "output_type": "stream",
     "text": [
      " This problem is unconstrained.\n"
     ]
    },
    {
     "name": "stdout",
     "output_type": "stream",
     "text": [
      "RUNNING THE L-BFGS-B CODE\n",
      "\n",
      "           * * *\n",
      "\n",
      "Machine precision = 2.220D-16\n",
      " N =            7     M =           10\n",
      "\n",
      "At X0         0 variables are exactly at the bounds\n",
      "\n",
      "At iterate    0    f=  1.97999D+00    |proj g|=  1.75004D-01\n",
      "\n",
      "At iterate    5    f=  1.87323D+00    |proj g|=  3.55440D-02\n",
      "\n",
      "At iterate   10    f=  1.86030D+00    |proj g|=  3.87462D-03\n",
      "\n",
      "At iterate   15    f=  1.85642D+00    |proj g|=  1.39484D-02\n",
      "\n",
      "At iterate   20    f=  1.85532D+00    |proj g|=  3.24354D-03\n",
      "\n",
      "At iterate   25    f=  1.85528D+00    |proj g|=  5.22189D-04\n",
      "\n",
      "At iterate   30    f=  1.85528D+00    |proj g|=  1.93605D-05\n",
      "\n",
      "           * * *\n",
      "\n",
      "Tit   = total number of iterations\n",
      "Tnf   = total number of function evaluations\n",
      "Tnint = total number of segments explored during Cauchy searches\n",
      "Skip  = number of BFGS updates skipped\n",
      "Nact  = number of active bounds at final generalized Cauchy point\n",
      "Projg = norm of the final projected gradient\n",
      "F     = final function value\n",
      "\n",
      "           * * *\n",
      "\n",
      "   N    Tit     Tnf  Tnint  Skip  Nact     Projg        F\n",
      "    7     31     36      1     0     0   1.154D-05   1.855D+00\n",
      "  F =   1.8552786137847284     \n",
      "\n",
      "CONVERGENCE: REL_REDUCTION_OF_F_<=_FACTR*EPSMCH             \n",
      "Vorhersagen: 2413    17.806482\n",
      "dtype: float64\n"
     ]
    },
    {
     "name": "stderr",
     "output_type": "stream",
     "text": [
      "/var/folders/q2/4b4lyr6d0b320kbxlhgj_9z00000gn/T/ipykernel_3159/2335092645.py:21: FutureWarning: The behavior of DataFrame concatenation with empty or all-NA entries is deprecated. In a future version, this will no longer exclude empty or all-NA columns when determining the result dtypes. To retain the old behavior, exclude the relevant entries before the concat operation.\n",
      "  global_result_list = pd.concat([global_result_list, result_df], axis=0, ignore_index=True)\n"
     ]
    },
    {
     "name": "stdout",
     "output_type": "stream",
     "text": [
      "RUNNING THE L-BFGS-B CODE\n",
      "\n",
      "           * * *\n",
      "\n",
      "Machine precision = 2.220D-16\n",
      " N =            7     M =           10\n",
      "\n",
      "At X0         0 variables are exactly at the bounds\n",
      "\n",
      "At iterate    0    f=  1.99277D+00    |proj g|=  1.69406D-01\n"
     ]
    },
    {
     "name": "stderr",
     "output_type": "stream",
     "text": [
      " This problem is unconstrained.\n"
     ]
    },
    {
     "name": "stdout",
     "output_type": "stream",
     "text": [
      "\n",
      "At iterate    5    f=  1.89189D+00    |proj g|=  3.77451D-02\n",
      "\n",
      "At iterate   10    f=  1.87735D+00    |proj g|=  8.29222D-03\n",
      "\n",
      "At iterate   15    f=  1.87638D+00    |proj g|=  2.78745D-03\n",
      "\n",
      "At iterate   20    f=  1.87631D+00    |proj g|=  7.03150D-04\n",
      "\n",
      "At iterate   25    f=  1.87628D+00    |proj g|=  1.58030D-04\n",
      "\n",
      "At iterate   30    f=  1.87627D+00    |proj g|=  2.90299D-03\n",
      "\n",
      "At iterate   35    f=  1.87619D+00    |proj g|=  1.30516D-03\n",
      "\n",
      "At iterate   40    f=  1.87618D+00    |proj g|=  1.62497D-04\n",
      "\n",
      "At iterate   45    f=  1.87617D+00    |proj g|=  2.81690D-04\n",
      "  ys=-4.057E-08  -gs= 8.906E-08 BFGS update SKIPPED\n",
      "\n",
      "At iterate   50    f=  1.87617D+00    |proj g|=  6.62032D-05\n",
      "\n",
      "           * * *\n",
      "\n",
      "Tit   = total number of iterations\n",
      "Tnf   = total number of function evaluations\n",
      "Tnint = total number of segments explored during Cauchy searches\n",
      "Skip  = number of BFGS updates skipped\n",
      "Nact  = number of active bounds at final generalized Cauchy point\n",
      "Projg = norm of the final projected gradient\n",
      "F     = final function value\n",
      "\n",
      "           * * *\n",
      "\n",
      "   N    Tit     Tnf  Tnint  Skip  Nact     Projg        F\n",
      "    7     50     61      1     1     0   6.620D-05   1.876D+00\n",
      "  F =   1.8761733608694993     \n",
      "\n",
      "STOP: TOTAL NO. of ITERATIONS REACHED LIMIT                 \n"
     ]
    },
    {
     "name": "stderr",
     "output_type": "stream",
     "text": [
      "/Users/user/Desktop/Master DataScience/Semester 1/Programming and Tools for Data Science/.conda/lib/python3.12/site-packages/statsmodels/base/model.py:607: ConvergenceWarning: Maximum Likelihood optimization failed to converge. Check mle_retvals\n",
      "  warnings.warn(\"Maximum Likelihood optimization failed to \"\n"
     ]
    },
    {
     "name": "stdout",
     "output_type": "stream",
     "text": [
      "Forecasting for station 24397\n"
     ]
    },
    {
     "name": "stderr",
     "output_type": "stream",
     "text": [
      "/Users/user/Desktop/Master DataScience/Semester 1/Programming and Tools for Data Science/.conda/lib/python3.12/site-packages/statsmodels/tsa/base/tsa_model.py:473: ValueWarning: An unsupported index was provided and will be ignored when e.g. forecasting.\n",
      "  self._init_dates(dates, freq)\n",
      "/Users/user/Desktop/Master DataScience/Semester 1/Programming and Tools for Data Science/.conda/lib/python3.12/site-packages/statsmodels/tsa/base/tsa_model.py:473: ValueWarning: An unsupported index was provided and will be ignored when e.g. forecasting.\n",
      "  self._init_dates(dates, freq)\n"
     ]
    },
    {
     "name": "stdout",
     "output_type": "stream",
     "text": [
      "RUNNING THE L-BFGS-B CODE\n",
      "\n",
      "           * * *\n",
      "\n",
      "Machine precision = 2.220D-16\n",
      " N =            7     M =           10\n",
      "\n",
      "At X0         0 variables are exactly at the bounds\n",
      "\n",
      "At iterate    0    f=  2.66717D+00    |proj g|=  8.21108D-02\n"
     ]
    },
    {
     "name": "stderr",
     "output_type": "stream",
     "text": [
      " This problem is unconstrained.\n"
     ]
    },
    {
     "name": "stdout",
     "output_type": "stream",
     "text": [
      "\n",
      "At iterate    5    f=  2.56415D+00    |proj g|=  2.30392D-02\n",
      "\n",
      "At iterate   10    f=  2.54851D+00    |proj g|=  9.54502D-03\n",
      "\n",
      "At iterate   15    f=  2.54079D+00    |proj g|=  1.27795D-02\n",
      "\n",
      "At iterate   20    f=  2.53603D+00    |proj g|=  1.09619D-02\n",
      "\n",
      "At iterate   25    f=  2.53253D+00    |proj g|=  2.28472D-03\n",
      "\n",
      "At iterate   30    f=  2.53164D+00    |proj g|=  4.25198D-03\n",
      "\n",
      "At iterate   35    f=  2.53161D+00    |proj g|=  1.37514D-04\n",
      "\n",
      "           * * *\n",
      "\n",
      "Tit   = total number of iterations\n",
      "Tnf   = total number of function evaluations\n",
      "Tnint = total number of segments explored during Cauchy searches\n",
      "Skip  = number of BFGS updates skipped\n",
      "Nact  = number of active bounds at final generalized Cauchy point\n",
      "Projg = norm of the final projected gradient\n",
      "F     = final function value\n",
      "\n",
      "           * * *\n",
      "\n",
      "   N    Tit     Tnf  Tnint  Skip  Nact     Projg        F\n",
      "    7     37     42      1     0     0   4.360D-05   2.532D+00\n",
      "  F =   2.5316071602868502     \n",
      "\n",
      "CONVERGENCE: REL_REDUCTION_OF_F_<=_FACTR*EPSMCH             \n"
     ]
    },
    {
     "name": "stderr",
     "output_type": "stream",
     "text": [
      "/Users/user/Desktop/Master DataScience/Semester 1/Programming and Tools for Data Science/.conda/lib/python3.12/site-packages/statsmodels/tsa/base/tsa_model.py:836: ValueWarning: No supported index is available. Prediction results will be given with an integer index beginning at `start`.\n",
      "  return get_prediction_index(\n",
      "/Users/user/Desktop/Master DataScience/Semester 1/Programming and Tools for Data Science/.conda/lib/python3.12/site-packages/statsmodels/tsa/base/tsa_model.py:836: FutureWarning: No supported index is available. In the next version, calling this method in a model without a supported index will result in an exception.\n",
      "  return get_prediction_index(\n",
      "/Users/user/Desktop/Master DataScience/Semester 1/Programming and Tools for Data Science/.conda/lib/python3.12/site-packages/statsmodels/tsa/base/tsa_model.py:473: ValueWarning: An unsupported index was provided and will be ignored when e.g. forecasting.\n",
      "  self._init_dates(dates, freq)\n",
      "/Users/user/Desktop/Master DataScience/Semester 1/Programming and Tools for Data Science/.conda/lib/python3.12/site-packages/statsmodels/tsa/base/tsa_model.py:473: ValueWarning: An unsupported index was provided and will be ignored when e.g. forecasting.\n",
      "  self._init_dates(dates, freq)\n"
     ]
    },
    {
     "name": "stdout",
     "output_type": "stream",
     "text": [
      "Vorhersagen: 2412    9.252681\n",
      "dtype: float64\n",
      "RUNNING THE L-BFGS-B CODE\n",
      "\n",
      "           * * *\n",
      "\n",
      "Machine precision = 2.220D-16\n",
      " N =            7     M =           10\n",
      "\n",
      "At X0         0 variables are exactly at the bounds\n",
      "\n",
      "At iterate    0    f=  2.65852D+00    |proj g|=  8.18360D-02\n"
     ]
    },
    {
     "name": "stderr",
     "output_type": "stream",
     "text": [
      " This problem is unconstrained.\n"
     ]
    },
    {
     "name": "stdout",
     "output_type": "stream",
     "text": [
      "\n",
      "At iterate    5    f=  2.55912D+00    |proj g|=  2.61257D-02\n",
      "\n",
      "At iterate   10    f=  2.54273D+00    |proj g|=  5.69770D-03\n",
      "\n",
      "At iterate   15    f=  2.54190D+00    |proj g|=  4.10376D-03\n",
      "\n",
      "At iterate   20    f=  2.54008D+00    |proj g|=  2.07155D-02\n",
      "\n",
      "At iterate   25    f=  2.53174D+00    |proj g|=  1.18031D-02\n",
      "\n",
      "At iterate   30    f=  2.52904D+00    |proj g|=  1.84943D-02\n",
      "\n",
      "At iterate   35    f=  2.52578D+00    |proj g|=  4.80886D-03\n",
      "\n",
      "At iterate   40    f=  2.52568D+00    |proj g|=  1.91099D-04\n",
      "\n",
      "           * * *\n",
      "\n",
      "Tit   = total number of iterations\n",
      "Tnf   = total number of function evaluations\n",
      "Tnint = total number of segments explored during Cauchy searches\n",
      "Skip  = number of BFGS updates skipped\n",
      "Nact  = number of active bounds at final generalized Cauchy point\n",
      "Projg = norm of the final projected gradient\n",
      "F     = final function value\n",
      "\n",
      "           * * *\n",
      "\n",
      "   N    Tit     Tnf  Tnint  Skip  Nact     Projg        F\n",
      "    7     44     52      1     0     0   3.237D-05   2.526D+00\n",
      "  F =   2.5256756346004852     \n",
      "\n",
      "CONVERGENCE: REL_REDUCTION_OF_F_<=_FACTR*EPSMCH             \n"
     ]
    },
    {
     "name": "stderr",
     "output_type": "stream",
     "text": [
      "/Users/user/Desktop/Master DataScience/Semester 1/Programming and Tools for Data Science/.conda/lib/python3.12/site-packages/statsmodels/tsa/base/tsa_model.py:836: ValueWarning: No supported index is available. Prediction results will be given with an integer index beginning at `start`.\n",
      "  return get_prediction_index(\n",
      "/Users/user/Desktop/Master DataScience/Semester 1/Programming and Tools for Data Science/.conda/lib/python3.12/site-packages/statsmodels/tsa/base/tsa_model.py:836: FutureWarning: No supported index is available. In the next version, calling this method in a model without a supported index will result in an exception.\n",
      "  return get_prediction_index(\n",
      "/Users/user/Desktop/Master DataScience/Semester 1/Programming and Tools for Data Science/.conda/lib/python3.12/site-packages/statsmodels/tsa/base/tsa_model.py:473: ValueWarning: An unsupported index was provided and will be ignored when e.g. forecasting.\n",
      "  self._init_dates(dates, freq)\n",
      "/Users/user/Desktop/Master DataScience/Semester 1/Programming and Tools for Data Science/.conda/lib/python3.12/site-packages/statsmodels/tsa/base/tsa_model.py:473: ValueWarning: An unsupported index was provided and will be ignored when e.g. forecasting.\n",
      "  self._init_dates(dates, freq)\n"
     ]
    },
    {
     "name": "stdout",
     "output_type": "stream",
     "text": [
      "Forecasting for station 24376\n",
      "RUNNING THE L-BFGS-B CODE\n",
      "\n",
      "           * * *\n",
      "\n",
      "Machine precision = 2.220D-16\n",
      " N =            7     M =           10\n",
      "\n",
      "At X0         0 variables are exactly at the bounds\n",
      "\n",
      "At iterate    0    f=  1.78479D+00    |proj g|=  2.32027D-01\n"
     ]
    },
    {
     "name": "stderr",
     "output_type": "stream",
     "text": [
      " This problem is unconstrained.\n"
     ]
    },
    {
     "name": "stdout",
     "output_type": "stream",
     "text": [
      "\n",
      "At iterate    5    f=  1.67112D+00    |proj g|=  5.33368D-02\n",
      "\n",
      "At iterate   10    f=  1.65153D+00    |proj g|=  1.66818D-02\n",
      "\n",
      "At iterate   15    f=  1.65023D+00    |proj g|=  8.48694D-04\n",
      "\n",
      "At iterate   20    f=  1.65004D+00    |proj g|=  1.08559D-02\n",
      "\n",
      "At iterate   25    f=  1.64910D+00    |proj g|=  6.97477D-03\n",
      "\n",
      "At iterate   30    f=  1.64883D+00    |proj g|=  3.58130D-03\n",
      "\n",
      "At iterate   35    f=  1.64877D+00    |proj g|=  2.44693D-03\n",
      "\n",
      "At iterate   40    f=  1.64876D+00    |proj g|=  3.19306D-04\n",
      "\n",
      "At iterate   45    f=  1.64876D+00    |proj g|=  5.32569D-05\n",
      "\n",
      "           * * *\n",
      "\n",
      "Tit   = total number of iterations\n",
      "Tnf   = total number of function evaluations\n",
      "Tnint = total number of segments explored during Cauchy searches\n",
      "Skip  = number of BFGS updates skipped\n",
      "Nact  = number of active bounds at final generalized Cauchy point\n",
      "Projg = norm of the final projected gradient\n",
      "F     = final function value\n",
      "\n",
      "           * * *\n",
      "\n",
      "   N    Tit     Tnf  Tnint  Skip  Nact     Projg        F\n",
      "    7     45     63      1     0     0   5.326D-05   1.649D+00\n",
      "  F =   1.6487591669725421     \n",
      "\n",
      "CONVERGENCE: REL_REDUCTION_OF_F_<=_FACTR*EPSMCH             \n"
     ]
    },
    {
     "name": "stderr",
     "output_type": "stream",
     "text": [
      "\n",
      " Warning:  more than 10 function and gradient\n",
      "   evaluations in the last line search.  Termination\n",
      "   may possibly be caused by a bad search direction.\n",
      "/Users/user/Desktop/Master DataScience/Semester 1/Programming and Tools for Data Science/.conda/lib/python3.12/site-packages/statsmodels/tsa/base/tsa_model.py:836: ValueWarning: No supported index is available. Prediction results will be given with an integer index beginning at `start`.\n",
      "  return get_prediction_index(\n",
      "/Users/user/Desktop/Master DataScience/Semester 1/Programming and Tools for Data Science/.conda/lib/python3.12/site-packages/statsmodels/tsa/base/tsa_model.py:836: FutureWarning: No supported index is available. In the next version, calling this method in a model without a supported index will result in an exception.\n",
      "  return get_prediction_index(\n",
      "/Users/user/Desktop/Master DataScience/Semester 1/Programming and Tools for Data Science/.conda/lib/python3.12/site-packages/statsmodels/tsa/base/tsa_model.py:473: ValueWarning: An unsupported index was provided and will be ignored when e.g. forecasting.\n",
      "  self._init_dates(dates, freq)\n",
      "/Users/user/Desktop/Master DataScience/Semester 1/Programming and Tools for Data Science/.conda/lib/python3.12/site-packages/statsmodels/tsa/base/tsa_model.py:473: ValueWarning: An unsupported index was provided and will be ignored when e.g. forecasting.\n",
      "  self._init_dates(dates, freq)\n",
      "/Users/user/Desktop/Master DataScience/Semester 1/Programming and Tools for Data Science/.conda/lib/python3.12/site-packages/statsmodels/tsa/statespace/sarimax.py:966: UserWarning: Non-stationary starting autoregressive parameters found. Using zeros as starting parameters.\n",
      "  warn('Non-stationary starting autoregressive parameters'\n",
      "/Users/user/Desktop/Master DataScience/Semester 1/Programming and Tools for Data Science/.conda/lib/python3.12/site-packages/statsmodels/tsa/statespace/sarimax.py:978: UserWarning: Non-invertible starting MA parameters found. Using zeros as starting parameters.\n",
      "  warn('Non-invertible starting MA parameters found.'\n"
     ]
    },
    {
     "name": "stdout",
     "output_type": "stream",
     "text": [
      "Vorhersagen: 2414    8.128182\n",
      "dtype: float64\n",
      "RUNNING THE L-BFGS-B CODE\n",
      "\n",
      "           * * *\n",
      "\n",
      "Machine precision = 2.220D-16\n",
      " N =            7     M =           10\n",
      "\n",
      "At X0         0 variables are exactly at the bounds\n",
      "\n",
      "At iterate    0    f=  1.81672D+00    |proj g|=  2.10265D-01\n"
     ]
    },
    {
     "name": "stderr",
     "output_type": "stream",
     "text": [
      " This problem is unconstrained.\n"
     ]
    },
    {
     "name": "stdout",
     "output_type": "stream",
     "text": [
      "\n",
      "At iterate    5    f=  1.70580D+00    |proj g|=  4.35724D-02\n",
      "\n",
      "At iterate   10    f=  1.69509D+00    |proj g|=  1.03179D-02\n",
      "\n",
      "At iterate   15    f=  1.69469D+00    |proj g|=  7.88624D-04\n",
      "\n",
      "At iterate   20    f=  1.69388D+00    |proj g|=  3.86570D-02\n",
      "\n",
      "At iterate   25    f=  1.68745D+00    |proj g|=  2.30484D-02\n",
      "\n",
      "At iterate   30    f=  1.67452D+00    |proj g|=  2.08544D-02\n",
      "\n",
      "At iterate   35    f=  1.67029D+00    |proj g|=  3.80155D-03\n",
      "\n",
      "At iterate   40    f=  1.66963D+00    |proj g|=  2.23859D-03\n",
      "\n",
      "At iterate   45    f=  1.66953D+00    |proj g|=  2.83661D-04\n"
     ]
    },
    {
     "name": "stderr",
     "output_type": "stream",
     "text": [
      "/Users/user/Desktop/Master DataScience/Semester 1/Programming and Tools for Data Science/.conda/lib/python3.12/site-packages/statsmodels/base/model.py:607: ConvergenceWarning: Maximum Likelihood optimization failed to converge. Check mle_retvals\n",
      "  warnings.warn(\"Maximum Likelihood optimization failed to \"\n"
     ]
    },
    {
     "name": "stdout",
     "output_type": "stream",
     "text": [
      "\n",
      "At iterate   50    f=  1.66952D+00    |proj g|=  4.35501D-04\n",
      "\n",
      "           * * *\n",
      "\n",
      "Tit   = total number of iterations\n",
      "Tnf   = total number of function evaluations\n",
      "Tnint = total number of segments explored during Cauchy searches\n",
      "Skip  = number of BFGS updates skipped\n",
      "Nact  = number of active bounds at final generalized Cauchy point\n",
      "Projg = norm of the final projected gradient\n",
      "F     = final function value\n",
      "\n",
      "           * * *\n",
      "\n",
      "   N    Tit     Tnf  Tnint  Skip  Nact     Projg        F\n",
      "    7     50     62      1     0     0   4.355D-04   1.670D+00\n",
      "  F =   1.6695170247755555     \n",
      "\n",
      "STOP: TOTAL NO. of ITERATIONS REACHED LIMIT                 \n"
     ]
    },
    {
     "name": "stderr",
     "output_type": "stream",
     "text": [
      "/Users/user/Desktop/Master DataScience/Semester 1/Programming and Tools for Data Science/.conda/lib/python3.12/site-packages/statsmodels/tsa/base/tsa_model.py:836: ValueWarning: No supported index is available. Prediction results will be given with an integer index beginning at `start`.\n",
      "  return get_prediction_index(\n",
      "/Users/user/Desktop/Master DataScience/Semester 1/Programming and Tools for Data Science/.conda/lib/python3.12/site-packages/statsmodels/tsa/base/tsa_model.py:836: FutureWarning: No supported index is available. In the next version, calling this method in a model without a supported index will result in an exception.\n",
      "  return get_prediction_index(\n"
     ]
    }
   ],
   "source": [
    "import numpy as np\n",
    "import pandas as pd\n",
    "import matplotlib.pyplot as plt\n",
    "from statsmodels.tsa.statespace.sarimax import SARIMAX\n",
    "from sklearn.metrics import mean_squared_error\n",
    "predictions = [1, 5]\n",
    "ids = [24370, 24397, 24376]\n",
    "\n",
    "september_data = final[(final['index'] >= '2024-06-10') & (final['index'] <= '2024-09-30 23:59:59')]\n",
    "validation_data = final[final['index'] == '2024-10-01 01:00:00']\n",
    "\n",
    "for id in ids:\n",
    "    model_data = september_data[september_data['entityId']==id]\n",
    "    model_data = model_data[['index','availableBikeNumber']]\n",
    "    print(f'Forecasting for station {id}')\n",
    "\n",
    "    '''# 1. Plotting the time series\n",
    "    plt.figure(figsize=(10, 6))\n",
    "    plt.plot(final_df['availableBikeNumber'], label='Original Time Series')\n",
    "    plt.title('Verfügbare Fahrräder Zeitreihe')\n",
    "    plt.xlabel('Zeit')\n",
    "    plt.ylabel(f'Verfügbare Fahrräder Station{ids[0]}')\n",
    "    plt.legend()\n",
    "    plt.show()'''\n",
    "\n",
    "    # 2. SARIMA model training (p, d, q) x (P, D, Q, m)\n",
    "    # Define the order parameters; adjust as needed\n",
    "    order = (2, 1, 2)  # ARIMA parameters\n",
    "    seasonal_order = (1, 1, 1, 24)  # Seasonal parameters (m=12 for monthly seasonality)\n",
    "\n",
    "    # Fit the SARIMA model\n",
    "    model = SARIMAX(model_data['availableBikeNumber'], order=order, seasonal_order=seasonal_order)\n",
    "    model_fit = model.fit()\n",
    "\n",
    "    # 3. Forecast the next 5 values\n",
    "    forecast = model_fit.forecast(steps=1)\n",
    "    print(\"Vorhersagen:\", forecast)\n",
    "    evaluation_test(id ,validation_data[validation_data['entityId']==id]['availableBikeNumber'], forecast, 1)\n",
    "    '''\n",
    "    # 4. Plot the forecast\n",
    "    plt.figure(figsize=(10, 6))\n",
    "    plt.plot(model_data['availableBikeNumber'], label='Original Time Series')\n",
    "    # Create a new time index for the forecast\n",
    "    forecast_index = pd.date_range(start=model_data.index[-1] + pd.Timedelta(hours=1), periods=forecast_steps, freq='H')\n",
    "    plt.plot(forecast_index, forecast, color='red', marker='o', label='Forecast')\n",
    "    plt.title(f'SARIMA Vorhersage Station{ids[0]}')\n",
    "    plt.xlabel('Zeit')\n",
    "    plt.ylabel('Verfügbare Fahrräder')\n",
    "    plt.legend()\n",
    "    plt.show()'''\n",
    "\n",
    "    # 5. Model evaluation (Optional: With MSE)\n",
    "    train_size = int(len(model_data) * 0.8)\n",
    "    train, test = model_data['availableBikeNumber'][0:train_size], model_data['availableBikeNumber'][train_size:]\n",
    "\n",
    "    # Fit the model again on the training data\n",
    "    model_fit_train = SARIMAX(train, order=order, seasonal_order=seasonal_order).fit()\n",
    "    predictions = model_fit_train.forecast(steps=len(test))\n"
   ]
  },
  {
   "cell_type": "code",
   "execution_count": 30,
   "metadata": {},
   "outputs": [
    {
     "data": {
      "text/html": [
       "<div>\n",
       "<style scoped>\n",
       "    .dataframe tbody tr th:only-of-type {\n",
       "        vertical-align: middle;\n",
       "    }\n",
       "\n",
       "    .dataframe tbody tr th {\n",
       "        vertical-align: top;\n",
       "    }\n",
       "\n",
       "    .dataframe thead th {\n",
       "        text-align: right;\n",
       "    }\n",
       "</style>\n",
       "<table border=\"1\" class=\"dataframe\">\n",
       "  <thead>\n",
       "    <tr style=\"text-align: right;\">\n",
       "      <th></th>\n",
       "      <th>Model</th>\n",
       "      <th>MAE</th>\n",
       "      <th>MAPE</th>\n",
       "      <th>Pred_num</th>\n",
       "      <th>MSE</th>\n",
       "    </tr>\n",
       "  </thead>\n",
       "  <tbody>\n",
       "    <tr>\n",
       "      <th>0</th>\n",
       "      <td>24370</td>\n",
       "      <td>0.193518</td>\n",
       "      <td>0.010751</td>\n",
       "      <td>1 hour</td>\n",
       "      <td>0.037449</td>\n",
       "    </tr>\n",
       "    <tr>\n",
       "      <th>1</th>\n",
       "      <td>24397</td>\n",
       "      <td>2.252681</td>\n",
       "      <td>0.321812</td>\n",
       "      <td>1 hour</td>\n",
       "      <td>5.074570</td>\n",
       "    </tr>\n",
       "    <tr>\n",
       "      <th>2</th>\n",
       "      <td>24376</td>\n",
       "      <td>0.128182</td>\n",
       "      <td>0.016023</td>\n",
       "      <td>1 hour</td>\n",
       "      <td>0.016431</td>\n",
       "    </tr>\n",
       "  </tbody>\n",
       "</table>\n",
       "</div>"
      ],
      "text/plain": [
       "   Model       MAE      MAPE Pred_num       MSE\n",
       "0  24370  0.193518  0.010751   1 hour  0.037449\n",
       "1  24397  2.252681  0.321812   1 hour  5.074570\n",
       "2  24376  0.128182  0.016023   1 hour  0.016431"
      ]
     },
     "execution_count": 30,
     "metadata": {},
     "output_type": "execute_result"
    }
   ],
   "source": [
    "global_result_list"
   ]
  },
  {
   "cell_type": "code",
   "execution_count": 31,
   "metadata": {},
   "outputs": [
    {
     "name": "stdout",
     "output_type": "stream",
     "text": [
      "Forecasting for station 24370\n",
      "RUNNING THE L-BFGS-B CODE\n",
      "\n",
      "           * * *\n",
      "\n",
      "Machine precision = 2.220D-16\n",
      " N =            7     M =           10\n",
      "\n",
      "At X0         0 variables are exactly at the bounds\n",
      "\n",
      "At iterate    0    f=  1.97886D+00    |proj g|=  1.75299D-01\n"
     ]
    },
    {
     "name": "stderr",
     "output_type": "stream",
     "text": [
      " This problem is unconstrained.\n"
     ]
    },
    {
     "name": "stdout",
     "output_type": "stream",
     "text": [
      "\n",
      "At iterate    5    f=  1.87187D+00    |proj g|=  3.56561D-02\n",
      "\n",
      "At iterate   10    f=  1.85900D+00    |proj g|=  5.09961D-03\n",
      "\n",
      "At iterate   15    f=  1.85535D+00    |proj g|=  6.71825D-03\n",
      "\n",
      "At iterate   20    f=  1.85411D+00    |proj g|=  3.10663D-03\n",
      "\n",
      "At iterate   25    f=  1.85402D+00    |proj g|=  6.68264D-04\n",
      "\n",
      "At iterate   30    f=  1.85399D+00    |proj g|=  9.39952D-05\n",
      "\n",
      "           * * *\n",
      "\n",
      "Tit   = total number of iterations\n",
      "Tnf   = total number of function evaluations\n",
      "Tnint = total number of segments explored during Cauchy searches\n",
      "Skip  = number of BFGS updates skipped\n",
      "Nact  = number of active bounds at final generalized Cauchy point\n",
      "Projg = norm of the final projected gradient\n",
      "F     = final function value\n",
      "\n",
      "           * * *\n",
      "\n",
      "   N    Tit     Tnf  Tnint  Skip  Nact     Projg        F\n",
      "    7     31     36      1     0     0   5.947D-06   1.854D+00\n",
      "  F =   1.8539930636362418     \n",
      "\n",
      "CONVERGENCE: NORM_OF_PROJECTED_GRADIENT_<=_PGTOL            \n",
      "Vorhersagen: 2420    18.980916\n",
      "2421    19.501192\n",
      "2422    19.622773\n",
      "2423    19.276449\n",
      "2424    18.827929\n",
      "Name: predicted_mean, dtype: float64\n",
      "RUNNING THE L-BFGS-B CODE\n",
      "\n",
      "           * * *\n",
      "\n",
      "Machine precision = 2.220D-16\n",
      " N =            7     M =           10\n",
      "\n",
      "At X0         0 variables are exactly at the bounds\n",
      "\n",
      "At iterate    0    f=  1.99126D+00    |proj g|=  1.69756D-01\n"
     ]
    },
    {
     "name": "stderr",
     "output_type": "stream",
     "text": [
      " This problem is unconstrained.\n"
     ]
    },
    {
     "name": "stdout",
     "output_type": "stream",
     "text": [
      "\n",
      "At iterate    5    f=  1.89037D+00    |proj g|=  3.70971D-02\n",
      "\n",
      "At iterate   10    f=  1.87592D+00    |proj g|=  9.54219D-03\n",
      "\n",
      "At iterate   15    f=  1.87494D+00    |proj g|=  2.31819D-03\n",
      "\n",
      "At iterate   20    f=  1.87489D+00    |proj g|=  6.17197D-04\n",
      "\n",
      "At iterate   25    f=  1.87487D+00    |proj g|=  2.47963D-04\n",
      "\n",
      "At iterate   30    f=  1.87486D+00    |proj g|=  1.36809D-03\n",
      "\n",
      "At iterate   35    f=  1.87478D+00    |proj g|=  1.64093D-03\n",
      "\n",
      "At iterate   40    f=  1.87476D+00    |proj g|=  8.84522D-04\n",
      "\n",
      "At iterate   45    f=  1.87476D+00    |proj g|=  2.52451D-04\n"
     ]
    },
    {
     "name": "stderr",
     "output_type": "stream",
     "text": [
      "/Users/user/Desktop/Master DataScience/Semester 1/Programming and Tools for Data Science/.conda/lib/python3.12/site-packages/statsmodels/base/model.py:607: ConvergenceWarning: Maximum Likelihood optimization failed to converge. Check mle_retvals\n",
      "  warnings.warn(\"Maximum Likelihood optimization failed to \"\n"
     ]
    },
    {
     "name": "stdout",
     "output_type": "stream",
     "text": [
      "\n",
      "At iterate   50    f=  1.87475D+00    |proj g|=  1.07884D-04\n",
      "\n",
      "           * * *\n",
      "\n",
      "Tit   = total number of iterations\n",
      "Tnf   = total number of function evaluations\n",
      "Tnint = total number of segments explored during Cauchy searches\n",
      "Skip  = number of BFGS updates skipped\n",
      "Nact  = number of active bounds at final generalized Cauchy point\n",
      "Projg = norm of the final projected gradient\n",
      "F     = final function value\n",
      "\n",
      "           * * *\n",
      "\n",
      "   N    Tit     Tnf  Tnint  Skip  Nact     Projg        F\n",
      "    7     50     56      1     0     0   1.079D-04   1.875D+00\n",
      "  F =   1.8747547414931744     \n",
      "\n",
      "STOP: TOTAL NO. of ITERATIONS REACHED LIMIT                 \n",
      "Forecasting for station 24397\n"
     ]
    },
    {
     "name": "stderr",
     "output_type": "stream",
     "text": [
      "/Users/user/Desktop/Master DataScience/Semester 1/Programming and Tools for Data Science/.conda/lib/python3.12/site-packages/statsmodels/tsa/base/tsa_model.py:473: ValueWarning: An unsupported index was provided and will be ignored when e.g. forecasting.\n",
      "  self._init_dates(dates, freq)\n",
      "/Users/user/Desktop/Master DataScience/Semester 1/Programming and Tools for Data Science/.conda/lib/python3.12/site-packages/statsmodels/tsa/base/tsa_model.py:473: ValueWarning: An unsupported index was provided and will be ignored when e.g. forecasting.\n",
      "  self._init_dates(dates, freq)\n"
     ]
    },
    {
     "name": "stdout",
     "output_type": "stream",
     "text": [
      "RUNNING THE L-BFGS-B CODE\n",
      "\n",
      "           * * *\n",
      "\n",
      "Machine precision = 2.220D-16\n",
      " N =            7     M =           10\n",
      "\n",
      "At X0         0 variables are exactly at the bounds\n",
      "\n",
      "At iterate    0    f=  2.66703D+00    |proj g|=  8.20286D-02\n"
     ]
    },
    {
     "name": "stderr",
     "output_type": "stream",
     "text": [
      " This problem is unconstrained.\n"
     ]
    },
    {
     "name": "stdout",
     "output_type": "stream",
     "text": [
      "\n",
      "At iterate    5    f=  2.56445D+00    |proj g|=  3.98492D-02\n",
      "\n",
      "At iterate   10    f=  2.54837D+00    |proj g|=  4.92162D-03\n",
      "\n",
      "At iterate   15    f=  2.54096D+00    |proj g|=  4.07604D-02\n",
      "\n",
      "At iterate   20    f=  2.53611D+00    |proj g|=  5.44480D-03\n",
      "\n",
      "At iterate   25    f=  2.53301D+00    |proj g|=  7.83974D-03\n",
      "\n",
      "At iterate   30    f=  2.53188D+00    |proj g|=  1.34541D-03\n",
      "\n",
      "           * * *\n",
      "\n",
      "Tit   = total number of iterations\n",
      "Tnf   = total number of function evaluations\n",
      "Tnint = total number of segments explored during Cauchy searches\n",
      "Skip  = number of BFGS updates skipped\n",
      "Nact  = number of active bounds at final generalized Cauchy point\n",
      "Projg = norm of the final projected gradient\n",
      "F     = final function value\n",
      "\n",
      "           * * *\n",
      "\n",
      "   N    Tit     Tnf  Tnint  Skip  Nact     Projg        F\n",
      "    7     34     42      1     0     0   2.334D-05   2.532D+00\n",
      "  F =   2.5318746710581093     \n",
      "\n",
      "CONVERGENCE: REL_REDUCTION_OF_F_<=_FACTR*EPSMCH             \n"
     ]
    },
    {
     "name": "stderr",
     "output_type": "stream",
     "text": [
      "/Users/user/Desktop/Master DataScience/Semester 1/Programming and Tools for Data Science/.conda/lib/python3.12/site-packages/statsmodels/tsa/base/tsa_model.py:836: ValueWarning: No supported index is available. Prediction results will be given with an integer index beginning at `start`.\n",
      "  return get_prediction_index(\n",
      "/Users/user/Desktop/Master DataScience/Semester 1/Programming and Tools for Data Science/.conda/lib/python3.12/site-packages/statsmodels/tsa/base/tsa_model.py:836: FutureWarning: No supported index is available. In the next version, calling this method in a model without a supported index will result in an exception.\n",
      "  return get_prediction_index(\n",
      "/Users/user/Desktop/Master DataScience/Semester 1/Programming and Tools for Data Science/.conda/lib/python3.12/site-packages/statsmodels/tsa/base/tsa_model.py:473: ValueWarning: An unsupported index was provided and will be ignored when e.g. forecasting.\n",
      "  self._init_dates(dates, freq)\n",
      "/Users/user/Desktop/Master DataScience/Semester 1/Programming and Tools for Data Science/.conda/lib/python3.12/site-packages/statsmodels/tsa/base/tsa_model.py:473: ValueWarning: An unsupported index was provided and will be ignored when e.g. forecasting.\n",
      "  self._init_dates(dates, freq)\n"
     ]
    },
    {
     "name": "stdout",
     "output_type": "stream",
     "text": [
      "Vorhersagen: 2419    0.403529\n",
      "2420    1.783708\n",
      "2421    3.478509\n",
      "2422    5.680896\n",
      "2423    7.056423\n",
      "Name: predicted_mean, dtype: float64\n"
     ]
    },
    {
     "name": "stderr",
     "output_type": "stream",
     "text": [
      " This problem is unconstrained.\n"
     ]
    },
    {
     "name": "stdout",
     "output_type": "stream",
     "text": [
      "RUNNING THE L-BFGS-B CODE\n",
      "\n",
      "           * * *\n",
      "\n",
      "Machine precision = 2.220D-16\n",
      " N =            7     M =           10\n",
      "\n",
      "At X0         0 variables are exactly at the bounds\n",
      "\n",
      "At iterate    0    f=  2.65715D+00    |proj g|=  8.19692D-02\n",
      "\n",
      "At iterate    5    f=  2.55769D+00    |proj g|=  2.61334D-02\n",
      "\n",
      "At iterate   10    f=  2.54126D+00    |proj g|=  5.04098D-03\n",
      "\n",
      "At iterate   15    f=  2.54043D+00    |proj g|=  3.81843D-03\n",
      "\n",
      "At iterate   20    f=  2.53818D+00    |proj g|=  3.95317D-02\n",
      "\n",
      "At iterate   25    f=  2.53319D+00    |proj g|=  1.20709D-02\n",
      "\n",
      "At iterate   30    f=  2.52772D+00    |proj g|=  1.50534D-02\n",
      "\n",
      "At iterate   35    f=  2.52623D+00    |proj g|=  1.54832D-02\n",
      "\n",
      "At iterate   40    f=  2.52447D+00    |proj g|=  2.50178D-03\n",
      "\n",
      "At iterate   45    f=  2.52446D+00    |proj g|=  4.77717D-05\n",
      "\n",
      "           * * *\n",
      "\n",
      "Tit   = total number of iterations\n",
      "Tnf   = total number of function evaluations\n",
      "Tnint = total number of segments explored during Cauchy searches\n",
      "Skip  = number of BFGS updates skipped\n",
      "Nact  = number of active bounds at final generalized Cauchy point\n",
      "Projg = norm of the final projected gradient\n",
      "F     = final function value\n",
      "\n",
      "           * * *\n",
      "\n",
      "   N    Tit     Tnf  Tnint  Skip  Nact     Projg        F\n",
      "    7     46     59      1     0     0   3.113D-05   2.524D+00\n",
      "  F =   2.5244556276306191     \n",
      "\n",
      "CONVERGENCE: REL_REDUCTION_OF_F_<=_FACTR*EPSMCH             \n"
     ]
    },
    {
     "name": "stderr",
     "output_type": "stream",
     "text": [
      "/Users/user/Desktop/Master DataScience/Semester 1/Programming and Tools for Data Science/.conda/lib/python3.12/site-packages/statsmodels/tsa/base/tsa_model.py:836: ValueWarning: No supported index is available. Prediction results will be given with an integer index beginning at `start`.\n",
      "  return get_prediction_index(\n",
      "/Users/user/Desktop/Master DataScience/Semester 1/Programming and Tools for Data Science/.conda/lib/python3.12/site-packages/statsmodels/tsa/base/tsa_model.py:836: FutureWarning: No supported index is available. In the next version, calling this method in a model without a supported index will result in an exception.\n",
      "  return get_prediction_index(\n",
      "/Users/user/Desktop/Master DataScience/Semester 1/Programming and Tools for Data Science/.conda/lib/python3.12/site-packages/statsmodels/tsa/base/tsa_model.py:473: ValueWarning: An unsupported index was provided and will be ignored when e.g. forecasting.\n",
      "  self._init_dates(dates, freq)\n",
      "/Users/user/Desktop/Master DataScience/Semester 1/Programming and Tools for Data Science/.conda/lib/python3.12/site-packages/statsmodels/tsa/base/tsa_model.py:473: ValueWarning: An unsupported index was provided and will be ignored when e.g. forecasting.\n",
      "  self._init_dates(dates, freq)\n"
     ]
    },
    {
     "name": "stdout",
     "output_type": "stream",
     "text": [
      "Forecasting for station 24376\n"
     ]
    },
    {
     "name": "stderr",
     "output_type": "stream",
     "text": [
      " This problem is unconstrained.\n"
     ]
    },
    {
     "name": "stdout",
     "output_type": "stream",
     "text": [
      "RUNNING THE L-BFGS-B CODE\n",
      "\n",
      "           * * *\n",
      "\n",
      "Machine precision = 2.220D-16\n",
      " N =            7     M =           10\n",
      "\n",
      "At X0         0 variables are exactly at the bounds\n",
      "\n",
      "At iterate    0    f=  1.78349D+00    |proj g|=  2.32386D-01\n",
      "\n",
      "At iterate    5    f=  1.66983D+00    |proj g|=  5.32740D-02\n",
      "\n",
      "At iterate   10    f=  1.65017D+00    |proj g|=  1.67921D-02\n",
      "\n",
      "At iterate   15    f=  1.64889D+00    |proj g|=  8.49725D-04\n",
      "\n",
      "At iterate   20    f=  1.64870D+00    |proj g|=  1.07236D-02\n",
      "\n",
      "At iterate   25    f=  1.64774D+00    |proj g|=  6.36137D-03\n",
      "\n",
      "At iterate   30    f=  1.64753D+00    |proj g|=  4.65630D-03\n",
      "\n",
      "At iterate   35    f=  1.64741D+00    |proj g|=  1.09656D-03\n",
      "\n",
      "At iterate   40    f=  1.64740D+00    |proj g|=  1.20774D-04\n",
      "\n",
      "At iterate   45    f=  1.64740D+00    |proj g|=  1.44662D-05\n",
      "\n",
      "           * * *\n",
      "\n",
      "Tit   = total number of iterations\n",
      "Tnf   = total number of function evaluations\n",
      "Tnint = total number of segments explored during Cauchy searches\n",
      "Skip  = number of BFGS updates skipped\n",
      "Nact  = number of active bounds at final generalized Cauchy point\n",
      "Projg = norm of the final projected gradient\n",
      "F     = final function value\n",
      "\n",
      "           * * *\n",
      "\n",
      "   N    Tit     Tnf  Tnint  Skip  Nact     Projg        F\n",
      "    7     46     57      1     0     0   1.190D-05   1.647D+00\n",
      "  F =   1.6474035261315483     \n",
      "\n",
      "CONVERGENCE: REL_REDUCTION_OF_F_<=_FACTR*EPSMCH             \n"
     ]
    },
    {
     "name": "stderr",
     "output_type": "stream",
     "text": [
      "/Users/user/Desktop/Master DataScience/Semester 1/Programming and Tools for Data Science/.conda/lib/python3.12/site-packages/statsmodels/tsa/base/tsa_model.py:836: ValueWarning: No supported index is available. Prediction results will be given with an integer index beginning at `start`.\n",
      "  return get_prediction_index(\n",
      "/Users/user/Desktop/Master DataScience/Semester 1/Programming and Tools for Data Science/.conda/lib/python3.12/site-packages/statsmodels/tsa/base/tsa_model.py:836: FutureWarning: No supported index is available. In the next version, calling this method in a model without a supported index will result in an exception.\n",
      "  return get_prediction_index(\n",
      "/Users/user/Desktop/Master DataScience/Semester 1/Programming and Tools for Data Science/.conda/lib/python3.12/site-packages/statsmodels/tsa/base/tsa_model.py:473: ValueWarning: An unsupported index was provided and will be ignored when e.g. forecasting.\n",
      "  self._init_dates(dates, freq)\n",
      "/Users/user/Desktop/Master DataScience/Semester 1/Programming and Tools for Data Science/.conda/lib/python3.12/site-packages/statsmodels/tsa/base/tsa_model.py:473: ValueWarning: An unsupported index was provided and will be ignored when e.g. forecasting.\n",
      "  self._init_dates(dates, freq)\n",
      "/Users/user/Desktop/Master DataScience/Semester 1/Programming and Tools for Data Science/.conda/lib/python3.12/site-packages/statsmodels/tsa/statespace/sarimax.py:966: UserWarning: Non-stationary starting autoregressive parameters found. Using zeros as starting parameters.\n",
      "  warn('Non-stationary starting autoregressive parameters'\n",
      "/Users/user/Desktop/Master DataScience/Semester 1/Programming and Tools for Data Science/.conda/lib/python3.12/site-packages/statsmodels/tsa/statespace/sarimax.py:978: UserWarning: Non-invertible starting MA parameters found. Using zeros as starting parameters.\n",
      "  warn('Non-invertible starting MA parameters found.'\n"
     ]
    },
    {
     "name": "stdout",
     "output_type": "stream",
     "text": [
      "Vorhersagen: 2421    2.835563\n",
      "2422    2.263797\n",
      "2423    1.997454\n",
      "2424    1.916735\n",
      "2425    2.055527\n",
      "Name: predicted_mean, dtype: float64\n"
     ]
    },
    {
     "name": "stderr",
     "output_type": "stream",
     "text": [
      " This problem is unconstrained.\n"
     ]
    },
    {
     "name": "stdout",
     "output_type": "stream",
     "text": [
      "RUNNING THE L-BFGS-B CODE\n",
      "\n",
      "           * * *\n",
      "\n",
      "Machine precision = 2.220D-16\n",
      " N =            7     M =           10\n",
      "\n",
      "At X0         0 variables are exactly at the bounds\n",
      "\n",
      "At iterate    0    f=  1.81570D+00    |proj g|=  2.10442D-01\n",
      "\n",
      "At iterate    5    f=  1.70475D+00    |proj g|=  4.35216D-02\n",
      "\n",
      "At iterate   10    f=  1.69403D+00    |proj g|=  1.00409D-02\n",
      "\n",
      "At iterate   15    f=  1.69362D+00    |proj g|=  9.50924D-04\n",
      "\n",
      "At iterate   20    f=  1.69255D+00    |proj g|=  4.96793D-02\n",
      "\n",
      "At iterate   25    f=  1.68386D+00    |proj g|=  2.25889D-02\n",
      "\n",
      "At iterate   30    f=  1.67313D+00    |proj g|=  2.28130D-02\n",
      "\n",
      "At iterate   35    f=  1.66954D+00    |proj g|=  2.17674D-02\n",
      "\n",
      "At iterate   40    f=  1.66834D+00    |proj g|=  9.69184D-03\n",
      "\n",
      "At iterate   45    f=  1.66808D+00    |proj g|=  8.42234D-03\n"
     ]
    },
    {
     "name": "stderr",
     "output_type": "stream",
     "text": [
      "/Users/user/Desktop/Master DataScience/Semester 1/Programming and Tools for Data Science/.conda/lib/python3.12/site-packages/statsmodels/base/model.py:607: ConvergenceWarning: Maximum Likelihood optimization failed to converge. Check mle_retvals\n",
      "  warnings.warn(\"Maximum Likelihood optimization failed to \"\n"
     ]
    },
    {
     "name": "stdout",
     "output_type": "stream",
     "text": [
      "\n",
      "At iterate   50    f=  1.66802D+00    |proj g|=  3.59218D-04\n",
      "\n",
      "           * * *\n",
      "\n",
      "Tit   = total number of iterations\n",
      "Tnf   = total number of function evaluations\n",
      "Tnint = total number of segments explored during Cauchy searches\n",
      "Skip  = number of BFGS updates skipped\n",
      "Nact  = number of active bounds at final generalized Cauchy point\n",
      "Projg = norm of the final projected gradient\n",
      "F     = final function value\n",
      "\n",
      "           * * *\n",
      "\n",
      "   N    Tit     Tnf  Tnint  Skip  Nact     Projg        F\n",
      "    7     50     63      1     0     0   3.592D-04   1.668D+00\n",
      "  F =   1.6680243146542086     \n",
      "\n",
      "STOP: TOTAL NO. of ITERATIONS REACHED LIMIT                 \n"
     ]
    },
    {
     "name": "stderr",
     "output_type": "stream",
     "text": [
      "/Users/user/Desktop/Master DataScience/Semester 1/Programming and Tools for Data Science/.conda/lib/python3.12/site-packages/statsmodels/tsa/base/tsa_model.py:836: ValueWarning: No supported index is available. Prediction results will be given with an integer index beginning at `start`.\n",
      "  return get_prediction_index(\n",
      "/Users/user/Desktop/Master DataScience/Semester 1/Programming and Tools for Data Science/.conda/lib/python3.12/site-packages/statsmodels/tsa/base/tsa_model.py:836: FutureWarning: No supported index is available. In the next version, calling this method in a model without a supported index will result in an exception.\n",
      "  return get_prediction_index(\n"
     ]
    }
   ],
   "source": [
    "\n",
    "ids = [24370, 24397, 24376]\n",
    "\n",
    "september_data = final[(final['index'] >= '2024-06-10') & (final['index'] <= '2024-09-30 23:59:59')]\n",
    "validation_data = final[(final['index'] >= '2024-10-01 01:00:00') & (final['index'] < '2024-10-01 06:00:00')]\n",
    "\n",
    "for id in ids:\n",
    "    model_data = final[final['entityId']==id]\n",
    "    model_data = model_data[['index','availableBikeNumber']]\n",
    "    model_data['index'] = pd.to_datetime(model_data['index'])\n",
    "    print(f'Forecasting for station {id}')\n",
    "\n",
    "    '''# 1. Plotting the time series\n",
    "    plt.figure(figsize=(10, 6))\n",
    "    plt.plot(final_df['availableBikeNumber'], label='Original Time Series')\n",
    "    plt.title('Verfügbare Fahrräder Zeitreihe')\n",
    "    plt.xlabel('Zeit')\n",
    "    plt.ylabel(f'Verfügbare Fahrräder Station{ids[0]}')\n",
    "    plt.legend()\n",
    "    plt.show()'''\n",
    "\n",
    "    # 2. SARIMA model training (p, d, q) x (P, D, Q, m)\n",
    "    # Define the order parameters; adjust as needed\n",
    "    order = (2, 1, 2)  # ARIMA parameters\n",
    "    seasonal_order = (1, 1, 1, 24)  # Seasonal parameters (m=12 for monthly seasonality)\n",
    "\n",
    "    # Fit the SARIMA model\n",
    "    model = SARIMAX(model_data['availableBikeNumber'], order=order, seasonal_order=seasonal_order)\n",
    "    model_fit = model.fit()\n",
    "\n",
    "    # 3. Forecast the next 5 values\n",
    "    forecast = model_fit.forecast(steps=5)\n",
    "    print(\"Vorhersagen:\", forecast)\n",
    "\n",
    "    evaluation_test(id ,validation_data[validation_data['entityId']==id]['availableBikeNumber'], forecast, 5)\n",
    "    '''\n",
    "    # 4. Plot the forecast\n",
    "    plt.figure(figsize=(10, 6))\n",
    "    plt.plot(model_data['availableBikeNumber'], label='Original Time Series')\n",
    "    # Create a new time index for the forecast\n",
    "    forecast_index = pd.date_range(start=model_data.index[-1] + pd.Timedelta(hours=1), periods=forecast_steps, freq='H')\n",
    "    plt.plot(forecast_index, forecast, color='red', marker='o', label='Forecast')\n",
    "    plt.title(f'SARIMA Vorhersage Station{ids[0]}')\n",
    "    plt.xlabel('Zeit')\n",
    "    plt.ylabel('Verfügbare Fahrräder')\n",
    "    plt.legend()\n",
    "    plt.show()'''\n",
    "\n",
    "    # 5. Model evaluation (Optional: With MSE)\n",
    "    train_size = int(len(model_data) * 0.8)\n",
    "    train, test = model_data['availableBikeNumber'][0:train_size], model_data['availableBikeNumber'][train_size:]\n",
    "\n",
    "    # Fit the model again on the training data\n",
    "    model_fit_train = SARIMAX(train, order=order, seasonal_order=seasonal_order).fit()\n",
    "    predictions = model_fit_train.forecast(steps=len(test))\n",
    "\n",
    "    # Evaluation\n",
    "    \n"
   ]
  },
  {
   "cell_type": "code",
   "execution_count": 32,
   "metadata": {},
   "outputs": [
    {
     "data": {
      "text/html": [
       "<div>\n",
       "<style scoped>\n",
       "    .dataframe tbody tr th:only-of-type {\n",
       "        vertical-align: middle;\n",
       "    }\n",
       "\n",
       "    .dataframe tbody tr th {\n",
       "        vertical-align: top;\n",
       "    }\n",
       "\n",
       "    .dataframe thead th {\n",
       "        text-align: right;\n",
       "    }\n",
       "</style>\n",
       "<table border=\"1\" class=\"dataframe\">\n",
       "  <thead>\n",
       "    <tr style=\"text-align: right;\">\n",
       "      <th></th>\n",
       "      <th>Model</th>\n",
       "      <th>MAE</th>\n",
       "      <th>MAPE</th>\n",
       "      <th>Pred_num</th>\n",
       "      <th>MSE</th>\n",
       "    </tr>\n",
       "  </thead>\n",
       "  <tbody>\n",
       "    <tr>\n",
       "      <th>0</th>\n",
       "      <td>24370</td>\n",
       "      <td>0.193518</td>\n",
       "      <td>0.010751</td>\n",
       "      <td>1 hour</td>\n",
       "      <td>0.037449</td>\n",
       "    </tr>\n",
       "    <tr>\n",
       "      <th>1</th>\n",
       "      <td>24397</td>\n",
       "      <td>2.252681</td>\n",
       "      <td>0.321812</td>\n",
       "      <td>1 hour</td>\n",
       "      <td>5.074570</td>\n",
       "    </tr>\n",
       "    <tr>\n",
       "      <th>2</th>\n",
       "      <td>24376</td>\n",
       "      <td>0.128182</td>\n",
       "      <td>0.016023</td>\n",
       "      <td>1 hour</td>\n",
       "      <td>0.016431</td>\n",
       "    </tr>\n",
       "    <tr>\n",
       "      <th>3</th>\n",
       "      <td>24370</td>\n",
       "      <td>1.498519</td>\n",
       "      <td>0.085018</td>\n",
       "      <td>5 hour</td>\n",
       "      <td>2.533774</td>\n",
       "    </tr>\n",
       "    <tr>\n",
       "      <th>4</th>\n",
       "      <td>24397</td>\n",
       "      <td>3.865783</td>\n",
       "      <td>1.407679</td>\n",
       "      <td>5 hour</td>\n",
       "      <td>19.432459</td>\n",
       "    </tr>\n",
       "    <tr>\n",
       "      <th>5</th>\n",
       "      <td>24376</td>\n",
       "      <td>4.942852</td>\n",
       "      <td>0.683284</td>\n",
       "      <td>5 hour</td>\n",
       "      <td>25.644975</td>\n",
       "    </tr>\n",
       "  </tbody>\n",
       "</table>\n",
       "</div>"
      ],
      "text/plain": [
       "   Model       MAE      MAPE Pred_num        MSE\n",
       "0  24370  0.193518  0.010751   1 hour   0.037449\n",
       "1  24397  2.252681  0.321812   1 hour   5.074570\n",
       "2  24376  0.128182  0.016023   1 hour   0.016431\n",
       "3  24370  1.498519  0.085018   5 hour   2.533774\n",
       "4  24397  3.865783  1.407679   5 hour  19.432459\n",
       "5  24376  4.942852  0.683284   5 hour  25.644975"
      ]
     },
     "execution_count": 32,
     "metadata": {},
     "output_type": "execute_result"
    }
   ],
   "source": [
    "global_result_list"
   ]
  },
  {
   "cell_type": "code",
   "execution_count": 88,
   "metadata": {},
   "outputs": [
    {
     "name": "stdout",
     "output_type": "stream",
     "text": [
      "ADF Statistic: -1.8354892942974108\n",
      "p-value: 0.3629899583445465\n",
      "Is the time series stationary? False\n"
     ]
    },
    {
     "data": {
      "text/plain": [
       "<Figure size 1000x600 with 0 Axes>"
      ]
     },
     "metadata": {},
     "output_type": "display_data"
    },
    {
     "data": {
      "image/png": "[encoded data removed]",
      "text/plain": [
       "<Figure size 1000x600 with 1 Axes>"
      ]
     },
     "metadata": {},
     "output_type": "display_data"
    },
    {
     "name": "stderr",
     "output_type": "stream",
     "text": [
      "/Users/user/Desktop/Master DataScience/Semester 1/Programming and Tools for Data Science/.conda/lib/python3.12/site-packages/statsmodels/tsa/base/tsa_model.py:473: ValueWarning: No frequency information was provided, so inferred frequency h will be used.\n",
      "  self._init_dates(dates, freq)\n",
      "/Users/user/Desktop/Master DataScience/Semester 1/Programming and Tools for Data Science/.conda/lib/python3.12/site-packages/statsmodels/tsa/base/tsa_model.py:473: ValueWarning: No frequency information was provided, so inferred frequency h will be used.\n",
      "  self._init_dates(dates, freq)\n",
      " This problem is unconstrained.\n"
     ]
    },
    {
     "name": "stdout",
     "output_type": "stream",
     "text": [
      "RUNNING THE L-BFGS-B CODE\n",
      "\n",
      "           * * *\n",
      "\n",
      "Machine precision = 2.220D-16\n",
      " N =            7     M =           10\n",
      "\n",
      "At X0         0 variables are exactly at the bounds\n",
      "\n",
      "At iterate    0    f=  1.44738D+00    |proj g|=  2.10480D-01\n",
      "\n",
      "At iterate    5    f=  1.38326D+00    |proj g|=  3.54581D-02\n",
      "\n",
      "At iterate   10    f=  1.37709D+00    |proj g|=  9.05493D-03\n",
      "\n",
      "At iterate   15    f=  1.37606D+00    |proj g|=  2.35577D-04\n",
      "\n",
      "At iterate   20    f=  1.37606D+00    |proj g|=  1.41812D-04\n",
      "\n",
      "           * * *\n",
      "\n",
      "Tit   = total number of iterations\n",
      "Tnf   = total number of function evaluations\n",
      "Tnint = total number of segments explored during Cauchy searches\n",
      "Skip  = number of BFGS updates skipped\n",
      "Nact  = number of active bounds at final generalized Cauchy point\n",
      "Projg = norm of the final projected gradient\n",
      "F     = final function value\n",
      "\n",
      "           * * *\n",
      "\n",
      "   N    Tit     Tnf  Tnint  Skip  Nact     Projg        F\n",
      "    7     22     24      1     0     0   1.860D-05   1.376D+00\n",
      "  F =   1.3760560751702193     \n",
      "\n",
      "CONVERGENCE: REL_REDUCTION_OF_F_<=_FACTR*EPSMCH             \n",
      "Vorhersagen: 2024-10-01 13:00:00+00:00    8.262555\n",
      "2024-10-01 14:00:00+00:00    7.842835\n",
      "2024-10-01 15:00:00+00:00    7.611794\n",
      "2024-10-01 16:00:00+00:00    7.451921\n",
      "2024-10-01 17:00:00+00:00    6.962705\n",
      "Freq: h, Name: predicted_mean, dtype: float64\n"
     ]
    },
    {
     "name": "stderr",
     "output_type": "stream",
     "text": [
      "/var/folders/q2/4b4lyr6d0b320kbxlhgj_9z00000gn/T/ipykernel_2923/3157392735.py:53: FutureWarning: 'H' is deprecated and will be removed in a future version, please use 'h' instead.\n",
      "  forecast_index = pd.date_range(start=september_data.index[-1] + pd.Timedelta(hours=1), periods=forecast_steps, freq='H')\n"
     ]
    },
    {
     "data": {
      "image/png": "[encoded data removed]",
      "text/plain": [
       "<Figure size 1000x600 with 1 Axes>"
      ]
     },
     "metadata": {},
     "output_type": "display_data"
    },
    {
     "name": "stderr",
     "output_type": "stream",
     "text": [
      "/Users/user/Desktop/Master DataScience/Semester 1/Programming and Tools for Data Science/.conda/lib/python3.12/site-packages/statsmodels/tsa/base/tsa_model.py:473: ValueWarning: No frequency information was provided, so inferred frequency h will be used.\n",
      "  self._init_dates(dates, freq)\n",
      "/Users/user/Desktop/Master DataScience/Semester 1/Programming and Tools for Data Science/.conda/lib/python3.12/site-packages/statsmodels/tsa/base/tsa_model.py:473: ValueWarning: No frequency information was provided, so inferred frequency h will be used.\n",
      "  self._init_dates(dates, freq)\n",
      "/Users/user/Desktop/Master DataScience/Semester 1/Programming and Tools for Data Science/.conda/lib/python3.12/site-packages/statsmodels/tsa/statespace/sarimax.py:978: UserWarning: Non-invertible starting MA parameters found. Using zeros as starting parameters.\n",
      "  warn('Non-invertible starting MA parameters found.'\n",
      " This problem is unconstrained.\n"
     ]
    },
    {
     "name": "stdout",
     "output_type": "stream",
     "text": [
      "RUNNING THE L-BFGS-B CODE\n",
      "\n",
      "           * * *\n",
      "\n",
      "Machine precision = 2.220D-16\n",
      " N =            7     M =           10\n",
      "\n",
      "At X0         0 variables are exactly at the bounds\n",
      "\n",
      "At iterate    0    f=  1.51354D+00    |proj g|=  2.82212D-01\n",
      "\n",
      "At iterate    5    f=  1.31476D+00    |proj g|=  3.38016D-02\n",
      "\n",
      "At iterate   10    f=  1.29248D+00    |proj g|=  2.17852D-02\n",
      "\n",
      "At iterate   15    f=  1.27437D+00    |proj g|=  1.72540D-02\n",
      "\n",
      "At iterate   20    f=  1.27036D+00    |proj g|=  1.65877D-02\n",
      "\n",
      "At iterate   25    f=  1.27006D+00    |proj g|=  4.14450D-05\n",
      "\n",
      "At iterate   30    f=  1.27006D+00    |proj g|=  1.85793D-04\n",
      "\n",
      "At iterate   35    f=  1.26994D+00    |proj g|=  2.16445D-02\n",
      "\n",
      "At iterate   40    f=  1.26959D+00    |proj g|=  8.18751D-04\n",
      "\n",
      "At iterate   45    f=  1.26958D+00    |proj g|=  1.63713D-05\n"
     ]
    },
    {
     "name": "stderr",
     "output_type": "stream",
     "text": [
      "/Users/user/Desktop/Master DataScience/Semester 1/Programming and Tools for Data Science/.conda/lib/python3.12/site-packages/statsmodels/base/model.py:607: ConvergenceWarning: Maximum Likelihood optimization failed to converge. Check mle_retvals\n",
      "  warnings.warn(\"Maximum Likelihood optimization failed to \"\n"
     ]
    },
    {
     "name": "stdout",
     "output_type": "stream",
     "text": [
      "\n",
      "At iterate   50    f=  1.26958D+00    |proj g|=  3.61391D-04\n",
      "\n",
      "           * * *\n",
      "\n",
      "Tit   = total number of iterations\n",
      "Tnf   = total number of function evaluations\n",
      "Tnint = total number of segments explored during Cauchy searches\n",
      "Skip  = number of BFGS updates skipped\n",
      "Nact  = number of active bounds at final generalized Cauchy point\n",
      "Projg = norm of the final projected gradient\n",
      "F     = final function value\n",
      "\n",
      "           * * *\n",
      "\n",
      "   N    Tit     Tnf  Tnint  Skip  Nact     Projg        F\n",
      "    7     50     66      1     0     0   3.614D-04   1.270D+00\n",
      "  F =   1.2695838968454818     \n",
      "\n",
      "STOP: TOTAL NO. of ITERATIONS REACHED LIMIT                 \n",
      "Mean Squared Error: 6.8480096758615705\n"
     ]
    }
   ],
   "source": [
    "import numpy as np\n",
    "import pandas as pd\n",
    "import matplotlib.pyplot as plt\n",
    "from statsmodels.tsa.statespace.sarimax import SARIMAX\n",
    "from statsmodels.tsa.stattools import adfuller\n",
    "from sklearn.metrics import mean_squared_error\n",
    "\n",
    "# 1. Check for stationarity with Augmented Dickey-Fuller test\n",
    "def check_stationarity(ts):\n",
    "    result = adfuller(ts)\n",
    "    print(f'ADF Statistic: {result[0]}')\n",
    "    print(f'p-value: {result[1]}')\n",
    "    return result[1] <= 0.05  # Returns True if the series is stationary\n",
    "\n",
    "is_stationary = check_stationarity(final_df['availableBikeNumber'])\n",
    "print(f\"Is the time series stationary? {is_stationary}\")\n",
    "\n",
    "# 5. Extract actual data for the first 5 days of October\n",
    "actual_october_data = final_df['2024-10-01 12:00:00':'2024-10-01 18:00:00']['availableBikeNumber']\n",
    "september_data =  final_df['2024-09-23':'2024-10-01 12:00:00']\n",
    "\n",
    "# 6. Plot the forecast vs actual data\n",
    "plt.figure(figsize=(10, 6))\n",
    "\n",
    "\n",
    "# 2. Plotting the original time series\n",
    "plt.figure(figsize=(10, 6))\n",
    "plt.plot(final_df['availableBikeNumber'], label='Original Time Series')\n",
    "plt.title('Verfügbare Fahrräder Zeitreihe')\n",
    "plt.xlabel('Zeit')\n",
    "plt.ylabel('Verfügbare Fahrräder')\n",
    "plt.legend()\n",
    "plt.show()\n",
    "\n",
    "# 3. SARIMA model training\n",
    "# Adjust (p, d, q) and (P, D, Q, m) as needed\n",
    "order = (2,1,2)  # Change these parameters based on diagnostics\n",
    "seasonal_order = (1, 1, 1, 24)  # Adjust m based on your data\n",
    "\n",
    "# Fit the SARIMA model\n",
    "model = SARIMAX(september_data['availableBikeNumber'], order=order, seasonal_order=seasonal_order)\n",
    "model_fit = model.fit()\n",
    "\n",
    "# 4. Forecast the next 20 values\n",
    "forecast_steps = 5\n",
    "forecast = model_fit.forecast(steps=forecast_steps)\n",
    "print(\"Vorhersagen:\", forecast)\n",
    "\n",
    "# 5. Plot the forecast\n",
    "plt.figure(figsize=(10, 6))\n",
    "plt.plot(september_data, label='Original Time Series')\n",
    "# Create a new time index for the forecast\n",
    "forecast_index = pd.date_range(start=september_data.index[-1] + pd.Timedelta(hours=1), periods=forecast_steps, freq='H')\n",
    "# Plot actual data for comparison\n",
    "\n",
    "plt.plot(forecast_index, forecast, color='red', marker='o', label='Forecast')\n",
    "\n",
    "plt.plot(actual_october_data.index, actual_october_data, label='Actual Data (Oct 1)', color='blue')\n",
    "plt.title('SARIMA Vorhersage')\n",
    "plt.xlabel('Zeit')\n",
    "plt.ylabel('Verfügbare Fahrräder')\n",
    "plt.legend()\n",
    "plt.show()\n",
    "\n",
    "# 6. Model evaluation (Optional: With MSE)\n",
    "train_size = int(len(final_df) * 0.8)\n",
    "train, test = final_df['availableBikeNumber'][0:train_size], final_df['availableBikeNumber'][train_size:]\n",
    "\n",
    "# Fit the model again on the training data\n",
    "model_fit_train = SARIMAX(train, order=order, seasonal_order=seasonal_order).fit()\n",
    "predictions = model_fit_train.forecast(steps=len(test))\n",
    "\n",
    "# Calculate Mean Squared Error\n",
    "mse = mean_squared_error(test, predictions)\n",
    "print(f'Mean Squared Error: {mse}')\n"
   ]
  },
  {
   "cell_type": "code",
   "execution_count": 89,
   "metadata": {},
   "outputs": [
    {
     "name": "stdout",
     "output_type": "stream",
     "text": [
      "ADF Statistic: -1.8354892942974108\n",
      "p-value: 0.3629899583445465\n",
      "Is the time series stationary? False\n"
     ]
    },
    {
     "data": {
      "image/png": "[encoded data removed]",
      "text/plain": [
       "<Figure size 1000x600 with 1 Axes>"
      ]
     },
     "metadata": {},
     "output_type": "display_data"
    },
    {
     "name": "stderr",
     "output_type": "stream",
     "text": [
      "/Users/user/Desktop/Master DataScience/Semester 1/Programming and Tools for Data Science/.conda/lib/python3.12/site-packages/statsmodels/tsa/base/tsa_model.py:473: ValueWarning: No frequency information was provided, so inferred frequency h will be used.\n",
      "  self._init_dates(dates, freq)\n",
      "/Users/user/Desktop/Master DataScience/Semester 1/Programming and Tools for Data Science/.conda/lib/python3.12/site-packages/statsmodels/tsa/base/tsa_model.py:473: ValueWarning: No frequency information was provided, so inferred frequency h will be used.\n",
      "  self._init_dates(dates, freq)\n"
     ]
    },
    {
     "name": "stdout",
     "output_type": "stream",
     "text": [
      "RUNNING THE L-BFGS-B CODE\n",
      "\n",
      "           * * *\n",
      "\n",
      "Machine precision = 2.220D-16\n",
      " N =            7     M =           10\n",
      "\n",
      "At X0         0 variables are exactly at the bounds\n",
      "\n",
      "At iterate    0    f=  1.29307D+00    |proj g|=  3.32252D-01\n"
     ]
    },
    {
     "name": "stderr",
     "output_type": "stream",
     "text": [
      " This problem is unconstrained.\n"
     ]
    },
    {
     "name": "stdout",
     "output_type": "stream",
     "text": [
      "\n",
      "At iterate    5    f=  1.23146D+00    |proj g|=  5.44020D-02\n",
      "\n",
      "At iterate   10    f=  1.22080D+00    |proj g|=  4.84865D-03\n",
      "\n",
      "At iterate   15    f=  1.22069D+00    |proj g|=  1.85798D-03\n",
      "\n",
      "At iterate   20    f=  1.22066D+00    |proj g|=  9.35752D-04\n",
      "\n",
      "At iterate   25    f=  1.22066D+00    |proj g|=  6.54689D-05\n",
      "\n",
      "At iterate   30    f=  1.22065D+00    |proj g|=  5.43075D-04\n",
      "\n",
      "At iterate   35    f=  1.22065D+00    |proj g|=  4.80544D-05\n",
      "\n",
      "           * * *\n",
      "\n",
      "Tit   = total number of iterations\n",
      "Tnf   = total number of function evaluations\n",
      "Tnint = total number of segments explored during Cauchy searches\n",
      "Skip  = number of BFGS updates skipped\n",
      "Nact  = number of active bounds at final generalized Cauchy point\n",
      "Projg = norm of the final projected gradient\n",
      "F     = final function value\n",
      "\n",
      "           * * *\n",
      "\n",
      "   N    Tit     Tnf  Tnint  Skip  Nact     Projg        F\n",
      "    7     37     46      1     0     0   5.717D-06   1.221D+00\n",
      "  F =   1.2206505873439129     \n",
      "\n",
      "CONVERGENCE: NORM_OF_PROJECTED_GRADIENT_<=_PGTOL            \n",
      "Vorhersagen: 2024-10-12 10:00:00+00:00    4.338221\n",
      "2024-10-12 11:00:00+00:00    4.144607\n",
      "2024-10-12 12:00:00+00:00    3.872234\n",
      "2024-10-12 13:00:00+00:00    3.632082\n",
      "2024-10-12 14:00:00+00:00    3.697261\n",
      "Freq: h, Name: predicted_mean, dtype: float64\n"
     ]
    },
    {
     "name": "stderr",
     "output_type": "stream",
     "text": [
      "/var/folders/q2/4b4lyr6d0b320kbxlhgj_9z00000gn/T/ipykernel_2923/363435510.py:49: FutureWarning: 'H' is deprecated and will be removed in a future version, please use 'h' instead.\n",
      "  forecast_index = pd.date_range(start=final_df.index[-1] + pd.Timedelta(hours=1), periods=forecast_steps, freq='H')\n"
     ]
    },
    {
     "data": {
      "image/png": "[encoded data removed]",
      "text/plain": [
       "<Figure size 1000x600 with 1 Axes>"
      ]
     },
     "metadata": {},
     "output_type": "display_data"
    },
    {
     "name": "stderr",
     "output_type": "stream",
     "text": [
      "/Users/user/Desktop/Master DataScience/Semester 1/Programming and Tools for Data Science/.conda/lib/python3.12/site-packages/statsmodels/tsa/base/tsa_model.py:473: ValueWarning: No frequency information was provided, so inferred frequency h will be used.\n",
      "  self._init_dates(dates, freq)\n",
      "/Users/user/Desktop/Master DataScience/Semester 1/Programming and Tools for Data Science/.conda/lib/python3.12/site-packages/statsmodels/tsa/base/tsa_model.py:473: ValueWarning: No frequency information was provided, so inferred frequency h will be used.\n",
      "  self._init_dates(dates, freq)\n",
      "/Users/user/Desktop/Master DataScience/Semester 1/Programming and Tools for Data Science/.conda/lib/python3.12/site-packages/statsmodels/tsa/statespace/sarimax.py:978: UserWarning: Non-invertible starting MA parameters found. Using zeros as starting parameters.\n",
      "  warn('Non-invertible starting MA parameters found.'\n",
      " This problem is unconstrained.\n"
     ]
    },
    {
     "name": "stdout",
     "output_type": "stream",
     "text": [
      "RUNNING THE L-BFGS-B CODE\n",
      "\n",
      "           * * *\n",
      "\n",
      "Machine precision = 2.220D-16\n",
      " N =            7     M =           10\n",
      "\n",
      "At X0         0 variables are exactly at the bounds\n",
      "\n",
      "At iterate    0    f=  1.51354D+00    |proj g|=  2.82212D-01\n",
      "\n",
      "At iterate    5    f=  1.31476D+00    |proj g|=  3.38016D-02\n",
      "\n",
      "At iterate   10    f=  1.29248D+00    |proj g|=  2.17852D-02\n",
      "\n",
      "At iterate   15    f=  1.27437D+00    |proj g|=  1.72540D-02\n",
      "\n",
      "At iterate   20    f=  1.27036D+00    |proj g|=  1.65877D-02\n",
      "\n",
      "At iterate   25    f=  1.27006D+00    |proj g|=  4.14450D-05\n",
      "\n",
      "At iterate   30    f=  1.27006D+00    |proj g|=  1.85793D-04\n",
      "\n",
      "At iterate   35    f=  1.26994D+00    |proj g|=  2.16445D-02\n",
      "\n",
      "At iterate   40    f=  1.26959D+00    |proj g|=  8.18751D-04\n",
      "\n",
      "At iterate   45    f=  1.26958D+00    |proj g|=  1.63713D-05\n"
     ]
    },
    {
     "name": "stderr",
     "output_type": "stream",
     "text": [
      "/Users/user/Desktop/Master DataScience/Semester 1/Programming and Tools for Data Science/.conda/lib/python3.12/site-packages/statsmodels/base/model.py:607: ConvergenceWarning: Maximum Likelihood optimization failed to converge. Check mle_retvals\n",
      "  warnings.warn(\"Maximum Likelihood optimization failed to \"\n"
     ]
    },
    {
     "name": "stdout",
     "output_type": "stream",
     "text": [
      "\n",
      "At iterate   50    f=  1.26958D+00    |proj g|=  3.61391D-04\n",
      "\n",
      "           * * *\n",
      "\n",
      "Tit   = total number of iterations\n",
      "Tnf   = total number of function evaluations\n",
      "Tnint = total number of segments explored during Cauchy searches\n",
      "Skip  = number of BFGS updates skipped\n",
      "Nact  = number of active bounds at final generalized Cauchy point\n",
      "Projg = norm of the final projected gradient\n",
      "F     = final function value\n",
      "\n",
      "           * * *\n",
      "\n",
      "   N    Tit     Tnf  Tnint  Skip  Nact     Projg        F\n",
      "    7     50     66      1     0     0   3.614D-04   1.270D+00\n",
      "  F =   1.2695838968454818     \n",
      "\n",
      "STOP: TOTAL NO. of ITERATIONS REACHED LIMIT                 \n",
      "Mean Squared Error: 6.8480096758615705\n"
     ]
    }
   ],
   "source": [
    "import numpy as np\n",
    "import pandas as pd\n",
    "import matplotlib.pyplot as plt\n",
    "from statsmodels.tsa.statespace.sarimax import SARIMAX\n",
    "from statsmodels.tsa.stattools import adfuller\n",
    "from sklearn.metrics import mean_squared_error\n",
    "\n",
    "# Assuming final_df has an hourly time series\n",
    "model_fit = final_df\n",
    "\n",
    "# 1. Check for stationarity with Augmented Dickey-Fuller test\n",
    "def check_stationarity(ts):\n",
    "    result = adfuller(ts)\n",
    "    print(f'ADF Statistic: {result[0]}')\n",
    "    print(f'p-value: {result[1]}')\n",
    "    return result[1] <= 0.05  # Returns True if the series is stationary\n",
    "\n",
    "is_stationary = check_stationarity(final_df['availableBikeNumber'])\n",
    "print(f\"Is the time series stationary? {is_stationary}\")\n",
    "\n",
    "# 2. Plotting the original time series\n",
    "plt.figure(figsize=(10, 6))\n",
    "plt.plot(final_df.index, final_df['availableBikeNumber'], label='Original Time Series')\n",
    "plt.title('Verfügbare Fahrräder Zeitreihe (Hourly)')\n",
    "plt.xlabel('Zeit')\n",
    "plt.ylabel('Verfügbare Fahrräder')\n",
    "plt.legend()\n",
    "plt.show()\n",
    "\n",
    "# 3. SARIMA model training (hourly data)\n",
    "# Adjust (p, d, q) and (P, D, Q, m) for hourly data\n",
    "order = (2, 1, 2)  # Adjust ARIMA order (same as before)\n",
    "seasonal_order = (1, 1, 1, 24)  # m = 24 for daily seasonality (24 hours in a day)\n",
    "\n",
    "# Fit the SARIMA model\n",
    "model = SARIMAX(final_df['availableBikeNumber'], order=order, seasonal_order=seasonal_order)\n",
    "model_fit = model.fit()\n",
    "\n",
    "# 4. Forecast the next 5 hours\n",
    "forecast_steps = 5\n",
    "forecast = model_fit.forecast(steps=forecast_steps)\n",
    "print(\"Vorhersagen:\", forecast)\n",
    "\n",
    "# 5. Plot the forecast (Hourly)\n",
    "plt.figure(figsize=(10, 6))\n",
    "plt.plot(final_df.index, final_df['availableBikeNumber'], label='Original Time Series')\n",
    "\n",
    "# Create a new time index for the forecast (hourly intervals)\n",
    "forecast_index = pd.date_range(start=final_df.index[-1] + pd.Timedelta(hours=1), periods=forecast_steps, freq='H')\n",
    "plt.plot(forecast_index, forecast, color='red', marker='o', label='Forecast')\n",
    "plt.title('SARIMA Vorhersage (Hourly)')\n",
    "plt.xlabel('Zeit')\n",
    "plt.ylabel('Verfügbare Fahrräder')\n",
    "plt.legend()\n",
    "plt.show()\n",
    "\n",
    "# 6. Model evaluation (Optional: With MSE)\n",
    "train_size = int(len(final_df) * 0.8)\n",
    "train, test = final_df['availableBikeNumber'][0:train_size], final_df['availableBikeNumber'][train_size:]\n",
    "\n",
    "# Fit the model again on the training data\n",
    "model_fit_train = SARIMAX(train, order=order, seasonal_order=seasonal_order).fit()\n",
    "predictions = model_fit_train.forecast(steps=len(test))\n",
    "\n",
    "# Calculate Mean Squared Error\n",
    "mse = mean_squared_error(test, predictions)\n",
    "print(f'Mean Squared Error: {mse}')\n"
   ]
  },
  {
   "cell_type": "code",
   "execution_count": 85,
   "metadata": {},
   "outputs": [
    {
     "data": {
      "text/plain": [
       "2024-10-12 10:00:00+00:00    4.338221\n",
       "2024-10-12 11:00:00+00:00    4.144607\n",
       "2024-10-12 12:00:00+00:00    3.872234\n",
       "2024-10-12 13:00:00+00:00    3.632082\n",
       "2024-10-12 14:00:00+00:00    3.697261\n",
       "Freq: h, Name: predicted_mean, dtype: float64"
      ]
     },
     "execution_count": 85,
     "metadata": {},
     "output_type": "execute_result"
    }
   ],
   "source": [
    "samira_result_20_hours = forecast\n",
    "\n",
    "samira_result_20_hours"
   ]
  },
  {
   "cell_type": "markdown",
   "metadata": {},
   "source": [
    "2024-10-08 12:00:00+00:00    4.333867\n",
    "2024-10-08 13:00:00+00:00    4.365704\n",
    "2024-10-08 14:00:00+00:00    4.189118\n",
    "2024-10-08 15:00:00+00:00    2.508729\n",
    "2024-10-08 16:00:00+00:00    1.685687\n",
    "2024-10-08 17:00:00+00:00    1.691836\n",
    "2024-10-08 18:00:00+00:00    1.807646\n",
    "2024-10-08 19:00:00+00:00    1.837044\n",
    "2024-10-08 20:00:00+00:00    1.070687\n",
    "2024-10-08 21:00:00+00:00    0.692619\n",
    "2024-10-08 22:00:00+00:00    0.783321\n",
    "2024-10-08 23:00:00+00:00    0.919557\n",
    "2024-10-09 00:00:00+00:00    0.924950\n",
    "2024-10-09 01:00:00+00:00    0.925314\n",
    "2024-10-09 02:00:00+00:00    0.925028\n",
    "2024-10-09 03:00:00+00:00    0.924128\n",
    "2024-10-09 04:00:00+00:00    0.872782\n",
    "2024-10-09 05:00:00+00:00    0.824739\n",
    "2024-10-09 06:00:00+00:00    1.100172\n",
    "2024-10-09 07:00:00+00:00    1.723909\n",
    "Freq: h, Name: predicted_mean, dtype: float64"
   ]
  },
  {
   "cell_type": "code",
   "execution_count": 86,
   "metadata": {},
   "outputs": [
    {
     "ename": "NameError",
     "evalue": "name 'samira_result_15_hours' is not defined",
     "output_type": "error",
     "traceback": [
      "\u001b[0;31m---------------------------------------------------------------------------\u001b[0m",
      "\u001b[0;31mNameError\u001b[0m                                 Traceback (most recent call last)",
      "Cell \u001b[0;32mIn[86], line 1\u001b[0m\n\u001b[0;32m----> 1\u001b[0m samira_result_15_hours\n",
      "\u001b[0;31mNameError\u001b[0m: name 'samira_result_15_hours' is not defined"
     ]
    }
   ],
   "source": [
    "samira_result_15_hours"
   ]
  },
  {
   "cell_type": "markdown",
   "metadata": {},
   "source": [
    "2024-10-08 12:00:00+00:00    4.333867\n",
    "2024-10-08 13:00:00+00:00    4.365704\n",
    "2024-10-08 14:00:00+00:00    4.189118\n",
    "2024-10-08 15:00:00+00:00    2.508729\n",
    "2024-10-08 16:00:00+00:00    1.685687\n",
    "2024-10-08 17:00:00+00:00    1.691836\n",
    "2024-10-08 18:00:00+00:00    1.807646\n",
    "2024-10-08 19:00:00+00:00    1.837044\n",
    "2024-10-08 20:00:00+00:00    1.070687\n",
    "2024-10-08 21:00:00+00:00    0.692619\n",
    "2024-10-08 22:00:00+00:00    0.783321\n",
    "2024-10-08 23:00:00+00:00    0.919557\n",
    "2024-10-09 00:00:00+00:00    0.924950\n",
    "2024-10-09 01:00:00+00:00    0.925314\n",
    "2024-10-09 02:00:00+00:00    0.925028\n",
    "Freq: h, Name: predicted_mean, dtype: float64"
   ]
  },
  {
   "cell_type": "code",
   "execution_count": 28,
   "metadata": {},
   "outputs": [
    {
     "name": "stderr",
     "output_type": "stream",
     "text": [
      "/Users/user/Desktop/Master DataScience/Semester 1/Programming and Tools for Data Science/.conda/lib/python3.12/site-packages/statsmodels/tsa/base/tsa_model.py:473: ValueWarning: A date index has been provided, but it has no associated frequency information and so will be ignored when e.g. forecasting.\n",
      "  self._init_dates(dates, freq)\n",
      "/Users/user/Desktop/Master DataScience/Semester 1/Programming and Tools for Data Science/.conda/lib/python3.12/site-packages/statsmodels/tsa/base/tsa_model.py:473: ValueWarning: A date index has been provided, but it has no associated frequency information and so will be ignored when e.g. forecasting.\n",
      "  self._init_dates(dates, freq)\n",
      "/Users/user/Desktop/Master DataScience/Semester 1/Programming and Tools for Data Science/.conda/lib/python3.12/site-packages/statsmodels/tsa/statespace/sarimax.py:866: UserWarning: Too few observations to estimate starting parameters for ARMA and trend. All parameters except for variances will be set to zeros.\n",
      "  warn('Too few observations to estimate starting parameters%s.'\n",
      "/Users/user/Desktop/Master DataScience/Semester 1/Programming and Tools for Data Science/.conda/lib/python3.12/site-packages/statsmodels/tsa/statespace/sarimax.py:866: UserWarning: Too few observations to estimate starting parameters for seasonal ARMA. All parameters except for variances will be set to zeros.\n",
      "  warn('Too few observations to estimate starting parameters%s.'\n",
      "/Users/user/Desktop/Master DataScience/Semester 1/Programming and Tools for Data Science/.conda/lib/python3.12/site-packages/statsmodels/base/model.py:534: RuntimeWarning: invalid value encountered in scalar divide\n",
      "  return -self.loglike(params, *args) / nobs\n",
      " This problem is unconstrained.\n"
     ]
    },
    {
     "name": "stdout",
     "output_type": "stream",
     "text": [
      "RUNNING THE L-BFGS-B CODE\n",
      "\n",
      "           * * *\n",
      "\n",
      "Machine precision = 2.220D-16\n",
      " N =            9     M =           10\n",
      "\n",
      "At X0         0 variables are exactly at the bounds\n",
      "\n",
      "At iterate    0    f=          NaN    |proj g|=          NaN\n"
     ]
    },
    {
     "ename": "LinAlgError",
     "evalue": "Schur decomposition solver error.",
     "output_type": "error",
     "traceback": [
      "\u001b[0;31m---------------------------------------------------------------------------\u001b[0m",
      "\u001b[0;31mLinAlgError\u001b[0m                               Traceback (most recent call last)",
      "Cell \u001b[0;32mIn[28], line 20\u001b[0m\n\u001b[1;32m     18\u001b[0m \u001b[38;5;66;03m# 3. Fit the SARIMA model on September data\u001b[39;00m\n\u001b[1;32m     19\u001b[0m model \u001b[38;5;241m=\u001b[39m SARIMAX(september_data[\u001b[38;5;124m'\u001b[39m\u001b[38;5;124mavailableBikeNumber\u001b[39m\u001b[38;5;124m'\u001b[39m], order\u001b[38;5;241m=\u001b[39morder, seasonal_order\u001b[38;5;241m=\u001b[39mseasonal_order)\n\u001b[0;32m---> 20\u001b[0m model_fit \u001b[38;5;241m=\u001b[39m model\u001b[38;5;241m.\u001b[39mfit()\n\u001b[1;32m     22\u001b[0m \u001b[38;5;66;03m# 4. Forecast the first 5 days of October\u001b[39;00m\n\u001b[1;32m     23\u001b[0m forecast_steps \u001b[38;5;241m=\u001b[39m \u001b[38;5;241m5\u001b[39m \u001b[38;5;241m*\u001b[39m\u001b[38;5;241m24\u001b[39m  \u001b[38;5;66;03m# 5 days = 5 * 24 hours\u001b[39;00m\n",
      "File \u001b[0;32m~/Desktop/Master DataScience/Semester 1/Programming and Tools for Data Science/.conda/lib/python3.12/site-packages/statsmodels/tsa/statespace/mlemodel.py:704\u001b[0m, in \u001b[0;36mMLEModel.fit\u001b[0;34m(self, start_params, transformed, includes_fixed, cov_type, cov_kwds, method, maxiter, full_output, disp, callback, return_params, optim_score, optim_complex_step, optim_hessian, flags, low_memory, **kwargs)\u001b[0m\n\u001b[1;32m    702\u001b[0m         flags[\u001b[38;5;124m'\u001b[39m\u001b[38;5;124mhessian_method\u001b[39m\u001b[38;5;124m'\u001b[39m] \u001b[38;5;241m=\u001b[39m optim_hessian\n\u001b[1;32m    703\u001b[0m     fargs \u001b[38;5;241m=\u001b[39m (flags,)\n\u001b[0;32m--> 704\u001b[0m     mlefit \u001b[38;5;241m=\u001b[39m \u001b[38;5;28msuper\u001b[39m(MLEModel, \u001b[38;5;28mself\u001b[39m)\u001b[38;5;241m.\u001b[39mfit(start_params, method\u001b[38;5;241m=\u001b[39mmethod,\n\u001b[1;32m    705\u001b[0m                                        fargs\u001b[38;5;241m=\u001b[39mfargs,\n\u001b[1;32m    706\u001b[0m                                        maxiter\u001b[38;5;241m=\u001b[39mmaxiter,\n\u001b[1;32m    707\u001b[0m                                        full_output\u001b[38;5;241m=\u001b[39mfull_output,\n\u001b[1;32m    708\u001b[0m                                        disp\u001b[38;5;241m=\u001b[39mdisp, callback\u001b[38;5;241m=\u001b[39mcallback,\n\u001b[1;32m    709\u001b[0m                                        skip_hessian\u001b[38;5;241m=\u001b[39m\u001b[38;5;28;01mTrue\u001b[39;00m, \u001b[38;5;241m*\u001b[39m\u001b[38;5;241m*\u001b[39mkwargs)\n\u001b[1;32m    711\u001b[0m \u001b[38;5;66;03m# Just return the fitted parameters if requested\u001b[39;00m\n\u001b[1;32m    712\u001b[0m \u001b[38;5;28;01mif\u001b[39;00m return_params:\n",
      "File \u001b[0;32m~/Desktop/Master DataScience/Semester 1/Programming and Tools for Data Science/.conda/lib/python3.12/site-packages/statsmodels/base/model.py:566\u001b[0m, in \u001b[0;36mLikelihoodModel.fit\u001b[0;34m(self, start_params, method, maxiter, full_output, disp, fargs, callback, retall, skip_hessian, **kwargs)\u001b[0m\n\u001b[1;32m    563\u001b[0m     \u001b[38;5;28;01mdel\u001b[39;00m kwargs[\u001b[38;5;124m\"\u001b[39m\u001b[38;5;124muse_t\u001b[39m\u001b[38;5;124m\"\u001b[39m]\n\u001b[1;32m    565\u001b[0m optimizer \u001b[38;5;241m=\u001b[39m Optimizer()\n\u001b[0;32m--> 566\u001b[0m xopt, retvals, optim_settings \u001b[38;5;241m=\u001b[39m optimizer\u001b[38;5;241m.\u001b[39m_fit(f, score, start_params,\n\u001b[1;32m    567\u001b[0m                                                fargs, kwargs,\n\u001b[1;32m    568\u001b[0m                                                hessian\u001b[38;5;241m=\u001b[39mhess,\n\u001b[1;32m    569\u001b[0m                                                method\u001b[38;5;241m=\u001b[39mmethod,\n\u001b[1;32m    570\u001b[0m                                                disp\u001b[38;5;241m=\u001b[39mdisp,\n\u001b[1;32m    571\u001b[0m                                                maxiter\u001b[38;5;241m=\u001b[39mmaxiter,\n\u001b[1;32m    572\u001b[0m                                                callback\u001b[38;5;241m=\u001b[39mcallback,\n\u001b[1;32m    573\u001b[0m                                                retall\u001b[38;5;241m=\u001b[39mretall,\n\u001b[1;32m    574\u001b[0m                                                full_output\u001b[38;5;241m=\u001b[39mfull_output)\n\u001b[1;32m    575\u001b[0m \u001b[38;5;66;03m# Restore cov_type, cov_kwds and use_t\u001b[39;00m\n\u001b[1;32m    576\u001b[0m optim_settings\u001b[38;5;241m.\u001b[39mupdate(kwds)\n",
      "File \u001b[0;32m~/Desktop/Master DataScience/Semester 1/Programming and Tools for Data Science/.conda/lib/python3.12/site-packages/statsmodels/base/optimizer.py:242\u001b[0m, in \u001b[0;36mOptimizer._fit\u001b[0;34m(self, objective, gradient, start_params, fargs, kwargs, hessian, method, maxiter, full_output, disp, callback, retall)\u001b[0m\n\u001b[1;32m    239\u001b[0m     fit_funcs\u001b[38;5;241m.\u001b[39mupdate(extra_fit_funcs)\n\u001b[1;32m    241\u001b[0m func \u001b[38;5;241m=\u001b[39m fit_funcs[method]\n\u001b[0;32m--> 242\u001b[0m xopt, retvals \u001b[38;5;241m=\u001b[39m func(objective, gradient, start_params, fargs, kwargs,\n\u001b[1;32m    243\u001b[0m                      disp\u001b[38;5;241m=\u001b[39mdisp, maxiter\u001b[38;5;241m=\u001b[39mmaxiter, callback\u001b[38;5;241m=\u001b[39mcallback,\n\u001b[1;32m    244\u001b[0m                      retall\u001b[38;5;241m=\u001b[39mretall, full_output\u001b[38;5;241m=\u001b[39mfull_output,\n\u001b[1;32m    245\u001b[0m                      hess\u001b[38;5;241m=\u001b[39mhessian)\n\u001b[1;32m    247\u001b[0m optim_settings \u001b[38;5;241m=\u001b[39m {\u001b[38;5;124m'\u001b[39m\u001b[38;5;124moptimizer\u001b[39m\u001b[38;5;124m'\u001b[39m: method, \u001b[38;5;124m'\u001b[39m\u001b[38;5;124mstart_params\u001b[39m\u001b[38;5;124m'\u001b[39m: start_params,\n\u001b[1;32m    248\u001b[0m                   \u001b[38;5;124m'\u001b[39m\u001b[38;5;124mmaxiter\u001b[39m\u001b[38;5;124m'\u001b[39m: maxiter, \u001b[38;5;124m'\u001b[39m\u001b[38;5;124mfull_output\u001b[39m\u001b[38;5;124m'\u001b[39m: full_output,\n\u001b[1;32m    249\u001b[0m                   \u001b[38;5;124m'\u001b[39m\u001b[38;5;124mdisp\u001b[39m\u001b[38;5;124m'\u001b[39m: disp, \u001b[38;5;124m'\u001b[39m\u001b[38;5;124mfargs\u001b[39m\u001b[38;5;124m'\u001b[39m: fargs, \u001b[38;5;124m'\u001b[39m\u001b[38;5;124mcallback\u001b[39m\u001b[38;5;124m'\u001b[39m: callback,\n\u001b[1;32m    250\u001b[0m                   \u001b[38;5;124m'\u001b[39m\u001b[38;5;124mretall\u001b[39m\u001b[38;5;124m'\u001b[39m: retall, \u001b[38;5;124m\"\u001b[39m\u001b[38;5;124mextra_fit_funcs\u001b[39m\u001b[38;5;124m\"\u001b[39m: extra_fit_funcs}\n\u001b[1;32m    251\u001b[0m optim_settings\u001b[38;5;241m.\u001b[39mupdate(kwargs)\n",
      "File \u001b[0;32m~/Desktop/Master DataScience/Semester 1/Programming and Tools for Data Science/.conda/lib/python3.12/site-packages/statsmodels/base/optimizer.py:659\u001b[0m, in \u001b[0;36m_fit_lbfgs\u001b[0;34m(f, score, start_params, fargs, kwargs, disp, maxiter, callback, retall, full_output, hess)\u001b[0m\n\u001b[1;32m    656\u001b[0m \u001b[38;5;28;01melif\u001b[39;00m approx_grad:\n\u001b[1;32m    657\u001b[0m     func \u001b[38;5;241m=\u001b[39m f\n\u001b[0;32m--> 659\u001b[0m retvals \u001b[38;5;241m=\u001b[39m optimize\u001b[38;5;241m.\u001b[39mfmin_l_bfgs_b(func, start_params, maxiter\u001b[38;5;241m=\u001b[39mmaxiter,\n\u001b[1;32m    660\u001b[0m                                  callback\u001b[38;5;241m=\u001b[39mcallback, args\u001b[38;5;241m=\u001b[39mfargs,\n\u001b[1;32m    661\u001b[0m                                  bounds\u001b[38;5;241m=\u001b[39mbounds, disp\u001b[38;5;241m=\u001b[39mdisp,\n\u001b[1;32m    662\u001b[0m                                  \u001b[38;5;241m*\u001b[39m\u001b[38;5;241m*\u001b[39mextra_kwargs)\n\u001b[1;32m    664\u001b[0m \u001b[38;5;28;01mif\u001b[39;00m full_output:\n\u001b[1;32m    665\u001b[0m     xopt, fopt, d \u001b[38;5;241m=\u001b[39m retvals\n",
      "File \u001b[0;32m~/Desktop/Master DataScience/Semester 1/Programming and Tools for Data Science/.conda/lib/python3.12/site-packages/scipy/optimize/_lbfgsb_py.py:237\u001b[0m, in \u001b[0;36mfmin_l_bfgs_b\u001b[0;34m(func, x0, fprime, args, approx_grad, bounds, m, factr, pgtol, epsilon, iprint, maxfun, maxiter, disp, callback, maxls)\u001b[0m\n\u001b[1;32m    225\u001b[0m callback \u001b[38;5;241m=\u001b[39m _wrap_callback(callback)\n\u001b[1;32m    226\u001b[0m opts \u001b[38;5;241m=\u001b[39m {\u001b[38;5;124m'\u001b[39m\u001b[38;5;124mdisp\u001b[39m\u001b[38;5;124m'\u001b[39m: disp,\n\u001b[1;32m    227\u001b[0m         \u001b[38;5;124m'\u001b[39m\u001b[38;5;124miprint\u001b[39m\u001b[38;5;124m'\u001b[39m: iprint,\n\u001b[1;32m    228\u001b[0m         \u001b[38;5;124m'\u001b[39m\u001b[38;5;124mmaxcor\u001b[39m\u001b[38;5;124m'\u001b[39m: m,\n\u001b[0;32m   (...)\u001b[0m\n\u001b[1;32m    234\u001b[0m         \u001b[38;5;124m'\u001b[39m\u001b[38;5;124mcallback\u001b[39m\u001b[38;5;124m'\u001b[39m: callback,\n\u001b[1;32m    235\u001b[0m         \u001b[38;5;124m'\u001b[39m\u001b[38;5;124mmaxls\u001b[39m\u001b[38;5;124m'\u001b[39m: maxls}\n\u001b[0;32m--> 237\u001b[0m res \u001b[38;5;241m=\u001b[39m _minimize_lbfgsb(fun, x0, args\u001b[38;5;241m=\u001b[39margs, jac\u001b[38;5;241m=\u001b[39mjac, bounds\u001b[38;5;241m=\u001b[39mbounds,\n\u001b[1;32m    238\u001b[0m                        \u001b[38;5;241m*\u001b[39m\u001b[38;5;241m*\u001b[39mopts)\n\u001b[1;32m    239\u001b[0m d \u001b[38;5;241m=\u001b[39m {\u001b[38;5;124m'\u001b[39m\u001b[38;5;124mgrad\u001b[39m\u001b[38;5;124m'\u001b[39m: res[\u001b[38;5;124m'\u001b[39m\u001b[38;5;124mjac\u001b[39m\u001b[38;5;124m'\u001b[39m],\n\u001b[1;32m    240\u001b[0m      \u001b[38;5;124m'\u001b[39m\u001b[38;5;124mtask\u001b[39m\u001b[38;5;124m'\u001b[39m: res[\u001b[38;5;124m'\u001b[39m\u001b[38;5;124mmessage\u001b[39m\u001b[38;5;124m'\u001b[39m],\n\u001b[1;32m    241\u001b[0m      \u001b[38;5;124m'\u001b[39m\u001b[38;5;124mfuncalls\u001b[39m\u001b[38;5;124m'\u001b[39m: res[\u001b[38;5;124m'\u001b[39m\u001b[38;5;124mnfev\u001b[39m\u001b[38;5;124m'\u001b[39m],\n\u001b[1;32m    242\u001b[0m      \u001b[38;5;124m'\u001b[39m\u001b[38;5;124mnit\u001b[39m\u001b[38;5;124m'\u001b[39m: res[\u001b[38;5;124m'\u001b[39m\u001b[38;5;124mnit\u001b[39m\u001b[38;5;124m'\u001b[39m],\n\u001b[1;32m    243\u001b[0m      \u001b[38;5;124m'\u001b[39m\u001b[38;5;124mwarnflag\u001b[39m\u001b[38;5;124m'\u001b[39m: res[\u001b[38;5;124m'\u001b[39m\u001b[38;5;124mstatus\u001b[39m\u001b[38;5;124m'\u001b[39m]}\n\u001b[1;32m    244\u001b[0m f \u001b[38;5;241m=\u001b[39m res[\u001b[38;5;124m'\u001b[39m\u001b[38;5;124mfun\u001b[39m\u001b[38;5;124m'\u001b[39m]\n",
      "File \u001b[0;32m~/Desktop/Master DataScience/Semester 1/Programming and Tools for Data Science/.conda/lib/python3.12/site-packages/scipy/optimize/_lbfgsb_py.py:407\u001b[0m, in \u001b[0;36m_minimize_lbfgsb\u001b[0;34m(fun, x0, args, jac, bounds, disp, maxcor, ftol, gtol, eps, maxfun, maxiter, iprint, callback, maxls, finite_diff_rel_step, **unknown_options)\u001b[0m\n\u001b[1;32m    401\u001b[0m task_str \u001b[38;5;241m=\u001b[39m task\u001b[38;5;241m.\u001b[39mtobytes()\n\u001b[1;32m    402\u001b[0m \u001b[38;5;28;01mif\u001b[39;00m task_str\u001b[38;5;241m.\u001b[39mstartswith(\u001b[38;5;124mb\u001b[39m\u001b[38;5;124m'\u001b[39m\u001b[38;5;124mFG\u001b[39m\u001b[38;5;124m'\u001b[39m):\n\u001b[1;32m    403\u001b[0m     \u001b[38;5;66;03m# The minimization routine wants f and g at the current x.\u001b[39;00m\n\u001b[1;32m    404\u001b[0m     \u001b[38;5;66;03m# Note that interruptions due to maxfun are postponed\u001b[39;00m\n\u001b[1;32m    405\u001b[0m     \u001b[38;5;66;03m# until the completion of the current minimization iteration.\u001b[39;00m\n\u001b[1;32m    406\u001b[0m     \u001b[38;5;66;03m# Overwrite f and g:\u001b[39;00m\n\u001b[0;32m--> 407\u001b[0m     f, g \u001b[38;5;241m=\u001b[39m func_and_grad(x)\n\u001b[1;32m    408\u001b[0m \u001b[38;5;28;01melif\u001b[39;00m task_str\u001b[38;5;241m.\u001b[39mstartswith(\u001b[38;5;124mb\u001b[39m\u001b[38;5;124m'\u001b[39m\u001b[38;5;124mNEW_X\u001b[39m\u001b[38;5;124m'\u001b[39m):\n\u001b[1;32m    409\u001b[0m     \u001b[38;5;66;03m# new iteration\u001b[39;00m\n\u001b[1;32m    410\u001b[0m     n_iterations \u001b[38;5;241m+\u001b[39m\u001b[38;5;241m=\u001b[39m \u001b[38;5;241m1\u001b[39m\n",
      "File \u001b[0;32m~/Desktop/Master DataScience/Semester 1/Programming and Tools for Data Science/.conda/lib/python3.12/site-packages/scipy/optimize/_differentiable_functions.py:296\u001b[0m, in \u001b[0;36mScalarFunction.fun_and_grad\u001b[0;34m(self, x)\u001b[0m\n\u001b[1;32m    294\u001b[0m \u001b[38;5;28;01mif\u001b[39;00m \u001b[38;5;129;01mnot\u001b[39;00m np\u001b[38;5;241m.\u001b[39marray_equal(x, \u001b[38;5;28mself\u001b[39m\u001b[38;5;241m.\u001b[39mx):\n\u001b[1;32m    295\u001b[0m     \u001b[38;5;28mself\u001b[39m\u001b[38;5;241m.\u001b[39m_update_x_impl(x)\n\u001b[0;32m--> 296\u001b[0m \u001b[38;5;28mself\u001b[39m\u001b[38;5;241m.\u001b[39m_update_fun()\n\u001b[1;32m    297\u001b[0m \u001b[38;5;28mself\u001b[39m\u001b[38;5;241m.\u001b[39m_update_grad()\n\u001b[1;32m    298\u001b[0m \u001b[38;5;28;01mreturn\u001b[39;00m \u001b[38;5;28mself\u001b[39m\u001b[38;5;241m.\u001b[39mf, \u001b[38;5;28mself\u001b[39m\u001b[38;5;241m.\u001b[39mg\n",
      "File \u001b[0;32m~/Desktop/Master DataScience/Semester 1/Programming and Tools for Data Science/.conda/lib/python3.12/site-packages/scipy/optimize/_differentiable_functions.py:262\u001b[0m, in \u001b[0;36mScalarFunction._update_fun\u001b[0;34m(self)\u001b[0m\n\u001b[1;32m    260\u001b[0m \u001b[38;5;28;01mdef\u001b[39;00m \u001b[38;5;21m_update_fun\u001b[39m(\u001b[38;5;28mself\u001b[39m):\n\u001b[1;32m    261\u001b[0m     \u001b[38;5;28;01mif\u001b[39;00m \u001b[38;5;129;01mnot\u001b[39;00m \u001b[38;5;28mself\u001b[39m\u001b[38;5;241m.\u001b[39mf_updated:\n\u001b[0;32m--> 262\u001b[0m         \u001b[38;5;28mself\u001b[39m\u001b[38;5;241m.\u001b[39m_update_fun_impl()\n\u001b[1;32m    263\u001b[0m         \u001b[38;5;28mself\u001b[39m\u001b[38;5;241m.\u001b[39mf_updated \u001b[38;5;241m=\u001b[39m \u001b[38;5;28;01mTrue\u001b[39;00m\n",
      "File \u001b[0;32m~/Desktop/Master DataScience/Semester 1/Programming and Tools for Data Science/.conda/lib/python3.12/site-packages/scipy/optimize/_differentiable_functions.py:163\u001b[0m, in \u001b[0;36mScalarFunction.__init__.<locals>.update_fun\u001b[0;34m()\u001b[0m\n\u001b[1;32m    162\u001b[0m \u001b[38;5;28;01mdef\u001b[39;00m \u001b[38;5;21mupdate_fun\u001b[39m():\n\u001b[0;32m--> 163\u001b[0m     \u001b[38;5;28mself\u001b[39m\u001b[38;5;241m.\u001b[39mf \u001b[38;5;241m=\u001b[39m fun_wrapped(\u001b[38;5;28mself\u001b[39m\u001b[38;5;241m.\u001b[39mx)\n",
      "File \u001b[0;32m~/Desktop/Master DataScience/Semester 1/Programming and Tools for Data Science/.conda/lib/python3.12/site-packages/scipy/optimize/_differentiable_functions.py:145\u001b[0m, in \u001b[0;36mScalarFunction.__init__.<locals>.fun_wrapped\u001b[0;34m(x)\u001b[0m\n\u001b[1;32m    141\u001b[0m \u001b[38;5;28mself\u001b[39m\u001b[38;5;241m.\u001b[39mnfev \u001b[38;5;241m+\u001b[39m\u001b[38;5;241m=\u001b[39m \u001b[38;5;241m1\u001b[39m\n\u001b[1;32m    142\u001b[0m \u001b[38;5;66;03m# Send a copy because the user may overwrite it.\u001b[39;00m\n\u001b[1;32m    143\u001b[0m \u001b[38;5;66;03m# Overwriting results in undefined behaviour because\u001b[39;00m\n\u001b[1;32m    144\u001b[0m \u001b[38;5;66;03m# fun(self.x) will change self.x, with the two no longer linked.\u001b[39;00m\n\u001b[0;32m--> 145\u001b[0m fx \u001b[38;5;241m=\u001b[39m fun(np\u001b[38;5;241m.\u001b[39mcopy(x), \u001b[38;5;241m*\u001b[39margs)\n\u001b[1;32m    146\u001b[0m \u001b[38;5;66;03m# Make sure the function returns a true scalar\u001b[39;00m\n\u001b[1;32m    147\u001b[0m \u001b[38;5;28;01mif\u001b[39;00m \u001b[38;5;129;01mnot\u001b[39;00m np\u001b[38;5;241m.\u001b[39misscalar(fx):\n",
      "File \u001b[0;32m~/Desktop/Master DataScience/Semester 1/Programming and Tools for Data Science/.conda/lib/python3.12/site-packages/statsmodels/base/model.py:534\u001b[0m, in \u001b[0;36mLikelihoodModel.fit.<locals>.f\u001b[0;34m(params, *args)\u001b[0m\n\u001b[1;32m    533\u001b[0m \u001b[38;5;28;01mdef\u001b[39;00m \u001b[38;5;21mf\u001b[39m(params, \u001b[38;5;241m*\u001b[39margs):\n\u001b[0;32m--> 534\u001b[0m     \u001b[38;5;28;01mreturn\u001b[39;00m \u001b[38;5;241m-\u001b[39m\u001b[38;5;28mself\u001b[39m\u001b[38;5;241m.\u001b[39mloglike(params, \u001b[38;5;241m*\u001b[39margs) \u001b[38;5;241m/\u001b[39m nobs\n",
      "File \u001b[0;32m~/Desktop/Master DataScience/Semester 1/Programming and Tools for Data Science/.conda/lib/python3.12/site-packages/statsmodels/tsa/statespace/mlemodel.py:939\u001b[0m, in \u001b[0;36mMLEModel.loglike\u001b[0;34m(self, params, *args, **kwargs)\u001b[0m\n\u001b[1;32m    936\u001b[0m \u001b[38;5;28;01mif\u001b[39;00m complex_step:\n\u001b[1;32m    937\u001b[0m     kwargs[\u001b[38;5;124m'\u001b[39m\u001b[38;5;124minversion_method\u001b[39m\u001b[38;5;124m'\u001b[39m] \u001b[38;5;241m=\u001b[39m INVERT_UNIVARIATE \u001b[38;5;241m|\u001b[39m SOLVE_LU\n\u001b[0;32m--> 939\u001b[0m loglike \u001b[38;5;241m=\u001b[39m \u001b[38;5;28mself\u001b[39m\u001b[38;5;241m.\u001b[39mssm\u001b[38;5;241m.\u001b[39mloglike(complex_step\u001b[38;5;241m=\u001b[39mcomplex_step, \u001b[38;5;241m*\u001b[39m\u001b[38;5;241m*\u001b[39mkwargs)\n\u001b[1;32m    941\u001b[0m \u001b[38;5;66;03m# Koopman, Shephard, and Doornik recommend maximizing the average\u001b[39;00m\n\u001b[1;32m    942\u001b[0m \u001b[38;5;66;03m# likelihood to avoid scale issues, but the averaging is done\u001b[39;00m\n\u001b[1;32m    943\u001b[0m \u001b[38;5;66;03m# automatically in the base model `fit` method\u001b[39;00m\n\u001b[1;32m    944\u001b[0m \u001b[38;5;28;01mreturn\u001b[39;00m loglike\n",
      "File \u001b[0;32m~/Desktop/Master DataScience/Semester 1/Programming and Tools for Data Science/.conda/lib/python3.12/site-packages/statsmodels/tsa/statespace/kalman_filter.py:1001\u001b[0m, in \u001b[0;36mKalmanFilter.loglike\u001b[0;34m(self, **kwargs)\u001b[0m\n\u001b[1;32m    985\u001b[0m \u001b[38;5;250m\u001b[39m\u001b[38;5;124mr\u001b[39m\u001b[38;5;124;03m\"\"\"\u001b[39;00m\n\u001b[1;32m    986\u001b[0m \u001b[38;5;124;03mCalculate the loglikelihood associated with the statespace model.\u001b[39;00m\n\u001b[1;32m    987\u001b[0m \n\u001b[0;32m   (...)\u001b[0m\n\u001b[1;32m    997\u001b[0m \u001b[38;5;124;03m    The joint loglikelihood.\u001b[39;00m\n\u001b[1;32m    998\u001b[0m \u001b[38;5;124;03m\"\"\"\u001b[39;00m\n\u001b[1;32m    999\u001b[0m kwargs\u001b[38;5;241m.\u001b[39msetdefault(\u001b[38;5;124m'\u001b[39m\u001b[38;5;124mconserve_memory\u001b[39m\u001b[38;5;124m'\u001b[39m,\n\u001b[1;32m   1000\u001b[0m                   MEMORY_CONSERVE \u001b[38;5;241m^\u001b[39m MEMORY_NO_LIKELIHOOD)\n\u001b[0;32m-> 1001\u001b[0m kfilter \u001b[38;5;241m=\u001b[39m \u001b[38;5;28mself\u001b[39m\u001b[38;5;241m.\u001b[39m_filter(\u001b[38;5;241m*\u001b[39m\u001b[38;5;241m*\u001b[39mkwargs)\n\u001b[1;32m   1002\u001b[0m loglikelihood_burn \u001b[38;5;241m=\u001b[39m kwargs\u001b[38;5;241m.\u001b[39mget(\u001b[38;5;124m'\u001b[39m\u001b[38;5;124mloglikelihood_burn\u001b[39m\u001b[38;5;124m'\u001b[39m,\n\u001b[1;32m   1003\u001b[0m                                 \u001b[38;5;28mself\u001b[39m\u001b[38;5;241m.\u001b[39mloglikelihood_burn)\n\u001b[1;32m   1004\u001b[0m \u001b[38;5;28;01mif\u001b[39;00m \u001b[38;5;129;01mnot\u001b[39;00m (kwargs[\u001b[38;5;124m'\u001b[39m\u001b[38;5;124mconserve_memory\u001b[39m\u001b[38;5;124m'\u001b[39m] \u001b[38;5;241m&\u001b[39m MEMORY_NO_LIKELIHOOD):\n",
      "File \u001b[0;32m~/Desktop/Master DataScience/Semester 1/Programming and Tools for Data Science/.conda/lib/python3.12/site-packages/statsmodels/tsa/statespace/kalman_filter.py:921\u001b[0m, in \u001b[0;36mKalmanFilter._filter\u001b[0;34m(self, filter_method, inversion_method, stability_method, conserve_memory, filter_timing, tolerance, loglikelihood_burn, complex_step)\u001b[0m\n\u001b[1;32m    918\u001b[0m kfilter \u001b[38;5;241m=\u001b[39m \u001b[38;5;28mself\u001b[39m\u001b[38;5;241m.\u001b[39m_kalman_filters[prefix]\n\u001b[1;32m    920\u001b[0m \u001b[38;5;66;03m# Initialize the state\u001b[39;00m\n\u001b[0;32m--> 921\u001b[0m \u001b[38;5;28mself\u001b[39m\u001b[38;5;241m.\u001b[39m_initialize_state(prefix\u001b[38;5;241m=\u001b[39mprefix, complex_step\u001b[38;5;241m=\u001b[39mcomplex_step)\n\u001b[1;32m    923\u001b[0m \u001b[38;5;66;03m# Run the filter\u001b[39;00m\n\u001b[1;32m    924\u001b[0m kfilter()\n",
      "File \u001b[0;32m~/Desktop/Master DataScience/Semester 1/Programming and Tools for Data Science/.conda/lib/python3.12/site-packages/statsmodels/tsa/statespace/representation.py:1058\u001b[0m, in \u001b[0;36mRepresentation._initialize_state\u001b[0;34m(self, prefix, complex_step)\u001b[0m\n\u001b[1;32m   1056\u001b[0m     \u001b[38;5;28;01mif\u001b[39;00m \u001b[38;5;129;01mnot\u001b[39;00m \u001b[38;5;28mself\u001b[39m\u001b[38;5;241m.\u001b[39minitialization\u001b[38;5;241m.\u001b[39minitialized:\n\u001b[1;32m   1057\u001b[0m         \u001b[38;5;28;01mraise\u001b[39;00m \u001b[38;5;167;01mRuntimeError\u001b[39;00m(\u001b[38;5;124m'\u001b[39m\u001b[38;5;124mInitialization is incomplete.\u001b[39m\u001b[38;5;124m'\u001b[39m)\n\u001b[0;32m-> 1058\u001b[0m     \u001b[38;5;28mself\u001b[39m\u001b[38;5;241m.\u001b[39m_statespaces[prefix]\u001b[38;5;241m.\u001b[39minitialize(\u001b[38;5;28mself\u001b[39m\u001b[38;5;241m.\u001b[39minitialization,\n\u001b[1;32m   1059\u001b[0m                                          complex_step\u001b[38;5;241m=\u001b[39mcomplex_step)\n\u001b[1;32m   1060\u001b[0m \u001b[38;5;28;01melse\u001b[39;00m:\n\u001b[1;32m   1061\u001b[0m     \u001b[38;5;28;01mraise\u001b[39;00m \u001b[38;5;167;01mRuntimeError\u001b[39;00m(\u001b[38;5;124m'\u001b[39m\u001b[38;5;124mStatespace model not initialized.\u001b[39m\u001b[38;5;124m'\u001b[39m)\n",
      "File \u001b[0;32mstatsmodels/tsa/statespace/_representation.pyx:1373\u001b[0m, in \u001b[0;36mstatsmodels.tsa.statespace._representation.dStatespace.initialize\u001b[0;34m()\u001b[0m\n",
      "File \u001b[0;32mstatsmodels/tsa/statespace/_representation.pyx:1362\u001b[0m, in \u001b[0;36mstatsmodels.tsa.statespace._representation.dStatespace.initialize\u001b[0;34m()\u001b[0m\n",
      "File \u001b[0;32mstatsmodels/tsa/statespace/_initialization.pyx:288\u001b[0m, in \u001b[0;36mstatsmodels.tsa.statespace._initialization.dInitialization.initialize\u001b[0;34m()\u001b[0m\n",
      "File \u001b[0;32mstatsmodels/tsa/statespace/_initialization.pyx:406\u001b[0m, in \u001b[0;36mstatsmodels.tsa.statespace._initialization.dInitialization.initialize_stationary_stationary_cov\u001b[0;34m()\u001b[0m\n",
      "File \u001b[0;32mstatsmodels/tsa/statespace/_tools.pyx:1603\u001b[0m, in \u001b[0;36mstatsmodels.tsa.statespace._tools._dsolve_discrete_lyapunov\u001b[0;34m()\u001b[0m\n",
      "\u001b[0;31mLinAlgError\u001b[0m: Schur decomposition solver error."
     ]
    }
   ],
   "source": [
    "import pandas as pd\n",
    "import matplotlib.pyplot as plt\n",
    "from statsmodels.tsa.statespace.sarimax import SARIMAX\n",
    "from sklearn.metrics import mean_squared_error\n",
    "\n",
    "# Assuming final_df has a DateTime index and 'availableBikeNumber' column\n",
    "\n",
    "# Convert the index to datetime if it's not already\n",
    "final_df.index = pd.to_datetime(final_df.index)\n",
    "\n",
    "# 1. Filter data for September\n",
    "september_data = final_df['2024-09-01':'2024-10-08']\n",
    "\n",
    "# 2. Define SARIMA model parameters\n",
    "order = (3, 1, 3)  # Adjust ARIMA order based on your data\n",
    "seasonal_order = (1, 1, 1, 24)  # Assuming 24-hour seasonality for daily patterns\n",
    "\n",
    "# 3. Fit the SARIMA model on September data\n",
    "model = SARIMAX(september_data['availableBikeNumber'], order=order, seasonal_order=seasonal_order)\n",
    "model_fit = model.fit()\n",
    "\n",
    "# 4. Forecast the first 5 days of October\n",
    "forecast_steps = 5 *24  # 5 days = 5 * 24 hours\n",
    "october_forecast = model_fit.forecast(steps=forecast_steps)\n",
    "\n",
    "# Create the forecast index for the first 5 days of October\n",
    "forecast_index = pd.date_range(start='2024-10-01', periods=forecast_steps, freq='H')\n",
    "\n",
    "# 5. Extract actual data for the first 5 days of October\n",
    "actual_october_data = final_df['2024-10-01':'2024-10-05']['availableBikeNumber']\n",
    "\n",
    "# 6. Plot the forecast vs actual data\n",
    "plt.figure(figsize=(10, 6))\n",
    "\n",
    "# Plot actual data for comparison\n",
    "plt.plot(actual_october_data.index, actual_october_data, label='Actual Data (Oct 1 - Oct 5)', color='blue')\n",
    "\n",
    "# Plot the forecasted data\n",
    "plt.plot(forecast_index, october_forecast, label='Forecasted Data (Oct 1 - Oct 5)', color='red', linestyle='--')\n",
    "\n",
    "plt.title('Forecast vs Actual Data (First 5 Days of October)')\n",
    "plt.xlabel('Time')\n",
    "plt.ylabel('Available Bikes')\n",
    "plt.legend()\n",
    "plt.show()\n",
    "\n",
    "# 7. (Optional) Calculate Mean Squared Error between forecast and actual data\n",
    "# Since the forecast and actual data might have different lengths, slice them appropriately\n",
    "forecast_for_comparison = october_forecast[:len(actual_october_data)]  # Ensure matching lengths\n",
    "mse = mean_squared_error(actual_october_data, forecast_for_comparison)\n",
    "print(f'Mean Squared Error: {mse}')"
   ]
  },
  {
   "cell_type": "code",
   "execution_count": 46,
   "metadata": {},
   "outputs": [
    {
     "name": "stderr",
     "output_type": "stream",
     "text": [
      "/var/folders/q2/4b4lyr6d0b320kbxlhgj_9z00000gn/T/ipykernel_2923/2520793301.py:2: FutureWarning: 'H' is deprecated and will be removed in a future version, please use 'h' instead.\n",
      "  actual_october_data = final_df['2024-10-01 00:00:00':'2024-10-05 23:59:59']['availableBikeNumber'].asfreq('H')\n",
      "/var/folders/q2/4b4lyr6d0b320kbxlhgj_9z00000gn/T/ipykernel_2923/2520793301.py:9: FutureWarning: 'H' is deprecated and will be removed in a future version, please use 'h' instead.\n",
      "  forecast_index = pd.date_range(start='2024-10-01 00:00:00', periods=forecast_steps, freq='H')\n"
     ]
    },
    {
     "name": "stdout",
     "output_type": "stream",
     "text": [
      "Length of actual data: 120\n",
      "Length of forecast data: 96\n"
     ]
    },
    {
     "ename": "ValueError",
     "evalue": "x and y must have same first dimension, but have shapes (5,) and (96,)",
     "output_type": "error",
     "traceback": [
      "\u001b[0;31m---------------------------------------------------------------------------\u001b[0m",
      "\u001b[0;31mValueError\u001b[0m                                Traceback (most recent call last)",
      "Cell \u001b[0;32mIn[46], line 18\u001b[0m\n\u001b[1;32m     15\u001b[0m plt\u001b[38;5;241m.\u001b[39mplot(actual_october_data\u001b[38;5;241m.\u001b[39mindex, actual_october_data, label\u001b[38;5;241m=\u001b[39m\u001b[38;5;124m'\u001b[39m\u001b[38;5;124mActual Data (Oct 1 - Oct 5)\u001b[39m\u001b[38;5;124m'\u001b[39m, color\u001b[38;5;241m=\u001b[39m\u001b[38;5;124m'\u001b[39m\u001b[38;5;124mblue\u001b[39m\u001b[38;5;124m'\u001b[39m)\n\u001b[1;32m     17\u001b[0m \u001b[38;5;66;03m# Plot the forecasted data\u001b[39;00m\n\u001b[0;32m---> 18\u001b[0m plt\u001b[38;5;241m.\u001b[39mplot(forecast_index, october_forecast, label\u001b[38;5;241m=\u001b[39m\u001b[38;5;124m'\u001b[39m\u001b[38;5;124mForecasted Data (Oct 1 - Oct 5)\u001b[39m\u001b[38;5;124m'\u001b[39m, color\u001b[38;5;241m=\u001b[39m\u001b[38;5;124m'\u001b[39m\u001b[38;5;124mred\u001b[39m\u001b[38;5;124m'\u001b[39m, linestyle\u001b[38;5;241m=\u001b[39m\u001b[38;5;124m'\u001b[39m\u001b[38;5;124m--\u001b[39m\u001b[38;5;124m'\u001b[39m)\n\u001b[1;32m     20\u001b[0m plt\u001b[38;5;241m.\u001b[39mtitle(\u001b[38;5;124m'\u001b[39m\u001b[38;5;124mForecast vs Actual Data (First 5 Days of October)\u001b[39m\u001b[38;5;124m'\u001b[39m)\n\u001b[1;32m     21\u001b[0m plt\u001b[38;5;241m.\u001b[39mxlabel(\u001b[38;5;124m'\u001b[39m\u001b[38;5;124mTime\u001b[39m\u001b[38;5;124m'\u001b[39m)\n",
      "File \u001b[0;32m~/Desktop/Master DataScience/Semester 1/Programming and Tools for Data Science/.conda/lib/python3.12/site-packages/matplotlib/pyplot.py:3590\u001b[0m, in \u001b[0;36mplot\u001b[0;34m(scalex, scaley, data, *args, **kwargs)\u001b[0m\n\u001b[1;32m   3582\u001b[0m \u001b[38;5;129m@_copy_docstring_and_deprecators\u001b[39m(Axes\u001b[38;5;241m.\u001b[39mplot)\n\u001b[1;32m   3583\u001b[0m \u001b[38;5;28;01mdef\u001b[39;00m \u001b[38;5;21mplot\u001b[39m(\n\u001b[1;32m   3584\u001b[0m     \u001b[38;5;241m*\u001b[39margs: \u001b[38;5;28mfloat\u001b[39m \u001b[38;5;241m|\u001b[39m ArrayLike \u001b[38;5;241m|\u001b[39m \u001b[38;5;28mstr\u001b[39m,\n\u001b[0;32m   (...)\u001b[0m\n\u001b[1;32m   3588\u001b[0m     \u001b[38;5;241m*\u001b[39m\u001b[38;5;241m*\u001b[39mkwargs,\n\u001b[1;32m   3589\u001b[0m ) \u001b[38;5;241m-\u001b[39m\u001b[38;5;241m>\u001b[39m \u001b[38;5;28mlist\u001b[39m[Line2D]:\n\u001b[0;32m-> 3590\u001b[0m     \u001b[38;5;28;01mreturn\u001b[39;00m gca()\u001b[38;5;241m.\u001b[39mplot(\n\u001b[1;32m   3591\u001b[0m         \u001b[38;5;241m*\u001b[39margs,\n\u001b[1;32m   3592\u001b[0m         scalex\u001b[38;5;241m=\u001b[39mscalex,\n\u001b[1;32m   3593\u001b[0m         scaley\u001b[38;5;241m=\u001b[39mscaley,\n\u001b[1;32m   3594\u001b[0m         \u001b[38;5;241m*\u001b[39m\u001b[38;5;241m*\u001b[39m({\u001b[38;5;124m\"\u001b[39m\u001b[38;5;124mdata\u001b[39m\u001b[38;5;124m\"\u001b[39m: data} \u001b[38;5;28;01mif\u001b[39;00m data \u001b[38;5;129;01mis\u001b[39;00m \u001b[38;5;129;01mnot\u001b[39;00m \u001b[38;5;28;01mNone\u001b[39;00m \u001b[38;5;28;01melse\u001b[39;00m {}),\n\u001b[1;32m   3595\u001b[0m         \u001b[38;5;241m*\u001b[39m\u001b[38;5;241m*\u001b[39mkwargs,\n\u001b[1;32m   3596\u001b[0m     )\n",
      "File \u001b[0;32m~/Desktop/Master DataScience/Semester 1/Programming and Tools for Data Science/.conda/lib/python3.12/site-packages/matplotlib/axes/_axes.py:1724\u001b[0m, in \u001b[0;36mAxes.plot\u001b[0;34m(self, scalex, scaley, data, *args, **kwargs)\u001b[0m\n\u001b[1;32m   1481\u001b[0m \u001b[38;5;250m\u001b[39m\u001b[38;5;124;03m\"\"\"\u001b[39;00m\n\u001b[1;32m   1482\u001b[0m \u001b[38;5;124;03mPlot y versus x as lines and/or markers.\u001b[39;00m\n\u001b[1;32m   1483\u001b[0m \n\u001b[0;32m   (...)\u001b[0m\n\u001b[1;32m   1721\u001b[0m \u001b[38;5;124;03m(``'green'``) or hex strings (``'#008000'``).\u001b[39;00m\n\u001b[1;32m   1722\u001b[0m \u001b[38;5;124;03m\"\"\"\u001b[39;00m\n\u001b[1;32m   1723\u001b[0m kwargs \u001b[38;5;241m=\u001b[39m cbook\u001b[38;5;241m.\u001b[39mnormalize_kwargs(kwargs, mlines\u001b[38;5;241m.\u001b[39mLine2D)\n\u001b[0;32m-> 1724\u001b[0m lines \u001b[38;5;241m=\u001b[39m [\u001b[38;5;241m*\u001b[39m\u001b[38;5;28mself\u001b[39m\u001b[38;5;241m.\u001b[39m_get_lines(\u001b[38;5;28mself\u001b[39m, \u001b[38;5;241m*\u001b[39margs, data\u001b[38;5;241m=\u001b[39mdata, \u001b[38;5;241m*\u001b[39m\u001b[38;5;241m*\u001b[39mkwargs)]\n\u001b[1;32m   1725\u001b[0m \u001b[38;5;28;01mfor\u001b[39;00m line \u001b[38;5;129;01min\u001b[39;00m lines:\n\u001b[1;32m   1726\u001b[0m     \u001b[38;5;28mself\u001b[39m\u001b[38;5;241m.\u001b[39madd_line(line)\n",
      "File \u001b[0;32m~/Desktop/Master DataScience/Semester 1/Programming and Tools for Data Science/.conda/lib/python3.12/site-packages/matplotlib/axes/_base.py:303\u001b[0m, in \u001b[0;36m_process_plot_var_args.__call__\u001b[0;34m(self, axes, data, *args, **kwargs)\u001b[0m\n\u001b[1;32m    301\u001b[0m     this \u001b[38;5;241m+\u001b[39m\u001b[38;5;241m=\u001b[39m args[\u001b[38;5;241m0\u001b[39m],\n\u001b[1;32m    302\u001b[0m     args \u001b[38;5;241m=\u001b[39m args[\u001b[38;5;241m1\u001b[39m:]\n\u001b[0;32m--> 303\u001b[0m \u001b[38;5;28;01myield from\u001b[39;00m \u001b[38;5;28mself\u001b[39m\u001b[38;5;241m.\u001b[39m_plot_args(\n\u001b[1;32m    304\u001b[0m     axes, this, kwargs, ambiguous_fmt_datakey\u001b[38;5;241m=\u001b[39mambiguous_fmt_datakey)\n",
      "File \u001b[0;32m~/Desktop/Master DataScience/Semester 1/Programming and Tools for Data Science/.conda/lib/python3.12/site-packages/matplotlib/axes/_base.py:499\u001b[0m, in \u001b[0;36m_process_plot_var_args._plot_args\u001b[0;34m(self, axes, tup, kwargs, return_kwargs, ambiguous_fmt_datakey)\u001b[0m\n\u001b[1;32m    496\u001b[0m     axes\u001b[38;5;241m.\u001b[39myaxis\u001b[38;5;241m.\u001b[39mupdate_units(y)\n\u001b[1;32m    498\u001b[0m \u001b[38;5;28;01mif\u001b[39;00m x\u001b[38;5;241m.\u001b[39mshape[\u001b[38;5;241m0\u001b[39m] \u001b[38;5;241m!=\u001b[39m y\u001b[38;5;241m.\u001b[39mshape[\u001b[38;5;241m0\u001b[39m]:\n\u001b[0;32m--> 499\u001b[0m     \u001b[38;5;28;01mraise\u001b[39;00m \u001b[38;5;167;01mValueError\u001b[39;00m(\u001b[38;5;124mf\u001b[39m\u001b[38;5;124m\"\u001b[39m\u001b[38;5;124mx and y must have same first dimension, but \u001b[39m\u001b[38;5;124m\"\u001b[39m\n\u001b[1;32m    500\u001b[0m                      \u001b[38;5;124mf\u001b[39m\u001b[38;5;124m\"\u001b[39m\u001b[38;5;124mhave shapes \u001b[39m\u001b[38;5;132;01m{\u001b[39;00mx\u001b[38;5;241m.\u001b[39mshape\u001b[38;5;132;01m}\u001b[39;00m\u001b[38;5;124m and \u001b[39m\u001b[38;5;132;01m{\u001b[39;00my\u001b[38;5;241m.\u001b[39mshape\u001b[38;5;132;01m}\u001b[39;00m\u001b[38;5;124m\"\u001b[39m)\n\u001b[1;32m    501\u001b[0m \u001b[38;5;28;01mif\u001b[39;00m x\u001b[38;5;241m.\u001b[39mndim \u001b[38;5;241m>\u001b[39m \u001b[38;5;241m2\u001b[39m \u001b[38;5;129;01mor\u001b[39;00m y\u001b[38;5;241m.\u001b[39mndim \u001b[38;5;241m>\u001b[39m \u001b[38;5;241m2\u001b[39m:\n\u001b[1;32m    502\u001b[0m     \u001b[38;5;28;01mraise\u001b[39;00m \u001b[38;5;167;01mValueError\u001b[39;00m(\u001b[38;5;124mf\u001b[39m\u001b[38;5;124m\"\u001b[39m\u001b[38;5;124mx and y can be no greater than 2D, but have \u001b[39m\u001b[38;5;124m\"\u001b[39m\n\u001b[1;32m    503\u001b[0m                      \u001b[38;5;124mf\u001b[39m\u001b[38;5;124m\"\u001b[39m\u001b[38;5;124mshapes \u001b[39m\u001b[38;5;132;01m{\u001b[39;00mx\u001b[38;5;241m.\u001b[39mshape\u001b[38;5;132;01m}\u001b[39;00m\u001b[38;5;124m and \u001b[39m\u001b[38;5;132;01m{\u001b[39;00my\u001b[38;5;241m.\u001b[39mshape\u001b[38;5;132;01m}\u001b[39;00m\u001b[38;5;124m\"\u001b[39m)\n",
      "\u001b[0;31mValueError\u001b[0m: x and y must have same first dimension, but have shapes (5,) and (96,)"
     ]
    },
    {
     "data": {
      "image/png": "[encoded data removed]",
      "text/plain": [
       "<Figure size 1000x600 with 1 Axes>"
      ]
     },
     "metadata": {},
     "output_type": "display_data"
    }
   ],
   "source": [
    "# Ensure the actual data for October has hourly frequency and no missing values\n",
    "actual_october_data = final_df['2024-10-01 00:00:00':'2024-10-05 23:59:59']['availableBikeNumber'].asfreq('H')\n",
    "\n",
    "# Check the length of actual data and forecasted data to ensure they match\n",
    "print(f'Length of actual data: {len(actual_october_data)}')\n",
    "print(f'Length of forecast data: {len(october_forecast)}')\n",
    "\n",
    "# Create the forecast index for the first 5 days of October\n",
    "forecast_index = pd.date_range(start='2024-10-01 00:00:00', periods=forecast_steps, freq='H')\n",
    "\n",
    "# 6. Plot the forecast vs actual data\n",
    "plt.figure(figsize=(10, 6))\n",
    "\n",
    "# Plot actual data for comparison\n",
    "plt.plot(actual_october_data.index, actual_october_data, label='Actual Data (Oct 1 - Oct 5)', color='blue')\n",
    "\n",
    "# Plot the forecasted data\n",
    "plt.plot(forecast_index, october_forecast, label='Forecasted Data (Oct 1 - Oct 5)', color='red', linestyle='--')\n",
    "\n",
    "plt.title('Forecast vs Actual Data (First 5 Days of October)')\n",
    "plt.xlabel('Time')\n",
    "plt.ylabel('Available Bikes')\n",
    "plt.legend()\n",
    "plt.grid(True)  # Adding a grid can help visualize the difference better\n",
    "plt.show()\n",
    "\n",
    "# 7. (Optional) Calculate Mean Squared Error between forecast and actual data\n",
    "# Since the forecast and actual data might have different lengths, slice them appropriately\n",
    "forecast_for_comparison = october_forecast[:len(actual_october_data)]  # Ensure matching lengths\n",
    "mse = mean_squared_error(actual_october_data, forecast_for_comparison)\n",
    "print(f'Mean Squared Error: {mse}')\n"
   ]
  },
  {
   "cell_type": "code",
   "execution_count": null,
   "metadata": {},
   "outputs": [],
   "source": [
    "\"curl --location 'https://apis.stag.kielregion.addix.io/ql/v2/entities?type=WeatherObserved&fromDate=2024-10-17T00%3A00%3A00.000Z&toDate=2024-10-18T00%3A00%3A00.000Z' \\\n",
    "--header 'NGSILD-Tenant: infoportal' \\\n",
    "--header 'Authorization: Bearer <TOKEN>'\""
   ]
  },
  {
   "cell_type": "code",
   "execution_count": null,
   "metadata": {},
   "outputs": [],
   "source": [
    "\"curl --location 'https://apis.stag.kielregion.addix.io/ql/v2/entities/urn:ngsi-ld:WeatherObserved:OWM:5430967?type=WeatherObserved&fromDate=2024-10-17T00%3A00%3A00.000Z&toDate=2024-10-18T00%3A00%3A00.000Z' \\\n",
    "--header 'NGSILD-Tenant: infoportal' \\\n",
    "--header 'Authorization: Bearer <TOKEN>'\""
   ]
  },
  {
   "cell_type": "code",
   "execution_count": 36,
   "metadata": {},
   "outputs": [
    {
     "name": "stdout",
     "output_type": "stream",
     "text": [
      "Error: 401, {\"error\":\"invalid_grant\",\"error_description\":\"Invalid bearer token\"}\n",
      "Error: 401, {\"error\":\"invalid_grant\",\"error_description\":\"Invalid bearer token\"}\n",
      "Error: 401, {\"error\":\"invalid_grant\",\"error_description\":\"Invalid bearer token\"}\n"
     ]
    },
    {
     "ename": "ValueError",
     "evalue": "No objects to concatenate",
     "output_type": "error",
     "traceback": [
      "\u001b[0;31m---------------------------------------------------------------------------\u001b[0m",
      "\u001b[0;31mValueError\u001b[0m                                Traceback (most recent call last)",
      "Cell \u001b[0;32mIn[36], line 79\u001b[0m\n\u001b[1;32m     76\u001b[0m         \u001b[38;5;28mprint\u001b[39m(\u001b[38;5;124mf\u001b[39m\u001b[38;5;124m\"\u001b[39m\u001b[38;5;124mError: \u001b[39m\u001b[38;5;132;01m{\u001b[39;00mresponse\u001b[38;5;241m.\u001b[39mstatus_code\u001b[38;5;132;01m}\u001b[39;00m\u001b[38;5;124m, \u001b[39m\u001b[38;5;132;01m{\u001b[39;00mresponse\u001b[38;5;241m.\u001b[39mtext\u001b[38;5;132;01m}\u001b[39;00m\u001b[38;5;124m\"\u001b[39m)\n\u001b[1;32m     78\u001b[0m \u001b[38;5;66;03m# Concatenate all DataFrames into a single DataFrame if needed\u001b[39;00m\n\u001b[0;32m---> 79\u001b[0m final_df \u001b[38;5;241m=\u001b[39m pd\u001b[38;5;241m.\u001b[39mconcat(dfs, ignore_index\u001b[38;5;241m=\u001b[39m\u001b[38;5;28;01mTrue\u001b[39;00m)\n\u001b[1;32m     81\u001b[0m \u001b[38;5;66;03m# Display the resulting DataFrame\u001b[39;00m\n\u001b[1;32m     82\u001b[0m final_df\n",
      "File \u001b[0;32m~/Desktop/Master DataScience/Semester 1/Programming and Tools for Data Science/.conda/lib/python3.12/site-packages/pandas/core/reshape/concat.py:382\u001b[0m, in \u001b[0;36mconcat\u001b[0;34m(objs, axis, join, ignore_index, keys, levels, names, verify_integrity, sort, copy)\u001b[0m\n\u001b[1;32m    379\u001b[0m \u001b[38;5;28;01melif\u001b[39;00m copy \u001b[38;5;129;01mand\u001b[39;00m using_copy_on_write():\n\u001b[1;32m    380\u001b[0m     copy \u001b[38;5;241m=\u001b[39m \u001b[38;5;28;01mFalse\u001b[39;00m\n\u001b[0;32m--> 382\u001b[0m op \u001b[38;5;241m=\u001b[39m _Concatenator(\n\u001b[1;32m    383\u001b[0m     objs,\n\u001b[1;32m    384\u001b[0m     axis\u001b[38;5;241m=\u001b[39maxis,\n\u001b[1;32m    385\u001b[0m     ignore_index\u001b[38;5;241m=\u001b[39mignore_index,\n\u001b[1;32m    386\u001b[0m     join\u001b[38;5;241m=\u001b[39mjoin,\n\u001b[1;32m    387\u001b[0m     keys\u001b[38;5;241m=\u001b[39mkeys,\n\u001b[1;32m    388\u001b[0m     levels\u001b[38;5;241m=\u001b[39mlevels,\n\u001b[1;32m    389\u001b[0m     names\u001b[38;5;241m=\u001b[39mnames,\n\u001b[1;32m    390\u001b[0m     verify_integrity\u001b[38;5;241m=\u001b[39mverify_integrity,\n\u001b[1;32m    391\u001b[0m     copy\u001b[38;5;241m=\u001b[39mcopy,\n\u001b[1;32m    392\u001b[0m     sort\u001b[38;5;241m=\u001b[39msort,\n\u001b[1;32m    393\u001b[0m )\n\u001b[1;32m    395\u001b[0m \u001b[38;5;28;01mreturn\u001b[39;00m op\u001b[38;5;241m.\u001b[39mget_result()\n",
      "File \u001b[0;32m~/Desktop/Master DataScience/Semester 1/Programming and Tools for Data Science/.conda/lib/python3.12/site-packages/pandas/core/reshape/concat.py:445\u001b[0m, in \u001b[0;36m_Concatenator.__init__\u001b[0;34m(self, objs, axis, join, keys, levels, names, ignore_index, verify_integrity, copy, sort)\u001b[0m\n\u001b[1;32m    442\u001b[0m \u001b[38;5;28mself\u001b[39m\u001b[38;5;241m.\u001b[39mverify_integrity \u001b[38;5;241m=\u001b[39m verify_integrity\n\u001b[1;32m    443\u001b[0m \u001b[38;5;28mself\u001b[39m\u001b[38;5;241m.\u001b[39mcopy \u001b[38;5;241m=\u001b[39m copy\n\u001b[0;32m--> 445\u001b[0m objs, keys \u001b[38;5;241m=\u001b[39m \u001b[38;5;28mself\u001b[39m\u001b[38;5;241m.\u001b[39m_clean_keys_and_objs(objs, keys)\n\u001b[1;32m    447\u001b[0m \u001b[38;5;66;03m# figure out what our result ndim is going to be\u001b[39;00m\n\u001b[1;32m    448\u001b[0m ndims \u001b[38;5;241m=\u001b[39m \u001b[38;5;28mself\u001b[39m\u001b[38;5;241m.\u001b[39m_get_ndims(objs)\n",
      "File \u001b[0;32m~/Desktop/Master DataScience/Semester 1/Programming and Tools for Data Science/.conda/lib/python3.12/site-packages/pandas/core/reshape/concat.py:507\u001b[0m, in \u001b[0;36m_Concatenator._clean_keys_and_objs\u001b[0;34m(self, objs, keys)\u001b[0m\n\u001b[1;32m    504\u001b[0m     objs_list \u001b[38;5;241m=\u001b[39m \u001b[38;5;28mlist\u001b[39m(objs)\n\u001b[1;32m    506\u001b[0m \u001b[38;5;28;01mif\u001b[39;00m \u001b[38;5;28mlen\u001b[39m(objs_list) \u001b[38;5;241m==\u001b[39m \u001b[38;5;241m0\u001b[39m:\n\u001b[0;32m--> 507\u001b[0m     \u001b[38;5;28;01mraise\u001b[39;00m \u001b[38;5;167;01mValueError\u001b[39;00m(\u001b[38;5;124m\"\u001b[39m\u001b[38;5;124mNo objects to concatenate\u001b[39m\u001b[38;5;124m\"\u001b[39m)\n\u001b[1;32m    509\u001b[0m \u001b[38;5;28;01mif\u001b[39;00m keys \u001b[38;5;129;01mis\u001b[39;00m \u001b[38;5;28;01mNone\u001b[39;00m:\n\u001b[1;32m    510\u001b[0m     objs_list \u001b[38;5;241m=\u001b[39m \u001b[38;5;28mlist\u001b[39m(com\u001b[38;5;241m.\u001b[39mnot_none(\u001b[38;5;241m*\u001b[39mobjs_list))\n",
      "\u001b[0;31mValueError\u001b[0m: No objects to concatenate"
     ]
    }
   ],
   "source": [
    "# Constructing request\n",
    "# Defining a function to loop through API responses and create df from it\n",
    "# Loop through ID list to make all the API calls\n",
    "\n",
    "import requests\n",
    "import pandas as pd\n",
    "import re\n",
    "\n",
    "# Define the base URL and IDs you want to access\n",
    "base_url = \"https://apis.stag.kielregion.addix.io/ql/v2/entities?type=WeatherObserved&fromDate=2024-10-17T00%3A00%3A00.000Z&toDate=2024-10-18T00%3A00%3A00.000Z\"\n",
    "ids = ['24370', '24397', '24376']\n",
    "       \n",
    "# Define parameters and headers\n",
    "'''params = {\n",
    "    'type': 'BikeHireDockingStation',\n",
    "    'fromDate': '2024-04-23T00:00:00',\n",
    "    'toDate': '2024-10-01T06:59:59',\n",
    "    'attrs': 'totalSlotNumber,availableBikeNumber,freeSlotNumber',\n",
    "    'aggrPeriod': 'hour',\n",
    "    'aggrMethod':'avg'\n",
    "}'''\n",
    "headers = {\n",
    "    'NGSILD-Tenant': 'infoportal',\n",
    "    'Authorization': f'Bearer {my_token}'} \n",
    "\n",
    "# Function to extract data into a DataFrame\n",
    "def attributes_to_dataframe_with_index(data, attribute_names):\n",
    "    extracted_data = {}\n",
    "    \n",
    "    # Extract entityId and entityType\n",
    "    entity_id = data.get('entityId', '')\n",
    "    entity_type = data.get('entityType', '')\n",
    "    \n",
    "    # Extract the number after \"KielRegion\" from the entityId\n",
    "    match = re.search(r'KielRegion:(\\d+)', entity_id)\n",
    "    entity_id_number = match.group(1) if match else ''\n",
    "    \n",
    "    # Loop through each attribute dictionary in 'attributes'\n",
    "    for attribute in data.get('attributes', []):\n",
    "        attr_name = attribute.get('attrName')\n",
    "        if attr_name in attribute_names:\n",
    "            extracted_data[attr_name] = attribute.get('values', [])\n",
    "\n",
    "    # Extract the index from the response\n",
    "    index_values = data.get('index', [])\n",
    "    \n",
    "    # Create a pandas DataFrame from the dictionary\n",
    "    df = pd.DataFrame(extracted_data)\n",
    "    \n",
    "    # Add the index values, entityId number, and entityType as new columns\n",
    "    df['index'] = index_values\n",
    "    df['entityId'] = entity_id_number\n",
    "    df['entityType'] = entity_type\n",
    "    \n",
    "    # Reorder the columns to have 'index', 'entityId', and 'entityType' first\n",
    "    column_order = ['index', 'entityId', 'entityType'] + attribute_names\n",
    "    df = df[column_order]\n",
    "\n",
    "    return df\n",
    "\n",
    "# Loop through the list of IDs and make requests\n",
    "dfs = []  # List to hold DataFrames for each ID\n",
    "\n",
    "for entity_id in ids:\n",
    "    url = f\"{base_url}:{entity_id}\"  # Construct URL for each ID\n",
    "    \n",
    "    # Make the request\n",
    "    response = requests.get(url, headers=headers, params=params)\n",
    "\n",
    "    # Check the response\n",
    "    if response.status_code == 200:\n",
    "        data = response.json()  # Parse the JSON response\n",
    "        df = attributes_to_dataframe_with_index(data, ['availableBikeNumber', 'totalSlotNumber', 'freeSlotNumber'])\n",
    "        dfs.append(df)  # Add the DataFrame to the list\n",
    "    else:\n",
    "        print(f\"Error: {response.status_code}, {response.text}\")\n",
    "\n",
    "# Concatenate all DataFrames into a single DataFrame if needed\n",
    "final_df = pd.concat(dfs, ignore_index=True)\n",
    "\n",
    "# Display the resulting DataFrame\n",
    "final_df\n"
   ]
  }
 ],
 "metadata": {
  "kernelspec": {
   "display_name": "Python 3",
   "language": "python",
   "name": "python3"
  },
  "language_info": {
   "codemirror_mode": {
    "name": "ipython",
    "version": 3
   },
   "file_extension": ".py",
   "mimetype": "text/x-python",
   "name": "python",
   "nbconvert_exporter": "python",
   "pygments_lexer": "ipython3",
   "version": "3.12.3"
  }
 },
 "nbformat": 4,
 "nbformat_minor": 2
}
