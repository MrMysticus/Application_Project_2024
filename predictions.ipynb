{
 "cells": [
  {
   "cell_type": "markdown",
   "metadata": {},
   "source": [
    "# file for making the predictions\n",
    "\n",
    "- all functions in one py file??\n",
    "\n",
    "- mit den daten die predictions machen\n",
    "- temporary predictions data file (jede stunde werden neue predictions generiert)\n",
    "- model separat speichern (damit man es ändern kann)"
   ]
  },
  {
   "cell_type": "code",
   "execution_count": null,
   "metadata": {},
   "outputs": [],
   "source": [
    "import os\n",
    "import pandas as pd"
   ]
  },
  {
   "cell_type": "code",
   "execution_count": null,
   "metadata": {},
   "outputs": [],
   "source": [
    "### Functions\n",
    "\n",
    "def update_and_save_predictions(DATA_TEMP_FILENAME, MODEL_FILENAME, PREDICTIONS_FILENAME):\n",
    "    # load in data_temp\n",
    "    if os.path.exists(DATA_TEMP_FILENAME):\n",
    "        # Laden des existierenden DataFrame\n",
    "        data_temp = pd.read_csv(DATA_TEMP_FILENAME)\n",
    "    else:\n",
    "        print(f'No {DATA_TEMP_FILENAME} file found.')\n",
    "\n",
    "    # load in the model\n",
    "    \n",
    "    # MODEL_FILENAME\n",
    "\n",
    "\n",
    "\n",
    "    # make the predictions and save them in predictions.csv\n",
    "\n",
    "    pred_data_temp.to_csv(PREDICTIONS_FILENAME, index=False)\n",
    "\n",
    "    print('Predictions successfully made and saved.')\n"
   ]
  },
  {
   "cell_type": "code",
   "execution_count": null,
   "metadata": {},
   "outputs": [],
   "source": [
    "### Konfiguration\n",
    "\n",
    "DATA_TEMP_FILENAME = 'data_temp.csv'\n",
    "MODEL_FILENAME = 'model'\n",
    "PREDICTIONS_FILENAME = 'predictions.csv'\n"
   ]
  },
  {
   "cell_type": "code",
   "execution_count": null,
   "metadata": {},
   "outputs": [],
   "source": [
    "### Usage\n",
    "\n",
    "update_and_save_predictions(DATA_TEMP_FILENAME, MODEL_FILENAME, PREDICTIONS_FILENAME)"
   ]
  }
 ],
 "metadata": {
  "language_info": {
   "name": "python"
  }
 },
 "nbformat": 4,
 "nbformat_minor": 2
}
