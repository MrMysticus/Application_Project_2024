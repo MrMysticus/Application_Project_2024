{
 "cells": [
  {
   "cell_type": "code",
   "execution_count": 32,
   "metadata": {},
   "outputs": [],
   "source": [
    "import pandas as pd\n",
    "import matplotlib.pyplot as plt\n",
    "import seaborn as sns\n",
    "import requests\n",
    "import dotenv\n",
    "import re\n",
    "import pandas as pd\n",
    "import plotly.graph_objects as go\n",
    "from sklearn.model_selection import train_test_split\n",
    "from sklearn.metrics import mean_squared_error, mean_absolute_percentage_error, root_mean_squared_error"
   ]
  },
  {
   "cell_type": "markdown",
   "metadata": {},
   "source": [
    "# Dataframe\n",
    "## Dataframe Setup"
   ]
  },
  {
   "cell_type": "code",
   "execution_count": 33,
   "metadata": {},
   "outputs": [],
   "source": [
    "df_hubs = pd.read_csv('Hub List all time + pick up and drop offs.csv')\n",
    "df_pickup = pd.read_csv('2024 - Hub ID & Drop Off - Pick Up numbers.csv',sep=\";\")"
   ]
  },
  {
   "cell_type": "code",
   "execution_count": 34,
   "metadata": {},
   "outputs": [
    {
     "data": {
      "text/html": [
       "<div>\n",
       "<style scoped>\n",
       "    .dataframe tbody tr th:only-of-type {\n",
       "        vertical-align: middle;\n",
       "    }\n",
       "\n",
       "    .dataframe tbody tr th {\n",
       "        vertical-align: top;\n",
       "    }\n",
       "\n",
       "    .dataframe thead th {\n",
       "        text-align: right;\n",
       "    }\n",
       "</style>\n",
       "<table border=\"1\" class=\"dataframe\">\n",
       "  <thead>\n",
       "    <tr style=\"text-align: right;\">\n",
       "      <th></th>\n",
       "      <th>hub_id</th>\n",
       "      <th>Days in full_date</th>\n",
       "      <th>Average bike_count</th>\n",
       "      <th># of unique dropoff_hub_id</th>\n",
       "      <th># of unique pickup_hub_id</th>\n",
       "    </tr>\n",
       "  </thead>\n",
       "  <tbody>\n",
       "    <tr>\n",
       "      <th>0</th>\n",
       "      <td>2180.0</td>\n",
       "      <td>01/01/2024</td>\n",
       "      <td>6.282412</td>\n",
       "      <td>NaN</td>\n",
       "      <td>NaN</td>\n",
       "    </tr>\n",
       "    <tr>\n",
       "      <th>1</th>\n",
       "      <td>2180.0</td>\n",
       "      <td>02/01/2024</td>\n",
       "      <td>6.080100</td>\n",
       "      <td>NaN</td>\n",
       "      <td>NaN</td>\n",
       "    </tr>\n",
       "    <tr>\n",
       "      <th>2</th>\n",
       "      <td>2180.0</td>\n",
       "      <td>04/01/2024</td>\n",
       "      <td>6.078173</td>\n",
       "      <td>NaN</td>\n",
       "      <td>NaN</td>\n",
       "    </tr>\n",
       "    <tr>\n",
       "      <th>3</th>\n",
       "      <td>2180.0</td>\n",
       "      <td>05/01/2024</td>\n",
       "      <td>5.936238</td>\n",
       "      <td>NaN</td>\n",
       "      <td>NaN</td>\n",
       "    </tr>\n",
       "    <tr>\n",
       "      <th>4</th>\n",
       "      <td>2180.0</td>\n",
       "      <td>07/01/2024</td>\n",
       "      <td>6.443539</td>\n",
       "      <td>NaN</td>\n",
       "      <td>NaN</td>\n",
       "    </tr>\n",
       "    <tr>\n",
       "      <th>...</th>\n",
       "      <td>...</td>\n",
       "      <td>...</td>\n",
       "      <td>...</td>\n",
       "      <td>...</td>\n",
       "      <td>...</td>\n",
       "    </tr>\n",
       "    <tr>\n",
       "      <th>6925</th>\n",
       "      <td>26889.0</td>\n",
       "      <td>14/09/2024</td>\n",
       "      <td>6.150918</td>\n",
       "      <td>21.0</td>\n",
       "      <td>20.0</td>\n",
       "    </tr>\n",
       "    <tr>\n",
       "      <th>6926</th>\n",
       "      <td>26889.0</td>\n",
       "      <td>15/09/2024</td>\n",
       "      <td>6.229018</td>\n",
       "      <td>12.0</td>\n",
       "      <td>12.0</td>\n",
       "    </tr>\n",
       "    <tr>\n",
       "      <th>6927</th>\n",
       "      <td>26889.0</td>\n",
       "      <td>16/09/2024</td>\n",
       "      <td>6.177963</td>\n",
       "      <td>11.0</td>\n",
       "      <td>14.0</td>\n",
       "    </tr>\n",
       "    <tr>\n",
       "      <th>6928</th>\n",
       "      <td>26889.0</td>\n",
       "      <td>17/09/2024</td>\n",
       "      <td>6.418395</td>\n",
       "      <td>16.0</td>\n",
       "      <td>18.0</td>\n",
       "    </tr>\n",
       "    <tr>\n",
       "      <th>6929</th>\n",
       "      <td>26889.0</td>\n",
       "      <td>18/09/2024</td>\n",
       "      <td>7.576003</td>\n",
       "      <td>24.0</td>\n",
       "      <td>21.0</td>\n",
       "    </tr>\n",
       "  </tbody>\n",
       "</table>\n",
       "<p>6930 rows × 5 columns</p>\n",
       "</div>"
      ],
      "text/plain": [
       "       hub_id Days in full_date  Average bike_count  \\\n",
       "0      2180.0        01/01/2024            6.282412   \n",
       "1      2180.0        02/01/2024            6.080100   \n",
       "2      2180.0        04/01/2024            6.078173   \n",
       "3      2180.0        05/01/2024            5.936238   \n",
       "4      2180.0        07/01/2024            6.443539   \n",
       "...       ...               ...                 ...   \n",
       "6925  26889.0        14/09/2024            6.150918   \n",
       "6926  26889.0        15/09/2024            6.229018   \n",
       "6927  26889.0        16/09/2024            6.177963   \n",
       "6928  26889.0        17/09/2024            6.418395   \n",
       "6929  26889.0        18/09/2024            7.576003   \n",
       "\n",
       "      # of unique dropoff_hub_id  # of unique pickup_hub_id  \n",
       "0                            NaN                        NaN  \n",
       "1                            NaN                        NaN  \n",
       "2                            NaN                        NaN  \n",
       "3                            NaN                        NaN  \n",
       "4                            NaN                        NaN  \n",
       "...                          ...                        ...  \n",
       "6925                        21.0                       20.0  \n",
       "6926                        12.0                       12.0  \n",
       "6927                        11.0                       14.0  \n",
       "6928                        16.0                       18.0  \n",
       "6929                        24.0                       21.0  \n",
       "\n",
       "[6930 rows x 5 columns]"
      ]
     },
     "execution_count": 34,
     "metadata": {},
     "output_type": "execute_result"
    }
   ],
   "source": [
    "df_pickup"
   ]
  },
  {
   "cell_type": "code",
   "execution_count": 35,
   "metadata": {},
   "outputs": [],
   "source": [
    "df_pickup.rename(columns = {'hub_id':'id'}, inplace=True)\n",
    "df_combined = pd.merge(df_pickup, df_hubs, on='id')\n",
    "df_combined[\"pick_drop_relation\"] = round(df_combined[\"dropoffs\"] /df_combined[\"pickups\"],4)\n",
    "df_combined[\"pick_drop_deficit\"] = df_combined[\"# of unique dropoff_hub_id\"] - df_combined[\"# of unique pickup_hub_id\"]\n",
    "df_combined['Days in full_date'] = pd.to_datetime(df_combined['Days in full_date'],format='%d/%m/%Y')"
   ]
  },
  {
   "cell_type": "code",
   "execution_count": 36,
   "metadata": {},
   "outputs": [
    {
     "name": "stdout",
     "output_type": "stream",
     "text": [
      "(233, 7)\n",
      "(6930, 5)\n",
      "(6707, 13)\n"
     ]
    }
   ],
   "source": [
    "print(df_hubs.shape)\n",
    "print(df_pickup.shape)\n",
    "print(df_combined.shape)"
   ]
  },
  {
   "cell_type": "code",
   "execution_count": 37,
   "metadata": {},
   "outputs": [
    {
     "data": {
      "text/html": [
       "<div>\n",
       "<style scoped>\n",
       "    .dataframe tbody tr th:only-of-type {\n",
       "        vertical-align: middle;\n",
       "    }\n",
       "\n",
       "    .dataframe tbody tr th {\n",
       "        vertical-align: top;\n",
       "    }\n",
       "\n",
       "    .dataframe thead th {\n",
       "        text-align: right;\n",
       "    }\n",
       "</style>\n",
       "<table border=\"1\" class=\"dataframe\">\n",
       "  <thead>\n",
       "    <tr style=\"text-align: right;\">\n",
       "      <th></th>\n",
       "      <th>pickups</th>\n",
       "      <th>dropoffs</th>\n",
       "      <th>pick_drop_relation</th>\n",
       "      <th>pick_drop_deficit</th>\n",
       "    </tr>\n",
       "    <tr>\n",
       "      <th>name</th>\n",
       "      <th></th>\n",
       "      <th></th>\n",
       "      <th></th>\n",
       "      <th></th>\n",
       "    </tr>\n",
       "  </thead>\n",
       "  <tbody>\n",
       "    <tr>\n",
       "      <th>Wik, Kanalfähre - Busstation</th>\n",
       "      <td>2929.0</td>\n",
       "      <td>3033.0</td>\n",
       "      <td>1.0355</td>\n",
       "      <td>-0.250000</td>\n",
       "    </tr>\n",
       "    <tr>\n",
       "      <th>MEKUN Olympiahochhaus</th>\n",
       "      <td>15389.0</td>\n",
       "      <td>15721.0</td>\n",
       "      <td>1.0216</td>\n",
       "      <td>-0.221374</td>\n",
       "    </tr>\n",
       "    <tr>\n",
       "      <th>Wellingdorf Stadtteilzentrum</th>\n",
       "      <td>6035.0</td>\n",
       "      <td>6136.0</td>\n",
       "      <td>1.0167</td>\n",
       "      <td>-0.166667</td>\n",
       "    </tr>\n",
       "    <tr>\n",
       "      <th>Alter Markt</th>\n",
       "      <td>15439.0</td>\n",
       "      <td>15676.0</td>\n",
       "      <td>1.0154</td>\n",
       "      <td>-0.307692</td>\n",
       "    </tr>\n",
       "    <tr>\n",
       "      <th>Anleger Dietrichsdorf</th>\n",
       "      <td>4627.0</td>\n",
       "      <td>4683.0</td>\n",
       "      <td>1.0121</td>\n",
       "      <td>-0.155378</td>\n",
       "    </tr>\n",
       "    <tr>\n",
       "      <th>thyssenkrupp Marine Systems</th>\n",
       "      <td>11136.0</td>\n",
       "      <td>11255.0</td>\n",
       "      <td>1.0107</td>\n",
       "      <td>-0.129412</td>\n",
       "    </tr>\n",
       "    <tr>\n",
       "      <th>Hörnbad</th>\n",
       "      <td>9990.0</td>\n",
       "      <td>10091.0</td>\n",
       "      <td>1.0101</td>\n",
       "      <td>-0.231076</td>\n",
       "    </tr>\n",
       "    <tr>\n",
       "      <th>Tilsiter Platz</th>\n",
       "      <td>5658.0</td>\n",
       "      <td>5697.0</td>\n",
       "      <td>1.0069</td>\n",
       "      <td>-0.205426</td>\n",
       "    </tr>\n",
       "    <tr>\n",
       "      <th>Vinetaplatz</th>\n",
       "      <td>8225.0</td>\n",
       "      <td>8281.0</td>\n",
       "      <td>1.0068</td>\n",
       "      <td>-0.131687</td>\n",
       "    </tr>\n",
       "    <tr>\n",
       "      <th>Alte Mu/Brunswiker Str.</th>\n",
       "      <td>7544.0</td>\n",
       "      <td>7593.0</td>\n",
       "      <td>1.0065</td>\n",
       "      <td>-0.086735</td>\n",
       "    </tr>\n",
       "    <tr>\n",
       "      <th>Sophienhof</th>\n",
       "      <td>5490.0</td>\n",
       "      <td>5524.0</td>\n",
       "      <td>1.0062</td>\n",
       "      <td>-0.033784</td>\n",
       "    </tr>\n",
       "    <tr>\n",
       "      <th>Kieler Innovations- und Technologiezentrum</th>\n",
       "      <td>5270.0</td>\n",
       "      <td>5287.0</td>\n",
       "      <td>1.0032</td>\n",
       "      <td>-0.092105</td>\n",
       "    </tr>\n",
       "    <tr>\n",
       "      <th>KVG Betriebshof Diedrichstraße</th>\n",
       "      <td>4449.0</td>\n",
       "      <td>4463.0</td>\n",
       "      <td>1.0031</td>\n",
       "      <td>-0.110169</td>\n",
       "    </tr>\n",
       "    <tr>\n",
       "      <th>Kirchhofallee</th>\n",
       "      <td>16458.0</td>\n",
       "      <td>16504.0</td>\n",
       "      <td>1.0028</td>\n",
       "      <td>-0.209486</td>\n",
       "    </tr>\n",
       "    <tr>\n",
       "      <th>Hansastr./Gutenbergstr.</th>\n",
       "      <td>13110.0</td>\n",
       "      <td>13141.0</td>\n",
       "      <td>1.0024</td>\n",
       "      <td>-0.157895</td>\n",
       "    </tr>\n",
       "    <tr>\n",
       "      <th>CAU Sportstätten</th>\n",
       "      <td>14981.0</td>\n",
       "      <td>15008.0</td>\n",
       "      <td>1.0018</td>\n",
       "      <td>-0.051282</td>\n",
       "    </tr>\n",
       "    <tr>\n",
       "      <th>RBZ Wirtschaft</th>\n",
       "      <td>4599.0</td>\n",
       "      <td>4602.0</td>\n",
       "      <td>1.0007</td>\n",
       "      <td>-0.115385</td>\n",
       "    </tr>\n",
       "    <tr>\n",
       "      <th>ADAC-Station</th>\n",
       "      <td>4067.0</td>\n",
       "      <td>4069.0</td>\n",
       "      <td>1.0005</td>\n",
       "      <td>-0.060773</td>\n",
       "    </tr>\n",
       "    <tr>\n",
       "      <th>Umsteiger</th>\n",
       "      <td>7633.0</td>\n",
       "      <td>7629.0</td>\n",
       "      <td>0.9995</td>\n",
       "      <td>-0.138889</td>\n",
       "    </tr>\n",
       "    <tr>\n",
       "      <th>Dreiecksplatz</th>\n",
       "      <td>16186.0</td>\n",
       "      <td>16167.0</td>\n",
       "      <td>0.9988</td>\n",
       "      <td>-0.284047</td>\n",
       "    </tr>\n",
       "    <tr>\n",
       "      <th>Westring/Eckernförder Str.</th>\n",
       "      <td>17096.0</td>\n",
       "      <td>17057.0</td>\n",
       "      <td>0.9977</td>\n",
       "      <td>-0.122047</td>\n",
       "    </tr>\n",
       "    <tr>\n",
       "      <th>Andreas-Gayk-Straße</th>\n",
       "      <td>6413.0</td>\n",
       "      <td>6396.0</td>\n",
       "      <td>0.9973</td>\n",
       "      <td>-0.035398</td>\n",
       "    </tr>\n",
       "    <tr>\n",
       "      <th>Wilhelmplatz</th>\n",
       "      <td>14328.0</td>\n",
       "      <td>14285.0</td>\n",
       "      <td>0.9970</td>\n",
       "      <td>-0.122047</td>\n",
       "    </tr>\n",
       "    <tr>\n",
       "      <th>Anleger Reventlou</th>\n",
       "      <td>30232.0</td>\n",
       "      <td>30138.0</td>\n",
       "      <td>0.9969</td>\n",
       "      <td>-0.127072</td>\n",
       "    </tr>\n",
       "    <tr>\n",
       "      <th>Zur Fähre</th>\n",
       "      <td>4331.0</td>\n",
       "      <td>4314.0</td>\n",
       "      <td>0.9961</td>\n",
       "      <td>-0.034247</td>\n",
       "    </tr>\n",
       "    <tr>\n",
       "      <th>Exerzierplatz</th>\n",
       "      <td>10965.0</td>\n",
       "      <td>10911.0</td>\n",
       "      <td>0.9951</td>\n",
       "      <td>-0.195349</td>\n",
       "    </tr>\n",
       "    <tr>\n",
       "      <th>Hauptbahnhof</th>\n",
       "      <td>57838.0</td>\n",
       "      <td>57410.0</td>\n",
       "      <td>0.9926</td>\n",
       "      <td>-0.298851</td>\n",
       "    </tr>\n",
       "    <tr>\n",
       "      <th>Studiale</th>\n",
       "      <td>4031.0</td>\n",
       "      <td>3990.0</td>\n",
       "      <td>0.9898</td>\n",
       "      <td>-0.243243</td>\n",
       "    </tr>\n",
       "    <tr>\n",
       "      <th>Seefischmarkt</th>\n",
       "      <td>1121.0</td>\n",
       "      <td>1108.0</td>\n",
       "      <td>0.9884</td>\n",
       "      <td>-0.011976</td>\n",
       "    </tr>\n",
       "    <tr>\n",
       "      <th>UKSH</th>\n",
       "      <td>5396.0</td>\n",
       "      <td>5325.0</td>\n",
       "      <td>0.9868</td>\n",
       "      <td>-0.058824</td>\n",
       "    </tr>\n",
       "    <tr>\n",
       "      <th>Blücherplatz</th>\n",
       "      <td>16528.0</td>\n",
       "      <td>16299.0</td>\n",
       "      <td>0.9861</td>\n",
       "      <td>-0.280952</td>\n",
       "    </tr>\n",
       "    <tr>\n",
       "      <th>Förde Sparkasse Lorentzendamm</th>\n",
       "      <td>7966.0</td>\n",
       "      <td>7843.0</td>\n",
       "      <td>0.9846</td>\n",
       "      <td>-0.056769</td>\n",
       "    </tr>\n",
       "    <tr>\n",
       "      <th>Bernhard-Minetti-Platz</th>\n",
       "      <td>21473.0</td>\n",
       "      <td>20836.0</td>\n",
       "      <td>0.9703</td>\n",
       "      <td>-0.051546</td>\n",
       "    </tr>\n",
       "    <tr>\n",
       "      <th>Christian-Albrechts-Platz</th>\n",
       "      <td>6469.0</td>\n",
       "      <td>6053.0</td>\n",
       "      <td>0.9357</td>\n",
       "      <td>-0.066667</td>\n",
       "    </tr>\n",
       "    <tr>\n",
       "      <th>Krausstraße</th>\n",
       "      <td>6329.0</td>\n",
       "      <td>5865.0</td>\n",
       "      <td>0.9267</td>\n",
       "      <td>-0.103448</td>\n",
       "    </tr>\n",
       "    <tr>\n",
       "      <th>Sandkrug</th>\n",
       "      <td>694.0</td>\n",
       "      <td>570.0</td>\n",
       "      <td>0.8213</td>\n",
       "      <td>-0.178808</td>\n",
       "    </tr>\n",
       "  </tbody>\n",
       "</table>\n",
       "</div>"
      ],
      "text/plain": [
       "                                            pickups  dropoffs  \\\n",
       "name                                                            \n",
       " Wik, Kanalfähre - Busstation                2929.0    3033.0   \n",
       "MEKUN Olympiahochhaus                       15389.0   15721.0   \n",
       "Wellingdorf Stadtteilzentrum                 6035.0    6136.0   \n",
       "Alter Markt                                 15439.0   15676.0   \n",
       "Anleger Dietrichsdorf                        4627.0    4683.0   \n",
       "thyssenkrupp Marine Systems                 11136.0   11255.0   \n",
       "Hörnbad                                      9990.0   10091.0   \n",
       "Tilsiter Platz                               5658.0    5697.0   \n",
       "Vinetaplatz                                  8225.0    8281.0   \n",
       "Alte Mu/Brunswiker Str.                      7544.0    7593.0   \n",
       "Sophienhof                                   5490.0    5524.0   \n",
       "Kieler Innovations- und Technologiezentrum   5270.0    5287.0   \n",
       "KVG Betriebshof Diedrichstraße               4449.0    4463.0   \n",
       "Kirchhofallee                               16458.0   16504.0   \n",
       "Hansastr./Gutenbergstr.                     13110.0   13141.0   \n",
       "CAU Sportstätten                            14981.0   15008.0   \n",
       "RBZ Wirtschaft                               4599.0    4602.0   \n",
       "ADAC-Station                                 4067.0    4069.0   \n",
       "Umsteiger                                    7633.0    7629.0   \n",
       "Dreiecksplatz                               16186.0   16167.0   \n",
       "Westring/Eckernförder Str.                  17096.0   17057.0   \n",
       "Andreas-Gayk-Straße                          6413.0    6396.0   \n",
       "Wilhelmplatz                                14328.0   14285.0   \n",
       "Anleger Reventlou                           30232.0   30138.0   \n",
       "Zur Fähre                                    4331.0    4314.0   \n",
       "Exerzierplatz                               10965.0   10911.0   \n",
       "Hauptbahnhof                                57838.0   57410.0   \n",
       "Studiale                                     4031.0    3990.0   \n",
       "Seefischmarkt                                1121.0    1108.0   \n",
       "UKSH                                         5396.0    5325.0   \n",
       "Blücherplatz                                16528.0   16299.0   \n",
       "Förde Sparkasse Lorentzendamm                7966.0    7843.0   \n",
       "Bernhard-Minetti-Platz                      21473.0   20836.0   \n",
       "Christian-Albrechts-Platz                    6469.0    6053.0   \n",
       "Krausstraße                                  6329.0    5865.0   \n",
       "Sandkrug                                      694.0     570.0   \n",
       "\n",
       "                                            pick_drop_relation  \\\n",
       "name                                                             \n",
       " Wik, Kanalfähre - Busstation                           1.0355   \n",
       "MEKUN Olympiahochhaus                                   1.0216   \n",
       "Wellingdorf Stadtteilzentrum                            1.0167   \n",
       "Alter Markt                                             1.0154   \n",
       "Anleger Dietrichsdorf                                   1.0121   \n",
       "thyssenkrupp Marine Systems                             1.0107   \n",
       "Hörnbad                                                 1.0101   \n",
       "Tilsiter Platz                                          1.0069   \n",
       "Vinetaplatz                                             1.0068   \n",
       "Alte Mu/Brunswiker Str.                                 1.0065   \n",
       "Sophienhof                                              1.0062   \n",
       "Kieler Innovations- und Technologiezentrum              1.0032   \n",
       "KVG Betriebshof Diedrichstraße                          1.0031   \n",
       "Kirchhofallee                                           1.0028   \n",
       "Hansastr./Gutenbergstr.                                 1.0024   \n",
       "CAU Sportstätten                                        1.0018   \n",
       "RBZ Wirtschaft                                          1.0007   \n",
       "ADAC-Station                                            1.0005   \n",
       "Umsteiger                                               0.9995   \n",
       "Dreiecksplatz                                           0.9988   \n",
       "Westring/Eckernförder Str.                              0.9977   \n",
       "Andreas-Gayk-Straße                                     0.9973   \n",
       "Wilhelmplatz                                            0.9970   \n",
       "Anleger Reventlou                                       0.9969   \n",
       "Zur Fähre                                               0.9961   \n",
       "Exerzierplatz                                           0.9951   \n",
       "Hauptbahnhof                                            0.9926   \n",
       "Studiale                                                0.9898   \n",
       "Seefischmarkt                                           0.9884   \n",
       "UKSH                                                    0.9868   \n",
       "Blücherplatz                                            0.9861   \n",
       "Förde Sparkasse Lorentzendamm                           0.9846   \n",
       "Bernhard-Minetti-Platz                                  0.9703   \n",
       "Christian-Albrechts-Platz                               0.9357   \n",
       "Krausstraße                                             0.9267   \n",
       "Sandkrug                                                0.8213   \n",
       "\n",
       "                                            pick_drop_deficit  \n",
       "name                                                           \n",
       " Wik, Kanalfähre - Busstation                       -0.250000  \n",
       "MEKUN Olympiahochhaus                               -0.221374  \n",
       "Wellingdorf Stadtteilzentrum                        -0.166667  \n",
       "Alter Markt                                         -0.307692  \n",
       "Anleger Dietrichsdorf                               -0.155378  \n",
       "thyssenkrupp Marine Systems                         -0.129412  \n",
       "Hörnbad                                             -0.231076  \n",
       "Tilsiter Platz                                      -0.205426  \n",
       "Vinetaplatz                                         -0.131687  \n",
       "Alte Mu/Brunswiker Str.                             -0.086735  \n",
       "Sophienhof                                          -0.033784  \n",
       "Kieler Innovations- und Technologiezentrum          -0.092105  \n",
       "KVG Betriebshof Diedrichstraße                      -0.110169  \n",
       "Kirchhofallee                                       -0.209486  \n",
       "Hansastr./Gutenbergstr.                             -0.157895  \n",
       "CAU Sportstätten                                    -0.051282  \n",
       "RBZ Wirtschaft                                      -0.115385  \n",
       "ADAC-Station                                        -0.060773  \n",
       "Umsteiger                                           -0.138889  \n",
       "Dreiecksplatz                                       -0.284047  \n",
       "Westring/Eckernförder Str.                          -0.122047  \n",
       "Andreas-Gayk-Straße                                 -0.035398  \n",
       "Wilhelmplatz                                        -0.122047  \n",
       "Anleger Reventlou                                   -0.127072  \n",
       "Zur Fähre                                           -0.034247  \n",
       "Exerzierplatz                                       -0.195349  \n",
       "Hauptbahnhof                                        -0.298851  \n",
       "Studiale                                            -0.243243  \n",
       "Seefischmarkt                                       -0.011976  \n",
       "UKSH                                                -0.058824  \n",
       "Blücherplatz                                        -0.280952  \n",
       "Förde Sparkasse Lorentzendamm                       -0.056769  \n",
       "Bernhard-Minetti-Platz                              -0.051546  \n",
       "Christian-Albrechts-Platz                           -0.066667  \n",
       "Krausstraße                                         -0.103448  \n",
       "Sandkrug                                            -0.178808  "
      ]
     },
     "execution_count": 37,
     "metadata": {},
     "output_type": "execute_result"
    }
   ],
   "source": [
    "#find discrepency where bikes dont regulate themselves\n",
    "df_combined.sort_values(\"pick_drop_relation\",ascending=True)\n",
    "df_combined.groupby(by=\"name\")[['pickups', \"dropoffs\", \"pick_drop_relation\", \"pick_drop_deficit\"]].mean().sort_values(\"pick_drop_relation\", ascending=False)"
   ]
  },
  {
   "cell_type": "markdown",
   "metadata": {},
   "source": [
    "## Dataframe IDA"
   ]
  },
  {
   "cell_type": "code",
   "execution_count": 38,
   "metadata": {},
   "outputs": [
    {
     "name": "stdout",
     "output_type": "stream",
     "text": [
      "The data lists 36 unique ids and 36 unique names.\n"
     ]
    }
   ],
   "source": [
    "print(f'The data lists {len(df_combined.id.unique())} unique ids and {len(df_combined.name.unique())} unique names.')\n",
    "#time series of specific place\n",
    "sandkrug_df = df_combined[df_combined['name'] == 'Sandkrug'].sort_values(\"Days in full_date\", ascending=False)"
   ]
  },
  {
   "cell_type": "code",
   "execution_count": 39,
   "metadata": {},
   "outputs": [
    {
     "data": {
      "application/vnd.plotly.v1+json": {
       "config": {
        "plotlyServerURL": "https://plot.ly"
       },
       "data": [
        {
         "mode": "lines",
         "name": "Value",
         "type": "scatter",
         "x": [
          "2024-09-18T00:00:00",
          "2024-09-17T00:00:00",
          "2024-09-16T00:00:00",
          "2024-09-15T00:00:00",
          "2024-09-14T00:00:00",
          "2024-09-13T00:00:00",
          "2024-09-12T00:00:00",
          "2024-09-11T00:00:00",
          "2024-09-10T00:00:00",
          "2024-09-09T00:00:00",
          "2024-09-08T00:00:00",
          "2024-09-07T00:00:00",
          "2024-09-06T00:00:00",
          "2024-09-05T00:00:00",
          "2024-09-04T00:00:00",
          "2024-09-03T00:00:00",
          "2024-09-02T00:00:00",
          "2024-09-01T00:00:00",
          "2024-08-31T00:00:00",
          "2024-08-30T00:00:00",
          "2024-08-29T00:00:00",
          "2024-08-28T00:00:00",
          "2024-08-27T00:00:00",
          "2024-08-26T00:00:00",
          "2024-08-25T00:00:00",
          "2024-08-24T00:00:00",
          "2024-08-23T00:00:00",
          "2024-08-22T00:00:00",
          "2024-08-20T00:00:00",
          "2024-08-15T00:00:00",
          "2024-08-14T00:00:00",
          "2024-08-12T00:00:00",
          "2024-08-11T00:00:00",
          "2024-08-10T00:00:00",
          "2024-08-08T00:00:00",
          "2024-08-05T00:00:00",
          "2024-08-04T00:00:00",
          "2024-08-02T00:00:00",
          "2024-07-30T00:00:00",
          "2024-07-29T00:00:00",
          "2024-07-28T00:00:00",
          "2024-07-27T00:00:00",
          "2024-07-21T00:00:00",
          "2024-07-19T00:00:00",
          "2024-07-14T00:00:00",
          "2024-07-13T00:00:00",
          "2024-07-10T00:00:00",
          "2024-06-29T00:00:00",
          "2024-06-28T00:00:00",
          "2024-06-27T00:00:00",
          "2024-06-26T00:00:00",
          "2024-06-25T00:00:00",
          "2024-06-24T00:00:00",
          "2024-06-23T00:00:00",
          "2024-06-20T00:00:00",
          "2024-06-19T00:00:00",
          "2024-06-18T00:00:00",
          "2024-06-16T00:00:00",
          "2024-06-14T00:00:00",
          "2024-06-10T00:00:00",
          "2024-06-08T00:00:00",
          "2024-06-07T00:00:00",
          "2024-06-06T00:00:00",
          "2024-06-05T00:00:00",
          "2024-06-03T00:00:00",
          "2024-06-02T00:00:00",
          "2024-06-01T00:00:00",
          "2024-05-30T00:00:00",
          "2024-05-29T00:00:00",
          "2024-05-28T00:00:00",
          "2024-05-27T00:00:00",
          "2024-05-19T00:00:00",
          "2024-05-18T00:00:00",
          "2024-05-17T00:00:00",
          "2024-05-16T00:00:00",
          "2024-05-15T00:00:00",
          "2024-05-14T00:00:00",
          "2024-05-13T00:00:00",
          "2024-05-12T00:00:00",
          "2024-05-11T00:00:00",
          "2024-05-10T00:00:00",
          "2024-05-09T00:00:00",
          "2024-05-08T00:00:00",
          "2024-05-07T00:00:00",
          "2024-05-06T00:00:00",
          "2024-05-05T00:00:00",
          "2024-05-04T00:00:00",
          "2024-05-03T00:00:00",
          "2024-05-02T00:00:00",
          "2024-05-01T00:00:00",
          "2024-04-30T00:00:00",
          "2024-04-29T00:00:00",
          "2024-04-28T00:00:00",
          "2024-04-27T00:00:00",
          "2024-04-26T00:00:00",
          "2024-04-25T00:00:00",
          "2024-04-24T00:00:00",
          "2024-04-23T00:00:00",
          "2024-04-22T00:00:00",
          "2024-04-21T00:00:00",
          "2024-04-20T00:00:00",
          "2024-04-16T00:00:00",
          "2024-04-15T00:00:00",
          "2024-04-14T00:00:00",
          "2024-04-13T00:00:00",
          "2024-04-12T00:00:00",
          "2024-04-11T00:00:00",
          "2024-04-10T00:00:00",
          "2024-04-09T00:00:00",
          "2024-04-08T00:00:00",
          "2024-04-07T00:00:00",
          "2024-04-06T00:00:00",
          "2024-04-05T00:00:00",
          "2024-04-04T00:00:00",
          "2024-04-03T00:00:00",
          "2024-04-02T00:00:00",
          "2024-04-01T00:00:00",
          "2024-03-31T00:00:00",
          "2024-03-30T00:00:00",
          "2024-03-29T00:00:00",
          "2024-03-28T00:00:00",
          "2024-03-27T00:00:00",
          "2024-03-26T00:00:00",
          "2024-03-25T00:00:00",
          "2024-03-24T00:00:00",
          "2024-03-23T00:00:00",
          "2024-03-22T00:00:00",
          "2024-03-20T00:00:00",
          "2024-03-19T00:00:00",
          "2024-03-18T00:00:00",
          "2024-03-16T00:00:00",
          "2024-03-15T00:00:00",
          "2024-03-14T00:00:00",
          "2024-03-13T00:00:00",
          "2024-03-10T00:00:00",
          "2024-03-09T00:00:00",
          "2024-03-07T00:00:00",
          "2024-03-02T00:00:00",
          "2024-03-01T00:00:00",
          "2024-02-29T00:00:00",
          "2024-02-28T00:00:00",
          "2024-02-27T00:00:00",
          "2024-02-26T00:00:00",
          "2024-02-24T00:00:00",
          "2024-02-20T00:00:00",
          "2024-02-19T00:00:00",
          "2024-02-18T00:00:00",
          "2024-02-17T00:00:00",
          "2024-02-16T00:00:00",
          "2024-02-15T00:00:00",
          "2024-01-17T00:00:00"
         ],
         "y": [
          1,
          -1,
          0,
          1,
          -2,
          0,
          0,
          0,
          0,
          -1,
          1,
          1,
          -1,
          1,
          0,
          0,
          0,
          -1,
          -1,
          1,
          0,
          0,
          0,
          0,
          1,
          0,
          1,
          0,
          0,
          0,
          -1,
          -1,
          0,
          -1,
          -1,
          1,
          0,
          0,
          0,
          0,
          0,
          0,
          0,
          0,
          -1,
          0,
          0,
          0,
          0,
          0,
          0,
          0,
          0,
          0,
          0,
          0,
          0,
          0,
          0,
          0,
          0,
          1,
          -1,
          -1,
          0,
          0,
          -1,
          0,
          0,
          0,
          0,
          0,
          -2,
          0,
          1,
          0,
          0,
          0,
          1,
          0,
          1,
          -1,
          -2,
          0,
          0,
          0,
          -1,
          0,
          1,
          1,
          0,
          0,
          -1,
          0,
          0,
          -2,
          -2,
          -1,
          -1,
          0,
          -1,
          0,
          0,
          -1,
          0,
          0,
          -1,
          -1,
          0,
          0,
          -1,
          0,
          1,
          1,
          0,
          0,
          -1,
          -1,
          1,
          0,
          1,
          0,
          -2,
          0,
          0,
          -1,
          0,
          0,
          0,
          0,
          -1,
          -1,
          0,
          0,
          -1,
          0,
          0,
          0,
          0,
          -1,
          -1,
          -2,
          -1,
          -1,
          0,
          0,
          0,
          1,
          0,
          0,
          0
         ]
        }
       ],
       "layout": {
        "template": {
         "data": {
          "bar": [
           {
            "error_x": {
             "color": "#2a3f5f"
            },
            "error_y": {
             "color": "#2a3f5f"
            },
            "marker": {
             "line": {
              "color": "#E5ECF6",
              "width": 0.5
             },
             "pattern": {
              "fillmode": "overlay",
              "size": 10,
              "solidity": 0.2
             }
            },
            "type": "bar"
           }
          ],
          "barpolar": [
           {
            "marker": {
             "line": {
              "color": "#E5ECF6",
              "width": 0.5
             },
             "pattern": {
              "fillmode": "overlay",
              "size": 10,
              "solidity": 0.2
             }
            },
            "type": "barpolar"
           }
          ],
          "carpet": [
           {
            "aaxis": {
             "endlinecolor": "#2a3f5f",
             "gridcolor": "white",
             "linecolor": "white",
             "minorgridcolor": "white",
             "startlinecolor": "#2a3f5f"
            },
            "baxis": {
             "endlinecolor": "#2a3f5f",
             "gridcolor": "white",
             "linecolor": "white",
             "minorgridcolor": "white",
             "startlinecolor": "#2a3f5f"
            },
            "type": "carpet"
           }
          ],
          "choropleth": [
           {
            "colorbar": {
             "outlinewidth": 0,
             "ticks": ""
            },
            "type": "choropleth"
           }
          ],
          "contour": [
           {
            "colorbar": {
             "outlinewidth": 0,
             "ticks": ""
            },
            "colorscale": [
             [
              0,
              "#0d0887"
             ],
             [
              0.1111111111111111,
              "#46039f"
             ],
             [
              0.2222222222222222,
              "#7201a8"
             ],
             [
              0.3333333333333333,
              "#9c179e"
             ],
             [
              0.4444444444444444,
              "#bd3786"
             ],
             [
              0.5555555555555556,
              "#d8576b"
             ],
             [
              0.6666666666666666,
              "#ed7953"
             ],
             [
              0.7777777777777778,
              "#fb9f3a"
             ],
             [
              0.8888888888888888,
              "#fdca26"
             ],
             [
              1,
              "#f0f921"
             ]
            ],
            "type": "contour"
           }
          ],
          "contourcarpet": [
           {
            "colorbar": {
             "outlinewidth": 0,
             "ticks": ""
            },
            "type": "contourcarpet"
           }
          ],
          "heatmap": [
           {
            "colorbar": {
             "outlinewidth": 0,
             "ticks": ""
            },
            "colorscale": [
             [
              0,
              "#0d0887"
             ],
             [
              0.1111111111111111,
              "#46039f"
             ],
             [
              0.2222222222222222,
              "#7201a8"
             ],
             [
              0.3333333333333333,
              "#9c179e"
             ],
             [
              0.4444444444444444,
              "#bd3786"
             ],
             [
              0.5555555555555556,
              "#d8576b"
             ],
             [
              0.6666666666666666,
              "#ed7953"
             ],
             [
              0.7777777777777778,
              "#fb9f3a"
             ],
             [
              0.8888888888888888,
              "#fdca26"
             ],
             [
              1,
              "#f0f921"
             ]
            ],
            "type": "heatmap"
           }
          ],
          "heatmapgl": [
           {
            "colorbar": {
             "outlinewidth": 0,
             "ticks": ""
            },
            "colorscale": [
             [
              0,
              "#0d0887"
             ],
             [
              0.1111111111111111,
              "#46039f"
             ],
             [
              0.2222222222222222,
              "#7201a8"
             ],
             [
              0.3333333333333333,
              "#9c179e"
             ],
             [
              0.4444444444444444,
              "#bd3786"
             ],
             [
              0.5555555555555556,
              "#d8576b"
             ],
             [
              0.6666666666666666,
              "#ed7953"
             ],
             [
              0.7777777777777778,
              "#fb9f3a"
             ],
             [
              0.8888888888888888,
              "#fdca26"
             ],
             [
              1,
              "#f0f921"
             ]
            ],
            "type": "heatmapgl"
           }
          ],
          "histogram": [
           {
            "marker": {
             "pattern": {
              "fillmode": "overlay",
              "size": 10,
              "solidity": 0.2
             }
            },
            "type": "histogram"
           }
          ],
          "histogram2d": [
           {
            "colorbar": {
             "outlinewidth": 0,
             "ticks": ""
            },
            "colorscale": [
             [
              0,
              "#0d0887"
             ],
             [
              0.1111111111111111,
              "#46039f"
             ],
             [
              0.2222222222222222,
              "#7201a8"
             ],
             [
              0.3333333333333333,
              "#9c179e"
             ],
             [
              0.4444444444444444,
              "#bd3786"
             ],
             [
              0.5555555555555556,
              "#d8576b"
             ],
             [
              0.6666666666666666,
              "#ed7953"
             ],
             [
              0.7777777777777778,
              "#fb9f3a"
             ],
             [
              0.8888888888888888,
              "#fdca26"
             ],
             [
              1,
              "#f0f921"
             ]
            ],
            "type": "histogram2d"
           }
          ],
          "histogram2dcontour": [
           {
            "colorbar": {
             "outlinewidth": 0,
             "ticks": ""
            },
            "colorscale": [
             [
              0,
              "#0d0887"
             ],
             [
              0.1111111111111111,
              "#46039f"
             ],
             [
              0.2222222222222222,
              "#7201a8"
             ],
             [
              0.3333333333333333,
              "#9c179e"
             ],
             [
              0.4444444444444444,
              "#bd3786"
             ],
             [
              0.5555555555555556,
              "#d8576b"
             ],
             [
              0.6666666666666666,
              "#ed7953"
             ],
             [
              0.7777777777777778,
              "#fb9f3a"
             ],
             [
              0.8888888888888888,
              "#fdca26"
             ],
             [
              1,
              "#f0f921"
             ]
            ],
            "type": "histogram2dcontour"
           }
          ],
          "mesh3d": [
           {
            "colorbar": {
             "outlinewidth": 0,
             "ticks": ""
            },
            "type": "mesh3d"
           }
          ],
          "parcoords": [
           {
            "line": {
             "colorbar": {
              "outlinewidth": 0,
              "ticks": ""
             }
            },
            "type": "parcoords"
           }
          ],
          "pie": [
           {
            "automargin": true,
            "type": "pie"
           }
          ],
          "scatter": [
           {
            "fillpattern": {
             "fillmode": "overlay",
             "size": 10,
             "solidity": 0.2
            },
            "type": "scatter"
           }
          ],
          "scatter3d": [
           {
            "line": {
             "colorbar": {
              "outlinewidth": 0,
              "ticks": ""
             }
            },
            "marker": {
             "colorbar": {
              "outlinewidth": 0,
              "ticks": ""
             }
            },
            "type": "scatter3d"
           }
          ],
          "scattercarpet": [
           {
            "marker": {
             "colorbar": {
              "outlinewidth": 0,
              "ticks": ""
             }
            },
            "type": "scattercarpet"
           }
          ],
          "scattergeo": [
           {
            "marker": {
             "colorbar": {
              "outlinewidth": 0,
              "ticks": ""
             }
            },
            "type": "scattergeo"
           }
          ],
          "scattergl": [
           {
            "marker": {
             "colorbar": {
              "outlinewidth": 0,
              "ticks": ""
             }
            },
            "type": "scattergl"
           }
          ],
          "scattermapbox": [
           {
            "marker": {
             "colorbar": {
              "outlinewidth": 0,
              "ticks": ""
             }
            },
            "type": "scattermapbox"
           }
          ],
          "scatterpolar": [
           {
            "marker": {
             "colorbar": {
              "outlinewidth": 0,
              "ticks": ""
             }
            },
            "type": "scatterpolar"
           }
          ],
          "scatterpolargl": [
           {
            "marker": {
             "colorbar": {
              "outlinewidth": 0,
              "ticks": ""
             }
            },
            "type": "scatterpolargl"
           }
          ],
          "scatterternary": [
           {
            "marker": {
             "colorbar": {
              "outlinewidth": 0,
              "ticks": ""
             }
            },
            "type": "scatterternary"
           }
          ],
          "surface": [
           {
            "colorbar": {
             "outlinewidth": 0,
             "ticks": ""
            },
            "colorscale": [
             [
              0,
              "#0d0887"
             ],
             [
              0.1111111111111111,
              "#46039f"
             ],
             [
              0.2222222222222222,
              "#7201a8"
             ],
             [
              0.3333333333333333,
              "#9c179e"
             ],
             [
              0.4444444444444444,
              "#bd3786"
             ],
             [
              0.5555555555555556,
              "#d8576b"
             ],
             [
              0.6666666666666666,
              "#ed7953"
             ],
             [
              0.7777777777777778,
              "#fb9f3a"
             ],
             [
              0.8888888888888888,
              "#fdca26"
             ],
             [
              1,
              "#f0f921"
             ]
            ],
            "type": "surface"
           }
          ],
          "table": [
           {
            "cells": {
             "fill": {
              "color": "#EBF0F8"
             },
             "line": {
              "color": "white"
             }
            },
            "header": {
             "fill": {
              "color": "#C8D4E3"
             },
             "line": {
              "color": "white"
             }
            },
            "type": "table"
           }
          ]
         },
         "layout": {
          "annotationdefaults": {
           "arrowcolor": "#2a3f5f",
           "arrowhead": 0,
           "arrowwidth": 1
          },
          "autotypenumbers": "strict",
          "coloraxis": {
           "colorbar": {
            "outlinewidth": 0,
            "ticks": ""
           }
          },
          "colorscale": {
           "diverging": [
            [
             0,
             "#8e0152"
            ],
            [
             0.1,
             "#c51b7d"
            ],
            [
             0.2,
             "#de77ae"
            ],
            [
             0.3,
             "#f1b6da"
            ],
            [
             0.4,
             "#fde0ef"
            ],
            [
             0.5,
             "#f7f7f7"
            ],
            [
             0.6,
             "#e6f5d0"
            ],
            [
             0.7,
             "#b8e186"
            ],
            [
             0.8,
             "#7fbc41"
            ],
            [
             0.9,
             "#4d9221"
            ],
            [
             1,
             "#276419"
            ]
           ],
           "sequential": [
            [
             0,
             "#0d0887"
            ],
            [
             0.1111111111111111,
             "#46039f"
            ],
            [
             0.2222222222222222,
             "#7201a8"
            ],
            [
             0.3333333333333333,
             "#9c179e"
            ],
            [
             0.4444444444444444,
             "#bd3786"
            ],
            [
             0.5555555555555556,
             "#d8576b"
            ],
            [
             0.6666666666666666,
             "#ed7953"
            ],
            [
             0.7777777777777778,
             "#fb9f3a"
            ],
            [
             0.8888888888888888,
             "#fdca26"
            ],
            [
             1,
             "#f0f921"
            ]
           ],
           "sequentialminus": [
            [
             0,
             "#0d0887"
            ],
            [
             0.1111111111111111,
             "#46039f"
            ],
            [
             0.2222222222222222,
             "#7201a8"
            ],
            [
             0.3333333333333333,
             "#9c179e"
            ],
            [
             0.4444444444444444,
             "#bd3786"
            ],
            [
             0.5555555555555556,
             "#d8576b"
            ],
            [
             0.6666666666666666,
             "#ed7953"
            ],
            [
             0.7777777777777778,
             "#fb9f3a"
            ],
            [
             0.8888888888888888,
             "#fdca26"
            ],
            [
             1,
             "#f0f921"
            ]
           ]
          },
          "colorway": [
           "#636efa",
           "#EF553B",
           "#00cc96",
           "#ab63fa",
           "#FFA15A",
           "#19d3f3",
           "#FF6692",
           "#B6E880",
           "#FF97FF",
           "#FECB52"
          ],
          "font": {
           "color": "#2a3f5f"
          },
          "geo": {
           "bgcolor": "white",
           "lakecolor": "white",
           "landcolor": "#E5ECF6",
           "showlakes": true,
           "showland": true,
           "subunitcolor": "white"
          },
          "hoverlabel": {
           "align": "left"
          },
          "hovermode": "closest",
          "mapbox": {
           "style": "light"
          },
          "paper_bgcolor": "white",
          "plot_bgcolor": "#E5ECF6",
          "polar": {
           "angularaxis": {
            "gridcolor": "white",
            "linecolor": "white",
            "ticks": ""
           },
           "bgcolor": "#E5ECF6",
           "radialaxis": {
            "gridcolor": "white",
            "linecolor": "white",
            "ticks": ""
           }
          },
          "scene": {
           "xaxis": {
            "backgroundcolor": "#E5ECF6",
            "gridcolor": "white",
            "gridwidth": 2,
            "linecolor": "white",
            "showbackground": true,
            "ticks": "",
            "zerolinecolor": "white"
           },
           "yaxis": {
            "backgroundcolor": "#E5ECF6",
            "gridcolor": "white",
            "gridwidth": 2,
            "linecolor": "white",
            "showbackground": true,
            "ticks": "",
            "zerolinecolor": "white"
           },
           "zaxis": {
            "backgroundcolor": "#E5ECF6",
            "gridcolor": "white",
            "gridwidth": 2,
            "linecolor": "white",
            "showbackground": true,
            "ticks": "",
            "zerolinecolor": "white"
           }
          },
          "shapedefaults": {
           "line": {
            "color": "#2a3f5f"
           }
          },
          "ternary": {
           "aaxis": {
            "gridcolor": "white",
            "linecolor": "white",
            "ticks": ""
           },
           "baxis": {
            "gridcolor": "white",
            "linecolor": "white",
            "ticks": ""
           },
           "bgcolor": "#E5ECF6",
           "caxis": {
            "gridcolor": "white",
            "linecolor": "white",
            "ticks": ""
           }
          },
          "title": {
           "x": 0.05
          },
          "xaxis": {
           "automargin": true,
           "gridcolor": "white",
           "linecolor": "white",
           "ticks": "",
           "title": {
            "standoff": 15
           },
           "zerolinecolor": "white",
           "zerolinewidth": 2
          },
          "yaxis": {
           "automargin": true,
           "gridcolor": "white",
           "linecolor": "white",
           "ticks": "",
           "title": {
            "standoff": 15
           },
           "zerolinecolor": "white",
           "zerolinewidth": 2
          }
         }
        },
        "title": {
         "text": "Time Series Line Plot"
        },
        "xaxis": {
         "title": {
          "text": "Date"
         }
        },
        "yaxis": {
         "title": {
          "text": "Value"
         }
        }
       }
      }
     },
     "metadata": {},
     "output_type": "display_data"
    }
   ],
   "source": [
    "fig = go.Figure()\n",
    "fig.add_trace(go.Scatter(x=sandkrug_df['Days in full_date'], y=sandkrug_df['pick_drop_deficit'], mode='lines', name='Value'))\n",
    "fig.update_layout(title='Time Series Line Plot', xaxis_title='Date', yaxis_title='Value')\n",
    "fig.show()"
   ]
  },
  {
   "cell_type": "code",
   "execution_count": 40,
   "metadata": {},
   "outputs": [
    {
     "data": {
      "application/vnd.plotly.v1+json": {
       "config": {
        "plotlyServerURL": "https://plot.ly"
       },
       "data": [
        {
         "mode": "lines",
         "name": "Dropoff",
         "type": "scatter",
         "x": [
          "2024-09-18T00:00:00",
          "2024-09-17T00:00:00",
          "2024-09-16T00:00:00",
          "2024-09-15T00:00:00",
          "2024-09-14T00:00:00",
          "2024-09-13T00:00:00",
          "2024-09-12T00:00:00",
          "2024-09-11T00:00:00",
          "2024-09-10T00:00:00",
          "2024-09-09T00:00:00",
          "2024-09-08T00:00:00",
          "2024-09-07T00:00:00",
          "2024-09-06T00:00:00",
          "2024-09-05T00:00:00",
          "2024-09-04T00:00:00",
          "2024-09-03T00:00:00",
          "2024-09-02T00:00:00",
          "2024-09-01T00:00:00",
          "2024-08-31T00:00:00",
          "2024-08-30T00:00:00",
          "2024-08-29T00:00:00",
          "2024-08-28T00:00:00",
          "2024-08-27T00:00:00",
          "2024-08-26T00:00:00",
          "2024-08-25T00:00:00",
          "2024-08-24T00:00:00",
          "2024-08-23T00:00:00",
          "2024-08-22T00:00:00",
          "2024-08-20T00:00:00",
          "2024-08-15T00:00:00",
          "2024-08-14T00:00:00",
          "2024-08-12T00:00:00",
          "2024-08-11T00:00:00",
          "2024-08-10T00:00:00",
          "2024-08-08T00:00:00",
          "2024-08-05T00:00:00",
          "2024-08-04T00:00:00",
          "2024-08-02T00:00:00",
          "2024-07-30T00:00:00",
          "2024-07-29T00:00:00",
          "2024-07-28T00:00:00",
          "2024-07-27T00:00:00",
          "2024-07-21T00:00:00",
          "2024-07-19T00:00:00",
          "2024-07-14T00:00:00",
          "2024-07-13T00:00:00",
          "2024-07-10T00:00:00",
          "2024-06-29T00:00:00",
          "2024-06-28T00:00:00",
          "2024-06-27T00:00:00",
          "2024-06-26T00:00:00",
          "2024-06-25T00:00:00",
          "2024-06-24T00:00:00",
          "2024-06-23T00:00:00",
          "2024-06-20T00:00:00",
          "2024-06-19T00:00:00",
          "2024-06-18T00:00:00",
          "2024-06-16T00:00:00",
          "2024-06-14T00:00:00",
          "2024-06-10T00:00:00",
          "2024-06-08T00:00:00",
          "2024-06-07T00:00:00",
          "2024-06-06T00:00:00",
          "2024-06-05T00:00:00",
          "2024-06-03T00:00:00",
          "2024-06-02T00:00:00",
          "2024-06-01T00:00:00",
          "2024-05-30T00:00:00",
          "2024-05-29T00:00:00",
          "2024-05-28T00:00:00",
          "2024-05-27T00:00:00",
          "2024-05-19T00:00:00",
          "2024-05-18T00:00:00",
          "2024-05-17T00:00:00",
          "2024-05-16T00:00:00",
          "2024-05-15T00:00:00",
          "2024-05-14T00:00:00",
          "2024-05-13T00:00:00",
          "2024-05-12T00:00:00",
          "2024-05-11T00:00:00",
          "2024-05-10T00:00:00",
          "2024-05-09T00:00:00",
          "2024-05-08T00:00:00",
          "2024-05-07T00:00:00",
          "2024-05-06T00:00:00",
          "2024-05-05T00:00:00",
          "2024-05-04T00:00:00",
          "2024-05-03T00:00:00",
          "2024-05-02T00:00:00",
          "2024-05-01T00:00:00",
          "2024-04-30T00:00:00",
          "2024-04-29T00:00:00",
          "2024-04-28T00:00:00",
          "2024-04-27T00:00:00",
          "2024-04-26T00:00:00",
          "2024-04-25T00:00:00",
          "2024-04-24T00:00:00",
          "2024-04-23T00:00:00",
          "2024-04-22T00:00:00",
          "2024-04-21T00:00:00",
          "2024-04-20T00:00:00",
          "2024-04-16T00:00:00",
          "2024-04-15T00:00:00",
          "2024-04-14T00:00:00",
          "2024-04-13T00:00:00",
          "2024-04-12T00:00:00",
          "2024-04-11T00:00:00",
          "2024-04-10T00:00:00",
          "2024-04-09T00:00:00",
          "2024-04-08T00:00:00",
          "2024-04-07T00:00:00",
          "2024-04-06T00:00:00",
          "2024-04-05T00:00:00",
          "2024-04-04T00:00:00",
          "2024-04-03T00:00:00",
          "2024-04-02T00:00:00",
          "2024-04-01T00:00:00",
          "2024-03-31T00:00:00",
          "2024-03-30T00:00:00",
          "2024-03-29T00:00:00",
          "2024-03-28T00:00:00",
          "2024-03-27T00:00:00",
          "2024-03-26T00:00:00",
          "2024-03-25T00:00:00",
          "2024-03-24T00:00:00",
          "2024-03-23T00:00:00",
          "2024-03-22T00:00:00",
          "2024-03-20T00:00:00",
          "2024-03-19T00:00:00",
          "2024-03-18T00:00:00",
          "2024-03-16T00:00:00",
          "2024-03-15T00:00:00",
          "2024-03-14T00:00:00",
          "2024-03-13T00:00:00",
          "2024-03-10T00:00:00",
          "2024-03-09T00:00:00",
          "2024-03-07T00:00:00",
          "2024-03-02T00:00:00",
          "2024-03-01T00:00:00",
          "2024-02-29T00:00:00",
          "2024-02-28T00:00:00",
          "2024-02-27T00:00:00",
          "2024-02-26T00:00:00",
          "2024-02-24T00:00:00",
          "2024-02-20T00:00:00",
          "2024-02-19T00:00:00",
          "2024-02-18T00:00:00",
          "2024-02-17T00:00:00",
          "2024-02-16T00:00:00",
          "2024-02-15T00:00:00",
          "2024-01-17T00:00:00"
         ],
         "y": [
          6,
          5,
          3,
          8,
          5,
          2,
          4,
          4,
          2,
          0,
          6,
          4,
          3,
          3,
          3,
          4,
          5,
          2,
          4,
          3,
          1,
          3,
          3,
          3,
          3,
          4,
          5,
          7,
          1,
          1,
          0,
          0,
          5,
          2,
          0,
          3,
          2,
          3,
          4,
          7,
          6,
          5,
          1,
          1,
          0,
          1,
          1,
          3,
          16,
          6,
          9,
          3,
          5,
          2,
          2,
          2,
          1,
          1,
          2,
          1,
          1,
          4,
          2,
          1,
          4,
          3,
          0,
          2,
          1,
          3,
          1,
          3,
          2,
          9,
          8,
          5,
          2,
          4,
          2,
          5,
          6,
          10,
          5,
          5,
          5,
          4,
          1,
          6,
          4,
          5,
          4,
          1,
          1,
          1,
          2,
          4,
          3,
          5,
          1,
          4,
          0,
          2,
          1,
          3,
          4,
          3,
          1,
          2,
          3,
          1,
          10,
          4,
          9,
          10,
          2,
          1,
          3,
          2,
          4,
          1,
          3,
          1,
          6,
          3,
          4,
          9,
          3,
          5,
          1,
          2,
          0,
          1,
          1,
          1,
          0,
          3,
          1,
          1,
          4,
          2,
          0,
          2,
          1,
          1,
          3,
          1,
          1,
          2,
          2,
          2,
          1
         ]
        },
        {
         "mode": "lines",
         "name": "Pickup",
         "type": "scatter",
         "x": [
          "2024-09-18T00:00:00",
          "2024-09-17T00:00:00",
          "2024-09-16T00:00:00",
          "2024-09-15T00:00:00",
          "2024-09-14T00:00:00",
          "2024-09-13T00:00:00",
          "2024-09-12T00:00:00",
          "2024-09-11T00:00:00",
          "2024-09-10T00:00:00",
          "2024-09-09T00:00:00",
          "2024-09-08T00:00:00",
          "2024-09-07T00:00:00",
          "2024-09-06T00:00:00",
          "2024-09-05T00:00:00",
          "2024-09-04T00:00:00",
          "2024-09-03T00:00:00",
          "2024-09-02T00:00:00",
          "2024-09-01T00:00:00",
          "2024-08-31T00:00:00",
          "2024-08-30T00:00:00",
          "2024-08-29T00:00:00",
          "2024-08-28T00:00:00",
          "2024-08-27T00:00:00",
          "2024-08-26T00:00:00",
          "2024-08-25T00:00:00",
          "2024-08-24T00:00:00",
          "2024-08-23T00:00:00",
          "2024-08-22T00:00:00",
          "2024-08-20T00:00:00",
          "2024-08-15T00:00:00",
          "2024-08-14T00:00:00",
          "2024-08-12T00:00:00",
          "2024-08-11T00:00:00",
          "2024-08-10T00:00:00",
          "2024-08-08T00:00:00",
          "2024-08-05T00:00:00",
          "2024-08-04T00:00:00",
          "2024-08-02T00:00:00",
          "2024-07-30T00:00:00",
          "2024-07-29T00:00:00",
          "2024-07-28T00:00:00",
          "2024-07-27T00:00:00",
          "2024-07-21T00:00:00",
          "2024-07-19T00:00:00",
          "2024-07-14T00:00:00",
          "2024-07-13T00:00:00",
          "2024-07-10T00:00:00",
          "2024-06-29T00:00:00",
          "2024-06-28T00:00:00",
          "2024-06-27T00:00:00",
          "2024-06-26T00:00:00",
          "2024-06-25T00:00:00",
          "2024-06-24T00:00:00",
          "2024-06-23T00:00:00",
          "2024-06-20T00:00:00",
          "2024-06-19T00:00:00",
          "2024-06-18T00:00:00",
          "2024-06-16T00:00:00",
          "2024-06-14T00:00:00",
          "2024-06-10T00:00:00",
          "2024-06-08T00:00:00",
          "2024-06-07T00:00:00",
          "2024-06-06T00:00:00",
          "2024-06-05T00:00:00",
          "2024-06-03T00:00:00",
          "2024-06-02T00:00:00",
          "2024-06-01T00:00:00",
          "2024-05-30T00:00:00",
          "2024-05-29T00:00:00",
          "2024-05-28T00:00:00",
          "2024-05-27T00:00:00",
          "2024-05-19T00:00:00",
          "2024-05-18T00:00:00",
          "2024-05-17T00:00:00",
          "2024-05-16T00:00:00",
          "2024-05-15T00:00:00",
          "2024-05-14T00:00:00",
          "2024-05-13T00:00:00",
          "2024-05-12T00:00:00",
          "2024-05-11T00:00:00",
          "2024-05-10T00:00:00",
          "2024-05-09T00:00:00",
          "2024-05-08T00:00:00",
          "2024-05-07T00:00:00",
          "2024-05-06T00:00:00",
          "2024-05-05T00:00:00",
          "2024-05-04T00:00:00",
          "2024-05-03T00:00:00",
          "2024-05-02T00:00:00",
          "2024-05-01T00:00:00",
          "2024-04-30T00:00:00",
          "2024-04-29T00:00:00",
          "2024-04-28T00:00:00",
          "2024-04-27T00:00:00",
          "2024-04-26T00:00:00",
          "2024-04-25T00:00:00",
          "2024-04-24T00:00:00",
          "2024-04-23T00:00:00",
          "2024-04-22T00:00:00",
          "2024-04-21T00:00:00",
          "2024-04-20T00:00:00",
          "2024-04-16T00:00:00",
          "2024-04-15T00:00:00",
          "2024-04-14T00:00:00",
          "2024-04-13T00:00:00",
          "2024-04-12T00:00:00",
          "2024-04-11T00:00:00",
          "2024-04-10T00:00:00",
          "2024-04-09T00:00:00",
          "2024-04-08T00:00:00",
          "2024-04-07T00:00:00",
          "2024-04-06T00:00:00",
          "2024-04-05T00:00:00",
          "2024-04-04T00:00:00",
          "2024-04-03T00:00:00",
          "2024-04-02T00:00:00",
          "2024-04-01T00:00:00",
          "2024-03-31T00:00:00",
          "2024-03-30T00:00:00",
          "2024-03-29T00:00:00",
          "2024-03-28T00:00:00",
          "2024-03-27T00:00:00",
          "2024-03-26T00:00:00",
          "2024-03-25T00:00:00",
          "2024-03-24T00:00:00",
          "2024-03-23T00:00:00",
          "2024-03-22T00:00:00",
          "2024-03-20T00:00:00",
          "2024-03-19T00:00:00",
          "2024-03-18T00:00:00",
          "2024-03-16T00:00:00",
          "2024-03-15T00:00:00",
          "2024-03-14T00:00:00",
          "2024-03-13T00:00:00",
          "2024-03-10T00:00:00",
          "2024-03-09T00:00:00",
          "2024-03-07T00:00:00",
          "2024-03-02T00:00:00",
          "2024-03-01T00:00:00",
          "2024-02-29T00:00:00",
          "2024-02-28T00:00:00",
          "2024-02-27T00:00:00",
          "2024-02-26T00:00:00",
          "2024-02-24T00:00:00",
          "2024-02-20T00:00:00",
          "2024-02-19T00:00:00",
          "2024-02-18T00:00:00",
          "2024-02-17T00:00:00",
          "2024-02-16T00:00:00",
          "2024-02-15T00:00:00",
          "2024-01-17T00:00:00"
         ],
         "y": [
          5,
          6,
          3,
          7,
          7,
          2,
          4,
          4,
          2,
          1,
          5,
          3,
          4,
          2,
          3,
          4,
          5,
          3,
          5,
          2,
          1,
          3,
          3,
          3,
          2,
          4,
          4,
          7,
          1,
          1,
          1,
          1,
          5,
          3,
          1,
          2,
          2,
          3,
          4,
          7,
          6,
          5,
          1,
          1,
          1,
          1,
          1,
          3,
          16,
          6,
          9,
          3,
          5,
          2,
          2,
          2,
          1,
          1,
          2,
          1,
          1,
          3,
          3,
          2,
          4,
          3,
          1,
          2,
          1,
          3,
          1,
          3,
          4,
          9,
          7,
          5,
          2,
          4,
          1,
          5,
          5,
          11,
          7,
          5,
          5,
          4,
          2,
          6,
          3,
          4,
          4,
          1,
          2,
          1,
          2,
          6,
          5,
          6,
          2,
          4,
          1,
          2,
          1,
          4,
          4,
          3,
          2,
          3,
          3,
          1,
          11,
          4,
          8,
          9,
          2,
          1,
          4,
          3,
          3,
          1,
          2,
          1,
          8,
          3,
          4,
          10,
          3,
          5,
          1,
          2,
          1,
          2,
          1,
          1,
          1,
          3,
          1,
          1,
          4,
          3,
          1,
          4,
          2,
          2,
          3,
          1,
          1,
          1,
          2,
          2,
          1
         ]
        }
       ],
       "layout": {
        "template": {
         "data": {
          "bar": [
           {
            "error_x": {
             "color": "#2a3f5f"
            },
            "error_y": {
             "color": "#2a3f5f"
            },
            "marker": {
             "line": {
              "color": "#E5ECF6",
              "width": 0.5
             },
             "pattern": {
              "fillmode": "overlay",
              "size": 10,
              "solidity": 0.2
             }
            },
            "type": "bar"
           }
          ],
          "barpolar": [
           {
            "marker": {
             "line": {
              "color": "#E5ECF6",
              "width": 0.5
             },
             "pattern": {
              "fillmode": "overlay",
              "size": 10,
              "solidity": 0.2
             }
            },
            "type": "barpolar"
           }
          ],
          "carpet": [
           {
            "aaxis": {
             "endlinecolor": "#2a3f5f",
             "gridcolor": "white",
             "linecolor": "white",
             "minorgridcolor": "white",
             "startlinecolor": "#2a3f5f"
            },
            "baxis": {
             "endlinecolor": "#2a3f5f",
             "gridcolor": "white",
             "linecolor": "white",
             "minorgridcolor": "white",
             "startlinecolor": "#2a3f5f"
            },
            "type": "carpet"
           }
          ],
          "choropleth": [
           {
            "colorbar": {
             "outlinewidth": 0,
             "ticks": ""
            },
            "type": "choropleth"
           }
          ],
          "contour": [
           {
            "colorbar": {
             "outlinewidth": 0,
             "ticks": ""
            },
            "colorscale": [
             [
              0,
              "#0d0887"
             ],
             [
              0.1111111111111111,
              "#46039f"
             ],
             [
              0.2222222222222222,
              "#7201a8"
             ],
             [
              0.3333333333333333,
              "#9c179e"
             ],
             [
              0.4444444444444444,
              "#bd3786"
             ],
             [
              0.5555555555555556,
              "#d8576b"
             ],
             [
              0.6666666666666666,
              "#ed7953"
             ],
             [
              0.7777777777777778,
              "#fb9f3a"
             ],
             [
              0.8888888888888888,
              "#fdca26"
             ],
             [
              1,
              "#f0f921"
             ]
            ],
            "type": "contour"
           }
          ],
          "contourcarpet": [
           {
            "colorbar": {
             "outlinewidth": 0,
             "ticks": ""
            },
            "type": "contourcarpet"
           }
          ],
          "heatmap": [
           {
            "colorbar": {
             "outlinewidth": 0,
             "ticks": ""
            },
            "colorscale": [
             [
              0,
              "#0d0887"
             ],
             [
              0.1111111111111111,
              "#46039f"
             ],
             [
              0.2222222222222222,
              "#7201a8"
             ],
             [
              0.3333333333333333,
              "#9c179e"
             ],
             [
              0.4444444444444444,
              "#bd3786"
             ],
             [
              0.5555555555555556,
              "#d8576b"
             ],
             [
              0.6666666666666666,
              "#ed7953"
             ],
             [
              0.7777777777777778,
              "#fb9f3a"
             ],
             [
              0.8888888888888888,
              "#fdca26"
             ],
             [
              1,
              "#f0f921"
             ]
            ],
            "type": "heatmap"
           }
          ],
          "heatmapgl": [
           {
            "colorbar": {
             "outlinewidth": 0,
             "ticks": ""
            },
            "colorscale": [
             [
              0,
              "#0d0887"
             ],
             [
              0.1111111111111111,
              "#46039f"
             ],
             [
              0.2222222222222222,
              "#7201a8"
             ],
             [
              0.3333333333333333,
              "#9c179e"
             ],
             [
              0.4444444444444444,
              "#bd3786"
             ],
             [
              0.5555555555555556,
              "#d8576b"
             ],
             [
              0.6666666666666666,
              "#ed7953"
             ],
             [
              0.7777777777777778,
              "#fb9f3a"
             ],
             [
              0.8888888888888888,
              "#fdca26"
             ],
             [
              1,
              "#f0f921"
             ]
            ],
            "type": "heatmapgl"
           }
          ],
          "histogram": [
           {
            "marker": {
             "pattern": {
              "fillmode": "overlay",
              "size": 10,
              "solidity": 0.2
             }
            },
            "type": "histogram"
           }
          ],
          "histogram2d": [
           {
            "colorbar": {
             "outlinewidth": 0,
             "ticks": ""
            },
            "colorscale": [
             [
              0,
              "#0d0887"
             ],
             [
              0.1111111111111111,
              "#46039f"
             ],
             [
              0.2222222222222222,
              "#7201a8"
             ],
             [
              0.3333333333333333,
              "#9c179e"
             ],
             [
              0.4444444444444444,
              "#bd3786"
             ],
             [
              0.5555555555555556,
              "#d8576b"
             ],
             [
              0.6666666666666666,
              "#ed7953"
             ],
             [
              0.7777777777777778,
              "#fb9f3a"
             ],
             [
              0.8888888888888888,
              "#fdca26"
             ],
             [
              1,
              "#f0f921"
             ]
            ],
            "type": "histogram2d"
           }
          ],
          "histogram2dcontour": [
           {
            "colorbar": {
             "outlinewidth": 0,
             "ticks": ""
            },
            "colorscale": [
             [
              0,
              "#0d0887"
             ],
             [
              0.1111111111111111,
              "#46039f"
             ],
             [
              0.2222222222222222,
              "#7201a8"
             ],
             [
              0.3333333333333333,
              "#9c179e"
             ],
             [
              0.4444444444444444,
              "#bd3786"
             ],
             [
              0.5555555555555556,
              "#d8576b"
             ],
             [
              0.6666666666666666,
              "#ed7953"
             ],
             [
              0.7777777777777778,
              "#fb9f3a"
             ],
             [
              0.8888888888888888,
              "#fdca26"
             ],
             [
              1,
              "#f0f921"
             ]
            ],
            "type": "histogram2dcontour"
           }
          ],
          "mesh3d": [
           {
            "colorbar": {
             "outlinewidth": 0,
             "ticks": ""
            },
            "type": "mesh3d"
           }
          ],
          "parcoords": [
           {
            "line": {
             "colorbar": {
              "outlinewidth": 0,
              "ticks": ""
             }
            },
            "type": "parcoords"
           }
          ],
          "pie": [
           {
            "automargin": true,
            "type": "pie"
           }
          ],
          "scatter": [
           {
            "fillpattern": {
             "fillmode": "overlay",
             "size": 10,
             "solidity": 0.2
            },
            "type": "scatter"
           }
          ],
          "scatter3d": [
           {
            "line": {
             "colorbar": {
              "outlinewidth": 0,
              "ticks": ""
             }
            },
            "marker": {
             "colorbar": {
              "outlinewidth": 0,
              "ticks": ""
             }
            },
            "type": "scatter3d"
           }
          ],
          "scattercarpet": [
           {
            "marker": {
             "colorbar": {
              "outlinewidth": 0,
              "ticks": ""
             }
            },
            "type": "scattercarpet"
           }
          ],
          "scattergeo": [
           {
            "marker": {
             "colorbar": {
              "outlinewidth": 0,
              "ticks": ""
             }
            },
            "type": "scattergeo"
           }
          ],
          "scattergl": [
           {
            "marker": {
             "colorbar": {
              "outlinewidth": 0,
              "ticks": ""
             }
            },
            "type": "scattergl"
           }
          ],
          "scattermapbox": [
           {
            "marker": {
             "colorbar": {
              "outlinewidth": 0,
              "ticks": ""
             }
            },
            "type": "scattermapbox"
           }
          ],
          "scatterpolar": [
           {
            "marker": {
             "colorbar": {
              "outlinewidth": 0,
              "ticks": ""
             }
            },
            "type": "scatterpolar"
           }
          ],
          "scatterpolargl": [
           {
            "marker": {
             "colorbar": {
              "outlinewidth": 0,
              "ticks": ""
             }
            },
            "type": "scatterpolargl"
           }
          ],
          "scatterternary": [
           {
            "marker": {
             "colorbar": {
              "outlinewidth": 0,
              "ticks": ""
             }
            },
            "type": "scatterternary"
           }
          ],
          "surface": [
           {
            "colorbar": {
             "outlinewidth": 0,
             "ticks": ""
            },
            "colorscale": [
             [
              0,
              "#0d0887"
             ],
             [
              0.1111111111111111,
              "#46039f"
             ],
             [
              0.2222222222222222,
              "#7201a8"
             ],
             [
              0.3333333333333333,
              "#9c179e"
             ],
             [
              0.4444444444444444,
              "#bd3786"
             ],
             [
              0.5555555555555556,
              "#d8576b"
             ],
             [
              0.6666666666666666,
              "#ed7953"
             ],
             [
              0.7777777777777778,
              "#fb9f3a"
             ],
             [
              0.8888888888888888,
              "#fdca26"
             ],
             [
              1,
              "#f0f921"
             ]
            ],
            "type": "surface"
           }
          ],
          "table": [
           {
            "cells": {
             "fill": {
              "color": "#EBF0F8"
             },
             "line": {
              "color": "white"
             }
            },
            "header": {
             "fill": {
              "color": "#C8D4E3"
             },
             "line": {
              "color": "white"
             }
            },
            "type": "table"
           }
          ]
         },
         "layout": {
          "annotationdefaults": {
           "arrowcolor": "#2a3f5f",
           "arrowhead": 0,
           "arrowwidth": 1
          },
          "autotypenumbers": "strict",
          "coloraxis": {
           "colorbar": {
            "outlinewidth": 0,
            "ticks": ""
           }
          },
          "colorscale": {
           "diverging": [
            [
             0,
             "#8e0152"
            ],
            [
             0.1,
             "#c51b7d"
            ],
            [
             0.2,
             "#de77ae"
            ],
            [
             0.3,
             "#f1b6da"
            ],
            [
             0.4,
             "#fde0ef"
            ],
            [
             0.5,
             "#f7f7f7"
            ],
            [
             0.6,
             "#e6f5d0"
            ],
            [
             0.7,
             "#b8e186"
            ],
            [
             0.8,
             "#7fbc41"
            ],
            [
             0.9,
             "#4d9221"
            ],
            [
             1,
             "#276419"
            ]
           ],
           "sequential": [
            [
             0,
             "#0d0887"
            ],
            [
             0.1111111111111111,
             "#46039f"
            ],
            [
             0.2222222222222222,
             "#7201a8"
            ],
            [
             0.3333333333333333,
             "#9c179e"
            ],
            [
             0.4444444444444444,
             "#bd3786"
            ],
            [
             0.5555555555555556,
             "#d8576b"
            ],
            [
             0.6666666666666666,
             "#ed7953"
            ],
            [
             0.7777777777777778,
             "#fb9f3a"
            ],
            [
             0.8888888888888888,
             "#fdca26"
            ],
            [
             1,
             "#f0f921"
            ]
           ],
           "sequentialminus": [
            [
             0,
             "#0d0887"
            ],
            [
             0.1111111111111111,
             "#46039f"
            ],
            [
             0.2222222222222222,
             "#7201a8"
            ],
            [
             0.3333333333333333,
             "#9c179e"
            ],
            [
             0.4444444444444444,
             "#bd3786"
            ],
            [
             0.5555555555555556,
             "#d8576b"
            ],
            [
             0.6666666666666666,
             "#ed7953"
            ],
            [
             0.7777777777777778,
             "#fb9f3a"
            ],
            [
             0.8888888888888888,
             "#fdca26"
            ],
            [
             1,
             "#f0f921"
            ]
           ]
          },
          "colorway": [
           "#636efa",
           "#EF553B",
           "#00cc96",
           "#ab63fa",
           "#FFA15A",
           "#19d3f3",
           "#FF6692",
           "#B6E880",
           "#FF97FF",
           "#FECB52"
          ],
          "font": {
           "color": "#2a3f5f"
          },
          "geo": {
           "bgcolor": "white",
           "lakecolor": "white",
           "landcolor": "#E5ECF6",
           "showlakes": true,
           "showland": true,
           "subunitcolor": "white"
          },
          "hoverlabel": {
           "align": "left"
          },
          "hovermode": "closest",
          "mapbox": {
           "style": "light"
          },
          "paper_bgcolor": "white",
          "plot_bgcolor": "#E5ECF6",
          "polar": {
           "angularaxis": {
            "gridcolor": "white",
            "linecolor": "white",
            "ticks": ""
           },
           "bgcolor": "#E5ECF6",
           "radialaxis": {
            "gridcolor": "white",
            "linecolor": "white",
            "ticks": ""
           }
          },
          "scene": {
           "xaxis": {
            "backgroundcolor": "#E5ECF6",
            "gridcolor": "white",
            "gridwidth": 2,
            "linecolor": "white",
            "showbackground": true,
            "ticks": "",
            "zerolinecolor": "white"
           },
           "yaxis": {
            "backgroundcolor": "#E5ECF6",
            "gridcolor": "white",
            "gridwidth": 2,
            "linecolor": "white",
            "showbackground": true,
            "ticks": "",
            "zerolinecolor": "white"
           },
           "zaxis": {
            "backgroundcolor": "#E5ECF6",
            "gridcolor": "white",
            "gridwidth": 2,
            "linecolor": "white",
            "showbackground": true,
            "ticks": "",
            "zerolinecolor": "white"
           }
          },
          "shapedefaults": {
           "line": {
            "color": "#2a3f5f"
           }
          },
          "ternary": {
           "aaxis": {
            "gridcolor": "white",
            "linecolor": "white",
            "ticks": ""
           },
           "baxis": {
            "gridcolor": "white",
            "linecolor": "white",
            "ticks": ""
           },
           "bgcolor": "#E5ECF6",
           "caxis": {
            "gridcolor": "white",
            "linecolor": "white",
            "ticks": ""
           }
          },
          "title": {
           "x": 0.05
          },
          "xaxis": {
           "automargin": true,
           "gridcolor": "white",
           "linecolor": "white",
           "ticks": "",
           "title": {
            "standoff": 15
           },
           "zerolinecolor": "white",
           "zerolinewidth": 2
          },
          "yaxis": {
           "automargin": true,
           "gridcolor": "white",
           "linecolor": "white",
           "ticks": "",
           "title": {
            "standoff": 15
           },
           "zerolinecolor": "white",
           "zerolinewidth": 2
          }
         }
        },
        "title": {
         "text": "Time Series Line Plot"
        },
        "xaxis": {
         "title": {
          "text": "Date"
         }
        },
        "yaxis": {
         "title": {
          "text": "Value"
         }
        }
       }
      }
     },
     "metadata": {},
     "output_type": "display_data"
    }
   ],
   "source": [
    "fig = go.Figure()\n",
    "fig.add_trace(go.Scatter(x=sandkrug_df['Days in full_date'], y=sandkrug_df['# of unique dropoff_hub_id'], mode='lines', name='Dropoff'))\n",
    "fig.add_trace(go.Scatter(x=sandkrug_df['Days in full_date'], y=sandkrug_df['# of unique pickup_hub_id'], mode='lines', name='Pickup'))\n",
    "fig.update_layout(title='Time Series Line Plot', xaxis_title='Date', yaxis_title='Value')\n",
    "fig.show()"
   ]
  },
  {
   "cell_type": "code",
   "execution_count": 41,
   "metadata": {},
   "outputs": [
    {
     "data": {
      "application/vnd.plotly.v1+json": {
       "config": {
        "plotlyServerURL": "https://plot.ly"
       },
       "data": [
        {
         "mode": "lines",
         "name": "Dropoff",
         "type": "scatter",
         "x": [
          "2024-09-18T00:00:00",
          "2024-09-17T00:00:00",
          "2024-09-16T00:00:00",
          "2024-09-15T00:00:00",
          "2024-09-14T00:00:00",
          "2024-09-13T00:00:00",
          "2024-09-12T00:00:00",
          "2024-09-11T00:00:00",
          "2024-09-10T00:00:00",
          "2024-09-09T00:00:00",
          "2024-09-08T00:00:00",
          "2024-09-07T00:00:00",
          "2024-09-06T00:00:00",
          "2024-09-05T00:00:00",
          "2024-09-04T00:00:00",
          "2024-09-03T00:00:00",
          "2024-09-02T00:00:00",
          "2024-09-01T00:00:00",
          "2024-08-31T00:00:00",
          "2024-08-30T00:00:00",
          "2024-08-29T00:00:00",
          "2024-08-28T00:00:00",
          "2024-08-27T00:00:00",
          "2024-08-26T00:00:00",
          "2024-08-25T00:00:00",
          "2024-08-24T00:00:00",
          "2024-08-23T00:00:00",
          "2024-08-22T00:00:00",
          "2024-08-21T00:00:00",
          "2024-08-20T00:00:00",
          "2024-08-19T00:00:00",
          "2024-08-18T00:00:00",
          "2024-08-17T00:00:00",
          "2024-08-16T00:00:00",
          "2024-08-15T00:00:00",
          "2024-08-14T00:00:00",
          "2024-08-13T00:00:00",
          "2024-08-12T00:00:00",
          "2024-08-11T00:00:00",
          "2024-08-10T00:00:00",
          "2024-08-09T00:00:00",
          "2024-08-08T00:00:00",
          "2024-08-07T00:00:00",
          "2024-08-06T00:00:00",
          "2024-08-05T00:00:00",
          "2024-08-04T00:00:00",
          "2024-08-03T00:00:00",
          "2024-08-02T00:00:00",
          "2024-08-01T00:00:00",
          "2024-07-31T00:00:00",
          "2024-07-30T00:00:00",
          "2024-07-29T00:00:00",
          "2024-07-28T00:00:00",
          "2024-07-27T00:00:00",
          "2024-07-26T00:00:00",
          "2024-07-25T00:00:00",
          "2024-07-24T00:00:00",
          "2024-07-23T00:00:00",
          "2024-07-22T00:00:00",
          "2024-07-21T00:00:00",
          "2024-07-20T00:00:00",
          "2024-07-19T00:00:00",
          "2024-07-18T00:00:00",
          "2024-07-17T00:00:00",
          "2024-07-16T00:00:00",
          "2024-07-15T00:00:00",
          "2024-07-14T00:00:00",
          "2024-07-13T00:00:00",
          "2024-07-12T00:00:00",
          "2024-07-11T00:00:00",
          "2024-07-10T00:00:00",
          "2024-07-09T00:00:00",
          "2024-07-08T00:00:00",
          "2024-07-07T00:00:00",
          "2024-07-06T00:00:00",
          "2024-07-05T00:00:00",
          "2024-07-04T00:00:00",
          "2024-07-03T00:00:00",
          "2024-07-02T00:00:00",
          "2024-07-01T00:00:00",
          "2024-06-30T00:00:00",
          "2024-06-29T00:00:00",
          "2024-06-28T00:00:00",
          "2024-06-27T00:00:00",
          "2024-06-26T00:00:00",
          "2024-06-25T00:00:00",
          "2024-06-24T00:00:00",
          "2024-06-23T00:00:00",
          "2024-06-22T00:00:00",
          "2024-06-21T00:00:00",
          "2024-06-20T00:00:00",
          "2024-06-19T00:00:00",
          "2024-06-18T00:00:00",
          "2024-06-17T00:00:00",
          "2024-06-16T00:00:00",
          "2024-06-15T00:00:00",
          "2024-06-14T00:00:00",
          "2024-06-13T00:00:00",
          "2024-06-12T00:00:00",
          "2024-06-11T00:00:00",
          "2024-06-10T00:00:00",
          "2024-06-09T00:00:00",
          "2024-06-08T00:00:00",
          "2024-06-07T00:00:00",
          "2024-06-06T00:00:00",
          "2024-06-05T00:00:00",
          "2024-06-04T00:00:00",
          "2024-06-03T00:00:00",
          "2024-06-02T00:00:00",
          "2024-06-01T00:00:00",
          "2024-05-31T00:00:00",
          "2024-05-30T00:00:00",
          "2024-05-29T00:00:00",
          "2024-05-28T00:00:00",
          "2024-05-27T00:00:00",
          "2024-05-26T00:00:00",
          "2024-05-25T00:00:00",
          "2024-05-24T00:00:00",
          "2024-05-23T00:00:00",
          "2024-05-22T00:00:00",
          "2024-05-21T00:00:00",
          "2024-05-20T00:00:00",
          "2024-05-19T00:00:00",
          "2024-05-18T00:00:00",
          "2024-05-17T00:00:00",
          "2024-05-16T00:00:00",
          "2024-05-15T00:00:00",
          "2024-05-14T00:00:00",
          "2024-05-13T00:00:00",
          "2024-05-12T00:00:00",
          "2024-05-11T00:00:00",
          "2024-05-10T00:00:00",
          "2024-05-09T00:00:00",
          "2024-05-08T00:00:00",
          "2024-05-07T00:00:00",
          "2024-05-06T00:00:00",
          "2024-05-05T00:00:00",
          "2024-05-04T00:00:00",
          "2024-05-03T00:00:00",
          "2024-05-02T00:00:00",
          "2024-05-01T00:00:00",
          "2024-04-30T00:00:00",
          "2024-04-29T00:00:00",
          "2024-04-28T00:00:00",
          "2024-04-27T00:00:00",
          "2024-04-26T00:00:00",
          "2024-04-25T00:00:00",
          "2024-04-24T00:00:00",
          "2024-04-23T00:00:00",
          "2024-04-22T00:00:00",
          "2024-04-21T00:00:00",
          "2024-04-20T00:00:00",
          "2024-04-18T00:00:00",
          "2024-04-17T00:00:00",
          "2024-04-16T00:00:00",
          "2024-04-15T00:00:00",
          "2024-04-14T00:00:00",
          "2024-04-13T00:00:00",
          "2024-04-12T00:00:00",
          "2024-04-11T00:00:00",
          "2024-04-10T00:00:00",
          "2024-04-09T00:00:00",
          "2024-04-08T00:00:00",
          "2024-04-07T00:00:00",
          "2024-04-06T00:00:00",
          "2024-04-05T00:00:00",
          "2024-04-04T00:00:00",
          "2024-04-03T00:00:00",
          "2024-04-02T00:00:00",
          "2024-04-01T00:00:00",
          "2024-03-31T00:00:00",
          "2024-03-30T00:00:00",
          "2024-03-29T00:00:00",
          "2024-03-28T00:00:00",
          "2024-03-27T00:00:00",
          "2024-03-26T00:00:00",
          "2024-03-25T00:00:00",
          "2024-03-24T00:00:00",
          "2024-03-23T00:00:00",
          "2024-03-22T00:00:00",
          "2024-03-20T00:00:00",
          "2024-03-19T00:00:00",
          "2024-03-18T00:00:00",
          "2024-03-17T00:00:00",
          "2024-03-16T00:00:00",
          "2024-03-15T00:00:00",
          "2024-03-14T00:00:00",
          "2024-03-13T00:00:00",
          "2024-03-12T00:00:00",
          "2024-03-11T00:00:00",
          "2024-03-10T00:00:00",
          "2024-03-09T00:00:00",
          "2024-03-08T00:00:00",
          "2024-03-07T00:00:00",
          "2024-03-06T00:00:00",
          "2024-03-05T00:00:00",
          "2024-03-04T00:00:00",
          "2024-03-03T00:00:00",
          "2024-03-02T00:00:00",
          "2024-03-01T00:00:00",
          "2024-02-29T00:00:00",
          "2024-02-28T00:00:00",
          "2024-02-27T00:00:00",
          "2024-02-26T00:00:00",
          "2024-02-25T00:00:00",
          "2024-02-24T00:00:00",
          "2024-02-23T00:00:00",
          "2024-02-22T00:00:00",
          "2024-02-21T00:00:00",
          "2024-02-20T00:00:00",
          "2024-02-19T00:00:00",
          "2024-02-18T00:00:00",
          "2024-02-17T00:00:00",
          "2024-02-16T00:00:00",
          "2024-02-15T00:00:00",
          "2024-02-14T00:00:00",
          "2024-02-13T00:00:00",
          "2024-02-12T00:00:00",
          "2024-02-11T00:00:00",
          "2024-02-10T00:00:00",
          "2024-02-09T00:00:00",
          "2024-02-08T00:00:00",
          "2024-02-07T00:00:00",
          "2024-02-06T00:00:00",
          "2024-02-05T00:00:00",
          "2024-02-04T00:00:00",
          "2024-02-03T00:00:00",
          "2024-02-02T00:00:00",
          "2024-02-01T00:00:00",
          "2024-01-31T00:00:00",
          "2024-01-30T00:00:00",
          "2024-01-29T00:00:00",
          "2024-01-28T00:00:00",
          "2024-01-27T00:00:00",
          "2024-01-26T00:00:00",
          "2024-01-25T00:00:00",
          "2024-01-24T00:00:00",
          "2024-01-23T00:00:00",
          "2024-01-22T00:00:00",
          "2024-01-21T00:00:00",
          "2024-01-20T00:00:00",
          "2024-01-19T00:00:00",
          "2024-01-18T00:00:00",
          "2024-01-17T00:00:00",
          "2024-01-16T00:00:00",
          "2024-01-15T00:00:00",
          "2024-01-14T00:00:00",
          "2024-01-13T00:00:00",
          "2024-01-12T00:00:00",
          "2024-01-11T00:00:00",
          "2024-01-10T00:00:00",
          "2024-01-09T00:00:00",
          "2024-01-08T00:00:00",
          "2024-01-07T00:00:00",
          "2024-01-06T00:00:00",
          "2024-01-05T00:00:00",
          "2024-01-04T00:00:00",
          "2024-01-03T00:00:00",
          "2024-01-02T00:00:00",
          "2024-01-01T00:00:00"
         ],
         "y": [
          4,
          6,
          11,
          27,
          22,
          19,
          25,
          20,
          22,
          15,
          24,
          24,
          29,
          19,
          22,
          18,
          17,
          17,
          20,
          20,
          23,
          24,
          25,
          31,
          22,
          18,
          17,
          13,
          6,
          18,
          21,
          18,
          19,
          17,
          19,
          21,
          16,
          18,
          18,
          18,
          16,
          18,
          15,
          24,
          17,
          15,
          19,
          17,
          20,
          21,
          33,
          16,
          12,
          9,
          14,
          19,
          17,
          25,
          13,
          14,
          21,
          24,
          17,
          19,
          25,
          13,
          17,
          16,
          22,
          20,
          25,
          18,
          20,
          12,
          13,
          13,
          9,
          11,
          19,
          8,
          11,
          25,
          24,
          19,
          24,
          25,
          26,
          35,
          37,
          33,
          26,
          15,
          21,
          19,
          12,
          6,
          15,
          5,
          8,
          14,
          8,
          4,
          16,
          21,
          6,
          7,
          9,
          11,
          10,
          18,
          18,
          19,
          10,
          19,
          13,
          15,
          16,
          14,
          26,
          4,
          19,
          19,
          10,
          13,
          15,
          17,
          16,
          20,
          15,
          23,
          16,
          13,
          12,
          19,
          11,
          14,
          3,
          16,
          14,
          22,
          19,
          25,
          15,
          11,
          12,
          16,
          22,
          15,
          8,
          16,
          11,
          10,
          12,
          15,
          16,
          11,
          11,
          13,
          8,
          7,
          8,
          8,
          12,
          9,
          16,
          12,
          7,
          16,
          9,
          7,
          7,
          8,
          14,
          8,
          12,
          29,
          16,
          13,
          9,
          18,
          6,
          12,
          22,
          15,
          16,
          24,
          24,
          22,
          18,
          16,
          18,
          27,
          20,
          8,
          3,
          7,
          10,
          24,
          27,
          25,
          17,
          10,
          15,
          10,
          2,
          17,
          13,
          13,
          15,
          16,
          9,
          5,
          11,
          26,
          25,
          25,
          1,
          11,
          11,
          12,
          8,
          8,
          1,
          2,
          5,
          13,
          24,
          20,
          8,
          11,
          18,
          15,
          10,
          14,
          17,
          19,
          14,
          9,
          12,
          7,
          12,
          7,
          9,
          5,
          19,
          12,
          8,
          6,
          19,
          13,
          3,
          10,
          12,
          4,
          6,
          6,
          9,
          4,
          4,
          9
         ]
        },
        {
         "mode": "lines",
         "name": "Pickup",
         "type": "scatter",
         "x": [
          "2024-09-18T00:00:00",
          "2024-09-17T00:00:00",
          "2024-09-16T00:00:00",
          "2024-09-15T00:00:00",
          "2024-09-14T00:00:00",
          "2024-09-13T00:00:00",
          "2024-09-12T00:00:00",
          "2024-09-11T00:00:00",
          "2024-09-10T00:00:00",
          "2024-09-09T00:00:00",
          "2024-09-08T00:00:00",
          "2024-09-07T00:00:00",
          "2024-09-06T00:00:00",
          "2024-09-05T00:00:00",
          "2024-09-04T00:00:00",
          "2024-09-03T00:00:00",
          "2024-09-02T00:00:00",
          "2024-09-01T00:00:00",
          "2024-08-31T00:00:00",
          "2024-08-30T00:00:00",
          "2024-08-29T00:00:00",
          "2024-08-28T00:00:00",
          "2024-08-27T00:00:00",
          "2024-08-26T00:00:00",
          "2024-08-25T00:00:00",
          "2024-08-24T00:00:00",
          "2024-08-23T00:00:00",
          "2024-08-22T00:00:00",
          "2024-08-21T00:00:00",
          "2024-08-20T00:00:00",
          "2024-08-19T00:00:00",
          "2024-08-18T00:00:00",
          "2024-08-17T00:00:00",
          "2024-08-16T00:00:00",
          "2024-08-15T00:00:00",
          "2024-08-14T00:00:00",
          "2024-08-13T00:00:00",
          "2024-08-12T00:00:00",
          "2024-08-11T00:00:00",
          "2024-08-10T00:00:00",
          "2024-08-09T00:00:00",
          "2024-08-08T00:00:00",
          "2024-08-07T00:00:00",
          "2024-08-06T00:00:00",
          "2024-08-05T00:00:00",
          "2024-08-04T00:00:00",
          "2024-08-03T00:00:00",
          "2024-08-02T00:00:00",
          "2024-08-01T00:00:00",
          "2024-07-31T00:00:00",
          "2024-07-30T00:00:00",
          "2024-07-29T00:00:00",
          "2024-07-28T00:00:00",
          "2024-07-27T00:00:00",
          "2024-07-26T00:00:00",
          "2024-07-25T00:00:00",
          "2024-07-24T00:00:00",
          "2024-07-23T00:00:00",
          "2024-07-22T00:00:00",
          "2024-07-21T00:00:00",
          "2024-07-20T00:00:00",
          "2024-07-19T00:00:00",
          "2024-07-18T00:00:00",
          "2024-07-17T00:00:00",
          "2024-07-16T00:00:00",
          "2024-07-15T00:00:00",
          "2024-07-14T00:00:00",
          "2024-07-13T00:00:00",
          "2024-07-12T00:00:00",
          "2024-07-11T00:00:00",
          "2024-07-10T00:00:00",
          "2024-07-09T00:00:00",
          "2024-07-08T00:00:00",
          "2024-07-07T00:00:00",
          "2024-07-06T00:00:00",
          "2024-07-05T00:00:00",
          "2024-07-04T00:00:00",
          "2024-07-03T00:00:00",
          "2024-07-02T00:00:00",
          "2024-07-01T00:00:00",
          "2024-06-30T00:00:00",
          "2024-06-29T00:00:00",
          "2024-06-28T00:00:00",
          "2024-06-27T00:00:00",
          "2024-06-26T00:00:00",
          "2024-06-25T00:00:00",
          "2024-06-24T00:00:00",
          "2024-06-23T00:00:00",
          "2024-06-22T00:00:00",
          "2024-06-21T00:00:00",
          "2024-06-20T00:00:00",
          "2024-06-19T00:00:00",
          "2024-06-18T00:00:00",
          "2024-06-17T00:00:00",
          "2024-06-16T00:00:00",
          "2024-06-15T00:00:00",
          "2024-06-14T00:00:00",
          "2024-06-13T00:00:00",
          "2024-06-12T00:00:00",
          "2024-06-11T00:00:00",
          "2024-06-10T00:00:00",
          "2024-06-09T00:00:00",
          "2024-06-08T00:00:00",
          "2024-06-07T00:00:00",
          "2024-06-06T00:00:00",
          "2024-06-05T00:00:00",
          "2024-06-04T00:00:00",
          "2024-06-03T00:00:00",
          "2024-06-02T00:00:00",
          "2024-06-01T00:00:00",
          "2024-05-31T00:00:00",
          "2024-05-30T00:00:00",
          "2024-05-29T00:00:00",
          "2024-05-28T00:00:00",
          "2024-05-27T00:00:00",
          "2024-05-26T00:00:00",
          "2024-05-25T00:00:00",
          "2024-05-24T00:00:00",
          "2024-05-23T00:00:00",
          "2024-05-22T00:00:00",
          "2024-05-21T00:00:00",
          "2024-05-20T00:00:00",
          "2024-05-19T00:00:00",
          "2024-05-18T00:00:00",
          "2024-05-17T00:00:00",
          "2024-05-16T00:00:00",
          "2024-05-15T00:00:00",
          "2024-05-14T00:00:00",
          "2024-05-13T00:00:00",
          "2024-05-12T00:00:00",
          "2024-05-11T00:00:00",
          "2024-05-10T00:00:00",
          "2024-05-09T00:00:00",
          "2024-05-08T00:00:00",
          "2024-05-07T00:00:00",
          "2024-05-06T00:00:00",
          "2024-05-05T00:00:00",
          "2024-05-04T00:00:00",
          "2024-05-03T00:00:00",
          "2024-05-02T00:00:00",
          "2024-05-01T00:00:00",
          "2024-04-30T00:00:00",
          "2024-04-29T00:00:00",
          "2024-04-28T00:00:00",
          "2024-04-27T00:00:00",
          "2024-04-26T00:00:00",
          "2024-04-25T00:00:00",
          "2024-04-24T00:00:00",
          "2024-04-23T00:00:00",
          "2024-04-22T00:00:00",
          "2024-04-21T00:00:00",
          "2024-04-20T00:00:00",
          "2024-04-18T00:00:00",
          "2024-04-17T00:00:00",
          "2024-04-16T00:00:00",
          "2024-04-15T00:00:00",
          "2024-04-14T00:00:00",
          "2024-04-13T00:00:00",
          "2024-04-12T00:00:00",
          "2024-04-11T00:00:00",
          "2024-04-10T00:00:00",
          "2024-04-09T00:00:00",
          "2024-04-08T00:00:00",
          "2024-04-07T00:00:00",
          "2024-04-06T00:00:00",
          "2024-04-05T00:00:00",
          "2024-04-04T00:00:00",
          "2024-04-03T00:00:00",
          "2024-04-02T00:00:00",
          "2024-04-01T00:00:00",
          "2024-03-31T00:00:00",
          "2024-03-30T00:00:00",
          "2024-03-29T00:00:00",
          "2024-03-28T00:00:00",
          "2024-03-27T00:00:00",
          "2024-03-26T00:00:00",
          "2024-03-25T00:00:00",
          "2024-03-24T00:00:00",
          "2024-03-23T00:00:00",
          "2024-03-22T00:00:00",
          "2024-03-20T00:00:00",
          "2024-03-19T00:00:00",
          "2024-03-18T00:00:00",
          "2024-03-17T00:00:00",
          "2024-03-16T00:00:00",
          "2024-03-15T00:00:00",
          "2024-03-14T00:00:00",
          "2024-03-13T00:00:00",
          "2024-03-12T00:00:00",
          "2024-03-11T00:00:00",
          "2024-03-10T00:00:00",
          "2024-03-09T00:00:00",
          "2024-03-08T00:00:00",
          "2024-03-07T00:00:00",
          "2024-03-06T00:00:00",
          "2024-03-05T00:00:00",
          "2024-03-04T00:00:00",
          "2024-03-03T00:00:00",
          "2024-03-02T00:00:00",
          "2024-03-01T00:00:00",
          "2024-02-29T00:00:00",
          "2024-02-28T00:00:00",
          "2024-02-27T00:00:00",
          "2024-02-26T00:00:00",
          "2024-02-25T00:00:00",
          "2024-02-24T00:00:00",
          "2024-02-23T00:00:00",
          "2024-02-22T00:00:00",
          "2024-02-21T00:00:00",
          "2024-02-20T00:00:00",
          "2024-02-19T00:00:00",
          "2024-02-18T00:00:00",
          "2024-02-17T00:00:00",
          "2024-02-16T00:00:00",
          "2024-02-15T00:00:00",
          "2024-02-14T00:00:00",
          "2024-02-13T00:00:00",
          "2024-02-12T00:00:00",
          "2024-02-11T00:00:00",
          "2024-02-10T00:00:00",
          "2024-02-09T00:00:00",
          "2024-02-08T00:00:00",
          "2024-02-07T00:00:00",
          "2024-02-06T00:00:00",
          "2024-02-05T00:00:00",
          "2024-02-04T00:00:00",
          "2024-02-03T00:00:00",
          "2024-02-02T00:00:00",
          "2024-02-01T00:00:00",
          "2024-01-31T00:00:00",
          "2024-01-30T00:00:00",
          "2024-01-29T00:00:00",
          "2024-01-28T00:00:00",
          "2024-01-27T00:00:00",
          "2024-01-26T00:00:00",
          "2024-01-25T00:00:00",
          "2024-01-24T00:00:00",
          "2024-01-23T00:00:00",
          "2024-01-22T00:00:00",
          "2024-01-21T00:00:00",
          "2024-01-20T00:00:00",
          "2024-01-19T00:00:00",
          "2024-01-18T00:00:00",
          "2024-01-17T00:00:00",
          "2024-01-16T00:00:00",
          "2024-01-15T00:00:00",
          "2024-01-14T00:00:00",
          "2024-01-13T00:00:00",
          "2024-01-12T00:00:00",
          "2024-01-11T00:00:00",
          "2024-01-10T00:00:00",
          "2024-01-09T00:00:00",
          "2024-01-08T00:00:00",
          "2024-01-07T00:00:00",
          "2024-01-06T00:00:00",
          "2024-01-05T00:00:00",
          "2024-01-04T00:00:00",
          "2024-01-03T00:00:00",
          "2024-01-02T00:00:00",
          "2024-01-01T00:00:00"
         ],
         "y": [
          4,
          8,
          10,
          29,
          23,
          20,
          27,
          22,
          21,
          18,
          23,
          23,
          33,
          18,
          20,
          21,
          17,
          15,
          22,
          21,
          22,
          24,
          25,
          31,
          20,
          15,
          17,
          14,
          7,
          16,
          23,
          18,
          19,
          18,
          18,
          21,
          19,
          21,
          18,
          17,
          18,
          18,
          14,
          23,
          17,
          15,
          18,
          17,
          22,
          23,
          32,
          19,
          11,
          8,
          15,
          19,
          16,
          24,
          14,
          15,
          23,
          23,
          16,
          20,
          24,
          18,
          17,
          17,
          22,
          21,
          24,
          19,
          20,
          12,
          12,
          12,
          10,
          11,
          20,
          9,
          11,
          26,
          24,
          19,
          25,
          26,
          27,
          36,
          37,
          34,
          25,
          15,
          22,
          20,
          13,
          6,
          14,
          7,
          9,
          12,
          9,
          4,
          16,
          23,
          6,
          9,
          9,
          10,
          10,
          18,
          18,
          22,
          10,
          17,
          14,
          16,
          13,
          13,
          24,
          4,
          18,
          21,
          10,
          15,
          13,
          19,
          15,
          21,
          16,
          22,
          18,
          13,
          13,
          20,
          11,
          14,
          3,
          17,
          14,
          21,
          17,
          26,
          16,
          11,
          13,
          15,
          22,
          12,
          9,
          14,
          12,
          11,
          12,
          16,
          16,
          10,
          11,
          13,
          6,
          7,
          9,
          7,
          11,
          10,
          17,
          15,
          8,
          18,
          11,
          8,
          6,
          8,
          15,
          10,
          13,
          30,
          17,
          12,
          12,
          17,
          8,
          13,
          18,
          16,
          17,
          21,
          24,
          23,
          18,
          15,
          17,
          29,
          19,
          7,
          3,
          7,
          11,
          26,
          28,
          24,
          15,
          12,
          16,
          8,
          2,
          16,
          16,
          13,
          17,
          17,
          10,
          8,
          10,
          28,
          24,
          25,
          1,
          10,
          9,
          14,
          7,
          7,
          1,
          2,
          5,
          12,
          25,
          20,
          9,
          12,
          19,
          18,
          7,
          14,
          17,
          18,
          15,
          11,
          12,
          7,
          11,
          7,
          9,
          4,
          18,
          10,
          8,
          4,
          21,
          14,
          4,
          8,
          15,
          4,
          6,
          6,
          10,
          4,
          5,
          9
         ]
        }
       ],
       "layout": {
        "template": {
         "data": {
          "bar": [
           {
            "error_x": {
             "color": "#2a3f5f"
            },
            "error_y": {
             "color": "#2a3f5f"
            },
            "marker": {
             "line": {
              "color": "#E5ECF6",
              "width": 0.5
             },
             "pattern": {
              "fillmode": "overlay",
              "size": 10,
              "solidity": 0.2
             }
            },
            "type": "bar"
           }
          ],
          "barpolar": [
           {
            "marker": {
             "line": {
              "color": "#E5ECF6",
              "width": 0.5
             },
             "pattern": {
              "fillmode": "overlay",
              "size": 10,
              "solidity": 0.2
             }
            },
            "type": "barpolar"
           }
          ],
          "carpet": [
           {
            "aaxis": {
             "endlinecolor": "#2a3f5f",
             "gridcolor": "white",
             "linecolor": "white",
             "minorgridcolor": "white",
             "startlinecolor": "#2a3f5f"
            },
            "baxis": {
             "endlinecolor": "#2a3f5f",
             "gridcolor": "white",
             "linecolor": "white",
             "minorgridcolor": "white",
             "startlinecolor": "#2a3f5f"
            },
            "type": "carpet"
           }
          ],
          "choropleth": [
           {
            "colorbar": {
             "outlinewidth": 0,
             "ticks": ""
            },
            "type": "choropleth"
           }
          ],
          "contour": [
           {
            "colorbar": {
             "outlinewidth": 0,
             "ticks": ""
            },
            "colorscale": [
             [
              0,
              "#0d0887"
             ],
             [
              0.1111111111111111,
              "#46039f"
             ],
             [
              0.2222222222222222,
              "#7201a8"
             ],
             [
              0.3333333333333333,
              "#9c179e"
             ],
             [
              0.4444444444444444,
              "#bd3786"
             ],
             [
              0.5555555555555556,
              "#d8576b"
             ],
             [
              0.6666666666666666,
              "#ed7953"
             ],
             [
              0.7777777777777778,
              "#fb9f3a"
             ],
             [
              0.8888888888888888,
              "#fdca26"
             ],
             [
              1,
              "#f0f921"
             ]
            ],
            "type": "contour"
           }
          ],
          "contourcarpet": [
           {
            "colorbar": {
             "outlinewidth": 0,
             "ticks": ""
            },
            "type": "contourcarpet"
           }
          ],
          "heatmap": [
           {
            "colorbar": {
             "outlinewidth": 0,
             "ticks": ""
            },
            "colorscale": [
             [
              0,
              "#0d0887"
             ],
             [
              0.1111111111111111,
              "#46039f"
             ],
             [
              0.2222222222222222,
              "#7201a8"
             ],
             [
              0.3333333333333333,
              "#9c179e"
             ],
             [
              0.4444444444444444,
              "#bd3786"
             ],
             [
              0.5555555555555556,
              "#d8576b"
             ],
             [
              0.6666666666666666,
              "#ed7953"
             ],
             [
              0.7777777777777778,
              "#fb9f3a"
             ],
             [
              0.8888888888888888,
              "#fdca26"
             ],
             [
              1,
              "#f0f921"
             ]
            ],
            "type": "heatmap"
           }
          ],
          "heatmapgl": [
           {
            "colorbar": {
             "outlinewidth": 0,
             "ticks": ""
            },
            "colorscale": [
             [
              0,
              "#0d0887"
             ],
             [
              0.1111111111111111,
              "#46039f"
             ],
             [
              0.2222222222222222,
              "#7201a8"
             ],
             [
              0.3333333333333333,
              "#9c179e"
             ],
             [
              0.4444444444444444,
              "#bd3786"
             ],
             [
              0.5555555555555556,
              "#d8576b"
             ],
             [
              0.6666666666666666,
              "#ed7953"
             ],
             [
              0.7777777777777778,
              "#fb9f3a"
             ],
             [
              0.8888888888888888,
              "#fdca26"
             ],
             [
              1,
              "#f0f921"
             ]
            ],
            "type": "heatmapgl"
           }
          ],
          "histogram": [
           {
            "marker": {
             "pattern": {
              "fillmode": "overlay",
              "size": 10,
              "solidity": 0.2
             }
            },
            "type": "histogram"
           }
          ],
          "histogram2d": [
           {
            "colorbar": {
             "outlinewidth": 0,
             "ticks": ""
            },
            "colorscale": [
             [
              0,
              "#0d0887"
             ],
             [
              0.1111111111111111,
              "#46039f"
             ],
             [
              0.2222222222222222,
              "#7201a8"
             ],
             [
              0.3333333333333333,
              "#9c179e"
             ],
             [
              0.4444444444444444,
              "#bd3786"
             ],
             [
              0.5555555555555556,
              "#d8576b"
             ],
             [
              0.6666666666666666,
              "#ed7953"
             ],
             [
              0.7777777777777778,
              "#fb9f3a"
             ],
             [
              0.8888888888888888,
              "#fdca26"
             ],
             [
              1,
              "#f0f921"
             ]
            ],
            "type": "histogram2d"
           }
          ],
          "histogram2dcontour": [
           {
            "colorbar": {
             "outlinewidth": 0,
             "ticks": ""
            },
            "colorscale": [
             [
              0,
              "#0d0887"
             ],
             [
              0.1111111111111111,
              "#46039f"
             ],
             [
              0.2222222222222222,
              "#7201a8"
             ],
             [
              0.3333333333333333,
              "#9c179e"
             ],
             [
              0.4444444444444444,
              "#bd3786"
             ],
             [
              0.5555555555555556,
              "#d8576b"
             ],
             [
              0.6666666666666666,
              "#ed7953"
             ],
             [
              0.7777777777777778,
              "#fb9f3a"
             ],
             [
              0.8888888888888888,
              "#fdca26"
             ],
             [
              1,
              "#f0f921"
             ]
            ],
            "type": "histogram2dcontour"
           }
          ],
          "mesh3d": [
           {
            "colorbar": {
             "outlinewidth": 0,
             "ticks": ""
            },
            "type": "mesh3d"
           }
          ],
          "parcoords": [
           {
            "line": {
             "colorbar": {
              "outlinewidth": 0,
              "ticks": ""
             }
            },
            "type": "parcoords"
           }
          ],
          "pie": [
           {
            "automargin": true,
            "type": "pie"
           }
          ],
          "scatter": [
           {
            "fillpattern": {
             "fillmode": "overlay",
             "size": 10,
             "solidity": 0.2
            },
            "type": "scatter"
           }
          ],
          "scatter3d": [
           {
            "line": {
             "colorbar": {
              "outlinewidth": 0,
              "ticks": ""
             }
            },
            "marker": {
             "colorbar": {
              "outlinewidth": 0,
              "ticks": ""
             }
            },
            "type": "scatter3d"
           }
          ],
          "scattercarpet": [
           {
            "marker": {
             "colorbar": {
              "outlinewidth": 0,
              "ticks": ""
             }
            },
            "type": "scattercarpet"
           }
          ],
          "scattergeo": [
           {
            "marker": {
             "colorbar": {
              "outlinewidth": 0,
              "ticks": ""
             }
            },
            "type": "scattergeo"
           }
          ],
          "scattergl": [
           {
            "marker": {
             "colorbar": {
              "outlinewidth": 0,
              "ticks": ""
             }
            },
            "type": "scattergl"
           }
          ],
          "scattermapbox": [
           {
            "marker": {
             "colorbar": {
              "outlinewidth": 0,
              "ticks": ""
             }
            },
            "type": "scattermapbox"
           }
          ],
          "scatterpolar": [
           {
            "marker": {
             "colorbar": {
              "outlinewidth": 0,
              "ticks": ""
             }
            },
            "type": "scatterpolar"
           }
          ],
          "scatterpolargl": [
           {
            "marker": {
             "colorbar": {
              "outlinewidth": 0,
              "ticks": ""
             }
            },
            "type": "scatterpolargl"
           }
          ],
          "scatterternary": [
           {
            "marker": {
             "colorbar": {
              "outlinewidth": 0,
              "ticks": ""
             }
            },
            "type": "scatterternary"
           }
          ],
          "surface": [
           {
            "colorbar": {
             "outlinewidth": 0,
             "ticks": ""
            },
            "colorscale": [
             [
              0,
              "#0d0887"
             ],
             [
              0.1111111111111111,
              "#46039f"
             ],
             [
              0.2222222222222222,
              "#7201a8"
             ],
             [
              0.3333333333333333,
              "#9c179e"
             ],
             [
              0.4444444444444444,
              "#bd3786"
             ],
             [
              0.5555555555555556,
              "#d8576b"
             ],
             [
              0.6666666666666666,
              "#ed7953"
             ],
             [
              0.7777777777777778,
              "#fb9f3a"
             ],
             [
              0.8888888888888888,
              "#fdca26"
             ],
             [
              1,
              "#f0f921"
             ]
            ],
            "type": "surface"
           }
          ],
          "table": [
           {
            "cells": {
             "fill": {
              "color": "#EBF0F8"
             },
             "line": {
              "color": "white"
             }
            },
            "header": {
             "fill": {
              "color": "#C8D4E3"
             },
             "line": {
              "color": "white"
             }
            },
            "type": "table"
           }
          ]
         },
         "layout": {
          "annotationdefaults": {
           "arrowcolor": "#2a3f5f",
           "arrowhead": 0,
           "arrowwidth": 1
          },
          "autotypenumbers": "strict",
          "coloraxis": {
           "colorbar": {
            "outlinewidth": 0,
            "ticks": ""
           }
          },
          "colorscale": {
           "diverging": [
            [
             0,
             "#8e0152"
            ],
            [
             0.1,
             "#c51b7d"
            ],
            [
             0.2,
             "#de77ae"
            ],
            [
             0.3,
             "#f1b6da"
            ],
            [
             0.4,
             "#fde0ef"
            ],
            [
             0.5,
             "#f7f7f7"
            ],
            [
             0.6,
             "#e6f5d0"
            ],
            [
             0.7,
             "#b8e186"
            ],
            [
             0.8,
             "#7fbc41"
            ],
            [
             0.9,
             "#4d9221"
            ],
            [
             1,
             "#276419"
            ]
           ],
           "sequential": [
            [
             0,
             "#0d0887"
            ],
            [
             0.1111111111111111,
             "#46039f"
            ],
            [
             0.2222222222222222,
             "#7201a8"
            ],
            [
             0.3333333333333333,
             "#9c179e"
            ],
            [
             0.4444444444444444,
             "#bd3786"
            ],
            [
             0.5555555555555556,
             "#d8576b"
            ],
            [
             0.6666666666666666,
             "#ed7953"
            ],
            [
             0.7777777777777778,
             "#fb9f3a"
            ],
            [
             0.8888888888888888,
             "#fdca26"
            ],
            [
             1,
             "#f0f921"
            ]
           ],
           "sequentialminus": [
            [
             0,
             "#0d0887"
            ],
            [
             0.1111111111111111,
             "#46039f"
            ],
            [
             0.2222222222222222,
             "#7201a8"
            ],
            [
             0.3333333333333333,
             "#9c179e"
            ],
            [
             0.4444444444444444,
             "#bd3786"
            ],
            [
             0.5555555555555556,
             "#d8576b"
            ],
            [
             0.6666666666666666,
             "#ed7953"
            ],
            [
             0.7777777777777778,
             "#fb9f3a"
            ],
            [
             0.8888888888888888,
             "#fdca26"
            ],
            [
             1,
             "#f0f921"
            ]
           ]
          },
          "colorway": [
           "#636efa",
           "#EF553B",
           "#00cc96",
           "#ab63fa",
           "#FFA15A",
           "#19d3f3",
           "#FF6692",
           "#B6E880",
           "#FF97FF",
           "#FECB52"
          ],
          "font": {
           "color": "#2a3f5f"
          },
          "geo": {
           "bgcolor": "white",
           "lakecolor": "white",
           "landcolor": "#E5ECF6",
           "showlakes": true,
           "showland": true,
           "subunitcolor": "white"
          },
          "hoverlabel": {
           "align": "left"
          },
          "hovermode": "closest",
          "mapbox": {
           "style": "light"
          },
          "paper_bgcolor": "white",
          "plot_bgcolor": "#E5ECF6",
          "polar": {
           "angularaxis": {
            "gridcolor": "white",
            "linecolor": "white",
            "ticks": ""
           },
           "bgcolor": "#E5ECF6",
           "radialaxis": {
            "gridcolor": "white",
            "linecolor": "white",
            "ticks": ""
           }
          },
          "scene": {
           "xaxis": {
            "backgroundcolor": "#E5ECF6",
            "gridcolor": "white",
            "gridwidth": 2,
            "linecolor": "white",
            "showbackground": true,
            "ticks": "",
            "zerolinecolor": "white"
           },
           "yaxis": {
            "backgroundcolor": "#E5ECF6",
            "gridcolor": "white",
            "gridwidth": 2,
            "linecolor": "white",
            "showbackground": true,
            "ticks": "",
            "zerolinecolor": "white"
           },
           "zaxis": {
            "backgroundcolor": "#E5ECF6",
            "gridcolor": "white",
            "gridwidth": 2,
            "linecolor": "white",
            "showbackground": true,
            "ticks": "",
            "zerolinecolor": "white"
           }
          },
          "shapedefaults": {
           "line": {
            "color": "#2a3f5f"
           }
          },
          "ternary": {
           "aaxis": {
            "gridcolor": "white",
            "linecolor": "white",
            "ticks": ""
           },
           "baxis": {
            "gridcolor": "white",
            "linecolor": "white",
            "ticks": ""
           },
           "bgcolor": "#E5ECF6",
           "caxis": {
            "gridcolor": "white",
            "linecolor": "white",
            "ticks": ""
           }
          },
          "title": {
           "x": 0.05
          },
          "xaxis": {
           "automargin": true,
           "gridcolor": "white",
           "linecolor": "white",
           "ticks": "",
           "title": {
            "standoff": 15
           },
           "zerolinecolor": "white",
           "zerolinewidth": 2
          },
          "yaxis": {
           "automargin": true,
           "gridcolor": "white",
           "linecolor": "white",
           "ticks": "",
           "title": {
            "standoff": 15
           },
           "zerolinecolor": "white",
           "zerolinewidth": 2
          }
         }
        },
        "title": {
         "text": "Time Series Line Plot"
        },
        "xaxis": {
         "title": {
          "text": "Date"
         }
        },
        "yaxis": {
         "title": {
          "text": "Value"
         }
        }
       }
      }
     },
     "metadata": {},
     "output_type": "display_data"
    }
   ],
   "source": [
    "Wik_bus_df = df_combined[df_combined['name'] == ' Wik, Kanalfähre - Busstation'].sort_values(\"Days in full_date\", ascending=False)\n",
    "fig = go.Figure()\n",
    "fig.add_trace(go.Scatter(x=Wik_bus_df['Days in full_date'], y=Wik_bus_df['# of unique dropoff_hub_id'], mode='lines', name='Dropoff'))\n",
    "fig.add_trace(go.Scatter(x=Wik_bus_df['Days in full_date'], y=Wik_bus_df['# of unique pickup_hub_id'], mode='lines', name='Pickup'))\n",
    "fig.update_layout(title='Time Series Line Plot', xaxis_title='Date', yaxis_title='Value')\n",
    "fig.show()"
   ]
  },
  {
   "cell_type": "markdown",
   "metadata": {},
   "source": [
    "# API\n",
    "## API ACCESS"
   ]
  },
  {
   "cell_type": "code",
   "execution_count": 42,
   "metadata": {},
   "outputs": [],
   "source": [
    "# .env\n",
    "config = dotenv.dotenv_values(\"paul_sprotte.env\")\n",
    "\n",
    "PASSWORD = config[\"PASSWORD\"]\n",
    "\n",
    "CLIENT_SECRET = config[\"CLIENT_SECRET\"]"
   ]
  },
  {
   "cell_type": "code",
   "execution_count": 43,
   "metadata": {},
   "outputs": [
    {
     "name": "stdout",
     "output_type": "stream",
     "text": [
      "Bearer Token successful requested\n",
      "Access Token erfolgreich in die .env-Datei geschrieben.\n",
      "eyJhbGciOiJSUzI1NiIsInR5cCIgOiAiSldUIiwia2lkIiA6ICJPbWpOY21GRmgwTjV6Wlg1eHg5Zk9mbE0xNFljTmY3WFlieG02OTJtczhBIn0.eyJleHAiOjE3MjkwNjg2NTEsImlhdCI6MTcyODkyNDY1MSwianRpIjoiZmFjYjgzYWItYWE0OC00OWZmLWI3NGMtNGVjMmY0ZjNlNmMyIiwiaXNzIjoiaHR0cHM6Ly9hY2NvdW50cy5raWVscmVnaW9uLmFkZGl4LmlvL3JlYWxtcy9pbmZvcG9ydGFsIiwiYXVkIjoiYWNjb3VudCIsInN1YiI6IjI0NzQ4NTgxLTU4MGEtNDljZS1iZmY2LTY0YmMwYmExYjY1ZiIsInR5cCI6IkJlYXJlciIsImF6cCI6InF1YW50dW1sZWFwIiwic2Vzc2lvbl9zdGF0ZSI6IjQ5MDI4YmQzLTU0YWEtNGU5NC1iODFhLWViODE5OWFjNGEzNiIsImFjciI6IjEiLCJyZWFsbV9hY2Nlc3MiOnsicm9sZXMiOlsiZGVmYXVsdC1yb2xlcy1pbmZvcG9ydGFsIiwib2ZmbGluZV9hY2Nlc3MiLCJ1bWFfYXV0aG9yaXphdGlvbiJdfSwicmVzb3VyY2VfYWNjZXNzIjp7InF1YW50dW1sZWFwIjp7InJvbGVzIjpbImRhdGEtY29uc3VtZXItcWwiXX0sImFjY291bnQiOnsicm9sZXMiOlsibWFuYWdlLWFjY291bnQiLCJtYW5hZ2UtYWNjb3VudC1saW5rcyIsInZpZXctcHJvZmlsZSJdfX0sInNjb3BlIjoicm9sZXMgcHJvZmlsZSBlbWFpbCIsInNpZCI6IjQ5MDI4YmQzLTU0YWEtNGU5NC1iODFhLWViODE5OWFjNGEzNiIsImVtYWlsX3ZlcmlmaWVkIjp0cnVlLCJuYW1lIjoiUGF1bCBCcm9kbWFubiIsInByZWZlcnJlZF91c2VybmFtZSI6ImJ1c2luZXNzLmJyb2RtYXBhQG91dGxvb2suY29tIiwibG9jYWxlIjoiZW4iLCJnaXZlbl9uYW1lIjoiUGF1bCIsImZhbWlseV9uYW1lIjoiQnJvZG1hbm4iLCJlbWFpbCI6ImJ1c2luZXNzLmJyb2RtYXBhQG91dGxvb2suY29tIn0.fanyIM0zhyS_5dLNeSSKB_vuJ2cy2oL5ata2dM2BNOBtYVtixbKd0RUgDW6sVk3NoKT3swLh9rDLLRMy-ZUXWQ0N9QV7aZjjfpq1A86x0fWDaOhUv8qFW5f6DBZUJadEuuJmvvWiHlLjr-ukzC9QOPL4-d3ryfEjNxLphQrBelkTkYjtcmqm1xNyEPFuxvZdXYud6wZNL44hbZ-EesfWCifz_hf9wSKFJn-UaOsqPOzhvhKyypJKg-NrJOcVtxBQTWFEkJXXTjfFsjWANpIZ9BqNusbgscRACAItpzYGB56Bfu2I1oMKKGrZ9ebF1j3xn_2YoFghZEKRYOdSvEqSdA\n"
     ]
    }
   ],
   "source": [
    "token_url = 'https://accounts.kielregion.addix.io/realms/infoportal/protocol/openid-connect/token'\n",
    "headers = {\n",
    "    'Content-Type': 'application/x-www-form-urlencoded'\n",
    "}\n",
    "\n",
    "data = {\n",
    "    'grant_type': 'password',\n",
    "    'username': 'business.brodmapa@outlook.com', \n",
    "    'password': PASSWORD,\n",
    "    'client_id': 'quantumleap',\n",
    "    'client_secret': 'fP81XZ5OTt5iRJ7qhyyTCv4eQtpGqc5i'\n",
    "}\n",
    "\n",
    "response = requests.post(token_url, headers=headers, data=data)\n",
    "if response.status_code == 200:\n",
    "    token_data = response.json()\n",
    "    access_token = token_data['access_token']\n",
    "    ACCESS_TOKEN = token_data['access_token']\n",
    "    print(f\"Bearer Token successful requested\")\n",
    "    if access_token:\n",
    "        dotenv.set_key('paul_sprotte.env', 'ACCESS_TOKEN', access_token)\n",
    "        print(f\"Access Token erfolgreich in die .env-Datei geschrieben.\")\n",
    "        print(access_token)\n",
    "else:\n",
    "    print(f\"Error: {response.status_code}, {response.text}\")"
   ]
  },
  {
   "cell_type": "code",
   "execution_count": 44,
   "metadata": {},
   "outputs": [
    {
     "name": "stdout",
     "output_type": "stream",
     "text": [
      "got a response\n"
     ]
    }
   ],
   "source": [
    "url = \"https://apis.kielregion.addix.io/ql/v2/entities/urn:ngsi-ld:BikeHireDockingStation:KielRegion:26889\"\n",
    "param = {\n",
    "    'type': 'BikeHireDockingStation',\n",
    "    'fromDate': '2024-09-13T00:00:00',\n",
    "    'toDate': '2024-09-13T23:59:59',\n",
    "    'attrs': 'name,totalSlotNumber,availableBikeNumber,freeSlotNumber'}\n",
    "\n",
    "header = {\n",
    "    'NGSILD-Tenant': 'infoportal',\n",
    "    'Authorization': f'Bearer {ACCESS_TOKEN}'\n",
    "}\n",
    "response = requests.get(url, headers=header, params=param)\n",
    "\n",
    "if response.status_code == 200:\n",
    "    response_data = response.json()\n",
    "    print('got a response')\n",
    "else:\n",
    "    print(f\"Error: {response.status_code}, {response.text}\")"
   ]
  },
  {
   "cell_type": "code",
   "execution_count": 45,
   "metadata": {},
   "outputs": [
    {
     "data": {
      "text/plain": [
       "'eyJhbGciOiJSUzI1NiIsInR5cCIgOiAiSldUIiwia2lkIiA6ICJPbWpOY21GRmgwTjV6Wlg1eHg5Zk9mbE0xNFljTmY3WFlieG02OTJtczhBIn0.eyJleHAiOjE3MjkwNjg2NTEsImlhdCI6MTcyODkyNDY1MSwianRpIjoiZmFjYjgzYWItYWE0OC00OWZmLWI3NGMtNGVjMmY0ZjNlNmMyIiwiaXNzIjoiaHR0cHM6Ly9hY2NvdW50cy5raWVscmVnaW9uLmFkZGl4LmlvL3JlYWxtcy9pbmZvcG9ydGFsIiwiYXVkIjoiYWNjb3VudCIsInN1YiI6IjI0NzQ4NTgxLTU4MGEtNDljZS1iZmY2LTY0YmMwYmExYjY1ZiIsInR5cCI6IkJlYXJlciIsImF6cCI6InF1YW50dW1sZWFwIiwic2Vzc2lvbl9zdGF0ZSI6IjQ5MDI4YmQzLTU0YWEtNGU5NC1iODFhLWViODE5OWFjNGEzNiIsImFjciI6IjEiLCJyZWFsbV9hY2Nlc3MiOnsicm9sZXMiOlsiZGVmYXVsdC1yb2xlcy1pbmZvcG9ydGFsIiwib2ZmbGluZV9hY2Nlc3MiLCJ1bWFfYXV0aG9yaXphdGlvbiJdfSwicmVzb3VyY2VfYWNjZXNzIjp7InF1YW50dW1sZWFwIjp7InJvbGVzIjpbImRhdGEtY29uc3VtZXItcWwiXX0sImFjY291bnQiOnsicm9sZXMiOlsibWFuYWdlLWFjY291bnQiLCJtYW5hZ2UtYWNjb3VudC1saW5rcyIsInZpZXctcHJvZmlsZSJdfX0sInNjb3BlIjoicm9sZXMgcHJvZmlsZSBlbWFpbCIsInNpZCI6IjQ5MDI4YmQzLTU0YWEtNGU5NC1iODFhLWViODE5OWFjNGEzNiIsImVtYWlsX3ZlcmlmaWVkIjp0cnVlLCJuYW1lIjoiUGF1bCBCcm9kbWFubiIsInByZWZlcnJlZF91c2VybmFtZSI6ImJ1c2luZXNzLmJyb2RtYXBhQG91dGxvb2suY29tIiwibG9jYWxlIjoiZW4iLCJnaXZlbl9uYW1lIjoiUGF1bCIsImZhbWlseV9uYW1lIjoiQnJvZG1hbm4iLCJlbWFpbCI6ImJ1c2luZXNzLmJyb2RtYXBhQG91dGxvb2suY29tIn0.fanyIM0zhyS_5dLNeSSKB_vuJ2cy2oL5ata2dM2BNOBtYVtixbKd0RUgDW6sVk3NoKT3swLh9rDLLRMy-ZUXWQ0N9QV7aZjjfpq1A86x0fWDaOhUv8qFW5f6DBZUJadEuuJmvvWiHlLjr-ukzC9QOPL4-d3ryfEjNxLphQrBelkTkYjtcmqm1xNyEPFuxvZdXYud6wZNL44hbZ-EesfWCifz_hf9wSKFJn-UaOsqPOzhvhKyypJKg-NrJOcVtxBQTWFEkJXXTjfFsjWANpIZ9BqNusbgscRACAItpzYGB56Bfu2I1oMKKGrZ9ebF1j3xn_2YoFghZEKRYOdSvEqSdA'"
      ]
     },
     "execution_count": 45,
     "metadata": {},
     "output_type": "execute_result"
    }
   ],
   "source": [
    "ACCESS_TOKEN"
   ]
  },
  {
   "cell_type": "code",
   "execution_count": 46,
   "metadata": {},
   "outputs": [
    {
     "name": "stdout",
     "output_type": "stream",
     "text": [
      "{'attributes': [{'attrName': 'availableBikeNumber', 'values': [4, 4, 4, 4, 4, 4, 4, 4, 4, 4, 4, 4, 4, 4, 4, 4, 4, 4, 4, 5, 5, 5, 5, 5, 5, 5, 5, 5, 5, 5, 5, 5, 5, 5, 5, 5, 5, 5, 5, 5, 5, 5, 5, 6, 6, 6, 6, 6, 6, 6, 6, 6, 6, 6, 6, 6, 6, 6, 6, 6, 6, 6, 6, 6, 6, 6, 6, 6, 6, 6, 6, 6, 6, 6, 6, 6, 6, 6, 6, 6, 6, 6, 6, 6, 6, 6, 6, 6, 6, 6, 6, 6, 6, 6, 6, 6, 6, 6, 6, 6, 6, 6, 6, 6, 6, 6, 6, 6, 6, 6, 6, 6, 6, 6, 6, 6, 6, 6, 6, 6, 6, 6, 6, 6, 6, 6, 6, 6, 6, 6, 6, 6, 6, 6, 6, 6, 6, 6, 6, 6, 6, 6, 6, 6, 6, 6, 6, 6, 6, 6, 6, 6, 6, 6, 6, 6, 6, 6, 6, 6, 6, 6, 6, 6, 6, 6, 6, 6, 6, 6, 6, 6, 6, 6, 6, 6, 6, 6, 6, 6, 6, 6, 6, 6, 6, 6, 6, 6, 6, 6, 6, 6, 6, 6, 6, 6, 6, 6, 6, 6, 6, 6, 6, 6, 6, 6, 6, 6, 6, 6, 5, 5, 5, 5, 5, 5, 5, 5, 5, 5, 5, 5, 5, 5, 5, 5, 5, 5, 5, 5, 5, 5, 5, 5, 5, 5, 5, 5, 5, 5, 5, 5, 5, 5, 5, 5, 5, 5, 5, 5, 5, 5, 5, 5, 5, 5, 5, 5, 5, 5, 5, 5, 5, 5, 5, 5, 5, 5, 5, 5, 4, 4, 4, 4, 4, 4, 4, 4, 4, 4, 4, 4, 4, 4, 4, 4, 4, 4, 4, 4, 4, 4, 4, 4, 4, 4, 4, 4, 4, 4, 4, 4, 4, 4, 3, 3, 3, 3, 3, 3, 3, 3, 3, 3, 3, 3, 3, 3, 3, 3, 3, 3, 3, 3, 3, 3, 3, 3, 4, 4, 4, 4, 4, 4, 4, 4, 4, 4, 4, 4, 4, 4, 4, 4, 4, 4, 4, 3, 3, 3, 3, 3, 3, 3, 2, 2, 2, 2, 2, 2, 2, 2, 2, 3, 3, 3, 3, 3, 3, 3, 3, 3, 3, 3, 3, 3, 3, 3, 3, 3, 3, 3, 3, 3, 2, 2, 2, 2, 2, 2, 1, 1, 1, 1, 1, 1, 1, 1, 1, 1, 1, 1, 1, 1, 1, 1, 1, 1, 1, 1, 1, 1, 1, 1, 1, 1, 1, 1, 1, 1, 1, 1, 1, 1, 1, 1, 1, 1, 0, 0, 0, 0, 0, 0, 0, 0, 0, 0, 0, 0, 0, 0, 0, 0, 0, 0, 0, 0, 0, 1, 1, 1, 1, 1, 1, 1, 1, 1, 1, 1, 1, 1, 1, 0, 0, 0, 0, 0, 0, 0, 0, 0, 0, 0, 0, 0, 0, 0, 0, 0, 0, 0, 0, 1, 1, 1, 1, 1, 1, 1, 1, 1, 1, 1, 1, 1, 1, 1, 1, 1, 1, 1, 1, 1, 1, 1, 1, 1, 1, 1, 1, 0, 0, 0, 0, 0, 0, 0, 0, 0, 0, 0, 0, 0, 0, 0, 0, 0, 0, 0, 0, 0, 0, 0, 0, 0, 0, 0, 0, 0, 0, 0, 0, 0, 0, 0, 0, 0, 0, 0, 0, 0, 0, 0, 0, 0, 0, 0, 0, 0, 0, 0, 0, 0, 0, 0, 0, 0, 0, 0, 0, 0, 0, 0, 0, 0, 0, 0, 0, 0, 0, 0, 0, 0, 0, 0, 0, 0, 0, 0, 0, 0, 0, 0, 0, 0, 0, 0, 0, 0, 0, 0, 0, 0, 0, 0, 0, 0, 0, 0, 0, 0, 0, 0, 0, 0, 0, 0, 0, 0, 0, 0, 0, 0, 0, 0, 0, 0, 1, 0, 0, 0, 0, 0, 0, 0, 0, 0, 0, 0, 0, 0, 0, 0, 0, 0, 0, 0, 0, 0, 0, 1, 1, 1, 1, 1, 1, 1, 1, 1, 1, 1, 1, 1, 1, 1, 1, 1, 1, 1, 1, 1, 1, 1, 1, 1, 1, 1, 1, 1, 1, 1, 1, 1, 1, 1, 1, 1, 1, 0, 0, 0, 0, 0, 0, 0, 0, 0, 0, 0, 0, 0, 0, 0, 0, 0, 0, 1, 1, 1, 1, 1, 1, 1, 1, 1, 1, 1, 1, 1, 1, 1, 1, 1, 1, 1, 1, 1, 1, 1, 1, 1, 1, 1, 0, 0, 0, 0, 0, 0, 0, 0, 0, 0, 0, 0, 0, 0, 0, 0, 0, 0, 0, 0, 0, 0, 0, 0, 0, 0, 0, 0, 0, 0, 0, 0, 0, 0, 0, 0, 0, 1, 1, 1, 1, 1, 1, 1, 1, 1, 1, 1, 1, 1, 1, 1, 1, 1, 1, 1, 0, 0, 0, 0, 0, 0, 0, 0, 0, 0, 0, 0, 0, 0, 0, 0, 0, 0, 0, 0, 0, 0, 0, 0, 0, 1, 1, 1, 1, 1, 1, 2, 3, 3, 4, 4, 4, 4, 4, 4, 4, 4, 4, 4, 4, 4, 4, 4, 5, 5, 5, 5, 5, 5, 5, 3, 3, 2, 2, 1, 1, 1, 1, 1, 1, 1, 1, 1, 1, 1, 1, 1, 1, 1, 1, 1, 1, 1, 1, 1, 1, 1, 1, 1, 1, 1, 1, 1, 1, 1, 1, 1, 1, 1, 1, 2, 2, 2, 2, 2, 2, 2, 2, 2, 2, 2, 2, 2, 2, 2, 2, 2, 2, 2, 2, 2, 2, 2, 2, 2, 2, 2, 2, 2, 2, 2, 2, 2, 2, 2, 2, 2, 2, 2, 2, 2, 2, 2, 2, 2, 2, 2, 2, 2, 2, 2, 2, 2, 1, 1, 1, 1, 1, 2, 2, 2, 2, 2, 2, 2, 3, 3, 3, 3, 3, 3, 3, 3, 3, 3, 3, 3, 3, 3, 3, 3, 3, 3, 3, 3, 3, 3, 3, 3, 2, 2, 2, 2, 3, 4, 5, 5, 6, 6, 6, 6, 6, 6, 6, 6, 6, 6, 6, 6, 6, 6, 6, 6, 6, 5, 5, 5, 5, 5, 5, 5, 5, 5, 5, 5, 4, 4, 4, 4, 4, 4, 4, 4, 4, 4, 4, 4, 4, 4, 4, 4, 4, 4, 4, 4, 4, 2, 2, 2, 2, 2, 2, 2, 2, 2, 0, 0, 0, 0, 0, 0, 0, 0, 0, 0, 0, 0, 0, 0, 0, 0, 0, 0, 0, 0, 0, 0, 0, 0, 0, 0, 0, 0, 0, 0, 0, 0, 0, 0, 0, 1, 1, 1, 1, 1, 1, 1, 1, 1, 1, 1, 1, 1, 1, 1, 1, 1, 1, 1, 1, 1, 1, 2, 2, 2, 2, 2, 2, 2, 2, 2, 1, 1, 1, 1, 1, 1, 1, 1, 0, 0, 0, 0, 0, 0, 0, 0, 0, 0, 0, 0, 0, 0, 0, 0, 0, 0, 0, 0, 0, 0, 0, 0, 0, 0, 0, 0, 0, 0, 0, 0, 0, 0, 0, 1, 1, 1, 1, 1, 1, 2, 2, 2, 2, 2, 2, 2, 2, 2, 2, 2, 2, 1, 1, 1, 1, 1, 1, 1, 1, 1, 1, 1, 1, 1, 1, 1, 1, 1, 1, 1, 1, 2, 2, 2, 2, 2, 2, 2, 2, 2, 2, 2, 2, 2, 2, 2, 2, 2, 3, 3, 3, 3, 3, 3, 3, 3, 3, 3, 3, 3, 3, 3, 3, 3, 3, 3, 3, 3, 3, 3, 3, 3, 3, 3, 4, 4, 4, 4, 4, 4, 4, 4, 4, 4, 4, 4, 4, 4, 4, 4, 4, 4, 4, 4, 4, 4, 4, 4, 4, 4, 4, 4, 4, 4, 4, 4, 4, 4, 4, 4, 4, 4, 4, 4, 4, 4, 4, 4, 4, 4, 4, 4, 4, 4, 4, 4, 4, 4, 4, 4, 4, 4, 4, 4, 4, 4, 4, 4, 4, 4, 4, 4, 4, 4, 4, 4, 4, 4, 4, 4, 4, 4, 4, 5, 5, 5, 5, 5, 5, 5, 5, 5, 5, 5, 5, 5, 5, 5, 5, 5, 5, 5, 5, 5, 5, 5, 5, 5, 5, 5, 5, 5, 5, 5, 5, 5, 5, 5, 5, 5, 5, 5, 5, 5, 5, 5, 5, 5, 5, 5, 5, 5, 5, 5, 5, 5, 5, 5, 5, 5, 5, 5, 5, 5, 5, 5, 5, 5, 5, 5, 5, 5, 5, 5, 5, 5, 5, 5, 5, 5, 5, 5, 5, 5, 5, 5, 5, 5, 5, 5, 5, 5, 5, 5, 5, 5, 5, 5, 5, 5, 5, 5, 5, 5, 5, 5, 5, 5, 5, 5, 5, 5, 5, 5, 5, 5, 5, 5, 5, 5, 5, 5, 2, 2, 2, 2, 2, 2, 2, 2, 2, 2]}, {'attrName': 'freeSlotNumber', 'values': [27, 27, 27, 27, 27, 27, 27, 27, 27, 27, 27, 27, 27, 27, 27, 27, 27, 27, 27, 26, 26, 26, 26, 26, 26, 26, 26, 26, 26, 26, 26, 26, 26, 26, 26, 26, 26, 26, 26, 26, 26, 26, 26, 25, 25, 25, 25, 25, 25, 25, 25, 25, 25, 25, 25, 25, 25, 25, 25, 25, 25, 25, 25, 25, 25, 25, 25, 25, 25, 25, 25, 25, 25, 25, 25, 25, 25, 25, 25, 25, 25, 25, 25, 25, 25, 25, 25, 25, 25, 25, 25, 25, 25, 25, 25, 25, 25, 25, 25, 25, 25, 25, 24, 24, 24, 24, 24, 24, 24, 24, 24, 24, 24, 24, 24, 24, 24, 24, 24, 24, 24, 24, 24, 24, 24, 24, 24, 24, 24, 24, 24, 24, 24, 24, 24, 24, 24, 24, 24, 24, 24, 24, 24, 24, 24, 24, 24, 24, 24, 24, 24, 24, 24, 24, 24, 24, 24, 24, 24, 24, 24, 24, 24, 24, 24, 24, 24, 24, 24, 24, 24, 24, 24, 24, 24, 24, 24, 24, 24, 24, 24, 24, 24, 24, 24, 24, 24, 24, 24, 24, 24, 24, 24, 24, 24, 24, 24, 24, 24, 24, 24, 24, 24, 24, 24, 24, 24, 24, 24, 24, 25, 25, 25, 25, 25, 25, 25, 25, 25, 25, 25, 25, 25, 25, 25, 25, 25, 25, 25, 25, 25, 25, 25, 25, 25, 25, 25, 25, 25, 25, 25, 25, 25, 25, 25, 25, 25, 25, 25, 25, 25, 25, 25, 25, 25, 25, 25, 25, 25, 25, 25, 25, 25, 25, 25, 25, 25, 25, 25, 25, 25, 25, 25, 25, 25, 25, 25, 25, 25, 25, 25, 25, 26, 26, 26, 26, 26, 26, 26, 26, 26, 26, 26, 26, 26, 26, 26, 26, 26, 26, 26, 26, 26, 26, 26, 26, 26, 26, 26, 26, 26, 26, 26, 26, 26, 26, 26, 26, 26, 27, 27, 27, 27, 27, 27, 27, 27, 27, 27, 27, 27, 27, 27, 27, 27, 27, 27, 27, 27, 27, 27, 27, 27, 27, 27, 26, 26, 26, 26, 26, 26, 27, 27, 27, 28, 28, 28, 28, 28, 28, 28, 28, 28, 28, 28, 28, 28, 28, 28, 28, 28, 28, 28, 28, 28, 28, 28, 28, 28, 28, 28, 28, 28, 28, 28, 28, 28, 28, 28, 28, 28, 28, 28, 28, 28, 28, 28, 28, 28, 28, 28, 28, 28, 28, 28, 29, 29, 28, 29, 29, 29, 29, 29, 29, 29, 29, 29, 29, 29, 29, 29, 29, 29, 29, 29, 29, 29, 29, 29, 29, 29, 29, 29, 29, 30, 30, 30, 30, 30, 30, 30, 30, 30, 30, 30, 30, 30, 30, 30, 30, 30, 30, 30, 30, 30, 30, 30, 30, 30, 30, 30, 30, 30, 29, 29, 29, 30, 30, 30, 30, 30, 30, 30, 30, 30, 30, 30, 30, 30, 30, 30, 30, 30, 30, 30, 30, 30, 30, 30, 30, 30, 30, 30, 30, 30, 30, 30, 30, 30, 30, 30, 30, 30, 30, 30, 30, 30, 30, 30, 30, 30, 29, 29, 29, 29, 30, 30, 30, 30, 30, 30, 30, 30, 30, 30, 30, 30, 30, 30, 30, 30, 30, 30, 30, 30, 30, 30, 30, 30, 30, 30, 30, 30, 30, 30, 30, 30, 30, 30, 30, 30, 30, 30, 30, 30, 30, 30, 30, 30, 30, 30, 30, 30, 30, 30, 30, 30, 30, 30, 30, 30, 30, 30, 30, 30, 30, 30, 30, 30, 30, 30, 30, 30, 30, 30, 30, 30, 30, 30, 30, 30, 30, 30, 30, 30, 30, 30, 30, 30, 30, 30, 30, 30, 30, 30, 30, 30, 30, 30, 30, 30, 30, 30, 30, 30, 30, 30, 30, 30, 30, 30, 30, 30, 30, 30, 30, 30, 30, 29, 29, 29, 29, 29, 30, 30, 30, 30, 30, 30, 30, 30, 30, 30, 30, 30, 30, 30, 30, 30, 30, 30, 30, 30, 30, 30, 30, 30, 30, 30, 30, 30, 30, 30, 30, 30, 30, 30, 30, 30, 30, 30, 30, 30, 30, 30, 30, 30, 30, 30, 30, 30, 30, 30, 30, 30, 30, 30, 30, 30, 29, 29, 29, 29, 29, 29, 29, 29, 29, 29, 30, 30, 30, 30, 30, 30, 30, 30, 30, 30, 30, 30, 30, 30, 30, 30, 30, 30, 30, 30, 30, 30, 30, 30, 30, 30, 30, 30, 30, 30, 30, 30, 30, 30, 30, 29, 29, 29, 29, 29, 29, 29, 30, 30, 30, 30, 30, 30, 30, 30, 30, 30, 30, 30, 30, 30, 30, 30, 30, 30, 30, 30, 30, 30, 30, 30, 30, 30, 30, 30, 30, 30, 30, 30, 30, 30, 30, 30, 30, 30, 30, 30, 30, 30, 30, 30, 30, 30, 30, 30, 30, 29, 30, 30, 30, 30, 30, 30, 30, 30, 30, 30, 30, 30, 30, 30, 30, 30, 30, 30, 30, 30, 30, 30, 30, 30, 29, 29, 29, 29, 29, 29, 29, 28, 28, 27, 27, 27, 27, 27, 27, 27, 27, 27, 27, 27, 27, 27, 27, 26, 26, 26, 26, 26, 26, 26, 27, 27, 27, 27, 29, 29, 29, 29, 29, 29, 29, 29, 29, 29, 29, 29, 29, 29, 29, 29, 29, 29, 29, 29, 29, 29, 29, 29, 29, 29, 29, 29, 29, 29, 29, 29, 29, 29, 29, 29, 29, 29, 29, 29, 29, 29, 29, 29, 29, 29, 29, 29, 29, 29, 29, 29, 29, 29, 29, 29, 29, 29, 29, 29, 29, 29, 29, 29, 29, 29, 29, 29, 29, 29, 29, 29, 29, 29, 29, 29, 29, 29, 29, 29, 29, 29, 29, 29, 29, 29, 29, 29, 29, 28, 28, 28, 28, 28, 28, 28, 28, 28, 28, 28, 28, 27, 27, 27, 27, 27, 27, 27, 27, 27, 27, 27, 27, 27, 27, 27, 27, 27, 27, 27, 27, 27, 27, 27, 27, 28, 28, 28, 28, 28, 27, 26, 26, 25, 25, 25, 25, 25, 25, 25, 25, 25, 25, 25, 25, 25, 25, 25, 25, 25, 25, 25, 25, 25, 25, 25, 25, 25, 25, 25, 25, 25, 26, 26, 26, 26, 26, 26, 26, 26, 26, 26, 26, 26, 26, 26, 26, 26, 26, 26, 26, 26, 27, 27, 27, 27, 28, 28, 28, 28, 28, 30, 30, 30, 30, 30, 30, 30, 30, 30, 30, 30, 30, 30, 30, 30, 30, 30, 30, 30, 30, 30, 30, 30, 30, 30, 30, 30, 30, 30, 30, 30, 30, 30, 30, 30, 29, 29, 29, 29, 29, 29, 29, 29, 29, 29, 29, 29, 29, 29, 29, 29, 29, 29, 29, 29, 29, 29, 29, 29, 29, 29, 29, 29, 29, 29, 29, 29, 29, 29, 29, 29, 29, 29, 29, 29, 29, 30, 30, 30, 30, 30, 30, 30, 30, 30, 30, 30, 30, 30, 30, 30, 30, 30, 30, 30, 30, 30, 30, 30, 30, 30, 30, 30, 30, 30, 30, 30, 30, 30, 30, 30, 30, 30, 30, 30, 29, 29, 29, 29, 29, 29, 29, 29, 29, 29, 29, 29, 29, 29, 29, 29, 29, 29, 29, 29, 29, 29, 29, 29, 29, 29, 29, 29, 29, 29, 29, 29, 29, 29, 29, 29, 29, 29, 29, 29, 29, 29, 29, 29, 29, 29, 29, 29, 29, 28, 28, 28, 28, 28, 28, 28, 28, 28, 28, 28, 28, 28, 28, 28, 28, 28, 28, 28, 28, 28, 28, 28, 28, 28, 28, 26, 26, 26, 26, 26, 26, 26, 26, 26, 26, 26, 26, 26, 26, 26, 26, 26, 26, 26, 26, 26, 26, 26, 26, 26, 26, 26, 26, 26, 26, 26, 26, 26, 26, 26, 26, 26, 26, 26, 26, 26, 26, 26, 26, 26, 26, 26, 26, 26, 26, 26, 26, 26, 26, 26, 26, 26, 26, 26, 26, 26, 26, 26, 26, 26, 26, 26, 26, 26, 26, 26, 26, 26, 26, 26, 26, 26, 26, 26, 26, 26, 26, 26, 26, 26, 26, 26, 26, 26, 26, 26, 26, 25, 25, 25, 25, 25, 25, 25, 25, 25, 25, 25, 25, 25, 25, 25, 25, 25, 25, 25, 25, 25, 25, 25, 25, 25, 25, 25, 25, 25, 25, 25, 25, 25, 25, 25, 25, 25, 25, 25, 25, 25, 25, 25, 25, 25, 25, 25, 25, 25, 25, 25, 25, 25, 25, 25, 25, 25, 25, 25, 25, 25, 25, 25, 25, 25, 25, 25, 25, 25, 25, 25, 25, 25, 25, 25, 25, 25, 25, 25, 25, 25, 25, 25, 25, 25, 25, 25, 25, 25, 25, 25, 25, 25, 25, 25, 25, 25, 25, 25, 25, 25, 25, 25, 25, 25, 25, 28, 28, 28, 28, 28, 28, 28, 28, 28, 28]}, {'attrName': 'name', 'values': ['Wilhelmplatz', 'Wilhelmplatz', 'Wilhelmplatz', 'Wilhelmplatz', 'Wilhelmplatz', 'Wilhelmplatz', 'Wilhelmplatz', 'Wilhelmplatz', 'Wilhelmplatz', 'Wilhelmplatz', 'Wilhelmplatz', 'Wilhelmplatz', 'Wilhelmplatz', 'Wilhelmplatz', 'Wilhelmplatz', 'Wilhelmplatz', 'Wilhelmplatz', 'Wilhelmplatz', 'Wilhelmplatz', 'Wilhelmplatz', 'Wilhelmplatz', 'Wilhelmplatz', 'Wilhelmplatz', 'Wilhelmplatz', 'Wilhelmplatz', 'Wilhelmplatz', 'Wilhelmplatz', 'Wilhelmplatz', 'Wilhelmplatz', 'Wilhelmplatz', 'Wilhelmplatz', 'Wilhelmplatz', 'Wilhelmplatz', 'Wilhelmplatz', 'Wilhelmplatz', 'Wilhelmplatz', 'Wilhelmplatz', 'Wilhelmplatz', 'Wilhelmplatz', 'Wilhelmplatz', 'Wilhelmplatz', 'Wilhelmplatz', 'Wilhelmplatz', 'Wilhelmplatz', 'Wilhelmplatz', 'Wilhelmplatz', 'Wilhelmplatz', 'Wilhelmplatz', 'Wilhelmplatz', 'Wilhelmplatz', 'Wilhelmplatz', 'Wilhelmplatz', 'Wilhelmplatz', 'Wilhelmplatz', 'Wilhelmplatz', 'Wilhelmplatz', 'Wilhelmplatz', 'Wilhelmplatz', 'Wilhelmplatz', 'Wilhelmplatz', 'Wilhelmplatz', 'Wilhelmplatz', 'Wilhelmplatz', 'Wilhelmplatz', 'Wilhelmplatz', 'Wilhelmplatz', 'Wilhelmplatz', 'Wilhelmplatz', 'Wilhelmplatz', 'Wilhelmplatz', 'Wilhelmplatz', 'Wilhelmplatz', 'Wilhelmplatz', 'Wilhelmplatz', 'Wilhelmplatz', 'Wilhelmplatz', 'Wilhelmplatz', 'Wilhelmplatz', 'Wilhelmplatz', 'Wilhelmplatz', 'Wilhelmplatz', 'Wilhelmplatz', 'Wilhelmplatz', 'Wilhelmplatz', 'Wilhelmplatz', 'Wilhelmplatz', 'Wilhelmplatz', 'Wilhelmplatz', 'Wilhelmplatz', 'Wilhelmplatz', 'Wilhelmplatz', 'Wilhelmplatz', 'Wilhelmplatz', 'Wilhelmplatz', 'Wilhelmplatz', 'Wilhelmplatz', 'Wilhelmplatz', 'Wilhelmplatz', 'Wilhelmplatz', 'Wilhelmplatz', 'Wilhelmplatz', 'Wilhelmplatz', 'Wilhelmplatz', 'Wilhelmplatz', 'Wilhelmplatz', 'Wilhelmplatz', 'Wilhelmplatz', 'Wilhelmplatz', 'Wilhelmplatz', 'Wilhelmplatz', 'Wilhelmplatz', 'Wilhelmplatz', 'Wilhelmplatz', 'Wilhelmplatz', 'Wilhelmplatz', 'Wilhelmplatz', 'Wilhelmplatz', 'Wilhelmplatz', 'Wilhelmplatz', 'Wilhelmplatz', 'Wilhelmplatz', 'Wilhelmplatz', 'Wilhelmplatz', 'Wilhelmplatz', 'Wilhelmplatz', 'Wilhelmplatz', 'Wilhelmplatz', 'Wilhelmplatz', 'Wilhelmplatz', 'Wilhelmplatz', 'Wilhelmplatz', 'Wilhelmplatz', 'Wilhelmplatz', 'Wilhelmplatz', 'Wilhelmplatz', 'Wilhelmplatz', 'Wilhelmplatz', 'Wilhelmplatz', 'Wilhelmplatz', 'Wilhelmplatz', 'Wilhelmplatz', 'Wilhelmplatz', 'Wilhelmplatz', 'Wilhelmplatz', 'Wilhelmplatz', 'Wilhelmplatz', 'Wilhelmplatz', 'Wilhelmplatz', 'Wilhelmplatz', 'Wilhelmplatz', 'Wilhelmplatz', 'Wilhelmplatz', 'Wilhelmplatz', 'Wilhelmplatz', 'Wilhelmplatz', 'Wilhelmplatz', 'Wilhelmplatz', 'Wilhelmplatz', 'Wilhelmplatz', 'Wilhelmplatz', 'Wilhelmplatz', 'Wilhelmplatz', 'Wilhelmplatz', 'Wilhelmplatz', 'Wilhelmplatz', 'Wilhelmplatz', 'Wilhelmplatz', 'Wilhelmplatz', 'Wilhelmplatz', 'Wilhelmplatz', 'Wilhelmplatz', 'Wilhelmplatz', 'Wilhelmplatz', 'Wilhelmplatz', 'Wilhelmplatz', 'Wilhelmplatz', 'Wilhelmplatz', 'Wilhelmplatz', 'Wilhelmplatz', 'Wilhelmplatz', 'Wilhelmplatz', 'Wilhelmplatz', 'Wilhelmplatz', 'Wilhelmplatz', 'Wilhelmplatz', 'Wilhelmplatz', 'Wilhelmplatz', 'Wilhelmplatz', 'Wilhelmplatz', 'Wilhelmplatz', 'Wilhelmplatz', 'Wilhelmplatz', 'Wilhelmplatz', 'Wilhelmplatz', 'Wilhelmplatz', 'Wilhelmplatz', 'Wilhelmplatz', 'Wilhelmplatz', 'Wilhelmplatz', 'Wilhelmplatz', 'Wilhelmplatz', 'Wilhelmplatz', 'Wilhelmplatz', 'Wilhelmplatz', 'Wilhelmplatz', 'Wilhelmplatz', 'Wilhelmplatz', 'Wilhelmplatz', 'Wilhelmplatz', 'Wilhelmplatz', 'Wilhelmplatz', 'Wilhelmplatz', 'Wilhelmplatz', 'Wilhelmplatz', 'Wilhelmplatz', 'Wilhelmplatz', 'Wilhelmplatz', 'Wilhelmplatz', 'Wilhelmplatz', 'Wilhelmplatz', 'Wilhelmplatz', 'Wilhelmplatz', 'Wilhelmplatz', 'Wilhelmplatz', 'Wilhelmplatz', 'Wilhelmplatz', 'Wilhelmplatz', 'Wilhelmplatz', 'Wilhelmplatz', 'Wilhelmplatz', 'Wilhelmplatz', 'Wilhelmplatz', 'Wilhelmplatz', 'Wilhelmplatz', 'Wilhelmplatz', 'Wilhelmplatz', 'Wilhelmplatz', 'Wilhelmplatz', 'Wilhelmplatz', 'Wilhelmplatz', 'Wilhelmplatz', 'Wilhelmplatz', 'Wilhelmplatz', 'Wilhelmplatz', 'Wilhelmplatz', 'Wilhelmplatz', 'Wilhelmplatz', 'Wilhelmplatz', 'Wilhelmplatz', 'Wilhelmplatz', 'Wilhelmplatz', 'Wilhelmplatz', 'Wilhelmplatz', 'Wilhelmplatz', 'Wilhelmplatz', 'Wilhelmplatz', 'Wilhelmplatz', 'Wilhelmplatz', 'Wilhelmplatz', 'Wilhelmplatz', 'Wilhelmplatz', 'Wilhelmplatz', 'Wilhelmplatz', 'Wilhelmplatz', 'Wilhelmplatz', 'Wilhelmplatz', 'Wilhelmplatz', 'Wilhelmplatz', 'Wilhelmplatz', 'Wilhelmplatz', 'Wilhelmplatz', 'Wilhelmplatz', 'Wilhelmplatz', 'Wilhelmplatz', 'Wilhelmplatz', 'Wilhelmplatz', 'Wilhelmplatz', 'Wilhelmplatz', 'Wilhelmplatz', 'Wilhelmplatz', 'Wilhelmplatz', 'Wilhelmplatz', 'Wilhelmplatz', 'Wilhelmplatz', 'Wilhelmplatz', 'Wilhelmplatz', 'Wilhelmplatz', 'Wilhelmplatz', 'Wilhelmplatz', 'Wilhelmplatz', 'Wilhelmplatz', 'Wilhelmplatz', 'Wilhelmplatz', 'Wilhelmplatz', 'Wilhelmplatz', 'Wilhelmplatz', 'Wilhelmplatz', 'Wilhelmplatz', 'Wilhelmplatz', 'Wilhelmplatz', 'Wilhelmplatz', 'Wilhelmplatz', 'Wilhelmplatz', 'Wilhelmplatz', 'Wilhelmplatz', 'Wilhelmplatz', 'Wilhelmplatz', 'Wilhelmplatz', 'Wilhelmplatz', 'Wilhelmplatz', 'Wilhelmplatz', 'Wilhelmplatz', 'Wilhelmplatz', 'Wilhelmplatz', 'Wilhelmplatz', 'Wilhelmplatz', 'Wilhelmplatz', 'Wilhelmplatz', 'Wilhelmplatz', 'Wilhelmplatz', 'Wilhelmplatz', 'Wilhelmplatz', 'Wilhelmplatz', 'Wilhelmplatz', 'Wilhelmplatz', 'Wilhelmplatz', 'Wilhelmplatz', 'Wilhelmplatz', 'Wilhelmplatz', 'Wilhelmplatz', 'Wilhelmplatz', 'Wilhelmplatz', 'Wilhelmplatz', 'Wilhelmplatz', 'Wilhelmplatz', 'Wilhelmplatz', 'Wilhelmplatz', 'Wilhelmplatz', 'Wilhelmplatz', 'Wilhelmplatz', 'Wilhelmplatz', 'Wilhelmplatz', 'Wilhelmplatz', 'Wilhelmplatz', 'Wilhelmplatz', 'Wilhelmplatz', 'Wilhelmplatz', 'Wilhelmplatz', 'Wilhelmplatz', 'Wilhelmplatz', 'Wilhelmplatz', 'Wilhelmplatz', 'Wilhelmplatz', 'Wilhelmplatz', 'Wilhelmplatz', 'Wilhelmplatz', 'Wilhelmplatz', 'Wilhelmplatz', 'Wilhelmplatz', 'Wilhelmplatz', 'Wilhelmplatz', 'Wilhelmplatz', 'Wilhelmplatz', 'Wilhelmplatz', 'Wilhelmplatz', 'Wilhelmplatz', 'Wilhelmplatz', 'Wilhelmplatz', 'Wilhelmplatz', 'Wilhelmplatz', 'Wilhelmplatz', 'Wilhelmplatz', 'Wilhelmplatz', 'Wilhelmplatz', 'Wilhelmplatz', 'Wilhelmplatz', 'Wilhelmplatz', 'Wilhelmplatz', 'Wilhelmplatz', 'Wilhelmplatz', 'Wilhelmplatz', 'Wilhelmplatz', 'Wilhelmplatz', 'Wilhelmplatz', 'Wilhelmplatz', 'Wilhelmplatz', 'Wilhelmplatz', 'Wilhelmplatz', 'Wilhelmplatz', 'Wilhelmplatz', 'Wilhelmplatz', 'Wilhelmplatz', 'Wilhelmplatz', 'Wilhelmplatz', 'Wilhelmplatz', 'Wilhelmplatz', 'Wilhelmplatz', 'Wilhelmplatz', 'Wilhelmplatz', 'Wilhelmplatz', 'Wilhelmplatz', 'Wilhelmplatz', 'Wilhelmplatz', 'Wilhelmplatz', 'Wilhelmplatz', 'Wilhelmplatz', 'Wilhelmplatz', 'Wilhelmplatz', 'Wilhelmplatz', 'Wilhelmplatz', 'Wilhelmplatz', 'Wilhelmplatz', 'Wilhelmplatz', 'Wilhelmplatz', 'Wilhelmplatz', 'Wilhelmplatz', 'Wilhelmplatz', 'Wilhelmplatz', 'Wilhelmplatz', 'Wilhelmplatz', 'Wilhelmplatz', 'Wilhelmplatz', 'Wilhelmplatz', 'Wilhelmplatz', 'Wilhelmplatz', 'Wilhelmplatz', 'Wilhelmplatz', 'Wilhelmplatz', 'Wilhelmplatz', 'Wilhelmplatz', 'Wilhelmplatz', 'Wilhelmplatz', 'Wilhelmplatz', 'Wilhelmplatz', 'Wilhelmplatz', 'Wilhelmplatz', 'Wilhelmplatz', 'Wilhelmplatz', 'Wilhelmplatz', 'Wilhelmplatz', 'Wilhelmplatz', 'Wilhelmplatz', 'Wilhelmplatz', 'Wilhelmplatz', 'Wilhelmplatz', 'Wilhelmplatz', 'Wilhelmplatz', 'Wilhelmplatz', 'Wilhelmplatz', 'Wilhelmplatz', 'Wilhelmplatz', 'Wilhelmplatz', 'Wilhelmplatz', 'Wilhelmplatz', 'Wilhelmplatz', 'Wilhelmplatz', 'Wilhelmplatz', 'Wilhelmplatz', 'Wilhelmplatz', 'Wilhelmplatz', 'Wilhelmplatz', 'Wilhelmplatz', 'Wilhelmplatz', 'Wilhelmplatz', 'Wilhelmplatz', 'Wilhelmplatz', 'Wilhelmplatz', 'Wilhelmplatz', 'Wilhelmplatz', 'Wilhelmplatz', 'Wilhelmplatz', 'Wilhelmplatz', 'Wilhelmplatz', 'Wilhelmplatz', 'Wilhelmplatz', 'Wilhelmplatz', 'Wilhelmplatz', 'Wilhelmplatz', 'Wilhelmplatz', 'Wilhelmplatz', 'Wilhelmplatz', 'Wilhelmplatz', 'Wilhelmplatz', 'Wilhelmplatz', 'Wilhelmplatz', 'Wilhelmplatz', 'Wilhelmplatz', 'Wilhelmplatz', 'Wilhelmplatz', 'Wilhelmplatz', 'Wilhelmplatz', 'Wilhelmplatz', 'Wilhelmplatz', 'Wilhelmplatz', 'Wilhelmplatz', 'Wilhelmplatz', 'Wilhelmplatz', 'Wilhelmplatz', 'Wilhelmplatz', 'Wilhelmplatz', 'Wilhelmplatz', 'Wilhelmplatz', 'Wilhelmplatz', 'Wilhelmplatz', 'Wilhelmplatz', 'Wilhelmplatz', 'Wilhelmplatz', 'Wilhelmplatz', 'Wilhelmplatz', 'Wilhelmplatz', 'Wilhelmplatz', 'Wilhelmplatz', 'Wilhelmplatz', 'Wilhelmplatz', 'Wilhelmplatz', 'Wilhelmplatz', 'Wilhelmplatz', 'Wilhelmplatz', 'Wilhelmplatz', 'Wilhelmplatz', 'Wilhelmplatz', 'Wilhelmplatz', 'Wilhelmplatz', 'Wilhelmplatz', 'Wilhelmplatz', 'Wilhelmplatz', 'Wilhelmplatz', 'Wilhelmplatz', 'Wilhelmplatz', 'Wilhelmplatz', 'Wilhelmplatz', 'Wilhelmplatz', 'Wilhelmplatz', 'Wilhelmplatz', 'Wilhelmplatz', 'Wilhelmplatz', 'Wilhelmplatz', 'Wilhelmplatz', 'Wilhelmplatz', 'Wilhelmplatz', 'Wilhelmplatz', 'Wilhelmplatz', 'Wilhelmplatz', 'Wilhelmplatz', 'Wilhelmplatz', 'Wilhelmplatz', 'Wilhelmplatz', 'Wilhelmplatz', 'Wilhelmplatz', 'Wilhelmplatz', 'Wilhelmplatz', 'Wilhelmplatz', 'Wilhelmplatz', 'Wilhelmplatz', 'Wilhelmplatz', 'Wilhelmplatz', 'Wilhelmplatz', 'Wilhelmplatz', 'Wilhelmplatz', 'Wilhelmplatz', 'Wilhelmplatz', 'Wilhelmplatz', 'Wilhelmplatz', 'Wilhelmplatz', 'Wilhelmplatz', 'Wilhelmplatz', 'Wilhelmplatz', 'Wilhelmplatz', 'Wilhelmplatz', 'Wilhelmplatz', 'Wilhelmplatz', 'Wilhelmplatz', 'Wilhelmplatz', 'Wilhelmplatz', 'Wilhelmplatz', 'Wilhelmplatz', 'Wilhelmplatz', 'Wilhelmplatz', 'Wilhelmplatz', 'Wilhelmplatz', 'Wilhelmplatz', 'Wilhelmplatz', 'Wilhelmplatz', 'Wilhelmplatz', 'Wilhelmplatz', 'Wilhelmplatz', 'Wilhelmplatz', 'Wilhelmplatz', 'Wilhelmplatz', 'Wilhelmplatz', 'Wilhelmplatz', 'Wilhelmplatz', 'Wilhelmplatz', 'Wilhelmplatz', 'Wilhelmplatz', 'Wilhelmplatz', 'Wilhelmplatz', 'Wilhelmplatz', 'Wilhelmplatz', 'Wilhelmplatz', 'Wilhelmplatz', 'Wilhelmplatz', 'Wilhelmplatz', 'Wilhelmplatz', 'Wilhelmplatz', 'Wilhelmplatz', 'Wilhelmplatz', 'Wilhelmplatz', 'Wilhelmplatz', 'Wilhelmplatz', 'Wilhelmplatz', 'Wilhelmplatz', 'Wilhelmplatz', 'Wilhelmplatz', 'Wilhelmplatz', 'Wilhelmplatz', 'Wilhelmplatz', 'Wilhelmplatz', 'Wilhelmplatz', 'Wilhelmplatz', 'Wilhelmplatz', 'Wilhelmplatz', 'Wilhelmplatz', 'Wilhelmplatz', 'Wilhelmplatz', 'Wilhelmplatz', 'Wilhelmplatz', 'Wilhelmplatz', 'Wilhelmplatz', 'Wilhelmplatz', 'Wilhelmplatz', 'Wilhelmplatz', 'Wilhelmplatz', 'Wilhelmplatz', 'Wilhelmplatz', 'Wilhelmplatz', 'Wilhelmplatz', 'Wilhelmplatz', 'Wilhelmplatz', 'Wilhelmplatz', 'Wilhelmplatz', 'Wilhelmplatz', 'Wilhelmplatz', 'Wilhelmplatz', 'Wilhelmplatz', 'Wilhelmplatz', 'Wilhelmplatz', 'Wilhelmplatz', 'Wilhelmplatz', 'Wilhelmplatz', 'Wilhelmplatz', 'Wilhelmplatz', 'Wilhelmplatz', 'Wilhelmplatz', 'Wilhelmplatz', 'Wilhelmplatz', 'Wilhelmplatz', 'Wilhelmplatz', 'Wilhelmplatz', 'Wilhelmplatz', 'Wilhelmplatz', 'Wilhelmplatz', 'Wilhelmplatz', 'Wilhelmplatz', 'Wilhelmplatz', 'Wilhelmplatz', 'Wilhelmplatz', 'Wilhelmplatz', 'Wilhelmplatz', 'Wilhelmplatz', 'Wilhelmplatz', 'Wilhelmplatz', 'Wilhelmplatz', 'Wilhelmplatz', 'Wilhelmplatz', 'Wilhelmplatz', 'Wilhelmplatz', 'Wilhelmplatz', 'Wilhelmplatz', 'Wilhelmplatz', 'Wilhelmplatz', 'Wilhelmplatz', 'Wilhelmplatz', 'Wilhelmplatz', 'Wilhelmplatz', 'Wilhelmplatz', 'Wilhelmplatz', 'Wilhelmplatz', 'Wilhelmplatz', 'Wilhelmplatz', 'Wilhelmplatz', 'Wilhelmplatz', 'Wilhelmplatz', 'Wilhelmplatz', 'Wilhelmplatz', 'Wilhelmplatz', 'Wilhelmplatz', 'Wilhelmplatz', 'Wilhelmplatz', 'Wilhelmplatz', 'Wilhelmplatz', 'Wilhelmplatz', 'Wilhelmplatz', 'Wilhelmplatz', 'Wilhelmplatz', 'Wilhelmplatz', 'Wilhelmplatz', 'Wilhelmplatz', 'Wilhelmplatz', 'Wilhelmplatz', 'Wilhelmplatz', 'Wilhelmplatz', 'Wilhelmplatz', 'Wilhelmplatz', 'Wilhelmplatz', 'Wilhelmplatz', 'Wilhelmplatz', 'Wilhelmplatz', 'Wilhelmplatz', 'Wilhelmplatz', 'Wilhelmplatz', 'Wilhelmplatz', 'Wilhelmplatz', 'Wilhelmplatz', 'Wilhelmplatz', 'Wilhelmplatz', 'Wilhelmplatz', 'Wilhelmplatz', 'Wilhelmplatz', 'Wilhelmplatz', 'Wilhelmplatz', 'Wilhelmplatz', 'Wilhelmplatz', 'Wilhelmplatz', 'Wilhelmplatz', 'Wilhelmplatz', 'Wilhelmplatz', 'Wilhelmplatz', 'Wilhelmplatz', 'Wilhelmplatz', 'Wilhelmplatz', 'Wilhelmplatz', 'Wilhelmplatz', 'Wilhelmplatz', 'Wilhelmplatz', 'Wilhelmplatz', 'Wilhelmplatz', 'Wilhelmplatz', 'Wilhelmplatz', 'Wilhelmplatz', 'Wilhelmplatz', 'Wilhelmplatz', 'Wilhelmplatz', 'Wilhelmplatz', 'Wilhelmplatz', 'Wilhelmplatz', 'Wilhelmplatz', 'Wilhelmplatz', 'Wilhelmplatz', 'Wilhelmplatz', 'Wilhelmplatz', 'Wilhelmplatz', 'Wilhelmplatz', 'Wilhelmplatz', 'Wilhelmplatz', 'Wilhelmplatz', 'Wilhelmplatz', 'Wilhelmplatz', 'Wilhelmplatz', 'Wilhelmplatz', 'Wilhelmplatz', 'Wilhelmplatz', 'Wilhelmplatz', 'Wilhelmplatz', 'Wilhelmplatz', 'Wilhelmplatz', 'Wilhelmplatz', 'Wilhelmplatz', 'Wilhelmplatz', 'Wilhelmplatz', 'Wilhelmplatz', 'Wilhelmplatz', 'Wilhelmplatz', 'Wilhelmplatz', 'Wilhelmplatz', 'Wilhelmplatz', 'Wilhelmplatz', 'Wilhelmplatz', 'Wilhelmplatz', 'Wilhelmplatz', 'Wilhelmplatz', 'Wilhelmplatz', 'Wilhelmplatz', 'Wilhelmplatz', 'Wilhelmplatz', 'Wilhelmplatz', 'Wilhelmplatz', 'Wilhelmplatz', 'Wilhelmplatz', 'Wilhelmplatz', 'Wilhelmplatz', 'Wilhelmplatz', 'Wilhelmplatz', 'Wilhelmplatz', 'Wilhelmplatz', 'Wilhelmplatz', 'Wilhelmplatz', 'Wilhelmplatz', 'Wilhelmplatz', 'Wilhelmplatz', 'Wilhelmplatz', 'Wilhelmplatz', 'Wilhelmplatz', 'Wilhelmplatz', 'Wilhelmplatz', 'Wilhelmplatz', 'Wilhelmplatz', 'Wilhelmplatz', 'Wilhelmplatz', 'Wilhelmplatz', 'Wilhelmplatz', 'Wilhelmplatz', 'Wilhelmplatz', 'Wilhelmplatz', 'Wilhelmplatz', 'Wilhelmplatz', 'Wilhelmplatz', 'Wilhelmplatz', 'Wilhelmplatz', 'Wilhelmplatz', 'Wilhelmplatz', 'Wilhelmplatz', 'Wilhelmplatz', 'Wilhelmplatz', 'Wilhelmplatz', 'Wilhelmplatz', 'Wilhelmplatz', 'Wilhelmplatz', 'Wilhelmplatz', 'Wilhelmplatz', 'Wilhelmplatz', 'Wilhelmplatz', 'Wilhelmplatz', 'Wilhelmplatz', 'Wilhelmplatz', 'Wilhelmplatz', 'Wilhelmplatz', 'Wilhelmplatz', 'Wilhelmplatz', 'Wilhelmplatz', 'Wilhelmplatz', 'Wilhelmplatz', 'Wilhelmplatz', 'Wilhelmplatz', 'Wilhelmplatz', 'Wilhelmplatz', 'Wilhelmplatz', 'Wilhelmplatz', 'Wilhelmplatz', 'Wilhelmplatz', 'Wilhelmplatz', 'Wilhelmplatz', 'Wilhelmplatz', 'Wilhelmplatz', 'Wilhelmplatz', 'Wilhelmplatz', 'Wilhelmplatz', 'Wilhelmplatz', 'Wilhelmplatz', 'Wilhelmplatz', 'Wilhelmplatz', 'Wilhelmplatz', 'Wilhelmplatz', 'Wilhelmplatz', 'Wilhelmplatz', 'Wilhelmplatz', 'Wilhelmplatz', 'Wilhelmplatz', 'Wilhelmplatz', 'Wilhelmplatz', 'Wilhelmplatz', 'Wilhelmplatz', 'Wilhelmplatz', 'Wilhelmplatz', 'Wilhelmplatz', 'Wilhelmplatz', 'Wilhelmplatz', 'Wilhelmplatz', 'Wilhelmplatz', 'Wilhelmplatz', 'Wilhelmplatz', 'Wilhelmplatz', 'Wilhelmplatz', 'Wilhelmplatz', 'Wilhelmplatz', 'Wilhelmplatz', 'Wilhelmplatz', 'Wilhelmplatz', 'Wilhelmplatz', 'Wilhelmplatz', 'Wilhelmplatz', 'Wilhelmplatz', 'Wilhelmplatz', 'Wilhelmplatz', 'Wilhelmplatz', 'Wilhelmplatz', 'Wilhelmplatz', 'Wilhelmplatz', 'Wilhelmplatz', 'Wilhelmplatz', 'Wilhelmplatz', 'Wilhelmplatz', 'Wilhelmplatz', 'Wilhelmplatz', 'Wilhelmplatz', 'Wilhelmplatz', 'Wilhelmplatz', 'Wilhelmplatz', 'Wilhelmplatz', 'Wilhelmplatz', 'Wilhelmplatz', 'Wilhelmplatz', 'Wilhelmplatz', 'Wilhelmplatz', 'Wilhelmplatz', 'Wilhelmplatz', 'Wilhelmplatz', 'Wilhelmplatz', 'Wilhelmplatz', 'Wilhelmplatz', 'Wilhelmplatz', 'Wilhelmplatz', 'Wilhelmplatz', 'Wilhelmplatz', 'Wilhelmplatz', 'Wilhelmplatz', 'Wilhelmplatz', 'Wilhelmplatz', 'Wilhelmplatz', 'Wilhelmplatz', 'Wilhelmplatz', 'Wilhelmplatz', 'Wilhelmplatz', 'Wilhelmplatz', 'Wilhelmplatz', 'Wilhelmplatz', 'Wilhelmplatz', 'Wilhelmplatz', 'Wilhelmplatz', 'Wilhelmplatz', 'Wilhelmplatz', 'Wilhelmplatz', 'Wilhelmplatz', 'Wilhelmplatz', 'Wilhelmplatz', 'Wilhelmplatz', 'Wilhelmplatz', 'Wilhelmplatz', 'Wilhelmplatz', 'Wilhelmplatz', 'Wilhelmplatz', 'Wilhelmplatz', 'Wilhelmplatz', 'Wilhelmplatz', 'Wilhelmplatz', 'Wilhelmplatz', 'Wilhelmplatz', 'Wilhelmplatz', 'Wilhelmplatz', 'Wilhelmplatz', 'Wilhelmplatz', 'Wilhelmplatz', 'Wilhelmplatz', 'Wilhelmplatz', 'Wilhelmplatz', 'Wilhelmplatz', 'Wilhelmplatz', 'Wilhelmplatz', 'Wilhelmplatz', 'Wilhelmplatz', 'Wilhelmplatz', 'Wilhelmplatz', 'Wilhelmplatz', 'Wilhelmplatz', 'Wilhelmplatz', 'Wilhelmplatz', 'Wilhelmplatz', 'Wilhelmplatz', 'Wilhelmplatz', 'Wilhelmplatz', 'Wilhelmplatz', 'Wilhelmplatz', 'Wilhelmplatz', 'Wilhelmplatz', 'Wilhelmplatz', 'Wilhelmplatz', 'Wilhelmplatz', 'Wilhelmplatz', 'Wilhelmplatz', 'Wilhelmplatz', 'Wilhelmplatz', 'Wilhelmplatz', 'Wilhelmplatz', 'Wilhelmplatz', 'Wilhelmplatz', 'Wilhelmplatz', 'Wilhelmplatz', 'Wilhelmplatz', 'Wilhelmplatz', 'Wilhelmplatz', 'Wilhelmplatz', 'Wilhelmplatz', 'Wilhelmplatz', 'Wilhelmplatz', 'Wilhelmplatz', 'Wilhelmplatz', 'Wilhelmplatz', 'Wilhelmplatz', 'Wilhelmplatz', 'Wilhelmplatz', 'Wilhelmplatz', 'Wilhelmplatz', 'Wilhelmplatz', 'Wilhelmplatz', 'Wilhelmplatz', 'Wilhelmplatz', 'Wilhelmplatz', 'Wilhelmplatz', 'Wilhelmplatz', 'Wilhelmplatz', 'Wilhelmplatz', 'Wilhelmplatz', 'Wilhelmplatz', 'Wilhelmplatz', 'Wilhelmplatz', 'Wilhelmplatz', 'Wilhelmplatz', 'Wilhelmplatz', 'Wilhelmplatz', 'Wilhelmplatz', 'Wilhelmplatz', 'Wilhelmplatz', 'Wilhelmplatz', 'Wilhelmplatz', 'Wilhelmplatz', 'Wilhelmplatz', 'Wilhelmplatz', 'Wilhelmplatz', 'Wilhelmplatz', 'Wilhelmplatz', 'Wilhelmplatz', 'Wilhelmplatz', 'Wilhelmplatz', 'Wilhelmplatz', 'Wilhelmplatz', 'Wilhelmplatz', 'Wilhelmplatz', 'Wilhelmplatz', 'Wilhelmplatz', 'Wilhelmplatz', 'Wilhelmplatz', 'Wilhelmplatz', 'Wilhelmplatz', 'Wilhelmplatz', 'Wilhelmplatz', 'Wilhelmplatz', 'Wilhelmplatz', 'Wilhelmplatz', 'Wilhelmplatz', 'Wilhelmplatz', 'Wilhelmplatz', 'Wilhelmplatz', 'Wilhelmplatz', 'Wilhelmplatz', 'Wilhelmplatz', 'Wilhelmplatz', 'Wilhelmplatz', 'Wilhelmplatz', 'Wilhelmplatz', 'Wilhelmplatz', 'Wilhelmplatz', 'Wilhelmplatz', 'Wilhelmplatz', 'Wilhelmplatz', 'Wilhelmplatz', 'Wilhelmplatz', 'Wilhelmplatz', 'Wilhelmplatz', 'Wilhelmplatz', 'Wilhelmplatz', 'Wilhelmplatz', 'Wilhelmplatz', 'Wilhelmplatz', 'Wilhelmplatz', 'Wilhelmplatz', 'Wilhelmplatz', 'Wilhelmplatz', 'Wilhelmplatz', 'Wilhelmplatz', 'Wilhelmplatz', 'Wilhelmplatz', 'Wilhelmplatz', 'Wilhelmplatz', 'Wilhelmplatz', 'Wilhelmplatz', 'Wilhelmplatz', 'Wilhelmplatz', 'Wilhelmplatz', 'Wilhelmplatz', 'Wilhelmplatz', 'Wilhelmplatz', 'Wilhelmplatz', 'Wilhelmplatz', 'Wilhelmplatz', 'Wilhelmplatz', 'Wilhelmplatz', 'Wilhelmplatz', 'Wilhelmplatz', 'Wilhelmplatz', 'Wilhelmplatz', 'Wilhelmplatz', 'Wilhelmplatz', 'Wilhelmplatz', 'Wilhelmplatz', 'Wilhelmplatz', 'Wilhelmplatz', 'Wilhelmplatz', 'Wilhelmplatz', 'Wilhelmplatz', 'Wilhelmplatz', 'Wilhelmplatz', 'Wilhelmplatz', 'Wilhelmplatz', 'Wilhelmplatz', 'Wilhelmplatz', 'Wilhelmplatz', 'Wilhelmplatz', 'Wilhelmplatz', 'Wilhelmplatz', 'Wilhelmplatz', 'Wilhelmplatz', 'Wilhelmplatz', 'Wilhelmplatz', 'Wilhelmplatz', 'Wilhelmplatz', 'Wilhelmplatz', 'Wilhelmplatz', 'Wilhelmplatz', 'Wilhelmplatz', 'Wilhelmplatz', 'Wilhelmplatz', 'Wilhelmplatz', 'Wilhelmplatz', 'Wilhelmplatz', 'Wilhelmplatz', 'Wilhelmplatz', 'Wilhelmplatz', 'Wilhelmplatz', 'Wilhelmplatz', 'Wilhelmplatz', 'Wilhelmplatz', 'Wilhelmplatz', 'Wilhelmplatz', 'Wilhelmplatz', 'Wilhelmplatz', 'Wilhelmplatz', 'Wilhelmplatz', 'Wilhelmplatz', 'Wilhelmplatz', 'Wilhelmplatz', 'Wilhelmplatz', 'Wilhelmplatz', 'Wilhelmplatz', 'Wilhelmplatz', 'Wilhelmplatz', 'Wilhelmplatz', 'Wilhelmplatz', 'Wilhelmplatz', 'Wilhelmplatz', 'Wilhelmplatz', 'Wilhelmplatz', 'Wilhelmplatz', 'Wilhelmplatz', 'Wilhelmplatz', 'Wilhelmplatz', 'Wilhelmplatz', 'Wilhelmplatz', 'Wilhelmplatz', 'Wilhelmplatz', 'Wilhelmplatz', 'Wilhelmplatz', 'Wilhelmplatz', 'Wilhelmplatz', 'Wilhelmplatz', 'Wilhelmplatz', 'Wilhelmplatz', 'Wilhelmplatz', 'Wilhelmplatz', 'Wilhelmplatz', 'Wilhelmplatz', 'Wilhelmplatz', 'Wilhelmplatz', 'Wilhelmplatz', 'Wilhelmplatz', 'Wilhelmplatz', 'Wilhelmplatz', 'Wilhelmplatz', 'Wilhelmplatz', 'Wilhelmplatz', 'Wilhelmplatz', 'Wilhelmplatz', 'Wilhelmplatz', 'Wilhelmplatz', 'Wilhelmplatz', 'Wilhelmplatz', 'Wilhelmplatz', 'Wilhelmplatz', 'Wilhelmplatz', 'Wilhelmplatz', 'Wilhelmplatz', 'Wilhelmplatz', 'Wilhelmplatz', 'Wilhelmplatz', 'Wilhelmplatz', 'Wilhelmplatz', 'Wilhelmplatz', 'Wilhelmplatz', 'Wilhelmplatz', 'Wilhelmplatz', 'Wilhelmplatz', 'Wilhelmplatz', 'Wilhelmplatz', 'Wilhelmplatz', 'Wilhelmplatz', 'Wilhelmplatz', 'Wilhelmplatz', 'Wilhelmplatz', 'Wilhelmplatz', 'Wilhelmplatz', 'Wilhelmplatz', 'Wilhelmplatz', 'Wilhelmplatz', 'Wilhelmplatz', 'Wilhelmplatz', 'Wilhelmplatz', 'Wilhelmplatz', 'Wilhelmplatz', 'Wilhelmplatz', 'Wilhelmplatz', 'Wilhelmplatz', 'Wilhelmplatz', 'Wilhelmplatz', 'Wilhelmplatz', 'Wilhelmplatz', 'Wilhelmplatz', 'Wilhelmplatz', 'Wilhelmplatz', 'Wilhelmplatz', 'Wilhelmplatz', 'Wilhelmplatz', 'Wilhelmplatz', 'Wilhelmplatz', 'Wilhelmplatz', 'Wilhelmplatz', 'Wilhelmplatz', 'Wilhelmplatz', 'Wilhelmplatz', 'Wilhelmplatz', 'Wilhelmplatz', 'Wilhelmplatz', 'Wilhelmplatz', 'Wilhelmplatz', 'Wilhelmplatz', 'Wilhelmplatz', 'Wilhelmplatz', 'Wilhelmplatz', 'Wilhelmplatz', 'Wilhelmplatz', 'Wilhelmplatz', 'Wilhelmplatz', 'Wilhelmplatz', 'Wilhelmplatz', 'Wilhelmplatz', 'Wilhelmplatz', 'Wilhelmplatz', 'Wilhelmplatz', 'Wilhelmplatz', 'Wilhelmplatz', 'Wilhelmplatz', 'Wilhelmplatz', 'Wilhelmplatz', 'Wilhelmplatz', 'Wilhelmplatz', 'Wilhelmplatz', 'Wilhelmplatz', 'Wilhelmplatz', 'Wilhelmplatz', 'Wilhelmplatz', 'Wilhelmplatz', 'Wilhelmplatz', 'Wilhelmplatz', 'Wilhelmplatz', 'Wilhelmplatz', 'Wilhelmplatz', 'Wilhelmplatz', 'Wilhelmplatz', 'Wilhelmplatz', 'Wilhelmplatz', 'Wilhelmplatz', 'Wilhelmplatz', 'Wilhelmplatz', 'Wilhelmplatz', 'Wilhelmplatz', 'Wilhelmplatz', 'Wilhelmplatz', 'Wilhelmplatz', 'Wilhelmplatz', 'Wilhelmplatz', 'Wilhelmplatz', 'Wilhelmplatz', 'Wilhelmplatz', 'Wilhelmplatz', 'Wilhelmplatz', 'Wilhelmplatz', 'Wilhelmplatz', 'Wilhelmplatz', 'Wilhelmplatz', 'Wilhelmplatz', 'Wilhelmplatz', 'Wilhelmplatz', 'Wilhelmplatz', 'Wilhelmplatz', 'Wilhelmplatz', 'Wilhelmplatz', 'Wilhelmplatz', 'Wilhelmplatz', 'Wilhelmplatz', 'Wilhelmplatz', 'Wilhelmplatz', 'Wilhelmplatz', 'Wilhelmplatz', 'Wilhelmplatz', 'Wilhelmplatz', 'Wilhelmplatz', 'Wilhelmplatz', 'Wilhelmplatz', 'Wilhelmplatz', 'Wilhelmplatz', 'Wilhelmplatz', 'Wilhelmplatz', 'Wilhelmplatz', 'Wilhelmplatz', 'Wilhelmplatz', 'Wilhelmplatz', 'Wilhelmplatz', 'Wilhelmplatz', 'Wilhelmplatz', 'Wilhelmplatz', 'Wilhelmplatz', 'Wilhelmplatz', 'Wilhelmplatz', 'Wilhelmplatz', 'Wilhelmplatz', 'Wilhelmplatz', 'Wilhelmplatz', 'Wilhelmplatz', 'Wilhelmplatz', 'Wilhelmplatz', 'Wilhelmplatz', 'Wilhelmplatz', 'Wilhelmplatz', 'Wilhelmplatz', 'Wilhelmplatz', 'Wilhelmplatz', 'Wilhelmplatz', 'Wilhelmplatz', 'Wilhelmplatz', 'Wilhelmplatz', 'Wilhelmplatz', 'Wilhelmplatz', 'Wilhelmplatz', 'Wilhelmplatz', 'Wilhelmplatz', 'Wilhelmplatz', 'Wilhelmplatz', 'Wilhelmplatz', 'Wilhelmplatz', 'Wilhelmplatz', 'Wilhelmplatz', 'Wilhelmplatz', 'Wilhelmplatz', 'Wilhelmplatz', 'Wilhelmplatz', 'Wilhelmplatz', 'Wilhelmplatz', 'Wilhelmplatz', 'Wilhelmplatz', 'Wilhelmplatz', 'Wilhelmplatz', 'Wilhelmplatz', 'Wilhelmplatz', 'Wilhelmplatz', 'Wilhelmplatz', 'Wilhelmplatz', 'Wilhelmplatz', 'Wilhelmplatz', 'Wilhelmplatz', 'Wilhelmplatz', 'Wilhelmplatz', 'Wilhelmplatz', 'Wilhelmplatz', 'Wilhelmplatz', 'Wilhelmplatz', 'Wilhelmplatz', 'Wilhelmplatz', 'Wilhelmplatz', 'Wilhelmplatz', 'Wilhelmplatz', 'Wilhelmplatz', 'Wilhelmplatz', 'Wilhelmplatz', 'Wilhelmplatz', 'Wilhelmplatz', 'Wilhelmplatz', 'Wilhelmplatz', 'Wilhelmplatz', 'Wilhelmplatz', 'Wilhelmplatz', 'Wilhelmplatz', 'Wilhelmplatz', 'Wilhelmplatz', 'Wilhelmplatz', 'Wilhelmplatz', 'Wilhelmplatz', 'Wilhelmplatz', 'Wilhelmplatz', 'Wilhelmplatz', 'Wilhelmplatz']}, {'attrName': 'totalSlotNumber', 'values': [30, 30, 30, 30, 30, 30, 30, 30, 30, 30, 30, 30, 30, 30, 30, 30, 30, 30, 30, 30, 30, 30, 30, 30, 30, 30, 30, 30, 30, 30, 30, 30, 30, 30, 30, 30, 30, 30, 30, 30, 30, 30, 30, 30, 30, 30, 30, 30, 30, 30, 30, 30, 30, 30, 30, 30, 30, 30, 30, 30, 30, 30, 30, 30, 30, 30, 30, 30, 30, 30, 30, 30, 30, 30, 30, 30, 30, 30, 30, 30, 30, 30, 30, 30, 30, 30, 30, 30, 30, 30, 30, 30, 30, 30, 30, 30, 30, 30, 30, 30, 30, 30, 30, 30, 30, 30, 30, 30, 30, 30, 30, 30, 30, 30, 30, 30, 30, 30, 30, 30, 30, 30, 30, 30, 30, 30, 30, 30, 30, 30, 30, 30, 30, 30, 30, 30, 30, 30, 30, 30, 30, 30, 30, 30, 30, 30, 30, 30, 30, 30, 30, 30, 30, 30, 30, 30, 30, 30, 30, 30, 30, 30, 30, 30, 30, 30, 30, 30, 30, 30, 30, 30, 30, 30, 30, 30, 30, 30, 30, 30, 30, 30, 30, 30, 30, 30, 30, 30, 30, 30, 30, 30, 30, 30, 30, 30, 30, 30, 30, 30, 30, 30, 30, 30, 30, 30, 30, 30, 30, 30, 30, 30, 30, 30, 30, 30, 30, 30, 30, 30, 30, 30, 30, 30, 30, 30, 30, 30, 30, 30, 30, 30, 30, 30, 30, 30, 30, 30, 30, 30, 30, 30, 30, 30, 30, 30, 30, 30, 30, 30, 30, 30, 30, 30, 30, 30, 30, 30, 30, 30, 30, 30, 30, 30, 30, 30, 30, 30, 30, 30, 30, 30, 30, 30, 30, 30, 30, 30, 30, 30, 30, 30, 30, 30, 30, 30, 30, 30, 30, 30, 30, 30, 30, 30, 30, 30, 30, 30, 30, 30, 30, 30, 30, 30, 30, 30, 30, 30, 30, 30, 30, 30, 30, 30, 30, 30, 30, 30, 30, 30, 30, 30, 30, 30, 30, 30, 30, 30, 30, 30, 30, 30, 30, 30, 30, 30, 30, 30, 30, 30, 30, 30, 30, 30, 30, 30, 30, 30, 30, 30, 30, 30, 30, 30, 30, 30, 30, 30, 30, 30, 30, 30, 30, 30, 30, 30, 30, 30, 30, 30, 30, 30, 30, 30, 30, 30, 30, 30, 30, 30, 30, 30, 30, 30, 30, 30, 30, 30, 30, 30, 30, 30, 30, 30, 30, 30, 30, 30, 30, 30, 30, 30, 30, 30, 30, 30, 30, 30, 30, 30, 30, 30, 30, 30, 30, 30, 30, 30, 30, 30, 30, 30, 30, 30, 30, 30, 30, 30, 30, 30, 30, 30, 30, 30, 30, 30, 30, 30, 30, 30, 30, 30, 30, 30, 30, 30, 30, 30, 30, 30, 30, 30, 30, 30, 30, 30, 30, 30, 30, 30, 30, 30, 30, 30, 30, 30, 30, 30, 30, 30, 30, 30, 30, 30, 30, 30, 30, 30, 30, 30, 30, 30, 30, 30, 30, 30, 30, 30, 30, 30, 30, 30, 30, 30, 30, 30, 30, 30, 30, 30, 30, 30, 30, 30, 30, 30, 30, 30, 30, 30, 30, 30, 30, 30, 30, 30, 30, 30, 30, 30, 30, 30, 30, 30, 30, 30, 30, 30, 30, 30, 30, 30, 30, 30, 30, 30, 30, 30, 30, 30, 30, 30, 30, 30, 30, 30, 30, 30, 30, 30, 30, 30, 30, 30, 30, 30, 30, 30, 30, 30, 30, 30, 30, 30, 30, 30, 30, 30, 30, 30, 30, 30, 30, 30, 30, 30, 30, 30, 30, 30, 30, 30, 30, 30, 30, 30, 30, 30, 30, 30, 30, 30, 30, 30, 30, 30, 30, 30, 30, 30, 30, 30, 30, 30, 30, 30, 30, 30, 30, 30, 30, 30, 30, 30, 30, 30, 30, 30, 30, 30, 30, 30, 30, 30, 30, 30, 30, 30, 30, 30, 30, 30, 30, 30, 30, 30, 30, 30, 30, 30, 30, 30, 30, 30, 30, 30, 30, 30, 30, 30, 30, 30, 30, 30, 30, 30, 30, 30, 30, 30, 30, 30, 30, 30, 30, 30, 30, 30, 30, 30, 30, 30, 30, 30, 30, 30, 30, 30, 30, 30, 30, 30, 30, 30, 30, 30, 30, 30, 30, 30, 30, 30, 30, 30, 30, 30, 30, 30, 30, 30, 30, 30, 30, 30, 30, 30, 30, 30, 30, 30, 30, 30, 30, 30, 30, 30, 30, 30, 30, 30, 30, 30, 30, 30, 30, 30, 30, 30, 30, 30, 30, 30, 30, 30, 30, 30, 30, 30, 30, 30, 30, 30, 30, 30, 30, 30, 30, 30, 30, 30, 30, 30, 30, 30, 30, 30, 30, 30, 30, 30, 30, 30, 30, 30, 30, 30, 30, 30, 30, 30, 30, 30, 30, 30, 30, 30, 30, 30, 30, 30, 30, 30, 30, 30, 30, 30, 30, 30, 30, 30, 30, 30, 30, 30, 30, 30, 30, 30, 30, 30, 30, 30, 30, 30, 30, 30, 30, 30, 30, 30, 30, 30, 30, 30, 30, 30, 30, 30, 30, 30, 30, 30, 30, 30, 30, 30, 30, 30, 30, 30, 30, 30, 30, 30, 30, 30, 30, 30, 30, 30, 30, 30, 30, 30, 30, 30, 30, 30, 30, 30, 30, 30, 30, 30, 30, 30, 30, 30, 30, 30, 30, 30, 30, 30, 30, 30, 30, 30, 30, 30, 30, 30, 30, 30, 30, 30, 30, 30, 30, 30, 30, 30, 30, 30, 30, 30, 30, 30, 30, 30, 30, 30, 30, 30, 30, 30, 30, 30, 30, 30, 30, 30, 30, 30, 30, 30, 30, 30, 30, 30, 30, 30, 30, 30, 30, 30, 30, 30, 30, 30, 30, 30, 30, 30, 30, 30, 30, 30, 30, 30, 30, 30, 30, 30, 30, 30, 30, 30, 30, 30, 30, 30, 30, 30, 30, 30, 30, 30, 30, 30, 30, 30, 30, 30, 30, 30, 30, 30, 30, 30, 30, 30, 30, 30, 30, 30, 30, 30, 30, 30, 30, 30, 30, 30, 30, 30, 30, 30, 30, 30, 30, 30, 30, 30, 30, 30, 30, 30, 30, 30, 30, 30, 30, 30, 30, 30, 30, 30, 30, 30, 30, 30, 30, 30, 30, 30, 30, 30, 30, 30, 30, 30, 30, 30, 30, 30, 30, 30, 30, 30, 30, 30, 30, 30, 30, 30, 30, 30, 30, 30, 30, 30, 30, 30, 30, 30, 30, 30, 30, 30, 30, 30, 30, 30, 30, 30, 30, 30, 30, 30, 30, 30, 30, 30, 30, 30, 30, 30, 30, 30, 30, 30, 30, 30, 30, 30, 30, 30, 30, 30, 30, 30, 30, 30, 30, 30, 30, 30, 30, 30, 30, 30, 30, 30, 30, 30, 30, 30, 30, 30, 30, 30, 30, 30, 30, 30, 30, 30, 30, 30, 30, 30, 30, 30, 30, 30, 30, 30, 30, 30, 30, 30, 30, 30, 30, 30, 30, 30, 30, 30, 30, 30, 30, 30, 30, 30, 30, 30, 30, 30, 30, 30, 30, 30, 30, 30, 30, 30, 30, 30, 30, 30, 30, 30, 30, 30, 30, 30, 30, 30, 30, 30, 30, 30, 30, 30, 30, 30, 30, 30, 30, 30, 30, 30, 30, 30, 30, 30, 30, 30, 30, 30, 30, 30, 30, 30, 30, 30, 30, 30, 30, 30, 30, 30, 30, 30, 30, 30, 30, 30, 30, 30, 30, 30, 30, 30, 30, 30, 30, 30, 30, 30, 30, 30, 30, 30, 30, 30, 30, 30, 30, 30, 30, 30, 30, 30, 30, 30, 30, 30, 30, 30, 30, 30, 30, 30, 30, 30, 30, 30, 30, 30, 30, 30, 30, 30, 30, 30, 30, 30, 30, 30, 30, 30, 30, 30, 30, 30, 30, 30, 30, 30, 30, 30, 30, 30, 30, 30, 30, 30, 30, 30, 30, 30, 30, 30, 30, 30, 30, 30, 30, 30, 30, 30, 30, 30, 30, 30, 30, 30, 30, 30, 30, 30, 30, 30, 30, 30, 30, 30, 30, 30, 30, 30, 30, 30, 30, 30, 30, 30, 30, 30, 30, 30, 30, 30, 30, 30, 30, 30, 30, 30, 30, 30, 30, 30, 30, 30, 30, 30, 30, 30, 30, 30, 30, 30, 30, 30, 30, 30, 30, 30, 30, 30, 30, 30, 30, 30, 30, 30, 30, 30, 30, 30, 30, 30, 30, 30, 30, 30, 30, 30, 30, 30, 30, 30, 30, 30, 30, 30, 30, 30, 30, 30, 30, 30, 30, 30, 30, 30, 30, 30, 30, 30, 30, 30, 30, 30, 30, 30, 30, 30, 30, 30, 30, 30, 30, 30, 30, 30, 30, 30, 30, 30, 30, 30, 30, 30, 30, 30, 30, 30, 30, 30, 30, 30, 30, 30, 30, 30, 30, 30, 30, 30, 30, 30, 30, 30, 30, 30, 30, 30, 30, 30, 30, 30, 30, 30, 30, 30, 30, 30, 30, 30, 30, 30, 30, 30]}], 'entityId': 'urn:ngsi-ld:BikeHireDockingStation:KielRegion:26889', 'entityType': 'BikeHireDockingStation', 'index': ['2024-09-13T00:00:11.633+00:00', '2024-09-13T00:01:09.004+00:00', '2024-09-13T00:02:09.420+00:00', '2024-09-13T00:03:09.117+00:00', '2024-09-13T00:04:09.088+00:00', '2024-09-13T00:05:09.118+00:00', '2024-09-13T00:06:09.118+00:00', '2024-09-13T00:07:09.200+00:00', '2024-09-13T00:08:09.307+00:00', '2024-09-13T00:09:09.421+00:00', '2024-09-13T00:10:09.127+00:00', '2024-09-13T00:11:09.108+00:00', '2024-09-13T00:12:09.250+00:00', '2024-09-13T00:13:09.287+00:00', '2024-09-13T00:14:09.143+00:00', '2024-09-13T00:15:09.136+00:00', '2024-09-13T00:16:09.120+00:00', '2024-09-13T00:17:09.434+00:00', '2024-09-13T00:18:09.412+00:00', '2024-09-13T00:19:09.344+00:00', '2024-09-13T00:20:09.231+00:00', '2024-09-13T00:21:09.107+00:00', '2024-09-13T00:22:09.492+00:00', '2024-09-13T00:23:09.303+00:00', '2024-09-13T00:24:09.788+00:00', '2024-09-13T00:25:09.277+00:00', '2024-09-13T00:26:09.175+00:00', '2024-09-13T00:27:09.256+00:00', '2024-09-13T00:28:09.148+00:00', '2024-09-13T00:29:09.273+00:00', '2024-09-13T00:30:09.182+00:00', '2024-09-13T00:31:09.302+00:00', '2024-09-13T00:32:09.614+00:00', '2024-09-13T00:33:09.696+00:00', '2024-09-13T00:34:09.387+00:00', '2024-09-13T00:35:09.206+00:00', '2024-09-13T00:36:09.180+00:00', '2024-09-13T00:37:09.561+00:00', '2024-09-13T00:38:09.164+00:00', '2024-09-13T00:39:09.191+00:00', '2024-09-13T00:40:09.183+00:00', '2024-09-13T00:41:09.186+00:00', '2024-09-13T00:42:09.759+00:00', '2024-09-13T00:43:09.198+00:00', '2024-09-13T00:44:09.308+00:00', '2024-09-13T00:45:09.450+00:00', '2024-09-13T00:46:09.240+00:00', '2024-09-13T00:47:09.858+00:00', '2024-09-13T00:48:09.248+00:00', '2024-09-13T00:49:09.147+00:00', '2024-09-13T00:50:09.206+00:00', '2024-09-13T00:51:09.143+00:00', '2024-09-13T00:52:09.251+00:00', '2024-09-13T00:53:09.418+00:00', '2024-09-13T00:54:09.422+00:00', '2024-09-13T00:55:09.553+00:00', '2024-09-13T00:56:09.506+00:00', '2024-09-13T00:57:09.977+00:00', '2024-09-13T00:58:09.569+00:00', '2024-09-13T00:59:09.475+00:00', '2024-09-13T01:00:09.308+00:00', '2024-09-13T01:01:09.187+00:00', '2024-09-13T01:02:09.164+00:00', '2024-09-13T01:03:09.186+00:00', '2024-09-13T01:04:09.455+00:00', '2024-09-13T01:05:09.364+00:00', '2024-09-13T01:06:09.168+00:00', '2024-09-13T01:07:09.554+00:00', '2024-09-13T01:08:09.263+00:00', '2024-09-13T01:09:09.154+00:00', '2024-09-13T01:10:09.586+00:00', '2024-09-13T01:11:09.326+00:00', '2024-09-13T01:12:09.696+00:00', '2024-09-13T01:13:08.964+00:00', '2024-09-13T01:14:09.414+00:00', '2024-09-13T01:15:08.958+00:00', '2024-09-13T01:16:08.850+00:00', '2024-09-13T01:17:08.960+00:00', '2024-09-13T01:18:08.855+00:00', '2024-09-13T01:19:08.974+00:00', '2024-09-13T01:20:09.223+00:00', '2024-09-13T01:21:09.106+00:00', '2024-09-13T01:22:09.031+00:00', '2024-09-13T01:23:09.075+00:00', '2024-09-13T01:24:09.198+00:00', '2024-09-13T01:25:09.118+00:00', '2024-09-13T01:26:08.868+00:00', '2024-09-13T01:27:09.415+00:00', '2024-09-13T01:28:08.903+00:00', '2024-09-13T01:29:08.902+00:00', '2024-09-13T01:30:09.118+00:00', '2024-09-13T01:31:09.263+00:00', '2024-09-13T01:32:09.150+00:00', '2024-09-13T01:33:08.848+00:00', '2024-09-13T01:34:08.971+00:00', '2024-09-13T01:35:08.768+00:00', '2024-09-13T01:36:09.011+00:00', '2024-09-13T01:37:09.152+00:00', '2024-09-13T01:38:08.821+00:00', '2024-09-13T01:39:09.217+00:00', '2024-09-13T01:40:09.048+00:00', '2024-09-13T01:41:08.739+00:00', '2024-09-13T01:42:10.532+00:00', '2024-09-13T01:43:09.523+00:00', '2024-09-13T01:44:09.523+00:00', '2024-09-13T01:45:09.563+00:00', '2024-09-13T01:46:09.398+00:00', '2024-09-13T01:47:09.552+00:00', '2024-09-13T01:48:09.321+00:00', '2024-09-13T01:49:09.612+00:00', '2024-09-13T01:50:09.616+00:00', '2024-09-13T01:51:09.645+00:00', '2024-09-13T01:52:09.580+00:00', '2024-09-13T01:53:09.363+00:00', '2024-09-13T01:54:09.422+00:00', '2024-09-13T01:55:09.254+00:00', '2024-09-13T01:56:09.096+00:00', '2024-09-13T01:57:10.023+00:00', '2024-09-13T01:58:09.164+00:00', '2024-09-13T01:59:09.220+00:00', '2024-09-13T02:00:09.622+00:00', '2024-09-13T02:01:09.152+00:00', '2024-09-13T02:02:09.353+00:00', '2024-09-13T02:03:09.455+00:00', '2024-09-13T02:04:09.363+00:00', '2024-09-13T02:05:09.345+00:00', '2024-09-13T02:06:09.163+00:00', '2024-09-13T02:07:09.492+00:00', '2024-09-13T02:08:09.280+00:00', '2024-09-13T02:09:09.426+00:00', '2024-09-13T02:10:09.389+00:00', '2024-09-13T02:11:09.228+00:00', '2024-09-13T02:12:09.865+00:00', '2024-09-13T02:13:09.485+00:00', '2024-09-13T02:14:09.384+00:00', '2024-09-13T02:15:10.163+00:00', '2024-09-13T02:16:09.317+00:00', '2024-09-13T02:17:09.435+00:00', '2024-09-13T02:18:09.276+00:00', '2024-09-13T02:19:09.435+00:00', '2024-09-13T02:20:09.712+00:00', '2024-09-13T02:21:09.105+00:00', '2024-09-13T02:22:09.492+00:00', '2024-09-13T02:23:09.314+00:00', '2024-09-13T02:24:09.208+00:00', '2024-09-13T02:25:09.204+00:00', '2024-09-13T02:26:09.184+00:00', '2024-09-13T02:27:10.140+00:00', '2024-09-13T02:28:09.926+00:00', '2024-09-13T02:29:09.426+00:00', '2024-09-13T02:30:09.251+00:00', '2024-09-13T02:31:09.141+00:00', '2024-09-13T02:32:09.266+00:00', '2024-09-13T02:33:09.330+00:00', '2024-09-13T02:34:09.117+00:00', '2024-09-13T02:35:08.905+00:00', '2024-09-13T02:36:08.725+00:00', '2024-09-13T02:37:09.669+00:00', '2024-09-13T02:38:09.046+00:00', '2024-09-13T02:39:09.046+00:00', '2024-09-13T02:40:09.057+00:00', '2024-09-13T02:41:08.716+00:00', '2024-09-13T02:42:10.046+00:00', '2024-09-13T02:43:09.127+00:00', '2024-09-13T02:44:09.012+00:00', '2024-09-13T02:45:09.308+00:00', '2024-09-13T02:46:08.833+00:00', '2024-09-13T02:47:09.353+00:00', '2024-09-13T02:48:08.974+00:00', '2024-09-13T02:49:09.038+00:00', '2024-09-13T02:50:09.515+00:00', '2024-09-13T02:51:09.022+00:00', '2024-09-13T02:52:09.172+00:00', '2024-09-13T02:53:09.033+00:00', '2024-09-13T02:54:09.151+00:00', '2024-09-13T02:55:09.089+00:00', '2024-09-13T02:56:08.804+00:00', '2024-09-13T02:57:10.367+00:00', '2024-09-13T02:58:09.089+00:00', '2024-09-13T02:59:09.200+00:00', '2024-09-13T03:00:09.217+00:00', '2024-09-13T03:01:08.808+00:00', '2024-09-13T03:02:09.404+00:00', '2024-09-13T03:03:08.954+00:00', '2024-09-13T03:04:09.291+00:00', '2024-09-13T03:05:09.061+00:00', '2024-09-13T03:06:08.724+00:00', '2024-09-13T03:07:09.469+00:00', '2024-09-13T03:08:08.955+00:00', '2024-09-13T03:09:09.110+00:00', '2024-09-13T03:10:09.607+00:00', '2024-09-13T03:11:08.993+00:00', '2024-09-13T03:12:10.653+00:00', '2024-09-13T03:13:09.064+00:00', '2024-09-13T03:14:09.246+00:00', '2024-09-13T03:15:09.375+00:00', '2024-09-13T03:16:09.031+00:00', '2024-09-13T03:17:09.716+00:00', '2024-09-13T03:18:09.265+00:00', '2024-09-13T03:19:09.401+00:00', '2024-09-13T03:20:09.225+00:00', '2024-09-13T03:21:09.020+00:00', '2024-09-13T03:22:09.715+00:00', '2024-09-13T03:23:09.177+00:00', '2024-09-13T03:24:09.326+00:00', '2024-09-13T03:25:09.195+00:00', '2024-09-13T03:26:08.728+00:00', '2024-09-13T03:27:10.795+00:00', '2024-09-13T03:28:09.083+00:00', '2024-09-13T03:29:09.251+00:00', '2024-09-13T03:30:09.653+00:00', '2024-09-13T03:31:08.992+00:00', '2024-09-13T03:32:09.898+00:00', '2024-09-13T03:33:09.326+00:00', '2024-09-13T03:34:09.328+00:00', '2024-09-13T03:35:09.273+00:00', '2024-09-13T03:36:09.049+00:00', '2024-09-13T03:37:10.052+00:00', '2024-09-13T03:38:09.700+00:00', '2024-09-13T03:39:09.364+00:00', '2024-09-13T03:40:10.041+00:00', '2024-09-13T03:41:09.022+00:00', '2024-09-13T03:42:10.591+00:00', '2024-09-13T03:43:09.570+00:00', '2024-09-13T03:44:09.427+00:00', '2024-09-13T03:45:10.437+00:00', '2024-09-13T03:46:08.825+00:00', '2024-09-13T03:47:09.546+00:00', '2024-09-13T03:48:09.327+00:00', '2024-09-13T03:49:09.123+00:00', '2024-09-13T03:50:09.244+00:00', '2024-09-13T03:51:08.902+00:00', '2024-09-13T03:52:09.872+00:00', '2024-09-13T03:53:09.424+00:00', '2024-09-13T03:54:09.573+00:00', '2024-09-13T03:55:10.457+00:00', '2024-09-13T03:56:08.957+00:00', '2024-09-13T03:57:10.115+00:00', '2024-09-13T03:58:09.144+00:00', '2024-09-13T03:59:09.531+00:00', '2024-09-13T04:00:10.996+00:00', '2024-09-13T04:01:09.039+00:00', '2024-09-13T04:02:10.524+00:00', '2024-09-13T04:03:09.403+00:00', '2024-09-13T04:04:09.736+00:00', '2024-09-13T04:05:10.493+00:00', '2024-09-13T04:06:09.228+00:00', '2024-09-13T04:07:09.899+00:00', '2024-09-13T04:08:09.466+00:00', '2024-09-13T04:09:09.834+00:00', '2024-09-13T04:10:10.649+00:00', '2024-09-13T04:11:08.930+00:00', '2024-09-13T04:12:10.286+00:00', '2024-09-13T04:13:10.023+00:00', '2024-09-13T04:14:09.655+00:00', '2024-09-13T04:15:11.345+00:00', '2024-09-13T04:16:09.243+00:00', '2024-09-13T04:17:09.753+00:00', '2024-09-13T04:18:09.844+00:00', '2024-09-13T04:19:09.533+00:00', '2024-09-13T04:20:10.763+00:00', '2024-09-13T04:21:09.331+00:00', '2024-09-13T04:22:09.812+00:00', '2024-09-13T04:23:09.917+00:00', '2024-09-13T04:24:09.635+00:00', '2024-09-13T04:25:11.182+00:00', '2024-09-13T04:26:08.907+00:00', '2024-09-13T04:27:10.640+00:00', '2024-09-13T04:28:10.321+00:00', '2024-09-13T04:29:09.788+00:00', '2024-09-13T04:30:12.744+00:00', '2024-09-13T04:31:08.968+00:00', '2024-09-13T04:32:09.754+00:00', '2024-09-13T04:33:10.189+00:00', '2024-09-13T04:34:09.886+00:00', '2024-09-13T04:35:12.860+00:00', '2024-09-13T04:36:09.055+00:00', '2024-09-13T04:37:09.821+00:00', '2024-09-13T04:38:10.103+00:00', '2024-09-13T04:39:09.704+00:00', '2024-09-13T04:40:12.622+00:00', '2024-09-13T04:41:09.068+00:00', '2024-09-13T04:42:11.167+00:00', '2024-09-13T04:43:11.340+00:00', '2024-09-13T04:44:09.929+00:00', '2024-09-13T04:45:13.129+00:00', '2024-09-13T04:46:09.110+00:00', '2024-09-13T04:47:10.218+00:00', '2024-09-13T04:48:11.025+00:00', '2024-09-13T04:49:09.344+00:00', '2024-09-13T04:50:13.238+00:00', '2024-09-13T04:51:09.402+00:00', '2024-09-13T04:52:10.676+00:00', '2024-09-13T04:53:10.851+00:00', '2024-09-13T04:54:09.722+00:00', '2024-09-13T04:55:11.548+00:00', '2024-09-13T04:56:09.601+00:00', '2024-09-13T04:57:10.774+00:00', '2024-09-13T04:58:12.205+00:00', '2024-09-13T04:59:10.044+00:00', '2024-09-13T05:00:13.446+00:00', '2024-09-13T05:01:09.482+00:00', '2024-09-13T05:02:10.459+00:00', '2024-09-13T05:03:11.195+00:00', '2024-09-13T05:04:09.587+00:00', '2024-09-13T05:05:12.856+00:00', '2024-09-13T05:06:09.364+00:00', '2024-09-13T05:07:10.251+00:00', '2024-09-13T05:08:11.819+00:00', '2024-09-13T05:09:09.955+00:00', '2024-09-13T05:10:13.767+00:00', '2024-09-13T05:11:09.794+00:00', '2024-09-13T05:12:11.283+00:00', '2024-09-13T05:13:10.712+00:00', '2024-09-13T05:14:09.930+00:00', '2024-09-13T05:15:12.206+00:00', '2024-09-13T05:16:09.360+00:00', '2024-09-13T05:17:10.065+00:00', '2024-09-13T05:18:11.794+00:00', '2024-09-13T05:19:09.733+00:00', '2024-09-13T05:20:13.981+00:00', '2024-09-13T05:21:10.031+00:00', '2024-09-13T05:22:10.899+00:00', '2024-09-13T05:23:12.259+00:00', '2024-09-13T05:24:11.136+00:00', '2024-09-13T05:25:14.390+00:00', '2024-09-13T05:26:10.220+00:00', '2024-09-13T05:27:10.895+00:00', '2024-09-13T05:28:12.487+00:00', '2024-09-13T05:29:10.756+00:00', '2024-09-13T05:30:14.614+00:00', '2024-09-13T05:31:09.995+00:00', '2024-09-13T05:32:10.785+00:00', '2024-09-13T05:33:11.946+00:00', '2024-09-13T05:34:10.496+00:00', '2024-09-13T05:35:13.100+00:00', '2024-09-13T05:36:09.961+00:00', '2024-09-13T05:37:10.460+00:00', '2024-09-13T05:38:11.025+00:00', '2024-09-13T05:39:10.333+00:00', '2024-09-13T05:40:12.803+00:00', '2024-09-13T05:41:10.108+00:00', '2024-09-13T05:42:11.167+00:00', '2024-09-13T05:43:11.427+00:00', '2024-09-13T05:44:10.398+00:00', '2024-09-13T05:45:12.180+00:00', '2024-09-13T05:46:10.183+00:00', '2024-09-13T05:47:11.028+00:00', '2024-09-13T05:48:11.847+00:00', '2024-09-13T05:49:10.139+00:00', '2024-09-13T05:50:11.857+00:00', '2024-09-13T05:51:11.667+00:00', '2024-09-13T05:52:11.136+00:00', '2024-09-13T05:53:12.237+00:00', '2024-09-13T05:54:10.519+00:00', '2024-09-13T05:55:13.120+00:00', '2024-09-13T05:56:10.120+00:00', '2024-09-13T05:57:11.685+00:00', '2024-09-13T05:58:13.453+00:00', '2024-09-13T05:59:10.615+00:00', '2024-09-13T06:00:15.611+00:00', '2024-09-13T06:01:10.431+00:00', '2024-09-13T06:02:11.160+00:00', '2024-09-13T06:03:11.935+00:00', '2024-09-13T06:04:10.478+00:00', '2024-09-13T06:05:12.282+00:00', '2024-09-13T06:06:10.529+00:00', '2024-09-13T06:07:12.591+00:00', '2024-09-13T06:08:11.729+00:00', '2024-09-13T06:09:10.502+00:00', '2024-09-13T06:10:12.739+00:00', '2024-09-13T06:11:10.348+00:00', '2024-09-13T06:12:11.460+00:00', '2024-09-13T06:13:11.272+00:00', '2024-09-13T06:14:10.387+00:00', '2024-09-13T06:15:11.852+00:00', '2024-09-13T06:16:10.446+00:00', '2024-09-13T06:17:11.243+00:00', '2024-09-13T06:18:11.516+00:00', '2024-09-13T06:19:10.504+00:00', '2024-09-13T06:20:11.945+00:00', '2024-09-13T06:21:10.693+00:00', '2024-09-13T06:22:10.992+00:00', '2024-09-13T06:23:11.319+00:00', '2024-09-13T06:24:05.132+00:00', '2024-09-13T06:25:05.972+00:00', '2024-09-13T06:26:05.420+00:00', '2024-09-13T06:27:05.797+00:00', '2024-09-13T06:28:06.430+00:00', '2024-09-13T06:29:05.522+00:00', '2024-09-13T06:30:06.358+00:00', '2024-09-13T06:31:05.600+00:00', '2024-09-13T06:32:06.040+00:00', '2024-09-13T06:33:06.556+00:00', '2024-09-13T06:34:05.618+00:00', '2024-09-13T06:35:06.628+00:00', '2024-09-13T06:36:05.755+00:00', '2024-09-13T06:37:06.310+00:00', '2024-09-13T06:38:06.442+00:00', '2024-09-13T06:39:06.053+00:00', '2024-09-13T06:40:06.307+00:00', '2024-09-13T06:41:05.969+00:00', '2024-09-13T06:42:06.740+00:00', '2024-09-13T06:43:06.496+00:00', '2024-09-13T06:44:06.075+00:00', '2024-09-13T06:45:06.611+00:00', '2024-09-13T06:46:06.044+00:00', '2024-09-13T06:47:05.693+00:00', '2024-09-13T06:48:06.267+00:00', '2024-09-13T06:49:05.331+00:00', '2024-09-13T06:50:05.236+00:00', '2024-09-13T06:51:06.652+00:00', '2024-09-13T06:52:05.248+00:00', '2024-09-13T06:53:06.994+00:00', '2024-09-13T06:54:05.238+00:00', '2024-09-13T06:55:05.097+00:00', '2024-09-13T06:56:06.509+00:00', '2024-09-13T06:57:05.485+00:00', '2024-09-13T06:58:06.636+00:00', '2024-09-13T06:59:05.152+00:00', '2024-09-13T07:00:06.019+00:00', '2024-09-13T07:01:05.000+00:00', '2024-09-13T07:02:05.517+00:00', '2024-09-13T07:03:05.575+00:00', '2024-09-13T07:04:05.072+00:00', '2024-09-13T07:05:06.543+00:00', '2024-09-13T07:06:05.075+00:00', '2024-09-13T07:07:05.844+00:00', '2024-09-13T07:08:05.654+00:00', '2024-09-13T07:09:05.166+00:00', '2024-09-13T07:10:05.182+00:00', '2024-09-13T07:11:05.207+00:00', '2024-09-13T07:12:05.934+00:00', '2024-09-13T07:13:06.079+00:00', '2024-09-13T07:14:05.165+00:00', '2024-09-13T07:15:06.132+00:00', '2024-09-13T07:16:05.341+00:00', '2024-09-13T07:17:05.396+00:00', '2024-09-13T07:18:05.691+00:00', '2024-09-13T07:19:05.607+00:00', '2024-09-13T07:20:06.196+00:00', '2024-09-13T07:21:05.371+00:00', '2024-09-13T07:22:05.579+00:00', '2024-09-13T07:23:05.633+00:00', '2024-09-13T07:24:05.537+00:00', '2024-09-13T07:25:05.917+00:00', '2024-09-13T07:26:05.565+00:00', '2024-09-13T07:27:05.764+00:00', '2024-09-13T07:28:06.690+00:00', '2024-09-13T07:29:03.690+00:00', '2024-09-13T07:30:03.217+00:00', '2024-09-13T07:31:03.346+00:00', '2024-09-13T07:32:03.214+00:00', '2024-09-13T07:33:03.517+00:00', '2024-09-13T07:34:03.178+00:00', '2024-09-13T07:35:04.389+00:00', '2024-09-13T07:36:03.834+00:00', '2024-09-13T07:38:19.388+00:00', '2024-09-13T07:39:19.073+00:00', '2024-09-13T07:40:19.124+00:00', '2024-09-13T07:41:19.012+00:00', '2024-09-13T07:42:19.016+00:00', '2024-09-13T07:43:19.077+00:00', '2024-09-13T07:44:19.062+00:00', '2024-09-13T07:45:19.214+00:00', '2024-09-13T07:46:19.100+00:00', '2024-09-13T07:47:19.089+00:00', '2024-09-13T07:48:19.179+00:00', '2024-09-13T07:49:19.173+00:00', '2024-09-13T07:50:19.426+00:00', '2024-09-13T07:51:19.076+00:00', '2024-09-13T07:52:19.115+00:00', '2024-09-13T07:53:20.190+00:00', '2024-09-13T07:54:19.282+00:00', '2024-09-13T07:55:19.188+00:00', '2024-09-13T07:56:19.124+00:00', '2024-09-13T07:57:19.133+00:00', '2024-09-13T07:58:19.106+00:00', '2024-09-13T07:59:19.081+00:00', '2024-09-13T08:00:19.402+00:00', '2024-09-13T08:02:13.909+00:00', '2024-09-13T08:03:13.748+00:00', '2024-09-13T08:04:13.825+00:00', '2024-09-13T08:05:19.462+00:00', '2024-09-13T08:06:20.030+00:00', '2024-09-13T08:07:20.138+00:00', '2024-09-13T08:08:19.462+00:00', '2024-09-13T08:09:21.294+00:00', '2024-09-13T08:10:19.495+00:00', '2024-09-13T08:11:19.865+00:00', '2024-09-13T08:12:20.367+00:00', '2024-09-13T08:13:19.694+00:00', '2024-09-13T08:14:19.691+00:00', '2024-09-13T08:15:19.319+00:00', '2024-09-13T08:16:20.874+00:00', '2024-09-13T08:17:21.247+00:00', '2024-09-13T08:18:19.579+00:00', '2024-09-13T08:19:21.187+00:00', '2024-09-13T08:20:19.365+00:00', '2024-09-13T08:21:20.257+00:00', '2024-09-13T08:22:22.722+00:00', '2024-09-13T08:23:21.183+00:00', '2024-09-13T08:24:19.647+00:00', '2024-09-13T08:25:19.439+00:00', '2024-09-13T08:26:19.601+00:00', '2024-09-13T08:27:21.043+00:00', '2024-09-13T08:28:19.677+00:00', '2024-09-13T08:29:20.457+00:00', '2024-09-13T08:30:19.286+00:00', '2024-09-13T08:31:21.447+00:00', '2024-09-13T08:32:24.072+00:00', '2024-09-13T08:33:19.658+00:00', '2024-09-13T08:34:20.323+00:00', '2024-09-13T08:35:19.408+00:00', '2024-09-13T08:36:19.551+00:00', '2024-09-13T08:37:20.236+00:00', '2024-09-13T08:38:19.530+00:00', '2024-09-13T08:39:23.601+00:00', '2024-09-13T08:40:19.654+00:00', '2024-09-13T08:41:19.965+00:00', '2024-09-13T08:42:21.417+00:00', '2024-09-13T08:43:19.907+00:00', '2024-09-13T08:44:20.892+00:00', '2024-09-13T08:45:19.562+00:00', '2024-09-13T08:46:20.700+00:00', '2024-09-13T08:47:22.109+00:00', '2024-09-13T08:48:19.859+00:00', '2024-09-13T08:49:21.821+00:00', '2024-09-13T08:50:19.561+00:00', '2024-09-13T08:51:20.552+00:00', '2024-09-13T08:52:20.579+00:00', '2024-09-13T08:53:19.732+00:00', '2024-09-13T08:54:20.617+00:00', '2024-09-13T08:55:19.458+00:00', '2024-09-13T08:56:19.613+00:00', '2024-09-13T08:57:19.684+00:00', '2024-09-13T08:58:19.671+00:00', '2024-09-13T08:59:20.313+00:00', '2024-09-13T09:00:19.537+00:00', '2024-09-13T09:01:21.075+00:00', '2024-09-13T09:02:20.931+00:00', '2024-09-13T09:03:19.896+00:00', '2024-09-13T09:04:20.718+00:00', '2024-09-13T09:05:19.713+00:00', '2024-09-13T09:06:20.030+00:00', '2024-09-13T09:07:20.491+00:00', '2024-09-13T09:08:20.066+00:00', '2024-09-13T09:09:20.916+00:00', '2024-09-13T09:10:19.750+00:00', '2024-09-13T09:11:21.795+00:00', '2024-09-13T09:12:20.741+00:00', '2024-09-13T09:13:20.227+00:00', '2024-09-13T09:14:20.169+00:00', '2024-09-13T09:15:19.892+00:00', '2024-09-13T09:16:20.547+00:00', '2024-09-13T09:17:21.414+00:00', '2024-09-13T09:18:19.845+00:00', '2024-09-13T09:19:20.245+00:00', '2024-09-13T09:20:19.797+00:00', '2024-09-13T09:21:20.226+00:00', '2024-09-13T09:22:21.260+00:00', '2024-09-13T09:23:20.324+00:00', '2024-09-13T09:24:20.504+00:00', '2024-09-13T09:25:20.535+00:00', '2024-09-13T09:26:20.201+00:00', '2024-09-13T09:27:20.628+00:00', '2024-09-13T09:28:20.275+00:00', '2024-09-13T09:29:20.512+00:00', '2024-09-13T09:30:21.096+00:00', '2024-09-13T09:31:22.052+00:00', '2024-09-13T09:32:20.981+00:00', '2024-09-13T09:33:20.338+00:00', '2024-09-13T09:34:21.450+00:00', '2024-09-13T09:35:21.068+00:00', '2024-09-13T09:36:20.616+00:00', '2024-09-13T09:37:20.518+00:00', '2024-09-13T09:38:20.244+00:00', '2024-09-13T09:39:20.471+00:00', '2024-09-13T09:40:20.172+00:00', '2024-09-13T09:41:20.959+00:00', '2024-09-13T09:42:20.371+00:00', '2024-09-13T09:43:21.303+00:00', '2024-09-13T09:44:21.016+00:00', '2024-09-13T09:45:20.691+00:00', '2024-09-13T09:46:21.944+00:00', '2024-09-13T09:47:21.309+00:00', '2024-09-13T09:48:20.981+00:00', '2024-09-13T09:49:21.421+00:00', '2024-09-13T09:50:20.723+00:00', '2024-09-13T09:51:21.321+00:00', '2024-09-13T09:52:21.980+00:00', '2024-09-13T09:53:21.039+00:00', '2024-09-13T09:54:21.477+00:00', '2024-09-13T09:55:21.042+00:00', '2024-09-13T09:56:22.015+00:00', '2024-09-13T09:57:21.185+00:00', '2024-09-13T09:58:20.869+00:00', '2024-09-13T09:59:21.740+00:00', '2024-09-13T10:00:21.097+00:00', '2024-09-13T10:01:21.998+00:00', '2024-09-13T10:02:22.436+00:00', '2024-09-13T10:03:21.248+00:00', '2024-09-13T10:04:22.101+00:00', '2024-09-13T10:05:20.880+00:00', '2024-09-13T10:06:21.023+00:00', '2024-09-13T10:07:20.953+00:00', '2024-09-13T10:08:21.062+00:00', '2024-09-13T10:09:21.541+00:00', '2024-09-13T10:10:21.015+00:00', '2024-09-13T10:11:21.281+00:00', '2024-09-13T10:12:21.064+00:00', '2024-09-13T10:13:21.032+00:00', '2024-09-13T10:14:21.749+00:00', '2024-09-13T10:15:21.146+00:00', '2024-09-13T10:16:22.147+00:00', '2024-09-13T10:17:22.000+00:00', '2024-09-13T10:18:20.941+00:00', '2024-09-13T10:19:21.272+00:00', '2024-09-13T10:20:21.364+00:00', '2024-09-13T10:21:21.703+00:00', '2024-09-13T10:22:21.933+00:00', '2024-09-13T10:23:21.112+00:00', '2024-09-13T10:24:22.460+00:00', '2024-09-13T10:25:21.339+00:00', '2024-09-13T10:26:21.643+00:00', '2024-09-13T10:27:21.544+00:00', '2024-09-13T10:28:21.654+00:00', '2024-09-13T10:29:22.129+00:00', '2024-09-13T10:30:21.111+00:00', '2024-09-13T10:31:23.009+00:00', '2024-09-13T10:32:22.589+00:00', '2024-09-13T10:33:21.432+00:00', '2024-09-13T10:34:22.386+00:00', '2024-09-13T10:35:21.154+00:00', '2024-09-13T10:36:21.563+00:00', '2024-09-13T10:37:21.567+00:00', '2024-09-13T10:38:21.198+00:00', '2024-09-13T10:39:22.196+00:00', '2024-09-13T10:40:21.416+00:00', '2024-09-13T10:41:21.710+00:00', '2024-09-13T10:42:21.889+00:00', '2024-09-13T10:43:21.264+00:00', '2024-09-13T10:44:21.307+00:00', '2024-09-13T10:45:21.079+00:00', '2024-09-13T10:46:22.765+00:00', '2024-09-13T10:47:23.662+00:00', '2024-09-13T10:48:21.668+00:00', '2024-09-13T10:49:21.832+00:00', '2024-09-13T10:50:21.175+00:00', '2024-09-13T10:51:21.981+00:00', '2024-09-13T10:52:21.312+00:00', '2024-09-13T10:53:22.557+00:00', '2024-09-13T10:54:22.436+00:00', '2024-09-13T10:55:22.283+00:00', '2024-09-13T10:56:22.817+00:00', '2024-09-13T10:57:22.968+00:00', '2024-09-13T10:58:22.252+00:00', '2024-09-13T10:59:22.830+00:00', '2024-09-13T11:00:22.113+00:00', '2024-09-13T11:01:23.956+00:00', '2024-09-13T11:02:24.100+00:00', '2024-09-13T11:03:23.120+00:00', '2024-09-13T11:04:23.510+00:00', '2024-09-13T11:05:22.359+00:00', '2024-09-13T11:06:22.392+00:00', '2024-09-13T11:07:23.390+00:00', '2024-09-13T11:08:22.419+00:00', '2024-09-13T11:09:23.060+00:00', '2024-09-13T11:10:22.020+00:00', '2024-09-13T11:11:22.467+00:00', '2024-09-13T11:12:22.846+00:00', '2024-09-13T11:13:21.891+00:00', '2024-09-13T11:14:23.120+00:00', '2024-09-13T11:15:21.544+00:00', '2024-09-13T11:16:22.697+00:00', '2024-09-13T11:17:23.230+00:00', '2024-09-13T11:18:22.121+00:00', '2024-09-13T11:19:24.347+00:00', '2024-09-13T11:20:21.602+00:00', '2024-09-13T11:21:22.412+00:00', '2024-09-13T11:22:22.982+00:00', '2024-09-13T11:23:21.658+00:00', '2024-09-13T11:24:23.016+00:00', '2024-09-13T11:25:21.958+00:00', '2024-09-13T11:26:21.978+00:00', '2024-09-13T11:27:22.622+00:00', '2024-09-13T11:28:21.389+00:00', '2024-09-13T11:29:22.986+00:00', '2024-09-13T11:30:21.387+00:00', '2024-09-13T11:31:23.052+00:00', '2024-09-13T11:32:22.972+00:00', '2024-09-13T11:33:21.979+00:00', '2024-09-13T11:34:22.852+00:00', '2024-09-13T11:35:21.526+00:00', '2024-09-13T11:36:21.853+00:00', '2024-09-13T11:37:22.118+00:00', '2024-09-13T11:38:21.542+00:00', '2024-09-13T11:39:22.266+00:00', '2024-09-13T11:40:21.498+00:00', '2024-09-13T11:41:22.369+00:00', '2024-09-13T11:42:22.666+00:00', '2024-09-13T11:43:22.204+00:00', '2024-09-13T11:44:23.248+00:00', '2024-09-13T11:45:22.103+00:00', '2024-09-13T11:46:23.969+00:00', '2024-09-13T11:47:23.243+00:00', '2024-09-13T11:48:22.297+00:00', '2024-09-13T11:49:23.002+00:00', '2024-09-13T11:50:22.912+00:00', '2024-09-13T11:51:23.025+00:00', '2024-09-13T11:52:23.823+00:00', '2024-09-13T11:53:22.185+00:00', '2024-09-13T11:54:22.671+00:00', '2024-09-13T11:55:22.102+00:00', '2024-09-13T11:56:23.198+00:00', '2024-09-13T11:57:23.133+00:00', '2024-09-13T11:58:22.269+00:00', '2024-09-13T11:59:23.584+00:00', '2024-09-13T12:00:22.299+00:00', '2024-09-13T12:01:24.365+00:00', '2024-09-13T12:02:24.465+00:00', '2024-09-13T12:03:22.667+00:00', '2024-09-13T12:04:24.969+00:00', '2024-09-13T12:05:22.365+00:00', '2024-09-13T12:06:23.229+00:00', '2024-09-13T12:07:24.937+00:00', '2024-09-13T12:08:22.570+00:00', '2024-09-13T12:09:24.370+00:00', '2024-09-13T12:10:22.807+00:00', '2024-09-13T12:11:22.889+00:00', '2024-09-13T12:12:23.024+00:00', '2024-09-13T12:13:22.203+00:00', '2024-09-13T12:14:22.358+00:00', '2024-09-13T12:15:21.961+00:00', '2024-09-13T12:16:28.296+00:00', '2024-09-13T12:17:27.495+00:00', '2024-09-13T12:18:26.400+00:00', '2024-09-13T12:19:27.871+00:00', '2024-09-13T12:20:25.940+00:00', '2024-09-13T12:21:26.272+00:00', '2024-09-13T12:22:26.379+00:00', '2024-09-13T12:23:26.121+00:00', '2024-09-13T12:24:26.098+00:00', '2024-09-13T12:25:26.021+00:00', '2024-09-13T12:26:25.666+00:00', '2024-09-13T12:27:26.097+00:00', '2024-09-13T12:28:25.793+00:00', '2024-09-13T12:29:25.915+00:00', '2024-09-13T12:30:25.700+00:00', '2024-09-13T12:31:28.941+00:00', '2024-09-13T12:32:27.867+00:00', '2024-09-13T12:33:25.860+00:00', '2024-09-13T12:34:28.065+00:00', '2024-09-13T12:35:25.513+00:00', '2024-09-13T12:36:26.430+00:00', '2024-09-13T12:37:26.160+00:00', '2024-09-13T12:38:25.871+00:00', '2024-09-13T12:39:26.326+00:00', '2024-09-13T12:40:25.718+00:00', '2024-09-13T12:41:27.453+00:00', '2024-09-13T12:42:25.814+00:00', '2024-09-13T12:43:25.945+00:00', '2024-09-13T12:44:26.257+00:00', '2024-09-13T12:45:25.607+00:00', '2024-09-13T12:46:27.114+00:00', '2024-09-13T12:47:28.102+00:00', '2024-09-13T12:48:26.335+00:00', '2024-09-13T12:49:28.202+00:00', '2024-09-13T12:50:25.961+00:00', '2024-09-13T12:51:26.722+00:00', '2024-09-13T12:52:27.436+00:00', '2024-09-13T12:53:26.098+00:00', '2024-09-13T12:54:27.602+00:00', '2024-09-13T12:55:26.898+00:00', '2024-09-13T12:56:26.156+00:00', '2024-09-13T12:57:26.804+00:00', '2024-09-13T12:58:26.282+00:00', '2024-09-13T12:59:28.101+00:00', '2024-09-13T13:00:26.022+00:00', '2024-09-13T13:01:28.015+00:00', '2024-09-13T13:02:27.675+00:00', '2024-09-13T13:03:26.620+00:00', '2024-09-13T13:04:28.776+00:00', '2024-09-13T13:05:26.105+00:00', '2024-09-13T13:06:26.544+00:00', '2024-09-13T13:07:27.186+00:00', '2024-09-13T13:08:26.467+00:00', '2024-09-13T13:09:27.343+00:00', '2024-09-13T13:10:26.056+00:00', '2024-09-13T13:11:26.553+00:00', '2024-09-13T13:12:16.798+00:00', '2024-09-13T13:13:16.490+00:00', '2024-09-13T13:14:16.695+00:00', '2024-09-13T13:15:16.576+00:00', '2024-09-13T13:16:17.199+00:00', '2024-09-13T13:17:17.065+00:00', '2024-09-13T13:18:18.403+00:00', '2024-09-13T13:19:16.967+00:00', '2024-09-13T13:20:16.587+00:00', '2024-09-13T13:21:16.742+00:00', '2024-09-13T13:22:17.133+00:00', '2024-09-13T13:23:16.634+00:00', '2024-09-13T13:24:17.992+00:00', '2024-09-13T13:25:16.855+00:00', '2024-09-13T13:26:17.037+00:00', '2024-09-13T13:27:17.527+00:00', '2024-09-13T13:28:16.718+00:00', '2024-09-13T13:29:16.902+00:00', '2024-09-13T13:30:16.682+00:00', '2024-09-13T13:31:17.075+00:00', '2024-09-13T13:32:17.596+00:00', '2024-09-13T13:33:16.797+00:00', '2024-09-13T13:34:18.361+00:00', '2024-09-13T13:35:16.761+00:00', '2024-09-13T13:36:17.242+00:00', '2024-09-13T13:37:17.385+00:00', '2024-09-13T13:38:16.849+00:00', '2024-09-13T13:39:17.441+00:00', '2024-09-13T13:40:17.508+00:00', '2024-09-13T13:41:17.045+00:00', '2024-09-13T13:42:17.960+00:00', '2024-09-13T13:43:24.339+00:00', '2024-09-13T13:44:26.738+00:00', '2024-09-13T13:45:24.132+00:00', '2024-09-13T13:46:25.747+00:00', '2024-09-13T13:47:26.676+00:00', '2024-09-13T13:48:24.302+00:00', '2024-09-13T13:49:25.981+00:00', '2024-09-13T13:50:24.091+00:00', '2024-09-13T13:51:24.674+00:00', '2024-09-13T13:52:24.914+00:00', '2024-09-13T13:53:24.232+00:00', '2024-09-13T13:54:24.603+00:00', '2024-09-13T13:55:24.287+00:00', '2024-09-13T13:56:24.402+00:00', '2024-09-13T13:57:25.318+00:00', '2024-09-13T13:58:24.545+00:00', '2024-09-13T13:59:27.719+00:00', '2024-09-13T14:00:24.426+00:00', '2024-09-13T14:01:27.582+00:00', '2024-09-13T14:02:26.975+00:00', '2024-09-13T14:03:25.127+00:00', '2024-09-13T14:04:27.016+00:00', '2024-09-13T14:05:24.856+00:00', '2024-09-13T14:06:26.012+00:00', '2024-09-13T14:07:26.318+00:00', '2024-09-13T14:08:24.917+00:00', '2024-09-13T14:09:25.701+00:00', '2024-09-13T14:10:24.890+00:00', '2024-09-13T14:11:25.203+00:00', '2024-09-13T14:12:26.468+00:00', '2024-09-13T14:13:25.227+00:00', '2024-09-13T14:14:26.359+00:00', '2024-09-13T14:15:24.993+00:00', '2024-09-13T14:16:26.863+00:00', '2024-09-13T14:17:27.315+00:00', '2024-09-13T14:18:25.025+00:00', '2024-09-13T14:19:27.549+00:00', '2024-09-13T14:20:25.071+00:00', '2024-09-13T14:21:26.169+00:00', '2024-09-13T14:22:26.841+00:00', '2024-09-13T14:23:25.696+00:00', '2024-09-13T14:24:28.314+00:00', '2024-09-13T14:25:25.629+00:00', '2024-09-13T14:26:26.522+00:00', '2024-09-13T14:27:27.257+00:00', '2024-09-13T14:28:25.900+00:00', '2024-09-13T14:29:26.987+00:00', '2024-09-13T14:30:25.389+00:00', '2024-09-13T14:31:26.562+00:00', '2024-09-13T14:32:26.853+00:00', '2024-09-13T14:33:25.198+00:00', '2024-09-13T14:34:26.416+00:00', '2024-09-13T14:35:25.365+00:00', '2024-09-13T14:36:25.355+00:00', '2024-09-13T14:37:26.300+00:00', '2024-09-13T14:38:25.073+00:00', '2024-09-13T14:39:26.442+00:00', '2024-09-13T14:40:24.928+00:00', '2024-09-13T14:41:25.446+00:00', '2024-09-13T14:42:25.124+00:00', '2024-09-13T14:43:25.428+00:00', '2024-09-13T14:44:25.637+00:00', '2024-09-13T14:45:25.141+00:00', '2024-09-13T14:46:26.333+00:00', '2024-09-13T14:47:27.308+00:00', '2024-09-13T14:48:25.180+00:00', '2024-09-13T14:49:26.044+00:00', '2024-09-13T14:50:25.146+00:00', '2024-09-13T14:51:25.577+00:00', '2024-09-13T14:52:26.263+00:00', '2024-09-13T14:53:25.649+00:00', '2024-09-13T14:54:26.856+00:00', '2024-09-13T14:55:25.495+00:00', '2024-09-13T14:56:25.760+00:00', '2024-09-13T14:57:26.180+00:00', '2024-09-13T14:58:25.554+00:00', '2024-09-13T14:59:26.244+00:00', '2024-09-13T15:00:25.317+00:00', '2024-09-13T15:01:27.087+00:00', '2024-09-13T15:02:27.195+00:00', '2024-09-13T15:03:25.469+00:00', '2024-09-13T15:04:27.411+00:00', '2024-09-13T15:05:25.442+00:00', '2024-09-13T15:06:26.059+00:00', '2024-09-13T15:07:26.171+00:00', '2024-09-13T15:08:25.852+00:00', '2024-09-13T15:09:26.611+00:00', '2024-09-13T15:10:25.753+00:00', '2024-09-13T15:11:26.405+00:00', '2024-09-13T15:12:26.821+00:00', '2024-09-13T15:13:26.158+00:00', '2024-09-13T15:14:27.323+00:00', '2024-09-13T15:15:25.828+00:00', '2024-09-13T15:16:27.419+00:00', '2024-09-13T15:17:28.244+00:00', '2024-09-13T15:18:25.969+00:00', '2024-09-13T15:19:28.282+00:00', '2024-09-13T15:20:25.843+00:00', '2024-09-13T15:21:26.481+00:00', '2024-09-13T15:22:26.815+00:00', '2024-09-13T15:23:26.021+00:00', '2024-09-13T15:24:26.277+00:00', '2024-09-13T15:25:26.339+00:00', '2024-09-13T15:26:26.336+00:00', '2024-09-13T15:27:26.966+00:00', '2024-09-13T15:28:29.194+00:00', '2024-09-13T15:29:27.862+00:00', '2024-09-13T15:30:26.034+00:00', '2024-09-13T15:31:27.692+00:00', '2024-09-13T15:32:28.201+00:00', '2024-09-13T15:33:26.186+00:00', '2024-09-13T15:34:27.100+00:00', '2024-09-13T15:35:26.063+00:00', '2024-09-13T15:36:26.295+00:00', '2024-09-13T15:37:26.258+00:00', '2024-09-13T15:38:26.188+00:00', '2024-09-13T15:39:26.438+00:00', '2024-09-13T15:40:25.885+00:00', '2024-09-13T15:41:26.187+00:00', '2024-09-13T15:42:26.773+00:00', '2024-09-13T15:43:26.331+00:00', '2024-09-13T15:44:26.014+00:00', '2024-09-13T15:45:25.891+00:00', '2024-09-13T15:46:26.646+00:00', '2024-09-13T15:47:26.242+00:00', '2024-09-13T15:48:26.198+00:00', '2024-09-13T15:49:26.708+00:00', '2024-09-13T15:50:26.763+00:00', '2024-09-13T15:51:27.264+00:00', '2024-09-13T15:52:27.302+00:00', '2024-09-13T15:53:26.089+00:00', '2024-09-13T15:54:27.377+00:00', '2024-09-13T15:55:25.981+00:00', '2024-09-13T15:56:26.445+00:00', '2024-09-13T15:57:26.627+00:00', '2024-09-13T15:58:26.336+00:00', '2024-09-13T15:59:28.345+00:00', '2024-09-13T16:00:25.804+00:00', '2024-09-13T16:01:27.806+00:00', '2024-09-13T16:02:27.882+00:00', '2024-09-13T16:03:26.109+00:00', '2024-09-13T16:04:26.429+00:00', '2024-09-13T16:05:25.716+00:00', '2024-09-13T16:06:26.209+00:00', '2024-09-13T16:07:27.363+00:00', '2024-09-13T16:08:25.936+00:00', '2024-09-13T16:09:26.159+00:00', '2024-09-13T16:10:26.101+00:00', '2024-09-13T16:11:26.751+00:00', '2024-09-13T16:12:26.934+00:00', '2024-09-13T16:13:25.948+00:00', '2024-09-13T16:14:26.821+00:00', '2024-09-13T16:15:26.302+00:00', '2024-09-13T16:16:27.184+00:00', '2024-09-13T16:17:26.827+00:00', '2024-09-13T16:18:26.099+00:00', '2024-09-13T16:19:27.088+00:00', '2024-09-13T16:20:26.085+00:00', '2024-09-13T16:21:26.237+00:00', '2024-09-13T16:22:27.023+00:00', '2024-09-13T16:23:26.020+00:00', '2024-09-13T16:24:27.167+00:00', '2024-09-13T16:25:27.179+00:00', '2024-09-13T16:26:27.454+00:00', '2024-09-13T16:27:27.261+00:00', '2024-09-13T16:28:27.227+00:00', '2024-09-13T16:29:27.001+00:00', '2024-09-13T16:30:26.931+00:00', '2024-09-13T16:31:28.795+00:00', '2024-09-13T16:32:27.273+00:00', '2024-09-13T16:33:27.334+00:00', '2024-09-13T16:34:27.316+00:00', '2024-09-13T16:35:27.082+00:00', '2024-09-13T16:36:27.162+00:00', '2024-09-13T16:37:27.331+00:00', '2024-09-13T16:38:27.341+00:00', '2024-09-13T16:39:27.055+00:00', '2024-09-13T16:40:26.902+00:00', '2024-09-13T16:41:27.102+00:00', '2024-09-13T16:42:27.566+00:00', '2024-09-13T16:43:27.129+00:00', '2024-09-13T16:44:27.136+00:00', '2024-09-13T16:45:26.927+00:00', '2024-09-13T16:46:28.270+00:00', '2024-09-13T16:47:27.557+00:00', '2024-09-13T16:48:27.270+00:00', '2024-09-13T16:49:27.286+00:00', '2024-09-13T16:50:26.827+00:00', '2024-09-13T16:51:27.307+00:00', '2024-09-13T16:52:27.547+00:00', '2024-09-13T16:53:27.081+00:00', '2024-09-13T16:54:26.685+00:00', '2024-09-13T16:55:28.791+00:00', '2024-09-13T16:56:26.949+00:00', '2024-09-13T16:57:27.091+00:00', '2024-09-13T16:58:26.800+00:00', '2024-09-13T16:59:26.900+00:00', '2024-09-13T17:00:26.657+00:00', '2024-09-13T17:01:27.868+00:00', '2024-09-13T17:02:26.911+00:00', '2024-09-13T17:03:26.733+00:00', '2024-09-13T17:04:27.317+00:00', '2024-09-13T17:05:26.649+00:00', '2024-09-13T17:06:27.745+00:00', '2024-09-13T17:07:27.300+00:00', '2024-09-13T17:08:27.164+00:00', '2024-09-13T17:09:26.956+00:00', '2024-09-13T17:10:26.742+00:00', '2024-09-13T17:11:27.369+00:00', '2024-09-13T17:12:27.037+00:00', '2024-09-13T17:13:26.955+00:00', '2024-09-13T17:14:27.349+00:00', '2024-09-13T17:15:26.859+00:00', '2024-09-13T17:16:27.601+00:00', '2024-09-13T17:17:28.000+00:00', '2024-09-13T17:18:27.283+00:00', '2024-09-13T17:19:27.112+00:00', '2024-09-13T17:20:26.882+00:00', '2024-09-13T17:21:27.389+00:00', '2024-09-13T17:22:27.443+00:00', '2024-09-13T17:23:27.030+00:00', '2024-09-13T17:24:18.852+00:00', '2024-09-13T17:25:19.082+00:00', '2024-09-13T17:26:18.865+00:00', '2024-09-13T17:27:19.044+00:00', '2024-09-13T17:28:18.922+00:00', '2024-09-13T17:29:18.995+00:00', '2024-09-13T17:30:18.855+00:00', '2024-09-13T17:31:19.283+00:00', '2024-09-13T17:32:18.967+00:00', '2024-09-13T17:33:18.924+00:00', '2024-09-13T17:34:18.879+00:00', '2024-09-13T17:35:18.864+00:00', '2024-09-13T17:36:18.902+00:00', '2024-09-13T17:37:18.919+00:00', '2024-09-13T17:38:18.870+00:00', '2024-09-13T17:39:18.856+00:00', '2024-09-13T17:40:18.884+00:00', '2024-09-13T17:41:18.892+00:00', '2024-09-13T17:42:19.005+00:00', '2024-09-13T17:43:19.388+00:00', '2024-09-13T17:44:19.028+00:00', '2024-09-13T17:45:18.920+00:00', '2024-09-13T17:46:19.070+00:00', '2024-09-13T17:47:19.046+00:00', '2024-09-13T17:48:18.984+00:00', '2024-09-13T17:49:19.001+00:00', '2024-09-13T17:50:18.938+00:00', '2024-09-13T17:51:18.952+00:00', '2024-09-13T17:52:19.071+00:00', '2024-09-13T17:53:19.243+00:00', '2024-09-13T17:54:19.182+00:00', '2024-09-13T17:55:19.144+00:00', '2024-09-13T17:56:19.193+00:00', '2024-09-13T17:57:19.899+00:00', '2024-09-13T17:58:19.925+00:00', '2024-09-13T17:59:19.897+00:00', '2024-09-13T18:00:19.907+00:00', '2024-09-13T18:01:20.294+00:00', '2024-09-13T18:02:19.924+00:00', '2024-09-13T18:03:19.968+00:00', '2024-09-13T18:04:19.919+00:00', '2024-09-13T18:05:19.880+00:00', '2024-09-13T18:06:19.955+00:00', '2024-09-13T18:07:19.904+00:00', '2024-09-13T18:08:19.900+00:00', '2024-09-13T18:09:19.918+00:00', '2024-09-13T18:10:19.904+00:00', '2024-09-13T18:11:19.948+00:00', '2024-09-13T18:12:19.927+00:00', '2024-09-13T18:13:19.935+00:00', '2024-09-13T18:14:19.951+00:00', '2024-09-13T18:15:19.648+00:00', '2024-09-13T18:16:20.187+00:00', '2024-09-13T18:17:19.689+00:00', '2024-09-13T18:18:19.688+00:00', '2024-09-13T18:19:25.943+00:00', '2024-09-13T18:20:25.730+00:00', '2024-09-13T18:21:26.068+00:00', '2024-09-13T18:22:25.581+00:00', '2024-09-13T18:23:25.599+00:00', '2024-09-13T18:24:25.932+00:00', '2024-09-13T18:25:25.509+00:00', '2024-09-13T18:26:25.956+00:00', '2024-09-13T18:27:25.452+00:00', '2024-09-13T18:28:26.908+00:00', '2024-09-13T18:29:26.718+00:00', '2024-09-13T18:30:26.914+00:00', '2024-09-13T18:31:27.629+00:00', '2024-09-13T18:32:27.026+00:00', '2024-09-13T18:33:27.036+00:00', '2024-09-13T18:34:26.829+00:00', '2024-09-13T18:35:26.715+00:00', '2024-09-13T18:36:27.253+00:00', '2024-09-13T18:37:27.149+00:00', '2024-09-13T18:38:26.781+00:00', '2024-09-13T18:39:26.719+00:00', '2024-09-13T18:40:26.630+00:00', '2024-09-13T18:41:27.175+00:00', '2024-09-13T18:42:27.053+00:00', '2024-09-13T18:43:26.900+00:00', '2024-09-13T18:44:26.874+00:00', '2024-09-13T18:45:26.751+00:00', '2024-09-13T18:46:27.947+00:00', '2024-09-13T18:47:26.853+00:00', '2024-09-13T18:48:26.792+00:00', '2024-09-13T18:49:27.038+00:00', '2024-09-13T18:50:26.743+00:00', '2024-09-13T18:51:27.142+00:00', '2024-09-13T18:52:27.000+00:00', '2024-09-13T18:53:27.064+00:00', '2024-09-13T18:54:26.757+00:00', '2024-09-13T18:55:26.709+00:00', '2024-09-13T18:56:27.152+00:00', '2024-09-13T18:57:26.955+00:00', '2024-09-13T18:58:26.763+00:00', '2024-09-13T18:59:27.085+00:00', '2024-09-13T19:00:26.690+00:00', '2024-09-13T19:01:27.572+00:00', '2024-09-13T19:02:26.998+00:00', '2024-09-13T19:03:26.800+00:00', '2024-09-13T19:04:27.078+00:00', '2024-09-13T19:05:26.726+00:00', '2024-09-13T19:06:26.822+00:00', '2024-09-13T19:07:26.771+00:00', '2024-09-13T19:08:26.984+00:00', '2024-09-13T19:09:27.278+00:00', '2024-09-13T19:10:26.761+00:00', '2024-09-13T19:11:27.244+00:00', '2024-09-13T19:12:26.766+00:00', '2024-09-13T19:13:26.774+00:00', '2024-09-13T19:14:26.898+00:00', '2024-09-13T19:15:26.712+00:00', '2024-09-13T19:16:27.383+00:00', '2024-09-13T19:17:26.672+00:00', '2024-09-13T19:18:26.628+00:00', '2024-09-13T19:19:26.501+00:00', '2024-09-13T19:20:26.732+00:00', '2024-09-13T19:21:26.803+00:00', '2024-09-13T19:22:26.833+00:00', '2024-09-13T19:23:26.474+00:00', '2024-09-13T19:24:26.881+00:00', '2024-09-13T19:25:26.630+00:00', '2024-09-13T19:26:26.928+00:00', '2024-09-13T19:27:26.877+00:00', '2024-09-13T19:28:26.909+00:00', '2024-09-13T19:29:27.059+00:00', '2024-09-13T19:30:26.722+00:00', '2024-09-13T19:31:27.609+00:00', '2024-09-13T19:32:27.022+00:00', '2024-09-13T19:33:26.889+00:00', '2024-09-13T19:34:27.108+00:00', '2024-09-13T19:35:26.841+00:00', '2024-09-13T19:36:27.501+00:00', '2024-09-13T19:37:27.239+00:00', '2024-09-13T19:38:27.013+00:00', '2024-09-13T19:39:27.123+00:00', '2024-09-13T19:40:26.964+00:00', '2024-09-13T19:41:27.108+00:00', '2024-09-13T19:42:27.449+00:00', '2024-09-13T19:43:27.033+00:00', '2024-09-13T19:44:27.041+00:00', '2024-09-13T19:45:26.968+00:00', '2024-09-13T19:46:27.691+00:00', '2024-09-13T19:47:27.397+00:00', '2024-09-13T19:48:27.258+00:00', '2024-09-13T19:49:22.927+00:00', '2024-09-13T19:50:22.797+00:00', '2024-09-13T19:51:22.901+00:00', '2024-09-13T19:52:23.046+00:00', '2024-09-13T19:53:22.851+00:00', '2024-09-13T19:54:22.836+00:00', '2024-09-13T19:55:22.789+00:00', '2024-09-13T19:56:23.189+00:00', '2024-09-13T19:57:22.736+00:00', '2024-09-13T19:58:23.280+00:00', '2024-09-13T19:59:22.804+00:00', '2024-09-13T20:00:22.595+00:00', '2024-09-13T20:01:23.342+00:00', '2024-09-13T20:02:23.007+00:00', '2024-09-13T20:03:22.647+00:00', '2024-09-13T20:04:22.685+00:00', '2024-09-13T20:05:22.505+00:00', '2024-09-13T20:06:22.701+00:00', '2024-09-13T20:07:22.456+00:00', '2024-09-13T20:08:22.446+00:00', '2024-09-13T20:09:22.569+00:00', '2024-09-13T20:10:22.450+00:00', '2024-09-13T20:11:22.524+00:00', '2024-09-13T20:12:22.452+00:00', '2024-09-13T20:13:22.468+00:00', '2024-09-13T20:14:22.662+00:00', '2024-09-13T20:15:22.473+00:00', '2024-09-13T20:16:23.036+00:00', '2024-09-13T20:17:22.471+00:00', '2024-09-13T20:18:22.720+00:00', '2024-09-13T20:19:22.732+00:00', '2024-09-13T20:20:22.457+00:00', '2024-09-13T20:21:22.790+00:00', '2024-09-13T20:22:22.519+00:00', '2024-09-13T20:23:22.537+00:00', '2024-09-13T20:24:22.593+00:00', '2024-09-13T20:25:22.576+00:00', '2024-09-13T20:26:22.735+00:00', '2024-09-13T20:27:22.607+00:00', '2024-09-13T20:28:22.596+00:00', '2024-09-13T20:29:22.595+00:00', '2024-09-13T20:30:22.810+00:00', '2024-09-13T20:31:23.146+00:00', '2024-09-13T20:32:20.725+00:00', '2024-09-13T20:33:20.710+00:00', '2024-09-13T20:34:21.025+00:00', '2024-09-13T20:35:20.676+00:00', '2024-09-13T20:36:20.967+00:00', '2024-09-13T20:37:20.710+00:00', '2024-09-13T20:38:20.806+00:00', '2024-09-13T20:39:20.819+00:00', '2024-09-13T20:40:20.687+00:00', '2024-09-13T20:41:20.899+00:00', '2024-09-13T20:42:20.701+00:00', '2024-09-13T20:43:20.604+00:00', '2024-09-13T20:44:20.599+00:00', '2024-09-13T20:45:20.579+00:00', '2024-09-13T20:46:20.737+00:00', '2024-09-13T20:47:20.589+00:00', '2024-09-13T20:48:20.640+00:00', '2024-09-13T20:49:20.505+00:00', '2024-09-13T20:50:20.494+00:00', '2024-09-13T20:51:20.966+00:00', '2024-09-13T20:52:20.551+00:00', '2024-09-13T20:53:20.535+00:00', '2024-09-13T20:54:20.659+00:00', '2024-09-13T20:55:20.548+00:00', '2024-09-13T20:56:20.568+00:00', '2024-09-13T20:57:20.575+00:00', '2024-09-13T20:58:20.564+00:00', '2024-09-13T20:59:20.891+00:00', '2024-09-13T21:00:20.567+00:00', '2024-09-13T21:01:20.988+00:00', '2024-09-13T21:02:20.911+00:00', '2024-09-13T21:03:20.477+00:00', '2024-09-13T21:04:20.482+00:00', '2024-09-13T21:05:20.370+00:00', '2024-09-13T21:06:20.729+00:00', '2024-09-13T21:07:20.729+00:00', '2024-09-13T21:08:20.481+00:00', '2024-09-13T21:09:20.477+00:00', '2024-09-13T21:10:20.462+00:00', '2024-09-13T21:11:20.503+00:00', '2024-09-13T21:12:20.473+00:00', '2024-09-13T21:13:20.465+00:00', '2024-09-13T21:14:20.474+00:00', '2024-09-13T21:15:20.465+00:00', '2024-09-13T21:16:21.145+00:00', '2024-09-13T21:17:20.486+00:00', '2024-09-13T21:18:20.492+00:00', '2024-09-13T21:19:20.494+00:00', '2024-09-13T21:20:20.423+00:00', '2024-09-13T21:21:20.542+00:00', '2024-09-13T21:22:20.527+00:00', '2024-09-13T21:23:20.498+00:00', '2024-09-13T21:24:20.450+00:00', '2024-09-13T21:25:20.479+00:00', '2024-09-13T21:26:21.062+00:00', '2024-09-13T21:27:20.497+00:00', '2024-09-13T21:28:20.442+00:00', '2024-09-13T21:29:20.488+00:00', '2024-09-13T21:30:20.461+00:00', '2024-09-13T21:31:20.979+00:00', '2024-09-13T21:32:20.503+00:00', '2024-09-13T21:33:20.522+00:00', '2024-09-13T21:34:20.527+00:00', '2024-09-13T21:35:20.460+00:00', '2024-09-13T21:36:20.522+00:00', '2024-09-13T21:37:20.495+00:00', '2024-09-13T21:38:20.460+00:00', '2024-09-13T21:39:20.523+00:00', '2024-09-13T21:40:20.458+00:00', '2024-09-13T21:41:20.527+00:00', '2024-09-13T21:42:20.559+00:00', '2024-09-13T21:43:20.608+00:00', '2024-09-13T21:44:20.562+00:00', '2024-09-13T21:45:20.913+00:00', '2024-09-13T21:46:21.041+00:00', '2024-09-13T21:47:20.910+00:00', '2024-09-13T21:48:20.666+00:00', '2024-09-13T21:49:20.687+00:00', '2024-09-13T21:50:20.913+00:00', '2024-09-13T21:51:21.412+00:00', '2024-09-13T21:52:21.314+00:00', '2024-09-13T21:53:21.312+00:00', '2024-09-13T21:54:21.427+00:00', '2024-09-13T21:55:21.291+00:00', '2024-09-13T21:56:21.415+00:00', '2024-09-13T21:57:21.301+00:00', '2024-09-13T21:58:21.425+00:00', '2024-09-13T21:59:21.336+00:00', '2024-09-13T22:00:21.330+00:00', '2024-09-13T22:01:22.005+00:00', '2024-09-13T22:02:21.748+00:00', '2024-09-13T22:03:21.809+00:00', '2024-09-13T22:04:21.298+00:00', '2024-09-13T22:05:21.299+00:00', '2024-09-13T22:06:21.480+00:00', '2024-09-13T22:07:21.428+00:00', '2024-09-13T22:08:21.313+00:00', '2024-09-13T22:09:21.432+00:00', '2024-09-13T22:10:21.323+00:00', '2024-09-13T22:11:21.457+00:00', '2024-09-13T22:12:21.331+00:00', '2024-09-13T22:13:21.340+00:00', '2024-09-13T22:14:21.310+00:00', '2024-09-13T22:15:21.299+00:00', '2024-09-13T22:16:21.533+00:00', '2024-09-13T22:17:21.458+00:00', '2024-09-13T22:18:21.350+00:00', '2024-09-13T22:19:21.435+00:00', '2024-09-13T22:20:21.308+00:00', '2024-09-13T22:21:21.324+00:00', '2024-09-13T22:22:21.257+00:00', '2024-09-13T22:23:21.229+00:00', '2024-09-13T22:24:21.226+00:00', '2024-09-13T22:25:21.128+00:00', '2024-09-13T22:26:21.647+00:00', '2024-09-13T22:27:21.233+00:00', '2024-09-13T22:28:21.216+00:00', '2024-09-13T22:29:21.252+00:00', '2024-09-13T22:30:21.228+00:00', '2024-09-13T22:31:21.531+00:00', '2024-09-13T22:32:21.300+00:00', '2024-09-13T22:33:21.256+00:00', '2024-09-13T22:34:21.226+00:00', '2024-09-13T22:35:21.107+00:00', '2024-09-13T22:36:21.620+00:00', '2024-09-13T22:37:21.205+00:00', '2024-09-13T22:38:21.263+00:00', '2024-09-13T22:39:21.256+00:00', '2024-09-13T22:40:21.216+00:00', '2024-09-13T22:41:21.242+00:00', '2024-09-13T22:42:21.312+00:00', '2024-09-13T22:43:21.227+00:00', '2024-09-13T22:44:21.246+00:00', '2024-09-13T22:45:21.219+00:00', '2024-09-13T22:46:21.365+00:00', '2024-09-13T22:47:21.237+00:00', '2024-09-13T22:48:21.235+00:00', '2024-09-13T22:49:21.243+00:00', '2024-09-13T22:50:21.236+00:00', '2024-09-13T22:51:21.249+00:00', '2024-09-13T22:52:21.181+00:00', '2024-09-13T22:53:21.145+00:00', '2024-09-13T22:54:21.153+00:00', '2024-09-13T22:55:21.143+00:00', '2024-09-13T22:56:21.177+00:00', '2024-09-13T22:57:21.284+00:00', '2024-09-13T22:58:21.257+00:00', '2024-09-13T22:59:21.245+00:00', '2024-09-13T23:00:21.247+00:00', '2024-09-13T23:01:21.768+00:00', '2024-09-13T23:02:21.390+00:00', '2024-09-13T23:03:21.355+00:00', '2024-09-13T23:04:21.465+00:00', '2024-09-13T23:05:21.438+00:00', '2024-09-13T23:06:21.480+00:00', '2024-09-13T23:07:21.458+00:00', '2024-09-13T23:08:21.462+00:00', '2024-09-13T23:09:21.632+00:00', '2024-09-13T23:10:21.421+00:00', '2024-09-13T23:11:21.524+00:00', '2024-09-13T23:12:21.506+00:00', '2024-09-13T23:13:21.452+00:00', '2024-09-13T23:14:21.423+00:00', '2024-09-13T23:15:21.422+00:00', '2024-09-13T23:16:21.456+00:00', '2024-09-13T23:17:21.547+00:00', '2024-09-13T23:18:21.352+00:00', '2024-09-13T23:19:21.254+00:00', '2024-09-13T23:20:21.232+00:00', '2024-09-13T23:21:21.236+00:00', '2024-09-13T23:22:21.238+00:00', '2024-09-13T23:23:21.470+00:00', '2024-09-13T23:24:21.227+00:00', '2024-09-13T23:25:21.235+00:00', '2024-09-13T23:26:21.253+00:00', '2024-09-13T23:27:20.971+00:00', '2024-09-13T23:28:21.116+00:00', '2024-09-13T23:29:21.056+00:00', '2024-09-13T23:30:20.936+00:00', '2024-09-13T23:31:21.597+00:00', '2024-09-13T23:32:20.996+00:00', '2024-09-13T23:33:21.103+00:00', '2024-09-13T23:34:21.136+00:00', '2024-09-13T23:35:20.980+00:00', '2024-09-13T23:36:21.021+00:00', '2024-09-13T23:37:21.100+00:00', '2024-09-13T23:38:20.990+00:00', '2024-09-13T23:39:21.303+00:00', '2024-09-13T23:40:20.946+00:00', '2024-09-13T23:41:21.034+00:00', '2024-09-13T23:42:20.971+00:00', '2024-09-13T23:43:20.983+00:00', '2024-09-13T23:44:20.966+00:00', '2024-09-13T23:45:20.956+00:00', '2024-09-13T23:46:21.422+00:00', '2024-09-13T23:47:20.992+00:00', '2024-09-13T23:48:20.989+00:00', '2024-09-13T23:49:20.960+00:00', '2024-09-13T23:50:29.806+00:00', '2024-09-13T23:51:30.046+00:00', '2024-09-13T23:52:30.239+00:00', '2024-09-13T23:53:30.047+00:00', '2024-09-13T23:54:30.038+00:00', '2024-09-13T23:55:29.899+00:00', '2024-09-13T23:56:29.979+00:00', '2024-09-13T23:57:29.843+00:00', '2024-09-13T23:58:29.862+00:00', '2024-09-13T23:59:29.609+00:00']}\n"
     ]
    }
   ],
   "source": [
    "print(response_data)"
   ]
  },
  {
   "cell_type": "code",
   "execution_count": 47,
   "metadata": {},
   "outputs": [],
   "source": [
    "df_flx = pd.read_csv('FelixData_final_main_kiel.csv')"
   ]
  },
  {
   "cell_type": "code",
   "execution_count": 48,
   "metadata": {},
   "outputs": [
    {
     "name": "stdout",
     "output_type": "stream",
     "text": [
      "The dataframe has a 86501 rows on 9 columns. The colums\n",
      "have the following names: \n",
      "index\n",
      "entityId\n",
      "entityType\n",
      "name\n",
      "availableBikeNumber\n",
      "freeSlotNumber\n",
      "totalSlotNumber\n",
      "pickups\n",
      "dropoffs\n"
     ]
    }
   ],
   "source": [
    "print(f'''The dataframe has a {df_flx.shape[0]} rows on {df_flx.shape[1]} columns. The colums\n",
    "have the following names: \\n{'\\n'.join(df_flx.columns.tolist())}''')"
   ]
  },
  {
   "cell_type": "markdown",
   "metadata": {},
   "source": [
    "## Combine dataframes"
   ]
  },
  {
   "cell_type": "code",
   "execution_count": null,
   "metadata": {},
   "outputs": [],
   "source": []
  },
  {
   "cell_type": "markdown",
   "metadata": {},
   "source": [
    "## Visualisation"
   ]
  },
  {
   "cell_type": "code",
   "execution_count": 49,
   "metadata": {},
   "outputs": [
    {
     "data": {
      "text/html": [
       "<div>\n",
       "<style scoped>\n",
       "    .dataframe tbody tr th:only-of-type {\n",
       "        vertical-align: middle;\n",
       "    }\n",
       "\n",
       "    .dataframe tbody tr th {\n",
       "        vertical-align: top;\n",
       "    }\n",
       "\n",
       "    .dataframe thead th {\n",
       "        text-align: right;\n",
       "    }\n",
       "</style>\n",
       "<table border=\"1\" class=\"dataframe\">\n",
       "  <thead>\n",
       "    <tr style=\"text-align: right;\">\n",
       "      <th></th>\n",
       "      <th>index</th>\n",
       "      <th>entityId</th>\n",
       "      <th>entityType</th>\n",
       "      <th>name</th>\n",
       "      <th>availableBikeNumber</th>\n",
       "      <th>freeSlotNumber</th>\n",
       "      <th>totalSlotNumber</th>\n",
       "      <th>pickups</th>\n",
       "      <th>dropoffs</th>\n",
       "    </tr>\n",
       "  </thead>\n",
       "  <tbody>\n",
       "    <tr>\n",
       "      <th>4570</th>\n",
       "      <td>2024-09-20T11:00:00.000+00:00</td>\n",
       "      <td>24368</td>\n",
       "      <td>BikeHireDockingStation</td>\n",
       "      <td>Umsteiger</td>\n",
       "      <td>20.083333</td>\n",
       "      <td>0.283333</td>\n",
       "      <td>20.0</td>\n",
       "      <td>7633</td>\n",
       "      <td>7629</td>\n",
       "    </tr>\n",
       "    <tr>\n",
       "      <th>4571</th>\n",
       "      <td>2024-09-20T12:00:00.000+00:00</td>\n",
       "      <td>24368</td>\n",
       "      <td>BikeHireDockingStation</td>\n",
       "      <td>Umsteiger</td>\n",
       "      <td>20.116667</td>\n",
       "      <td>0.583333</td>\n",
       "      <td>20.0</td>\n",
       "      <td>7633</td>\n",
       "      <td>7629</td>\n",
       "    </tr>\n",
       "    <tr>\n",
       "      <th>4572</th>\n",
       "      <td>2024-09-20T13:00:00.000+00:00</td>\n",
       "      <td>24368</td>\n",
       "      <td>BikeHireDockingStation</td>\n",
       "      <td>Umsteiger</td>\n",
       "      <td>21.050000</td>\n",
       "      <td>0.266667</td>\n",
       "      <td>20.0</td>\n",
       "      <td>7633</td>\n",
       "      <td>7629</td>\n",
       "    </tr>\n",
       "    <tr>\n",
       "      <th>4574</th>\n",
       "      <td>2024-09-20T15:00:00.000+00:00</td>\n",
       "      <td>24368</td>\n",
       "      <td>BikeHireDockingStation</td>\n",
       "      <td>Umsteiger</td>\n",
       "      <td>21.650000</td>\n",
       "      <td>0.650000</td>\n",
       "      <td>20.0</td>\n",
       "      <td>7633</td>\n",
       "      <td>7629</td>\n",
       "    </tr>\n",
       "    <tr>\n",
       "      <th>4575</th>\n",
       "      <td>2024-09-20T16:00:00.000+00:00</td>\n",
       "      <td>24368</td>\n",
       "      <td>BikeHireDockingStation</td>\n",
       "      <td>Umsteiger</td>\n",
       "      <td>21.203390</td>\n",
       "      <td>1.169492</td>\n",
       "      <td>20.0</td>\n",
       "      <td>7633</td>\n",
       "      <td>7629</td>\n",
       "    </tr>\n",
       "    <tr>\n",
       "      <th>...</th>\n",
       "      <td>...</td>\n",
       "      <td>...</td>\n",
       "      <td>...</td>\n",
       "      <td>...</td>\n",
       "      <td>...</td>\n",
       "      <td>...</td>\n",
       "      <td>...</td>\n",
       "      <td>...</td>\n",
       "      <td>...</td>\n",
       "    </tr>\n",
       "    <tr>\n",
       "      <th>83936</th>\n",
       "      <td>2024-09-24T16:00:00.000+00:00</td>\n",
       "      <td>26224</td>\n",
       "      <td>BikeHireDockingStation</td>\n",
       "      <td>Wik, Kanalfähre - Busstation</td>\n",
       "      <td>20.700000</td>\n",
       "      <td>0.000000</td>\n",
       "      <td>20.0</td>\n",
       "      <td>2929</td>\n",
       "      <td>3033</td>\n",
       "    </tr>\n",
       "    <tr>\n",
       "      <th>83937</th>\n",
       "      <td>2024-09-24T17:00:00.000+00:00</td>\n",
       "      <td>26224</td>\n",
       "      <td>BikeHireDockingStation</td>\n",
       "      <td>Wik, Kanalfähre - Busstation</td>\n",
       "      <td>21.000000</td>\n",
       "      <td>0.000000</td>\n",
       "      <td>20.0</td>\n",
       "      <td>2929</td>\n",
       "      <td>3033</td>\n",
       "    </tr>\n",
       "    <tr>\n",
       "      <th>83938</th>\n",
       "      <td>2024-09-24T18:00:00.000+00:00</td>\n",
       "      <td>26224</td>\n",
       "      <td>BikeHireDockingStation</td>\n",
       "      <td>Wik, Kanalfähre - Busstation</td>\n",
       "      <td>21.000000</td>\n",
       "      <td>0.000000</td>\n",
       "      <td>20.0</td>\n",
       "      <td>2929</td>\n",
       "      <td>3033</td>\n",
       "    </tr>\n",
       "    <tr>\n",
       "      <th>84082</th>\n",
       "      <td>2024-09-30T18:00:00.000+00:00</td>\n",
       "      <td>26224</td>\n",
       "      <td>BikeHireDockingStation</td>\n",
       "      <td>Wik, Kanalfähre - Busstation</td>\n",
       "      <td>20.500000</td>\n",
       "      <td>0.300000</td>\n",
       "      <td>20.0</td>\n",
       "      <td>2929</td>\n",
       "      <td>3033</td>\n",
       "    </tr>\n",
       "    <tr>\n",
       "      <th>84083</th>\n",
       "      <td>2024-09-30T19:00:00.000+00:00</td>\n",
       "      <td>26224</td>\n",
       "      <td>BikeHireDockingStation</td>\n",
       "      <td>Wik, Kanalfähre - Busstation</td>\n",
       "      <td>20.166667</td>\n",
       "      <td>0.383333</td>\n",
       "      <td>20.0</td>\n",
       "      <td>2929</td>\n",
       "      <td>3033</td>\n",
       "    </tr>\n",
       "  </tbody>\n",
       "</table>\n",
       "<p>698 rows × 9 columns</p>\n",
       "</div>"
      ],
      "text/plain": [
       "                               index  entityId              entityType  \\\n",
       "4570   2024-09-20T11:00:00.000+00:00     24368  BikeHireDockingStation   \n",
       "4571   2024-09-20T12:00:00.000+00:00     24368  BikeHireDockingStation   \n",
       "4572   2024-09-20T13:00:00.000+00:00     24368  BikeHireDockingStation   \n",
       "4574   2024-09-20T15:00:00.000+00:00     24368  BikeHireDockingStation   \n",
       "4575   2024-09-20T16:00:00.000+00:00     24368  BikeHireDockingStation   \n",
       "...                              ...       ...                     ...   \n",
       "83936  2024-09-24T16:00:00.000+00:00     26224  BikeHireDockingStation   \n",
       "83937  2024-09-24T17:00:00.000+00:00     26224  BikeHireDockingStation   \n",
       "83938  2024-09-24T18:00:00.000+00:00     26224  BikeHireDockingStation   \n",
       "84082  2024-09-30T18:00:00.000+00:00     26224  BikeHireDockingStation   \n",
       "84083  2024-09-30T19:00:00.000+00:00     26224  BikeHireDockingStation   \n",
       "\n",
       "                                name  availableBikeNumber  freeSlotNumber  \\\n",
       "4570                       Umsteiger            20.083333        0.283333   \n",
       "4571                       Umsteiger            20.116667        0.583333   \n",
       "4572                       Umsteiger            21.050000        0.266667   \n",
       "4574                       Umsteiger            21.650000        0.650000   \n",
       "4575                       Umsteiger            21.203390        1.169492   \n",
       "...                              ...                  ...             ...   \n",
       "83936   Wik, Kanalfähre - Busstation            20.700000        0.000000   \n",
       "83937   Wik, Kanalfähre - Busstation            21.000000        0.000000   \n",
       "83938   Wik, Kanalfähre - Busstation            21.000000        0.000000   \n",
       "84082   Wik, Kanalfähre - Busstation            20.500000        0.300000   \n",
       "84083   Wik, Kanalfähre - Busstation            20.166667        0.383333   \n",
       "\n",
       "       totalSlotNumber  pickups  dropoffs  \n",
       "4570              20.0     7633      7629  \n",
       "4571              20.0     7633      7629  \n",
       "4572              20.0     7633      7629  \n",
       "4574              20.0     7633      7629  \n",
       "4575              20.0     7633      7629  \n",
       "...                ...      ...       ...  \n",
       "83936             20.0     2929      3033  \n",
       "83937             20.0     2929      3033  \n",
       "83938             20.0     2929      3033  \n",
       "84082             20.0     2929      3033  \n",
       "84083             20.0     2929      3033  \n",
       "\n",
       "[698 rows x 9 columns]"
      ]
     },
     "execution_count": 49,
     "metadata": {},
     "output_type": "execute_result"
    }
   ],
   "source": [
    "#visualise these\n",
    "# analyse these in terms of: \n",
    "# - how long does a station stay empty/overcrowded\n",
    "# - how intense is the overcpopulation\n",
    "# - which stations are regular for overpopulation\n",
    "# - relation between weather and bike requests\n",
    "df_flx[df_flx['availableBikeNumber'] == 0]\n",
    "df_flx[df_flx['availableBikeNumber'] > df_flx['totalSlotNumber']]"
   ]
  },
  {
   "cell_type": "code",
   "execution_count": 50,
   "metadata": {},
   "outputs": [
    {
     "data": {
      "text/plain": [
       "array(['Anleger Dietrichsdorf', 'Umsteiger', 'Alte Mu/Brunswiker Str.',\n",
       "       'Alter Markt', 'Anleger Reventlou', 'Christian-Albrechts-Platz',\n",
       "       'Hörnbad', 'Kirchhofallee', 'RBZ Wirtschaft', 'Vinetaplatz',\n",
       "       'Westring/Eckernförder Str.', 'CAU Sportstätten', 'Dreiecksplatz',\n",
       "       'Hansastr./Gutenbergstr.', 'Blücherplatz', 'Andreas-Gayk-Straße',\n",
       "       'Tilsiter Platz', 'Wellingdorf Stadtteilzentrum', 'Hauptbahnhof',\n",
       "       'Exerzierplatz', 'thyssenkrupp Marine Systems',\n",
       "       'MEKUN Olympiahochhaus', 'Bernhard-Minetti-Platz',\n",
       "       'KVG Betriebshof Diedrichstraße', 'Sophienhof', 'ADAC-Station',\n",
       "       'Förde Sparkasse Lorentzendamm', 'Studiale', 'UKSH', 'Sandkrug',\n",
       "       'Zur Fähre', 'Seefischmarkt', 'Krausstraße',\n",
       "       'Kieler Innovations- und Technologiezentrum',\n",
       "       ' Wik, Kanalfähre - Busstation', 'Wilhelmplatz'], dtype=object)"
      ]
     },
     "execution_count": 50,
     "metadata": {},
     "output_type": "execute_result"
    }
   ],
   "source": [
    "df_flx.name.unique()"
   ]
  },
  {
   "cell_type": "markdown",
   "metadata": {},
   "source": [
    "## ML Part"
   ]
  },
  {
   "cell_type": "code",
   "execution_count": 51,
   "metadata": {},
   "outputs": [],
   "source": [
    "import numpy as np\n",
    "import pandas as pd\n",
    "import matplotlib.pyplot as plt\n",
    "from statsmodels.tsa.holtwinters import ExponentialSmoothing\n",
    "from sklearn.metrics import mean_squared_error\n"
   ]
  },
  {
   "cell_type": "code",
   "execution_count": 52,
   "metadata": {},
   "outputs": [
    {
     "data": {
      "text/html": [
       "<div>\n",
       "<style scoped>\n",
       "    .dataframe tbody tr th:only-of-type {\n",
       "        vertical-align: middle;\n",
       "    }\n",
       "\n",
       "    .dataframe tbody tr th {\n",
       "        vertical-align: top;\n",
       "    }\n",
       "\n",
       "    .dataframe thead th {\n",
       "        text-align: right;\n",
       "    }\n",
       "</style>\n",
       "<table border=\"1\" class=\"dataframe\">\n",
       "  <thead>\n",
       "    <tr style=\"text-align: right;\">\n",
       "      <th></th>\n",
       "      <th>index</th>\n",
       "      <th>entityId</th>\n",
       "      <th>entityType</th>\n",
       "      <th>name</th>\n",
       "      <th>availableBikeNumber</th>\n",
       "      <th>freeSlotNumber</th>\n",
       "      <th>totalSlotNumber</th>\n",
       "      <th>pickups</th>\n",
       "      <th>dropoffs</th>\n",
       "      <th>Year</th>\n",
       "      <th>Month</th>\n",
       "      <th>Day</th>\n",
       "      <th>Hour</th>\n",
       "      <th>Season</th>\n",
       "      <th>Weekend</th>\n",
       "      <th>DayOfWeek</th>\n",
       "      <th>DayOfYear</th>\n",
       "    </tr>\n",
       "  </thead>\n",
       "  <tbody>\n",
       "    <tr>\n",
       "      <th>35828</th>\n",
       "      <td>2024-06-17 11:00:00+00:00</td>\n",
       "      <td>24392</td>\n",
       "      <td>BikeHireDockingStation</td>\n",
       "      <td>Andreas-Gayk-Straße</td>\n",
       "      <td>2.200000</td>\n",
       "      <td>27.4</td>\n",
       "      <td>30.0</td>\n",
       "      <td>6413</td>\n",
       "      <td>6396</td>\n",
       "      <td>2024</td>\n",
       "      <td>-0.279415</td>\n",
       "      <td>17</td>\n",
       "      <td>11</td>\n",
       "      <td>3</td>\n",
       "      <td>False</td>\n",
       "      <td>1.0</td>\n",
       "      <td>169</td>\n",
       "    </tr>\n",
       "    <tr>\n",
       "      <th>35829</th>\n",
       "      <td>2024-06-17 12:00:00+00:00</td>\n",
       "      <td>24392</td>\n",
       "      <td>BikeHireDockingStation</td>\n",
       "      <td>Andreas-Gayk-Straße</td>\n",
       "      <td>1.000000</td>\n",
       "      <td>28.0</td>\n",
       "      <td>30.0</td>\n",
       "      <td>6413</td>\n",
       "      <td>6396</td>\n",
       "      <td>2024</td>\n",
       "      <td>-0.279415</td>\n",
       "      <td>17</td>\n",
       "      <td>12</td>\n",
       "      <td>3</td>\n",
       "      <td>False</td>\n",
       "      <td>1.0</td>\n",
       "      <td>169</td>\n",
       "    </tr>\n",
       "    <tr>\n",
       "      <th>35830</th>\n",
       "      <td>2024-06-17 13:00:00+00:00</td>\n",
       "      <td>24392</td>\n",
       "      <td>BikeHireDockingStation</td>\n",
       "      <td>Andreas-Gayk-Straße</td>\n",
       "      <td>1.416667</td>\n",
       "      <td>27.8</td>\n",
       "      <td>30.0</td>\n",
       "      <td>6413</td>\n",
       "      <td>6396</td>\n",
       "      <td>2024</td>\n",
       "      <td>-0.279415</td>\n",
       "      <td>17</td>\n",
       "      <td>13</td>\n",
       "      <td>3</td>\n",
       "      <td>False</td>\n",
       "      <td>1.0</td>\n",
       "      <td>169</td>\n",
       "    </tr>\n",
       "  </tbody>\n",
       "</table>\n",
       "</div>"
      ],
      "text/plain": [
       "                          index  entityId              entityType  \\\n",
       "35828 2024-06-17 11:00:00+00:00     24392  BikeHireDockingStation   \n",
       "35829 2024-06-17 12:00:00+00:00     24392  BikeHireDockingStation   \n",
       "35830 2024-06-17 13:00:00+00:00     24392  BikeHireDockingStation   \n",
       "\n",
       "                      name  availableBikeNumber  freeSlotNumber  \\\n",
       "35828  Andreas-Gayk-Straße             2.200000            27.4   \n",
       "35829  Andreas-Gayk-Straße             1.000000            28.0   \n",
       "35830  Andreas-Gayk-Straße             1.416667            27.8   \n",
       "\n",
       "       totalSlotNumber  pickups  dropoffs  Year     Month  Day  Hour  Season  \\\n",
       "35828             30.0     6413      6396  2024 -0.279415   17    11       3   \n",
       "35829             30.0     6413      6396  2024 -0.279415   17    12       3   \n",
       "35830             30.0     6413      6396  2024 -0.279415   17    13       3   \n",
       "\n",
       "       Weekend  DayOfWeek  DayOfYear  \n",
       "35828    False        1.0        169  \n",
       "35829    False        1.0        169  \n",
       "35830    False        1.0        169  "
      ]
     },
     "execution_count": 52,
     "metadata": {},
     "output_type": "execute_result"
    }
   ],
   "source": [
    "df_ags = df_flx[df_flx['name'] == 'Andreas-Gayk-Straße']\n",
    "df_ags_mf = df_ags.copy()\n",
    "\n",
    "df_ags_mf['index'] = pd.to_datetime(df_ags_mf['index']) #more features\n",
    "\n",
    "# Features erzeugen\n",
    "df_ags_mf['Year'] = df_ags_mf['index'].dt.year\n",
    "df_ags_mf['Month'] = np.sin(df_ags_mf['index'].dt.month)\n",
    "df_ags_mf['Day'] = df_ags_mf['index'].dt.day\n",
    "df_ags_mf['Hour'] = df_ags_mf['index'].dt.hour  # Stunde des Tages im 24-Stunden-Format\n",
    "df_ags_mf['Season'] = df_ags_mf['index'].dt.month % 12 // 3 + 1  # Jahreszeit (1=Winter, 2=Frühling, 3=Sommer, 4=Herbst)\n",
    "df_ags_mf['Weekend'] = df_ags_mf['index'].dt.weekday >= 5  # Boolescher Wert für Wochenende (Samstag=5, Sonntag=6)\n",
    "df_ags_mf['DayOfWeek'] = np.cos(df_ags_mf['index'].dt.dayofweek)\n",
    "df_ags_mf['DayOfYear'] = df_ags_mf['index'].dt.dayofyear\n",
    "\n",
    "df_ags_mf.head(3)"
   ]
  },
  {
   "cell_type": "code",
   "execution_count": 53,
   "metadata": {},
   "outputs": [
    {
     "data": {
      "text/plain": [
       "datetime64[ns, UTC]"
      ]
     },
     "execution_count": 53,
     "metadata": {},
     "output_type": "execute_result"
    }
   ],
   "source": [
    "df_ags_mf['index'].dtype"
   ]
  },
  {
   "cell_type": "code",
   "execution_count": 54,
   "metadata": {},
   "outputs": [
    {
     "name": "stdout",
     "output_type": "stream",
     "text": [
      "(2412, 17)\n",
      "(2412, 17)\n"
     ]
    }
   ],
   "source": [
    "print(df_ags_mf.shape)\n",
    "df_ags_mf.dropna()\n",
    "print(df_ags_mf.shape)\n",
    "df_ags_mf.set_index('index', inplace=True)\n",
    "df_ags_mf.dropna(inplace=True)\n",
    "df_ags_mf.index.tz_localize(None)\n",
    "df_ags_mf = df_ags_mf.asfreq('h')"
   ]
  },
  {
   "cell_type": "code",
   "execution_count": 55,
   "metadata": {},
   "outputs": [],
   "source": [
    "def plot_that(data1_, forcast_):\n",
    "    from plotly.subplots import make_subplots\n",
    "    fig = make_subplots()\n",
    "    orng = '#DF7D39'\n",
    "    lbl = '#66BECF'\n",
    "    color = '#092947'\n",
    "\n",
    "    fig.add_trace(go.Scatter(x=data1_.index, y=data1_ ,name='totalSlotNumber',\n",
    "        marker=dict(color=lbl),),\n",
    "                row=1, col=1)\n",
    "    fig.add_trace(go.Scatter(x=forcast_.index, y=forcast_ ,name='Forecast',\n",
    "        marker=dict(color=orng),),\n",
    "                row=1, col=1)\n",
    "    fig.update_traces(textposition=\"bottom right\")\n",
    "    fig.update_layout(\n",
    "        width = 1000,\n",
    "        height = 500,\n",
    "        title=\"Besetzungsstsatus der Radstation\",\n",
    "        yaxis_title=\"Verfügbare Räder\",\n",
    "        xaxis_title=\"Datum\",\n",
    "        paper_bgcolor='white',  # Background of the whole plot\n",
    "        plot_bgcolor='white',\n",
    "        xaxis=dict(\n",
    "            gridwidth=1,                # Width of vertical grid lines\n",
    "            showline=True,\n",
    "            linewidth=2, linecolor=color\n",
    "        ),\n",
    "        yaxis=dict(\n",
    "            #range=[0, 300],  # Set the y-axis limits from 0 to 10\n",
    "            showgrid=True,             # Show horizontal grid lines\n",
    "            gridcolor='lightgrey',         # Color of horizontal grid lines\n",
    "            gridwidth=1,                # Width of horizontal grid lines\n",
    "            showline=True,\n",
    "            linewidth=2, linecolor=color\n",
    "        )\n",
    "    )\n",
    "    fig.show()"
   ]
  },
  {
   "cell_type": "code",
   "execution_count": 56,
   "metadata": {},
   "outputs": [
    {
     "name": "stdout",
     "output_type": "stream",
     "text": [
      "Mean Squared Error: 0.4253576957725433\n",
      "Mean Absolute percentage Error: 1678091562424614.8\n",
      "Root Mean Squared Error: 0.6521945229550332\n"
     ]
    },
    {
     "data": {
      "application/vnd.plotly.v1+json": {
       "config": {
        "plotlyServerURL": "https://plot.ly"
       },
       "data": [
        {
         "marker": {
          "color": "#66BECF"
         },
         "name": "totalSlotNumber",
         "textposition": "bottom right",
         "type": "scatter",
         "x": [
          "2024-08-25T00:00:00+00:00",
          "2024-08-25T01:00:00+00:00",
          "2024-08-25T02:00:00+00:00",
          "2024-08-25T03:00:00+00:00",
          "2024-08-25T04:00:00+00:00",
          "2024-08-25T05:00:00+00:00",
          "2024-08-25T06:00:00+00:00",
          "2024-08-25T07:00:00+00:00",
          "2024-08-25T08:00:00+00:00",
          "2024-08-25T09:00:00+00:00",
          "2024-08-25T10:00:00+00:00",
          "2024-08-25T11:00:00+00:00",
          "2024-08-25T12:00:00+00:00",
          "2024-08-25T13:00:00+00:00",
          "2024-08-25T14:00:00+00:00",
          "2024-08-25T15:00:00+00:00",
          "2024-08-25T16:00:00+00:00",
          "2024-08-25T17:00:00+00:00",
          "2024-08-25T18:00:00+00:00",
          "2024-08-25T19:00:00+00:00",
          "2024-08-25T20:00:00+00:00",
          "2024-08-25T21:00:00+00:00",
          "2024-08-25T22:00:00+00:00",
          "2024-08-25T23:00:00+00:00"
         ],
         "xaxis": "x",
         "y": [
          0,
          0,
          0,
          0,
          0,
          0,
          0,
          0,
          0,
          0,
          0,
          1.3833333333333333,
          1.05,
          0.3275862068965517,
          0,
          0,
          0,
          0,
          0,
          0,
          0.5333333333333333,
          0.45,
          0,
          0
         ],
         "yaxis": "y"
        },
        {
         "marker": {
          "color": "#DF7D39"
         },
         "name": "Forecast",
         "textposition": "bottom right",
         "type": "scatter",
         "x": [
          "2024-08-25T01:00:00+00:00",
          "2024-08-25T02:00:00+00:00",
          "2024-08-25T03:00:00+00:00",
          "2024-08-25T04:00:00+00:00",
          "2024-08-25T05:00:00+00:00",
          "2024-08-25T06:00:00+00:00",
          "2024-08-25T07:00:00+00:00",
          "2024-08-25T08:00:00+00:00",
          "2024-08-25T09:00:00+00:00",
          "2024-08-25T10:00:00+00:00",
          "2024-08-25T11:00:00+00:00",
          "2024-08-25T12:00:00+00:00",
          "2024-08-25T13:00:00+00:00",
          "2024-08-25T14:00:00+00:00",
          "2024-08-25T15:00:00+00:00",
          "2024-08-25T16:00:00+00:00",
          "2024-08-25T17:00:00+00:00",
          "2024-08-25T18:00:00+00:00",
          "2024-08-25T19:00:00+00:00",
          "2024-08-25T20:00:00+00:00",
          "2024-08-25T21:00:00+00:00",
          "2024-08-25T22:00:00+00:00",
          "2024-08-25T23:00:00+00:00",
          "2024-08-26T00:00:00+00:00"
         ],
         "xaxis": "x",
         "y": [
          -0.019094030263671125,
          -0.11721305653388331,
          -0.1285547184266016,
          0.006591124052491237,
          0.08520859479354054,
          0.21765546973749889,
          -0.15832985423602647,
          -0.9540979346055518,
          0.03985308046040725,
          0.47870641783767764,
          0.9499578446035764,
          0.42055885745731036,
          0.9234294334800619,
          0.9294235485979914,
          1.3404830943954043,
          1.2562554705561129,
          1.231353639468877,
          0.6917409426170468,
          0.4536711693354235,
          -0.6132791443523222,
          0.017743496811816084,
          -0.26421382254234715,
          -0.13011871313964118,
          -0.07050397274269576
         ],
         "yaxis": "y"
        }
       ],
       "layout": {
        "height": 500,
        "paper_bgcolor": "white",
        "plot_bgcolor": "white",
        "template": {
         "data": {
          "bar": [
           {
            "error_x": {
             "color": "#2a3f5f"
            },
            "error_y": {
             "color": "#2a3f5f"
            },
            "marker": {
             "line": {
              "color": "#E5ECF6",
              "width": 0.5
             },
             "pattern": {
              "fillmode": "overlay",
              "size": 10,
              "solidity": 0.2
             }
            },
            "type": "bar"
           }
          ],
          "barpolar": [
           {
            "marker": {
             "line": {
              "color": "#E5ECF6",
              "width": 0.5
             },
             "pattern": {
              "fillmode": "overlay",
              "size": 10,
              "solidity": 0.2
             }
            },
            "type": "barpolar"
           }
          ],
          "carpet": [
           {
            "aaxis": {
             "endlinecolor": "#2a3f5f",
             "gridcolor": "white",
             "linecolor": "white",
             "minorgridcolor": "white",
             "startlinecolor": "#2a3f5f"
            },
            "baxis": {
             "endlinecolor": "#2a3f5f",
             "gridcolor": "white",
             "linecolor": "white",
             "minorgridcolor": "white",
             "startlinecolor": "#2a3f5f"
            },
            "type": "carpet"
           }
          ],
          "choropleth": [
           {
            "colorbar": {
             "outlinewidth": 0,
             "ticks": ""
            },
            "type": "choropleth"
           }
          ],
          "contour": [
           {
            "colorbar": {
             "outlinewidth": 0,
             "ticks": ""
            },
            "colorscale": [
             [
              0,
              "#0d0887"
             ],
             [
              0.1111111111111111,
              "#46039f"
             ],
             [
              0.2222222222222222,
              "#7201a8"
             ],
             [
              0.3333333333333333,
              "#9c179e"
             ],
             [
              0.4444444444444444,
              "#bd3786"
             ],
             [
              0.5555555555555556,
              "#d8576b"
             ],
             [
              0.6666666666666666,
              "#ed7953"
             ],
             [
              0.7777777777777778,
              "#fb9f3a"
             ],
             [
              0.8888888888888888,
              "#fdca26"
             ],
             [
              1,
              "#f0f921"
             ]
            ],
            "type": "contour"
           }
          ],
          "contourcarpet": [
           {
            "colorbar": {
             "outlinewidth": 0,
             "ticks": ""
            },
            "type": "contourcarpet"
           }
          ],
          "heatmap": [
           {
            "colorbar": {
             "outlinewidth": 0,
             "ticks": ""
            },
            "colorscale": [
             [
              0,
              "#0d0887"
             ],
             [
              0.1111111111111111,
              "#46039f"
             ],
             [
              0.2222222222222222,
              "#7201a8"
             ],
             [
              0.3333333333333333,
              "#9c179e"
             ],
             [
              0.4444444444444444,
              "#bd3786"
             ],
             [
              0.5555555555555556,
              "#d8576b"
             ],
             [
              0.6666666666666666,
              "#ed7953"
             ],
             [
              0.7777777777777778,
              "#fb9f3a"
             ],
             [
              0.8888888888888888,
              "#fdca26"
             ],
             [
              1,
              "#f0f921"
             ]
            ],
            "type": "heatmap"
           }
          ],
          "heatmapgl": [
           {
            "colorbar": {
             "outlinewidth": 0,
             "ticks": ""
            },
            "colorscale": [
             [
              0,
              "#0d0887"
             ],
             [
              0.1111111111111111,
              "#46039f"
             ],
             [
              0.2222222222222222,
              "#7201a8"
             ],
             [
              0.3333333333333333,
              "#9c179e"
             ],
             [
              0.4444444444444444,
              "#bd3786"
             ],
             [
              0.5555555555555556,
              "#d8576b"
             ],
             [
              0.6666666666666666,
              "#ed7953"
             ],
             [
              0.7777777777777778,
              "#fb9f3a"
             ],
             [
              0.8888888888888888,
              "#fdca26"
             ],
             [
              1,
              "#f0f921"
             ]
            ],
            "type": "heatmapgl"
           }
          ],
          "histogram": [
           {
            "marker": {
             "pattern": {
              "fillmode": "overlay",
              "size": 10,
              "solidity": 0.2
             }
            },
            "type": "histogram"
           }
          ],
          "histogram2d": [
           {
            "colorbar": {
             "outlinewidth": 0,
             "ticks": ""
            },
            "colorscale": [
             [
              0,
              "#0d0887"
             ],
             [
              0.1111111111111111,
              "#46039f"
             ],
             [
              0.2222222222222222,
              "#7201a8"
             ],
             [
              0.3333333333333333,
              "#9c179e"
             ],
             [
              0.4444444444444444,
              "#bd3786"
             ],
             [
              0.5555555555555556,
              "#d8576b"
             ],
             [
              0.6666666666666666,
              "#ed7953"
             ],
             [
              0.7777777777777778,
              "#fb9f3a"
             ],
             [
              0.8888888888888888,
              "#fdca26"
             ],
             [
              1,
              "#f0f921"
             ]
            ],
            "type": "histogram2d"
           }
          ],
          "histogram2dcontour": [
           {
            "colorbar": {
             "outlinewidth": 0,
             "ticks": ""
            },
            "colorscale": [
             [
              0,
              "#0d0887"
             ],
             [
              0.1111111111111111,
              "#46039f"
             ],
             [
              0.2222222222222222,
              "#7201a8"
             ],
             [
              0.3333333333333333,
              "#9c179e"
             ],
             [
              0.4444444444444444,
              "#bd3786"
             ],
             [
              0.5555555555555556,
              "#d8576b"
             ],
             [
              0.6666666666666666,
              "#ed7953"
             ],
             [
              0.7777777777777778,
              "#fb9f3a"
             ],
             [
              0.8888888888888888,
              "#fdca26"
             ],
             [
              1,
              "#f0f921"
             ]
            ],
            "type": "histogram2dcontour"
           }
          ],
          "mesh3d": [
           {
            "colorbar": {
             "outlinewidth": 0,
             "ticks": ""
            },
            "type": "mesh3d"
           }
          ],
          "parcoords": [
           {
            "line": {
             "colorbar": {
              "outlinewidth": 0,
              "ticks": ""
             }
            },
            "type": "parcoords"
           }
          ],
          "pie": [
           {
            "automargin": true,
            "type": "pie"
           }
          ],
          "scatter": [
           {
            "fillpattern": {
             "fillmode": "overlay",
             "size": 10,
             "solidity": 0.2
            },
            "type": "scatter"
           }
          ],
          "scatter3d": [
           {
            "line": {
             "colorbar": {
              "outlinewidth": 0,
              "ticks": ""
             }
            },
            "marker": {
             "colorbar": {
              "outlinewidth": 0,
              "ticks": ""
             }
            },
            "type": "scatter3d"
           }
          ],
          "scattercarpet": [
           {
            "marker": {
             "colorbar": {
              "outlinewidth": 0,
              "ticks": ""
             }
            },
            "type": "scattercarpet"
           }
          ],
          "scattergeo": [
           {
            "marker": {
             "colorbar": {
              "outlinewidth": 0,
              "ticks": ""
             }
            },
            "type": "scattergeo"
           }
          ],
          "scattergl": [
           {
            "marker": {
             "colorbar": {
              "outlinewidth": 0,
              "ticks": ""
             }
            },
            "type": "scattergl"
           }
          ],
          "scattermapbox": [
           {
            "marker": {
             "colorbar": {
              "outlinewidth": 0,
              "ticks": ""
             }
            },
            "type": "scattermapbox"
           }
          ],
          "scatterpolar": [
           {
            "marker": {
             "colorbar": {
              "outlinewidth": 0,
              "ticks": ""
             }
            },
            "type": "scatterpolar"
           }
          ],
          "scatterpolargl": [
           {
            "marker": {
             "colorbar": {
              "outlinewidth": 0,
              "ticks": ""
             }
            },
            "type": "scatterpolargl"
           }
          ],
          "scatterternary": [
           {
            "marker": {
             "colorbar": {
              "outlinewidth": 0,
              "ticks": ""
             }
            },
            "type": "scatterternary"
           }
          ],
          "surface": [
           {
            "colorbar": {
             "outlinewidth": 0,
             "ticks": ""
            },
            "colorscale": [
             [
              0,
              "#0d0887"
             ],
             [
              0.1111111111111111,
              "#46039f"
             ],
             [
              0.2222222222222222,
              "#7201a8"
             ],
             [
              0.3333333333333333,
              "#9c179e"
             ],
             [
              0.4444444444444444,
              "#bd3786"
             ],
             [
              0.5555555555555556,
              "#d8576b"
             ],
             [
              0.6666666666666666,
              "#ed7953"
             ],
             [
              0.7777777777777778,
              "#fb9f3a"
             ],
             [
              0.8888888888888888,
              "#fdca26"
             ],
             [
              1,
              "#f0f921"
             ]
            ],
            "type": "surface"
           }
          ],
          "table": [
           {
            "cells": {
             "fill": {
              "color": "#EBF0F8"
             },
             "line": {
              "color": "white"
             }
            },
            "header": {
             "fill": {
              "color": "#C8D4E3"
             },
             "line": {
              "color": "white"
             }
            },
            "type": "table"
           }
          ]
         },
         "layout": {
          "annotationdefaults": {
           "arrowcolor": "#2a3f5f",
           "arrowhead": 0,
           "arrowwidth": 1
          },
          "autotypenumbers": "strict",
          "coloraxis": {
           "colorbar": {
            "outlinewidth": 0,
            "ticks": ""
           }
          },
          "colorscale": {
           "diverging": [
            [
             0,
             "#8e0152"
            ],
            [
             0.1,
             "#c51b7d"
            ],
            [
             0.2,
             "#de77ae"
            ],
            [
             0.3,
             "#f1b6da"
            ],
            [
             0.4,
             "#fde0ef"
            ],
            [
             0.5,
             "#f7f7f7"
            ],
            [
             0.6,
             "#e6f5d0"
            ],
            [
             0.7,
             "#b8e186"
            ],
            [
             0.8,
             "#7fbc41"
            ],
            [
             0.9,
             "#4d9221"
            ],
            [
             1,
             "#276419"
            ]
           ],
           "sequential": [
            [
             0,
             "#0d0887"
            ],
            [
             0.1111111111111111,
             "#46039f"
            ],
            [
             0.2222222222222222,
             "#7201a8"
            ],
            [
             0.3333333333333333,
             "#9c179e"
            ],
            [
             0.4444444444444444,
             "#bd3786"
            ],
            [
             0.5555555555555556,
             "#d8576b"
            ],
            [
             0.6666666666666666,
             "#ed7953"
            ],
            [
             0.7777777777777778,
             "#fb9f3a"
            ],
            [
             0.8888888888888888,
             "#fdca26"
            ],
            [
             1,
             "#f0f921"
            ]
           ],
           "sequentialminus": [
            [
             0,
             "#0d0887"
            ],
            [
             0.1111111111111111,
             "#46039f"
            ],
            [
             0.2222222222222222,
             "#7201a8"
            ],
            [
             0.3333333333333333,
             "#9c179e"
            ],
            [
             0.4444444444444444,
             "#bd3786"
            ],
            [
             0.5555555555555556,
             "#d8576b"
            ],
            [
             0.6666666666666666,
             "#ed7953"
            ],
            [
             0.7777777777777778,
             "#fb9f3a"
            ],
            [
             0.8888888888888888,
             "#fdca26"
            ],
            [
             1,
             "#f0f921"
            ]
           ]
          },
          "colorway": [
           "#636efa",
           "#EF553B",
           "#00cc96",
           "#ab63fa",
           "#FFA15A",
           "#19d3f3",
           "#FF6692",
           "#B6E880",
           "#FF97FF",
           "#FECB52"
          ],
          "font": {
           "color": "#2a3f5f"
          },
          "geo": {
           "bgcolor": "white",
           "lakecolor": "white",
           "landcolor": "#E5ECF6",
           "showlakes": true,
           "showland": true,
           "subunitcolor": "white"
          },
          "hoverlabel": {
           "align": "left"
          },
          "hovermode": "closest",
          "mapbox": {
           "style": "light"
          },
          "paper_bgcolor": "white",
          "plot_bgcolor": "#E5ECF6",
          "polar": {
           "angularaxis": {
            "gridcolor": "white",
            "linecolor": "white",
            "ticks": ""
           },
           "bgcolor": "#E5ECF6",
           "radialaxis": {
            "gridcolor": "white",
            "linecolor": "white",
            "ticks": ""
           }
          },
          "scene": {
           "xaxis": {
            "backgroundcolor": "#E5ECF6",
            "gridcolor": "white",
            "gridwidth": 2,
            "linecolor": "white",
            "showbackground": true,
            "ticks": "",
            "zerolinecolor": "white"
           },
           "yaxis": {
            "backgroundcolor": "#E5ECF6",
            "gridcolor": "white",
            "gridwidth": 2,
            "linecolor": "white",
            "showbackground": true,
            "ticks": "",
            "zerolinecolor": "white"
           },
           "zaxis": {
            "backgroundcolor": "#E5ECF6",
            "gridcolor": "white",
            "gridwidth": 2,
            "linecolor": "white",
            "showbackground": true,
            "ticks": "",
            "zerolinecolor": "white"
           }
          },
          "shapedefaults": {
           "line": {
            "color": "#2a3f5f"
           }
          },
          "ternary": {
           "aaxis": {
            "gridcolor": "white",
            "linecolor": "white",
            "ticks": ""
           },
           "baxis": {
            "gridcolor": "white",
            "linecolor": "white",
            "ticks": ""
           },
           "bgcolor": "#E5ECF6",
           "caxis": {
            "gridcolor": "white",
            "linecolor": "white",
            "ticks": ""
           }
          },
          "title": {
           "x": 0.05
          },
          "xaxis": {
           "automargin": true,
           "gridcolor": "white",
           "linecolor": "white",
           "ticks": "",
           "title": {
            "standoff": 15
           },
           "zerolinecolor": "white",
           "zerolinewidth": 2
          },
          "yaxis": {
           "automargin": true,
           "gridcolor": "white",
           "linecolor": "white",
           "ticks": "",
           "title": {
            "standoff": 15
           },
           "zerolinecolor": "white",
           "zerolinewidth": 2
          }
         }
        },
        "title": {
         "text": "Besetzungsstsatus der Radstation"
        },
        "width": 1000,
        "xaxis": {
         "anchor": "y",
         "domain": [
          0,
          1
         ],
         "gridwidth": 1,
         "linecolor": "#092947",
         "linewidth": 2,
         "showline": true,
         "title": {
          "text": "Datum"
         }
        },
        "yaxis": {
         "anchor": "x",
         "domain": [
          0,
          1
         ],
         "gridcolor": "lightgrey",
         "gridwidth": 1,
         "linecolor": "#092947",
         "linewidth": 2,
         "showgrid": true,
         "showline": true,
         "title": {
          "text": "Verfügbare Räder"
         }
        }
       }
      }
     },
     "metadata": {},
     "output_type": "display_data"
    }
   ],
   "source": [
    "train = df_ags_mf[(df_ags_mf.index <= '2024-08-25 00:00:00+00:00') & (df_ags_mf.index > '2024-08-08 00:00:00+00:00')]['availableBikeNumber']\n",
    "test = df_ags_mf[(df_ags_mf.index >= '2024-08-25 00:00:00+00:00') & (df_ags_mf.index < '2024-08-26 00:00:00+00:00')]['availableBikeNumber']\n",
    "try:\n",
    "    model = ExponentialSmoothing(train, trend='add', seasonal='add', initialization_method = 'estimated',\n",
    "                                 seasonal_periods=24)\n",
    "    fit = model.fit(smoothing_seasonal=0.2,)\n",
    "    forecast = fit.forecast(\n",
    "        steps=24)\n",
    "except:\n",
    "    print(fit.mle_retvals)\n",
    "print(f'Mean Squared Error: {mean_squared_error(test, forecast)}')\n",
    "print(f'Mean Absolute percentage Error: {mean_absolute_percentage_error(test, forecast)}')\n",
    "print(f'Root Mean Squared Error: {root_mean_squared_error(test, forecast)}')\n",
    "plot_that(test,forecast)"
   ]
  },
  {
   "cell_type": "code",
   "execution_count": 57,
   "metadata": {},
   "outputs": [
    {
     "name": "stdout",
     "output_type": "stream",
     "text": [
      "Mean Squared Error: 0.4480737065080438\n",
      "Mean Absolute percentage Error: 1216097326072340.8\n",
      "Root Mean Squared Error: 0.6693830790422206\n"
     ]
    },
    {
     "data": {
      "application/vnd.plotly.v1+json": {
       "config": {
        "plotlyServerURL": "https://plot.ly"
       },
       "data": [
        {
         "marker": {
          "color": "#66BECF"
         },
         "name": "totalSlotNumber",
         "textposition": "bottom right",
         "type": "scatter",
         "x": [
          "2024-08-21T00:00:00+00:00",
          "2024-08-21T01:00:00+00:00",
          "2024-08-21T02:00:00+00:00",
          "2024-08-21T03:00:00+00:00",
          "2024-08-21T04:00:00+00:00",
          "2024-08-21T05:00:00+00:00",
          "2024-08-21T06:00:00+00:00",
          "2024-08-21T07:00:00+00:00",
          "2024-08-21T08:00:00+00:00",
          "2024-08-21T09:00:00+00:00",
          "2024-08-21T10:00:00+00:00",
          "2024-08-21T11:00:00+00:00",
          "2024-08-21T12:00:00+00:00",
          "2024-08-21T13:00:00+00:00",
          "2024-08-21T14:00:00+00:00",
          "2024-08-21T15:00:00+00:00",
          "2024-08-21T16:00:00+00:00",
          "2024-08-21T17:00:00+00:00",
          "2024-08-21T18:00:00+00:00",
          "2024-08-21T19:00:00+00:00",
          "2024-08-21T20:00:00+00:00",
          "2024-08-21T21:00:00+00:00",
          "2024-08-21T22:00:00+00:00",
          "2024-08-21T23:00:00+00:00",
          "2024-08-22T00:00:00+00:00",
          "2024-08-22T01:00:00+00:00",
          "2024-08-22T02:00:00+00:00",
          "2024-08-22T03:00:00+00:00",
          "2024-08-22T04:00:00+00:00",
          "2024-08-22T05:00:00+00:00",
          "2024-08-22T06:00:00+00:00",
          "2024-08-22T07:00:00+00:00",
          "2024-08-22T08:00:00+00:00",
          "2024-08-22T09:00:00+00:00",
          "2024-08-22T10:00:00+00:00",
          "2024-08-22T11:00:00+00:00",
          "2024-08-22T12:00:00+00:00",
          "2024-08-22T13:00:00+00:00",
          "2024-08-22T14:00:00+00:00",
          "2024-08-22T15:00:00+00:00",
          "2024-08-22T16:00:00+00:00",
          "2024-08-22T17:00:00+00:00",
          "2024-08-22T18:00:00+00:00",
          "2024-08-22T19:00:00+00:00",
          "2024-08-22T20:00:00+00:00",
          "2024-08-22T21:00:00+00:00",
          "2024-08-22T22:00:00+00:00",
          "2024-08-22T23:00:00+00:00"
         ],
         "xaxis": "x",
         "y": [
          0.6833333333333333,
          1,
          1,
          1,
          0.7666666666666667,
          0,
          0,
          0,
          0,
          0,
          1.45,
          2.9166666666666665,
          2.966666666666667,
          3,
          1.7166666666666668,
          1.1166666666666667,
          0.8813559322033898,
          0,
          0,
          0,
          0,
          0,
          0,
          0,
          0,
          0,
          0,
          0,
          0,
          0,
          0,
          0,
          0,
          0.6833333333333333,
          0.6833333333333333,
          0,
          0,
          0.1833333333333333,
          0.6333333333333333,
          0.3666666666666666,
          0,
          0.6666666666666666,
          0,
          0,
          0,
          0,
          0,
          0
         ],
         "yaxis": "y"
        },
        {
         "marker": {
          "color": "#DF7D39"
         },
         "name": "Forecast",
         "textposition": "bottom right",
         "type": "scatter",
         "x": [
          "2024-08-21T01:00:00+00:00",
          "2024-08-21T02:00:00+00:00",
          "2024-08-21T03:00:00+00:00",
          "2024-08-21T04:00:00+00:00",
          "2024-08-21T05:00:00+00:00",
          "2024-08-21T06:00:00+00:00",
          "2024-08-21T07:00:00+00:00",
          "2024-08-21T08:00:00+00:00",
          "2024-08-21T09:00:00+00:00",
          "2024-08-21T10:00:00+00:00",
          "2024-08-21T11:00:00+00:00",
          "2024-08-21T12:00:00+00:00",
          "2024-08-21T13:00:00+00:00",
          "2024-08-21T14:00:00+00:00",
          "2024-08-21T15:00:00+00:00",
          "2024-08-21T16:00:00+00:00",
          "2024-08-21T17:00:00+00:00",
          "2024-08-21T18:00:00+00:00",
          "2024-08-21T19:00:00+00:00",
          "2024-08-21T20:00:00+00:00",
          "2024-08-21T21:00:00+00:00",
          "2024-08-21T22:00:00+00:00",
          "2024-08-21T23:00:00+00:00",
          "2024-08-22T00:00:00+00:00",
          "2024-08-22T01:00:00+00:00",
          "2024-08-22T02:00:00+00:00",
          "2024-08-22T03:00:00+00:00",
          "2024-08-22T04:00:00+00:00",
          "2024-08-22T05:00:00+00:00",
          "2024-08-22T06:00:00+00:00",
          "2024-08-22T07:00:00+00:00",
          "2024-08-22T08:00:00+00:00",
          "2024-08-22T09:00:00+00:00",
          "2024-08-22T10:00:00+00:00",
          "2024-08-22T11:00:00+00:00",
          "2024-08-22T12:00:00+00:00",
          "2024-08-22T13:00:00+00:00",
          "2024-08-22T14:00:00+00:00",
          "2024-08-22T15:00:00+00:00",
          "2024-08-22T16:00:00+00:00",
          "2024-08-22T17:00:00+00:00",
          "2024-08-22T18:00:00+00:00",
          "2024-08-22T19:00:00+00:00",
          "2024-08-22T20:00:00+00:00",
          "2024-08-22T21:00:00+00:00",
          "2024-08-22T22:00:00+00:00",
          "2024-08-22T23:00:00+00:00",
          "2024-08-23T00:00:00+00:00"
         ],
         "xaxis": "x",
         "y": [
          0.4628535055285705,
          0.4461941479788816,
          0.5352070751374088,
          0.6266741810880188,
          0.467014655009077,
          0.4328132380471912,
          0.3393161612547295,
          0.8024649958322734,
          0.7860959498823048,
          0.4560280012339202,
          0.9368925508629387,
          1.5632531770179319,
          1.7806965271598159,
          1.1644639679044624,
          1.4237792558450217,
          1.690835924080765,
          1.8468144419631722,
          1.1715189186764765,
          0.8487581194918814,
          0.29766334601066635,
          0.46480740135308485,
          0.345105822013349,
          0.3540086171955431,
          0.30023366898436565,
          0.0797538524364465,
          0.06309449488675756,
          0.15210742204528482,
          0.24357452799589469,
          0.083915001916953,
          0.04971358495506717,
          -0.043783491837394495,
          0.4193653427401494,
          0.40299629679018084,
          0.07292834814179616,
          0.5537928977708146,
          1.1801535239258079,
          1.3975968740676918,
          0.7813643148123384,
          1.0406796027528977,
          1.307736270988641,
          1.4637147888710482,
          0.7884192655843525,
          0.4656584663997574,
          -0.08543630708145766,
          0.08170774826096083,
          -0.03799383107877502,
          -0.029091035896580908,
          -0.08286598410775836
         ],
         "yaxis": "y"
        }
       ],
       "layout": {
        "height": 500,
        "paper_bgcolor": "white",
        "plot_bgcolor": "white",
        "template": {
         "data": {
          "bar": [
           {
            "error_x": {
             "color": "#2a3f5f"
            },
            "error_y": {
             "color": "#2a3f5f"
            },
            "marker": {
             "line": {
              "color": "#E5ECF6",
              "width": 0.5
             },
             "pattern": {
              "fillmode": "overlay",
              "size": 10,
              "solidity": 0.2
             }
            },
            "type": "bar"
           }
          ],
          "barpolar": [
           {
            "marker": {
             "line": {
              "color": "#E5ECF6",
              "width": 0.5
             },
             "pattern": {
              "fillmode": "overlay",
              "size": 10,
              "solidity": 0.2
             }
            },
            "type": "barpolar"
           }
          ],
          "carpet": [
           {
            "aaxis": {
             "endlinecolor": "#2a3f5f",
             "gridcolor": "white",
             "linecolor": "white",
             "minorgridcolor": "white",
             "startlinecolor": "#2a3f5f"
            },
            "baxis": {
             "endlinecolor": "#2a3f5f",
             "gridcolor": "white",
             "linecolor": "white",
             "minorgridcolor": "white",
             "startlinecolor": "#2a3f5f"
            },
            "type": "carpet"
           }
          ],
          "choropleth": [
           {
            "colorbar": {
             "outlinewidth": 0,
             "ticks": ""
            },
            "type": "choropleth"
           }
          ],
          "contour": [
           {
            "colorbar": {
             "outlinewidth": 0,
             "ticks": ""
            },
            "colorscale": [
             [
              0,
              "#0d0887"
             ],
             [
              0.1111111111111111,
              "#46039f"
             ],
             [
              0.2222222222222222,
              "#7201a8"
             ],
             [
              0.3333333333333333,
              "#9c179e"
             ],
             [
              0.4444444444444444,
              "#bd3786"
             ],
             [
              0.5555555555555556,
              "#d8576b"
             ],
             [
              0.6666666666666666,
              "#ed7953"
             ],
             [
              0.7777777777777778,
              "#fb9f3a"
             ],
             [
              0.8888888888888888,
              "#fdca26"
             ],
             [
              1,
              "#f0f921"
             ]
            ],
            "type": "contour"
           }
          ],
          "contourcarpet": [
           {
            "colorbar": {
             "outlinewidth": 0,
             "ticks": ""
            },
            "type": "contourcarpet"
           }
          ],
          "heatmap": [
           {
            "colorbar": {
             "outlinewidth": 0,
             "ticks": ""
            },
            "colorscale": [
             [
              0,
              "#0d0887"
             ],
             [
              0.1111111111111111,
              "#46039f"
             ],
             [
              0.2222222222222222,
              "#7201a8"
             ],
             [
              0.3333333333333333,
              "#9c179e"
             ],
             [
              0.4444444444444444,
              "#bd3786"
             ],
             [
              0.5555555555555556,
              "#d8576b"
             ],
             [
              0.6666666666666666,
              "#ed7953"
             ],
             [
              0.7777777777777778,
              "#fb9f3a"
             ],
             [
              0.8888888888888888,
              "#fdca26"
             ],
             [
              1,
              "#f0f921"
             ]
            ],
            "type": "heatmap"
           }
          ],
          "heatmapgl": [
           {
            "colorbar": {
             "outlinewidth": 0,
             "ticks": ""
            },
            "colorscale": [
             [
              0,
              "#0d0887"
             ],
             [
              0.1111111111111111,
              "#46039f"
             ],
             [
              0.2222222222222222,
              "#7201a8"
             ],
             [
              0.3333333333333333,
              "#9c179e"
             ],
             [
              0.4444444444444444,
              "#bd3786"
             ],
             [
              0.5555555555555556,
              "#d8576b"
             ],
             [
              0.6666666666666666,
              "#ed7953"
             ],
             [
              0.7777777777777778,
              "#fb9f3a"
             ],
             [
              0.8888888888888888,
              "#fdca26"
             ],
             [
              1,
              "#f0f921"
             ]
            ],
            "type": "heatmapgl"
           }
          ],
          "histogram": [
           {
            "marker": {
             "pattern": {
              "fillmode": "overlay",
              "size": 10,
              "solidity": 0.2
             }
            },
            "type": "histogram"
           }
          ],
          "histogram2d": [
           {
            "colorbar": {
             "outlinewidth": 0,
             "ticks": ""
            },
            "colorscale": [
             [
              0,
              "#0d0887"
             ],
             [
              0.1111111111111111,
              "#46039f"
             ],
             [
              0.2222222222222222,
              "#7201a8"
             ],
             [
              0.3333333333333333,
              "#9c179e"
             ],
             [
              0.4444444444444444,
              "#bd3786"
             ],
             [
              0.5555555555555556,
              "#d8576b"
             ],
             [
              0.6666666666666666,
              "#ed7953"
             ],
             [
              0.7777777777777778,
              "#fb9f3a"
             ],
             [
              0.8888888888888888,
              "#fdca26"
             ],
             [
              1,
              "#f0f921"
             ]
            ],
            "type": "histogram2d"
           }
          ],
          "histogram2dcontour": [
           {
            "colorbar": {
             "outlinewidth": 0,
             "ticks": ""
            },
            "colorscale": [
             [
              0,
              "#0d0887"
             ],
             [
              0.1111111111111111,
              "#46039f"
             ],
             [
              0.2222222222222222,
              "#7201a8"
             ],
             [
              0.3333333333333333,
              "#9c179e"
             ],
             [
              0.4444444444444444,
              "#bd3786"
             ],
             [
              0.5555555555555556,
              "#d8576b"
             ],
             [
              0.6666666666666666,
              "#ed7953"
             ],
             [
              0.7777777777777778,
              "#fb9f3a"
             ],
             [
              0.8888888888888888,
              "#fdca26"
             ],
             [
              1,
              "#f0f921"
             ]
            ],
            "type": "histogram2dcontour"
           }
          ],
          "mesh3d": [
           {
            "colorbar": {
             "outlinewidth": 0,
             "ticks": ""
            },
            "type": "mesh3d"
           }
          ],
          "parcoords": [
           {
            "line": {
             "colorbar": {
              "outlinewidth": 0,
              "ticks": ""
             }
            },
            "type": "parcoords"
           }
          ],
          "pie": [
           {
            "automargin": true,
            "type": "pie"
           }
          ],
          "scatter": [
           {
            "fillpattern": {
             "fillmode": "overlay",
             "size": 10,
             "solidity": 0.2
            },
            "type": "scatter"
           }
          ],
          "scatter3d": [
           {
            "line": {
             "colorbar": {
              "outlinewidth": 0,
              "ticks": ""
             }
            },
            "marker": {
             "colorbar": {
              "outlinewidth": 0,
              "ticks": ""
             }
            },
            "type": "scatter3d"
           }
          ],
          "scattercarpet": [
           {
            "marker": {
             "colorbar": {
              "outlinewidth": 0,
              "ticks": ""
             }
            },
            "type": "scattercarpet"
           }
          ],
          "scattergeo": [
           {
            "marker": {
             "colorbar": {
              "outlinewidth": 0,
              "ticks": ""
             }
            },
            "type": "scattergeo"
           }
          ],
          "scattergl": [
           {
            "marker": {
             "colorbar": {
              "outlinewidth": 0,
              "ticks": ""
             }
            },
            "type": "scattergl"
           }
          ],
          "scattermapbox": [
           {
            "marker": {
             "colorbar": {
              "outlinewidth": 0,
              "ticks": ""
             }
            },
            "type": "scattermapbox"
           }
          ],
          "scatterpolar": [
           {
            "marker": {
             "colorbar": {
              "outlinewidth": 0,
              "ticks": ""
             }
            },
            "type": "scatterpolar"
           }
          ],
          "scatterpolargl": [
           {
            "marker": {
             "colorbar": {
              "outlinewidth": 0,
              "ticks": ""
             }
            },
            "type": "scatterpolargl"
           }
          ],
          "scatterternary": [
           {
            "marker": {
             "colorbar": {
              "outlinewidth": 0,
              "ticks": ""
             }
            },
            "type": "scatterternary"
           }
          ],
          "surface": [
           {
            "colorbar": {
             "outlinewidth": 0,
             "ticks": ""
            },
            "colorscale": [
             [
              0,
              "#0d0887"
             ],
             [
              0.1111111111111111,
              "#46039f"
             ],
             [
              0.2222222222222222,
              "#7201a8"
             ],
             [
              0.3333333333333333,
              "#9c179e"
             ],
             [
              0.4444444444444444,
              "#bd3786"
             ],
             [
              0.5555555555555556,
              "#d8576b"
             ],
             [
              0.6666666666666666,
              "#ed7953"
             ],
             [
              0.7777777777777778,
              "#fb9f3a"
             ],
             [
              0.8888888888888888,
              "#fdca26"
             ],
             [
              1,
              "#f0f921"
             ]
            ],
            "type": "surface"
           }
          ],
          "table": [
           {
            "cells": {
             "fill": {
              "color": "#EBF0F8"
             },
             "line": {
              "color": "white"
             }
            },
            "header": {
             "fill": {
              "color": "#C8D4E3"
             },
             "line": {
              "color": "white"
             }
            },
            "type": "table"
           }
          ]
         },
         "layout": {
          "annotationdefaults": {
           "arrowcolor": "#2a3f5f",
           "arrowhead": 0,
           "arrowwidth": 1
          },
          "autotypenumbers": "strict",
          "coloraxis": {
           "colorbar": {
            "outlinewidth": 0,
            "ticks": ""
           }
          },
          "colorscale": {
           "diverging": [
            [
             0,
             "#8e0152"
            ],
            [
             0.1,
             "#c51b7d"
            ],
            [
             0.2,
             "#de77ae"
            ],
            [
             0.3,
             "#f1b6da"
            ],
            [
             0.4,
             "#fde0ef"
            ],
            [
             0.5,
             "#f7f7f7"
            ],
            [
             0.6,
             "#e6f5d0"
            ],
            [
             0.7,
             "#b8e186"
            ],
            [
             0.8,
             "#7fbc41"
            ],
            [
             0.9,
             "#4d9221"
            ],
            [
             1,
             "#276419"
            ]
           ],
           "sequential": [
            [
             0,
             "#0d0887"
            ],
            [
             0.1111111111111111,
             "#46039f"
            ],
            [
             0.2222222222222222,
             "#7201a8"
            ],
            [
             0.3333333333333333,
             "#9c179e"
            ],
            [
             0.4444444444444444,
             "#bd3786"
            ],
            [
             0.5555555555555556,
             "#d8576b"
            ],
            [
             0.6666666666666666,
             "#ed7953"
            ],
            [
             0.7777777777777778,
             "#fb9f3a"
            ],
            [
             0.8888888888888888,
             "#fdca26"
            ],
            [
             1,
             "#f0f921"
            ]
           ],
           "sequentialminus": [
            [
             0,
             "#0d0887"
            ],
            [
             0.1111111111111111,
             "#46039f"
            ],
            [
             0.2222222222222222,
             "#7201a8"
            ],
            [
             0.3333333333333333,
             "#9c179e"
            ],
            [
             0.4444444444444444,
             "#bd3786"
            ],
            [
             0.5555555555555556,
             "#d8576b"
            ],
            [
             0.6666666666666666,
             "#ed7953"
            ],
            [
             0.7777777777777778,
             "#fb9f3a"
            ],
            [
             0.8888888888888888,
             "#fdca26"
            ],
            [
             1,
             "#f0f921"
            ]
           ]
          },
          "colorway": [
           "#636efa",
           "#EF553B",
           "#00cc96",
           "#ab63fa",
           "#FFA15A",
           "#19d3f3",
           "#FF6692",
           "#B6E880",
           "#FF97FF",
           "#FECB52"
          ],
          "font": {
           "color": "#2a3f5f"
          },
          "geo": {
           "bgcolor": "white",
           "lakecolor": "white",
           "landcolor": "#E5ECF6",
           "showlakes": true,
           "showland": true,
           "subunitcolor": "white"
          },
          "hoverlabel": {
           "align": "left"
          },
          "hovermode": "closest",
          "mapbox": {
           "style": "light"
          },
          "paper_bgcolor": "white",
          "plot_bgcolor": "#E5ECF6",
          "polar": {
           "angularaxis": {
            "gridcolor": "white",
            "linecolor": "white",
            "ticks": ""
           },
           "bgcolor": "#E5ECF6",
           "radialaxis": {
            "gridcolor": "white",
            "linecolor": "white",
            "ticks": ""
           }
          },
          "scene": {
           "xaxis": {
            "backgroundcolor": "#E5ECF6",
            "gridcolor": "white",
            "gridwidth": 2,
            "linecolor": "white",
            "showbackground": true,
            "ticks": "",
            "zerolinecolor": "white"
           },
           "yaxis": {
            "backgroundcolor": "#E5ECF6",
            "gridcolor": "white",
            "gridwidth": 2,
            "linecolor": "white",
            "showbackground": true,
            "ticks": "",
            "zerolinecolor": "white"
           },
           "zaxis": {
            "backgroundcolor": "#E5ECF6",
            "gridcolor": "white",
            "gridwidth": 2,
            "linecolor": "white",
            "showbackground": true,
            "ticks": "",
            "zerolinecolor": "white"
           }
          },
          "shapedefaults": {
           "line": {
            "color": "#2a3f5f"
           }
          },
          "ternary": {
           "aaxis": {
            "gridcolor": "white",
            "linecolor": "white",
            "ticks": ""
           },
           "baxis": {
            "gridcolor": "white",
            "linecolor": "white",
            "ticks": ""
           },
           "bgcolor": "#E5ECF6",
           "caxis": {
            "gridcolor": "white",
            "linecolor": "white",
            "ticks": ""
           }
          },
          "title": {
           "x": 0.05
          },
          "xaxis": {
           "automargin": true,
           "gridcolor": "white",
           "linecolor": "white",
           "ticks": "",
           "title": {
            "standoff": 15
           },
           "zerolinecolor": "white",
           "zerolinewidth": 2
          },
          "yaxis": {
           "automargin": true,
           "gridcolor": "white",
           "linecolor": "white",
           "ticks": "",
           "title": {
            "standoff": 15
           },
           "zerolinecolor": "white",
           "zerolinewidth": 2
          }
         }
        },
        "title": {
         "text": "Besetzungsstsatus der Radstation"
        },
        "width": 1000,
        "xaxis": {
         "anchor": "y",
         "domain": [
          0,
          1
         ],
         "gridwidth": 1,
         "linecolor": "#092947",
         "linewidth": 2,
         "showline": true,
         "title": {
          "text": "Datum"
         }
        },
        "yaxis": {
         "anchor": "x",
         "domain": [
          0,
          1
         ],
         "gridcolor": "lightgrey",
         "gridwidth": 1,
         "linecolor": "#092947",
         "linewidth": 2,
         "showgrid": true,
         "showline": true,
         "title": {
          "text": "Verfügbare Räder"
         }
        }
       }
      }
     },
     "metadata": {},
     "output_type": "display_data"
    }
   ],
   "source": [
    "train = df_ags_mf[(df_ags_mf.index <= '2024-08-21 00:00:00+00:00') & (df_ags_mf.index > '2024-08-9 00:00:00+00:00')]['availableBikeNumber']\n",
    "test = df_ags_mf[(df_ags_mf.index >= '2024-08-21 00:00:00+00:00') & (df_ags_mf.index < '2024-08-23 00:00:00+00:00')]['availableBikeNumber']\n",
    "try:\n",
    "    model = ExponentialSmoothing(train, trend='add', seasonal='add', initialization_method = 'estimated',\n",
    "                                 seasonal_periods=24)\n",
    "    fit = model.fit(smoothing_seasonal=0.2,)\n",
    "    forecast = fit.forecast(\n",
    "        steps=48)\n",
    "except:\n",
    "    print(fit.mle_retvals)\n",
    "print(f'Mean Squared Error: {mean_squared_error(test, forecast)}')\n",
    "print(f'Mean Absolute percentage Error: {mean_absolute_percentage_error(test, forecast)}')\n",
    "print(f'Root Mean Squared Error: {root_mean_squared_error(test, forecast)}')\n",
    "plot_that(test,forecast)"
   ]
  },
  {
   "cell_type": "markdown",
   "metadata": {},
   "source": [
    "---"
   ]
  },
  {
   "cell_type": "code",
   "execution_count": 58,
   "metadata": {},
   "outputs": [],
   "source": [
    "df_cutout = df_ags_mf[df_ags_mf.index >= '2024-09-27 00:00:00+00:00']\n",
    "try:\n",
    "    model = ExponentialSmoothing(df_cutout['availableBikeNumber'], \n",
    "                                trend='add', \n",
    "                                seasonal='add', \n",
    "                                seasonal_periods=24)\n",
    "    fit = model.fit(smoothing_seasonal=0.2,)#smoothing_level=1, smoothing_slope=1, smoothing_seasonal=1)\n",
    "    forecast = fit.forecast(steps=40)\n",
    "except:\n",
    "    print(fit.mle_retvals)"
   ]
  },
  {
   "cell_type": "code",
   "execution_count": 59,
   "metadata": {},
   "outputs": [
    {
     "data": {
      "application/vnd.plotly.v1+json": {
       "config": {
        "plotlyServerURL": "https://plot.ly"
       },
       "data": [
        {
         "marker": {
          "color": "#66BECF"
         },
         "name": "totalSlotNumber",
         "textposition": "bottom right",
         "type": "scatter",
         "x": [
          "2024-09-27T00:00:00+00:00",
          "2024-09-27T01:00:00+00:00",
          "2024-09-27T02:00:00+00:00",
          "2024-09-27T03:00:00+00:00",
          "2024-09-27T04:00:00+00:00",
          "2024-09-27T05:00:00+00:00",
          "2024-09-27T06:00:00+00:00",
          "2024-09-27T07:00:00+00:00",
          "2024-09-27T08:00:00+00:00",
          "2024-09-27T09:00:00+00:00",
          "2024-09-27T10:00:00+00:00",
          "2024-09-27T11:00:00+00:00",
          "2024-09-27T12:00:00+00:00",
          "2024-09-27T13:00:00+00:00",
          "2024-09-27T14:00:00+00:00",
          "2024-09-27T15:00:00+00:00",
          "2024-09-27T16:00:00+00:00",
          "2024-09-27T17:00:00+00:00",
          "2024-09-27T18:00:00+00:00",
          "2024-09-27T19:00:00+00:00",
          "2024-09-27T20:00:00+00:00",
          "2024-09-27T21:00:00+00:00",
          "2024-09-27T22:00:00+00:00",
          "2024-09-27T23:00:00+00:00",
          "2024-09-28T00:00:00+00:00",
          "2024-09-28T01:00:00+00:00",
          "2024-09-28T02:00:00+00:00",
          "2024-09-28T03:00:00+00:00",
          "2024-09-28T04:00:00+00:00",
          "2024-09-28T05:00:00+00:00",
          "2024-09-28T06:00:00+00:00",
          "2024-09-28T07:00:00+00:00",
          "2024-09-28T08:00:00+00:00",
          "2024-09-28T09:00:00+00:00",
          "2024-09-28T10:00:00+00:00",
          "2024-09-28T11:00:00+00:00",
          "2024-09-28T12:00:00+00:00",
          "2024-09-28T13:00:00+00:00",
          "2024-09-28T14:00:00+00:00",
          "2024-09-28T15:00:00+00:00",
          "2024-09-28T16:00:00+00:00",
          "2024-09-28T17:00:00+00:00",
          "2024-09-28T18:00:00+00:00",
          "2024-09-28T19:00:00+00:00",
          "2024-09-28T20:00:00+00:00",
          "2024-09-28T21:00:00+00:00",
          "2024-09-28T22:00:00+00:00",
          "2024-09-28T23:00:00+00:00",
          "2024-09-29T00:00:00+00:00",
          "2024-09-29T01:00:00+00:00",
          "2024-09-29T02:00:00+00:00",
          "2024-09-29T03:00:00+00:00",
          "2024-09-29T04:00:00+00:00",
          "2024-09-29T05:00:00+00:00",
          "2024-09-29T06:00:00+00:00",
          "2024-09-29T07:00:00+00:00",
          "2024-09-29T08:00:00+00:00",
          "2024-09-29T09:00:00+00:00",
          "2024-09-29T10:00:00+00:00",
          "2024-09-29T11:00:00+00:00",
          "2024-09-29T12:00:00+00:00",
          "2024-09-29T13:00:00+00:00",
          "2024-09-29T14:00:00+00:00",
          "2024-09-29T15:00:00+00:00",
          "2024-09-29T16:00:00+00:00",
          "2024-09-29T17:00:00+00:00",
          "2024-09-29T18:00:00+00:00",
          "2024-09-29T19:00:00+00:00",
          "2024-09-29T20:00:00+00:00",
          "2024-09-29T21:00:00+00:00",
          "2024-09-29T22:00:00+00:00",
          "2024-09-29T23:00:00+00:00",
          "2024-09-30T00:00:00+00:00",
          "2024-09-30T01:00:00+00:00",
          "2024-09-30T02:00:00+00:00",
          "2024-09-30T03:00:00+00:00",
          "2024-09-30T04:00:00+00:00",
          "2024-09-30T05:00:00+00:00",
          "2024-09-30T06:00:00+00:00",
          "2024-09-30T07:00:00+00:00",
          "2024-09-30T08:00:00+00:00",
          "2024-09-30T09:00:00+00:00",
          "2024-09-30T10:00:00+00:00",
          "2024-09-30T11:00:00+00:00",
          "2024-09-30T12:00:00+00:00",
          "2024-09-30T13:00:00+00:00",
          "2024-09-30T14:00:00+00:00",
          "2024-09-30T15:00:00+00:00",
          "2024-09-30T16:00:00+00:00",
          "2024-09-30T17:00:00+00:00",
          "2024-09-30T18:00:00+00:00",
          "2024-09-30T19:00:00+00:00",
          "2024-09-30T20:00:00+00:00",
          "2024-09-30T21:00:00+00:00",
          "2024-09-30T22:00:00+00:00",
          "2024-09-30T23:00:00+00:00"
         ],
         "xaxis": "x",
         "y": [
          30,
          30,
          30,
          30,
          29.35,
          28.372881355932204,
          27.20338983050848,
          27.482142857142858,
          27.77586206896552,
          27.189655172413797,
          27.135593220338983,
          28,
          26.79661016949153,
          28.016666666666666,
          30.866666666666667,
          31.116666666666667,
          31.983050847457623,
          31.6,
          30,
          30,
          30,
          30,
          30,
          30,
          29.666666666666668,
          30,
          30,
          30,
          30,
          30,
          29.75,
          28.3,
          27.433333333333337,
          28.633333333333333,
          29,
          29.633333333333333,
          30.183333333333337,
          28.95,
          30.366666666666667,
          31,
          30.6,
          28.466666666666665,
          28.15,
          28.7,
          30,
          30,
          30,
          30,
          30,
          30,
          29.133333333333333,
          28.75,
          28,
          28.65,
          29,
          29.266666666666666,
          29.868852459016395,
          28.416666666666668,
          30,
          30,
          28.25,
          28.25,
          11.966666666666669,
          7.383333333333333,
          29.116666666666667,
          28.53333333333333,
          27,
          27,
          27,
          27,
          27,
          27,
          27,
          27,
          27,
          27,
          26.83050847457627,
          26.316666666666663,
          25.98333333333333,
          25.23333333333333,
          25,
          25.67796610169492,
          26.72131147540984,
          26,
          25.03333333333333,
          24.666666666666668,
          25.6271186440678,
          27.084745762711865,
          27,
          27.3,
          27.1,
          26.1,
          26.65,
          27,
          28,
          28
         ],
         "yaxis": "y"
        },
        {
         "marker": {
          "color": "#DF7D39"
         },
         "name": "Forecast",
         "textposition": "bottom right",
         "type": "scatter",
         "x": [
          "2024-10-01T00:00:00+00:00",
          "2024-10-01T01:00:00+00:00",
          "2024-10-01T02:00:00+00:00",
          "2024-10-01T03:00:00+00:00",
          "2024-10-01T04:00:00+00:00",
          "2024-10-01T05:00:00+00:00",
          "2024-10-01T06:00:00+00:00",
          "2024-10-01T07:00:00+00:00",
          "2024-10-01T08:00:00+00:00",
          "2024-10-01T09:00:00+00:00",
          "2024-10-01T10:00:00+00:00",
          "2024-10-01T11:00:00+00:00",
          "2024-10-01T12:00:00+00:00",
          "2024-10-01T13:00:00+00:00",
          "2024-10-01T14:00:00+00:00",
          "2024-10-01T15:00:00+00:00",
          "2024-10-01T16:00:00+00:00",
          "2024-10-01T17:00:00+00:00",
          "2024-10-01T18:00:00+00:00",
          "2024-10-01T19:00:00+00:00",
          "2024-10-01T20:00:00+00:00",
          "2024-10-01T21:00:00+00:00",
          "2024-10-01T22:00:00+00:00",
          "2024-10-01T23:00:00+00:00",
          "2024-10-02T00:00:00+00:00",
          "2024-10-02T01:00:00+00:00",
          "2024-10-02T02:00:00+00:00",
          "2024-10-02T03:00:00+00:00",
          "2024-10-02T04:00:00+00:00",
          "2024-10-02T05:00:00+00:00",
          "2024-10-02T06:00:00+00:00",
          "2024-10-02T07:00:00+00:00",
          "2024-10-02T08:00:00+00:00",
          "2024-10-02T09:00:00+00:00",
          "2024-10-02T10:00:00+00:00",
          "2024-10-02T11:00:00+00:00",
          "2024-10-02T12:00:00+00:00",
          "2024-10-02T13:00:00+00:00",
          "2024-10-02T14:00:00+00:00",
          "2024-10-02T15:00:00+00:00"
         ],
         "xaxis": "x",
         "y": [
          27.581132310538887,
          27.638661886040396,
          27.420114955545667,
          27.352551281044853,
          27.01763648549395,
          26.851613009481692,
          26.506565932439013,
          26.022605532859135,
          25.966591693882414,
          25.938142928279568,
          26.625988921370034,
          26.58409045228671,
          25.62368602234161,
          25.323008320846544,
          22.450605718917338,
          22.43750172118042,
          28.388130284605456,
          27.716559623434236,
          26.69813286857036,
          26.414880198668104,
          26.89592915158749,
          27.014678733612577,
          27.28396648513742,
          27.104085710069636,
          26.9754656215307,
          27.032995197032204,
          26.814448266537475,
          26.746884592036665,
          26.411969796485756,
          26.2459463204735,
          25.900899243430825,
          25.416938843850946,
          25.360925004874222,
          25.332476239271376,
          26.020322232361845,
          25.978423763278514,
          25.018019333333417,
          24.717341631838355,
          21.844939029909145,
          21.83183503217223
         ],
         "yaxis": "y"
        }
       ],
       "layout": {
        "height": 500,
        "paper_bgcolor": "white",
        "plot_bgcolor": "white",
        "template": {
         "data": {
          "bar": [
           {
            "error_x": {
             "color": "#2a3f5f"
            },
            "error_y": {
             "color": "#2a3f5f"
            },
            "marker": {
             "line": {
              "color": "#E5ECF6",
              "width": 0.5
             },
             "pattern": {
              "fillmode": "overlay",
              "size": 10,
              "solidity": 0.2
             }
            },
            "type": "bar"
           }
          ],
          "barpolar": [
           {
            "marker": {
             "line": {
              "color": "#E5ECF6",
              "width": 0.5
             },
             "pattern": {
              "fillmode": "overlay",
              "size": 10,
              "solidity": 0.2
             }
            },
            "type": "barpolar"
           }
          ],
          "carpet": [
           {
            "aaxis": {
             "endlinecolor": "#2a3f5f",
             "gridcolor": "white",
             "linecolor": "white",
             "minorgridcolor": "white",
             "startlinecolor": "#2a3f5f"
            },
            "baxis": {
             "endlinecolor": "#2a3f5f",
             "gridcolor": "white",
             "linecolor": "white",
             "minorgridcolor": "white",
             "startlinecolor": "#2a3f5f"
            },
            "type": "carpet"
           }
          ],
          "choropleth": [
           {
            "colorbar": {
             "outlinewidth": 0,
             "ticks": ""
            },
            "type": "choropleth"
           }
          ],
          "contour": [
           {
            "colorbar": {
             "outlinewidth": 0,
             "ticks": ""
            },
            "colorscale": [
             [
              0,
              "#0d0887"
             ],
             [
              0.1111111111111111,
              "#46039f"
             ],
             [
              0.2222222222222222,
              "#7201a8"
             ],
             [
              0.3333333333333333,
              "#9c179e"
             ],
             [
              0.4444444444444444,
              "#bd3786"
             ],
             [
              0.5555555555555556,
              "#d8576b"
             ],
             [
              0.6666666666666666,
              "#ed7953"
             ],
             [
              0.7777777777777778,
              "#fb9f3a"
             ],
             [
              0.8888888888888888,
              "#fdca26"
             ],
             [
              1,
              "#f0f921"
             ]
            ],
            "type": "contour"
           }
          ],
          "contourcarpet": [
           {
            "colorbar": {
             "outlinewidth": 0,
             "ticks": ""
            },
            "type": "contourcarpet"
           }
          ],
          "heatmap": [
           {
            "colorbar": {
             "outlinewidth": 0,
             "ticks": ""
            },
            "colorscale": [
             [
              0,
              "#0d0887"
             ],
             [
              0.1111111111111111,
              "#46039f"
             ],
             [
              0.2222222222222222,
              "#7201a8"
             ],
             [
              0.3333333333333333,
              "#9c179e"
             ],
             [
              0.4444444444444444,
              "#bd3786"
             ],
             [
              0.5555555555555556,
              "#d8576b"
             ],
             [
              0.6666666666666666,
              "#ed7953"
             ],
             [
              0.7777777777777778,
              "#fb9f3a"
             ],
             [
              0.8888888888888888,
              "#fdca26"
             ],
             [
              1,
              "#f0f921"
             ]
            ],
            "type": "heatmap"
           }
          ],
          "heatmapgl": [
           {
            "colorbar": {
             "outlinewidth": 0,
             "ticks": ""
            },
            "colorscale": [
             [
              0,
              "#0d0887"
             ],
             [
              0.1111111111111111,
              "#46039f"
             ],
             [
              0.2222222222222222,
              "#7201a8"
             ],
             [
              0.3333333333333333,
              "#9c179e"
             ],
             [
              0.4444444444444444,
              "#bd3786"
             ],
             [
              0.5555555555555556,
              "#d8576b"
             ],
             [
              0.6666666666666666,
              "#ed7953"
             ],
             [
              0.7777777777777778,
              "#fb9f3a"
             ],
             [
              0.8888888888888888,
              "#fdca26"
             ],
             [
              1,
              "#f0f921"
             ]
            ],
            "type": "heatmapgl"
           }
          ],
          "histogram": [
           {
            "marker": {
             "pattern": {
              "fillmode": "overlay",
              "size": 10,
              "solidity": 0.2
             }
            },
            "type": "histogram"
           }
          ],
          "histogram2d": [
           {
            "colorbar": {
             "outlinewidth": 0,
             "ticks": ""
            },
            "colorscale": [
             [
              0,
              "#0d0887"
             ],
             [
              0.1111111111111111,
              "#46039f"
             ],
             [
              0.2222222222222222,
              "#7201a8"
             ],
             [
              0.3333333333333333,
              "#9c179e"
             ],
             [
              0.4444444444444444,
              "#bd3786"
             ],
             [
              0.5555555555555556,
              "#d8576b"
             ],
             [
              0.6666666666666666,
              "#ed7953"
             ],
             [
              0.7777777777777778,
              "#fb9f3a"
             ],
             [
              0.8888888888888888,
              "#fdca26"
             ],
             [
              1,
              "#f0f921"
             ]
            ],
            "type": "histogram2d"
           }
          ],
          "histogram2dcontour": [
           {
            "colorbar": {
             "outlinewidth": 0,
             "ticks": ""
            },
            "colorscale": [
             [
              0,
              "#0d0887"
             ],
             [
              0.1111111111111111,
              "#46039f"
             ],
             [
              0.2222222222222222,
              "#7201a8"
             ],
             [
              0.3333333333333333,
              "#9c179e"
             ],
             [
              0.4444444444444444,
              "#bd3786"
             ],
             [
              0.5555555555555556,
              "#d8576b"
             ],
             [
              0.6666666666666666,
              "#ed7953"
             ],
             [
              0.7777777777777778,
              "#fb9f3a"
             ],
             [
              0.8888888888888888,
              "#fdca26"
             ],
             [
              1,
              "#f0f921"
             ]
            ],
            "type": "histogram2dcontour"
           }
          ],
          "mesh3d": [
           {
            "colorbar": {
             "outlinewidth": 0,
             "ticks": ""
            },
            "type": "mesh3d"
           }
          ],
          "parcoords": [
           {
            "line": {
             "colorbar": {
              "outlinewidth": 0,
              "ticks": ""
             }
            },
            "type": "parcoords"
           }
          ],
          "pie": [
           {
            "automargin": true,
            "type": "pie"
           }
          ],
          "scatter": [
           {
            "fillpattern": {
             "fillmode": "overlay",
             "size": 10,
             "solidity": 0.2
            },
            "type": "scatter"
           }
          ],
          "scatter3d": [
           {
            "line": {
             "colorbar": {
              "outlinewidth": 0,
              "ticks": ""
             }
            },
            "marker": {
             "colorbar": {
              "outlinewidth": 0,
              "ticks": ""
             }
            },
            "type": "scatter3d"
           }
          ],
          "scattercarpet": [
           {
            "marker": {
             "colorbar": {
              "outlinewidth": 0,
              "ticks": ""
             }
            },
            "type": "scattercarpet"
           }
          ],
          "scattergeo": [
           {
            "marker": {
             "colorbar": {
              "outlinewidth": 0,
              "ticks": ""
             }
            },
            "type": "scattergeo"
           }
          ],
          "scattergl": [
           {
            "marker": {
             "colorbar": {
              "outlinewidth": 0,
              "ticks": ""
             }
            },
            "type": "scattergl"
           }
          ],
          "scattermapbox": [
           {
            "marker": {
             "colorbar": {
              "outlinewidth": 0,
              "ticks": ""
             }
            },
            "type": "scattermapbox"
           }
          ],
          "scatterpolar": [
           {
            "marker": {
             "colorbar": {
              "outlinewidth": 0,
              "ticks": ""
             }
            },
            "type": "scatterpolar"
           }
          ],
          "scatterpolargl": [
           {
            "marker": {
             "colorbar": {
              "outlinewidth": 0,
              "ticks": ""
             }
            },
            "type": "scatterpolargl"
           }
          ],
          "scatterternary": [
           {
            "marker": {
             "colorbar": {
              "outlinewidth": 0,
              "ticks": ""
             }
            },
            "type": "scatterternary"
           }
          ],
          "surface": [
           {
            "colorbar": {
             "outlinewidth": 0,
             "ticks": ""
            },
            "colorscale": [
             [
              0,
              "#0d0887"
             ],
             [
              0.1111111111111111,
              "#46039f"
             ],
             [
              0.2222222222222222,
              "#7201a8"
             ],
             [
              0.3333333333333333,
              "#9c179e"
             ],
             [
              0.4444444444444444,
              "#bd3786"
             ],
             [
              0.5555555555555556,
              "#d8576b"
             ],
             [
              0.6666666666666666,
              "#ed7953"
             ],
             [
              0.7777777777777778,
              "#fb9f3a"
             ],
             [
              0.8888888888888888,
              "#fdca26"
             ],
             [
              1,
              "#f0f921"
             ]
            ],
            "type": "surface"
           }
          ],
          "table": [
           {
            "cells": {
             "fill": {
              "color": "#EBF0F8"
             },
             "line": {
              "color": "white"
             }
            },
            "header": {
             "fill": {
              "color": "#C8D4E3"
             },
             "line": {
              "color": "white"
             }
            },
            "type": "table"
           }
          ]
         },
         "layout": {
          "annotationdefaults": {
           "arrowcolor": "#2a3f5f",
           "arrowhead": 0,
           "arrowwidth": 1
          },
          "autotypenumbers": "strict",
          "coloraxis": {
           "colorbar": {
            "outlinewidth": 0,
            "ticks": ""
           }
          },
          "colorscale": {
           "diverging": [
            [
             0,
             "#8e0152"
            ],
            [
             0.1,
             "#c51b7d"
            ],
            [
             0.2,
             "#de77ae"
            ],
            [
             0.3,
             "#f1b6da"
            ],
            [
             0.4,
             "#fde0ef"
            ],
            [
             0.5,
             "#f7f7f7"
            ],
            [
             0.6,
             "#e6f5d0"
            ],
            [
             0.7,
             "#b8e186"
            ],
            [
             0.8,
             "#7fbc41"
            ],
            [
             0.9,
             "#4d9221"
            ],
            [
             1,
             "#276419"
            ]
           ],
           "sequential": [
            [
             0,
             "#0d0887"
            ],
            [
             0.1111111111111111,
             "#46039f"
            ],
            [
             0.2222222222222222,
             "#7201a8"
            ],
            [
             0.3333333333333333,
             "#9c179e"
            ],
            [
             0.4444444444444444,
             "#bd3786"
            ],
            [
             0.5555555555555556,
             "#d8576b"
            ],
            [
             0.6666666666666666,
             "#ed7953"
            ],
            [
             0.7777777777777778,
             "#fb9f3a"
            ],
            [
             0.8888888888888888,
             "#fdca26"
            ],
            [
             1,
             "#f0f921"
            ]
           ],
           "sequentialminus": [
            [
             0,
             "#0d0887"
            ],
            [
             0.1111111111111111,
             "#46039f"
            ],
            [
             0.2222222222222222,
             "#7201a8"
            ],
            [
             0.3333333333333333,
             "#9c179e"
            ],
            [
             0.4444444444444444,
             "#bd3786"
            ],
            [
             0.5555555555555556,
             "#d8576b"
            ],
            [
             0.6666666666666666,
             "#ed7953"
            ],
            [
             0.7777777777777778,
             "#fb9f3a"
            ],
            [
             0.8888888888888888,
             "#fdca26"
            ],
            [
             1,
             "#f0f921"
            ]
           ]
          },
          "colorway": [
           "#636efa",
           "#EF553B",
           "#00cc96",
           "#ab63fa",
           "#FFA15A",
           "#19d3f3",
           "#FF6692",
           "#B6E880",
           "#FF97FF",
           "#FECB52"
          ],
          "font": {
           "color": "#2a3f5f"
          },
          "geo": {
           "bgcolor": "white",
           "lakecolor": "white",
           "landcolor": "#E5ECF6",
           "showlakes": true,
           "showland": true,
           "subunitcolor": "white"
          },
          "hoverlabel": {
           "align": "left"
          },
          "hovermode": "closest",
          "mapbox": {
           "style": "light"
          },
          "paper_bgcolor": "white",
          "plot_bgcolor": "#E5ECF6",
          "polar": {
           "angularaxis": {
            "gridcolor": "white",
            "linecolor": "white",
            "ticks": ""
           },
           "bgcolor": "#E5ECF6",
           "radialaxis": {
            "gridcolor": "white",
            "linecolor": "white",
            "ticks": ""
           }
          },
          "scene": {
           "xaxis": {
            "backgroundcolor": "#E5ECF6",
            "gridcolor": "white",
            "gridwidth": 2,
            "linecolor": "white",
            "showbackground": true,
            "ticks": "",
            "zerolinecolor": "white"
           },
           "yaxis": {
            "backgroundcolor": "#E5ECF6",
            "gridcolor": "white",
            "gridwidth": 2,
            "linecolor": "white",
            "showbackground": true,
            "ticks": "",
            "zerolinecolor": "white"
           },
           "zaxis": {
            "backgroundcolor": "#E5ECF6",
            "gridcolor": "white",
            "gridwidth": 2,
            "linecolor": "white",
            "showbackground": true,
            "ticks": "",
            "zerolinecolor": "white"
           }
          },
          "shapedefaults": {
           "line": {
            "color": "#2a3f5f"
           }
          },
          "ternary": {
           "aaxis": {
            "gridcolor": "white",
            "linecolor": "white",
            "ticks": ""
           },
           "baxis": {
            "gridcolor": "white",
            "linecolor": "white",
            "ticks": ""
           },
           "bgcolor": "#E5ECF6",
           "caxis": {
            "gridcolor": "white",
            "linecolor": "white",
            "ticks": ""
           }
          },
          "title": {
           "x": 0.05
          },
          "xaxis": {
           "automargin": true,
           "gridcolor": "white",
           "linecolor": "white",
           "ticks": "",
           "title": {
            "standoff": 15
           },
           "zerolinecolor": "white",
           "zerolinewidth": 2
          },
          "yaxis": {
           "automargin": true,
           "gridcolor": "white",
           "linecolor": "white",
           "ticks": "",
           "title": {
            "standoff": 15
           },
           "zerolinecolor": "white",
           "zerolinewidth": 2
          }
         }
        },
        "title": {
         "text": "Besetzungsstsatus der Radstation"
        },
        "width": 1000,
        "xaxis": {
         "anchor": "y",
         "domain": [
          0,
          1
         ],
         "gridwidth": 1,
         "linecolor": "#092947",
         "linewidth": 2,
         "showline": true,
         "title": {
          "text": "Datum"
         }
        },
        "yaxis": {
         "anchor": "x",
         "domain": [
          0,
          1
         ],
         "gridcolor": "lightgrey",
         "gridwidth": 1,
         "linecolor": "#092947",
         "linewidth": 2,
         "showgrid": true,
         "showline": true,
         "title": {
          "text": "Verfügbare Räder"
         }
        }
       }
      }
     },
     "metadata": {},
     "output_type": "display_data"
    }
   ],
   "source": [
    "plot_that(df_cutout['availableBikeNumber'],forecast)"
   ]
  },
  {
   "cell_type": "code",
   "execution_count": null,
   "metadata": {},
   "outputs": [],
   "source": []
  }
 ],
 "metadata": {
  "kernelspec": {
   "display_name": ".venv",
   "language": "python",
   "name": "python3"
  },
  "language_info": {
   "codemirror_mode": {
    "name": "ipython",
    "version": 3
   },
   "file_extension": ".py",
   "mimetype": "text/x-python",
   "name": "python",
   "nbconvert_exporter": "python",
   "pygments_lexer": "ipython3",
   "version": "3.12.3"
  }
 },
 "nbformat": 4,
 "nbformat_minor": 2
}
