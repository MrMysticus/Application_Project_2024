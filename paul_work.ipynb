{
 "cells": [
  {
   "cell_type": "code",
   "execution_count": 76,
   "metadata": {},
   "outputs": [],
   "source": [
    "import pandas as pd\n",
    "import matplotlib.pyplot as plt\n",
    "import seaborn as sns\n",
    "import requests\n",
    "import dotenv\n",
    "import re\n",
    "import pandas as pd\n",
    "import plotly.graph_objects as go"
   ]
  },
  {
   "cell_type": "markdown",
   "metadata": {},
   "source": [
    "# Dataframe\n",
    "## Dataframe Setup"
   ]
  },
  {
   "cell_type": "code",
   "execution_count": 77,
   "metadata": {},
   "outputs": [],
   "source": [
    "df_hubs = pd.read_csv('Hub List all time + pick up and drop offs.csv')\n",
    "df_pickup = pd.read_csv('2024 - Hub ID & Drop Off - Pick Up numbers.csv',sep=\";\")"
   ]
  },
  {
   "cell_type": "code",
   "execution_count": 78,
   "metadata": {},
   "outputs": [
    {
     "data": {
      "text/html": [
       "<div>\n",
       "<style scoped>\n",
       "    .dataframe tbody tr th:only-of-type {\n",
       "        vertical-align: middle;\n",
       "    }\n",
       "\n",
       "    .dataframe tbody tr th {\n",
       "        vertical-align: top;\n",
       "    }\n",
       "\n",
       "    .dataframe thead th {\n",
       "        text-align: right;\n",
       "    }\n",
       "</style>\n",
       "<table border=\"1\" class=\"dataframe\">\n",
       "  <thead>\n",
       "    <tr style=\"text-align: right;\">\n",
       "      <th></th>\n",
       "      <th>hub_id</th>\n",
       "      <th>Days in full_date</th>\n",
       "      <th>Average bike_count</th>\n",
       "      <th># of unique dropoff_hub_id</th>\n",
       "      <th># of unique pickup_hub_id</th>\n",
       "    </tr>\n",
       "  </thead>\n",
       "  <tbody>\n",
       "    <tr>\n",
       "      <th>0</th>\n",
       "      <td>2180.0</td>\n",
       "      <td>01/01/2024</td>\n",
       "      <td>6.282412</td>\n",
       "      <td>NaN</td>\n",
       "      <td>NaN</td>\n",
       "    </tr>\n",
       "    <tr>\n",
       "      <th>1</th>\n",
       "      <td>2180.0</td>\n",
       "      <td>02/01/2024</td>\n",
       "      <td>6.080100</td>\n",
       "      <td>NaN</td>\n",
       "      <td>NaN</td>\n",
       "    </tr>\n",
       "    <tr>\n",
       "      <th>2</th>\n",
       "      <td>2180.0</td>\n",
       "      <td>04/01/2024</td>\n",
       "      <td>6.078173</td>\n",
       "      <td>NaN</td>\n",
       "      <td>NaN</td>\n",
       "    </tr>\n",
       "    <tr>\n",
       "      <th>3</th>\n",
       "      <td>2180.0</td>\n",
       "      <td>05/01/2024</td>\n",
       "      <td>5.936238</td>\n",
       "      <td>NaN</td>\n",
       "      <td>NaN</td>\n",
       "    </tr>\n",
       "    <tr>\n",
       "      <th>4</th>\n",
       "      <td>2180.0</td>\n",
       "      <td>07/01/2024</td>\n",
       "      <td>6.443539</td>\n",
       "      <td>NaN</td>\n",
       "      <td>NaN</td>\n",
       "    </tr>\n",
       "    <tr>\n",
       "      <th>...</th>\n",
       "      <td>...</td>\n",
       "      <td>...</td>\n",
       "      <td>...</td>\n",
       "      <td>...</td>\n",
       "      <td>...</td>\n",
       "    </tr>\n",
       "    <tr>\n",
       "      <th>6925</th>\n",
       "      <td>26889.0</td>\n",
       "      <td>14/09/2024</td>\n",
       "      <td>6.150918</td>\n",
       "      <td>21.0</td>\n",
       "      <td>20.0</td>\n",
       "    </tr>\n",
       "    <tr>\n",
       "      <th>6926</th>\n",
       "      <td>26889.0</td>\n",
       "      <td>15/09/2024</td>\n",
       "      <td>6.229018</td>\n",
       "      <td>12.0</td>\n",
       "      <td>12.0</td>\n",
       "    </tr>\n",
       "    <tr>\n",
       "      <th>6927</th>\n",
       "      <td>26889.0</td>\n",
       "      <td>16/09/2024</td>\n",
       "      <td>6.177963</td>\n",
       "      <td>11.0</td>\n",
       "      <td>14.0</td>\n",
       "    </tr>\n",
       "    <tr>\n",
       "      <th>6928</th>\n",
       "      <td>26889.0</td>\n",
       "      <td>17/09/2024</td>\n",
       "      <td>6.418395</td>\n",
       "      <td>16.0</td>\n",
       "      <td>18.0</td>\n",
       "    </tr>\n",
       "    <tr>\n",
       "      <th>6929</th>\n",
       "      <td>26889.0</td>\n",
       "      <td>18/09/2024</td>\n",
       "      <td>7.576003</td>\n",
       "      <td>24.0</td>\n",
       "      <td>21.0</td>\n",
       "    </tr>\n",
       "  </tbody>\n",
       "</table>\n",
       "<p>6930 rows × 5 columns</p>\n",
       "</div>"
      ],
      "text/plain": [
       "       hub_id Days in full_date  Average bike_count  \\\n",
       "0      2180.0        01/01/2024            6.282412   \n",
       "1      2180.0        02/01/2024            6.080100   \n",
       "2      2180.0        04/01/2024            6.078173   \n",
       "3      2180.0        05/01/2024            5.936238   \n",
       "4      2180.0        07/01/2024            6.443539   \n",
       "...       ...               ...                 ...   \n",
       "6925  26889.0        14/09/2024            6.150918   \n",
       "6926  26889.0        15/09/2024            6.229018   \n",
       "6927  26889.0        16/09/2024            6.177963   \n",
       "6928  26889.0        17/09/2024            6.418395   \n",
       "6929  26889.0        18/09/2024            7.576003   \n",
       "\n",
       "      # of unique dropoff_hub_id  # of unique pickup_hub_id  \n",
       "0                            NaN                        NaN  \n",
       "1                            NaN                        NaN  \n",
       "2                            NaN                        NaN  \n",
       "3                            NaN                        NaN  \n",
       "4                            NaN                        NaN  \n",
       "...                          ...                        ...  \n",
       "6925                        21.0                       20.0  \n",
       "6926                        12.0                       12.0  \n",
       "6927                        11.0                       14.0  \n",
       "6928                        16.0                       18.0  \n",
       "6929                        24.0                       21.0  \n",
       "\n",
       "[6930 rows x 5 columns]"
      ]
     },
     "execution_count": 78,
     "metadata": {},
     "output_type": "execute_result"
    }
   ],
   "source": [
    "df_pickup"
   ]
  },
  {
   "cell_type": "code",
   "execution_count": 79,
   "metadata": {},
   "outputs": [],
   "source": [
    "df_pickup.rename(columns = {'hub_id':'id'}, inplace=True)\n",
    "df_combined = pd.merge(df_pickup, df_hubs, on='id')\n",
    "df_combined[\"pick_drop_relation\"] = round(df_combined[\"dropoffs\"] /df_combined[\"pickups\"],4)\n",
    "df_combined[\"pick_drop_deficit\"] = df_combined[\"# of unique dropoff_hub_id\"] - df_combined[\"# of unique pickup_hub_id\"]\n",
    "df_combined['Days in full_date'] = pd.to_datetime(df_combined['Days in full_date'],format='%d/%m/%Y')"
   ]
  },
  {
   "cell_type": "code",
   "execution_count": 80,
   "metadata": {},
   "outputs": [
    {
     "name": "stdout",
     "output_type": "stream",
     "text": [
      "(233, 7)\n",
      "(6930, 5)\n",
      "(6707, 13)\n"
     ]
    }
   ],
   "source": [
    "print(df_hubs.shape)\n",
    "print(df_pickup.shape)\n",
    "print(df_combined.shape)"
   ]
  },
  {
   "cell_type": "code",
   "execution_count": 81,
   "metadata": {},
   "outputs": [
    {
     "data": {
      "text/html": [
       "<div>\n",
       "<style scoped>\n",
       "    .dataframe tbody tr th:only-of-type {\n",
       "        vertical-align: middle;\n",
       "    }\n",
       "\n",
       "    .dataframe tbody tr th {\n",
       "        vertical-align: top;\n",
       "    }\n",
       "\n",
       "    .dataframe thead th {\n",
       "        text-align: right;\n",
       "    }\n",
       "</style>\n",
       "<table border=\"1\" class=\"dataframe\">\n",
       "  <thead>\n",
       "    <tr style=\"text-align: right;\">\n",
       "      <th></th>\n",
       "      <th>pickups</th>\n",
       "      <th>dropoffs</th>\n",
       "      <th>pick_drop_relation</th>\n",
       "      <th>pick_drop_deficit</th>\n",
       "    </tr>\n",
       "    <tr>\n",
       "      <th>name</th>\n",
       "      <th></th>\n",
       "      <th></th>\n",
       "      <th></th>\n",
       "      <th></th>\n",
       "    </tr>\n",
       "  </thead>\n",
       "  <tbody>\n",
       "    <tr>\n",
       "      <th>Wik, Kanalfähre - Busstation</th>\n",
       "      <td>2929.0</td>\n",
       "      <td>3033.0</td>\n",
       "      <td>1.0355</td>\n",
       "      <td>-0.250000</td>\n",
       "    </tr>\n",
       "    <tr>\n",
       "      <th>MEKUN Olympiahochhaus</th>\n",
       "      <td>15389.0</td>\n",
       "      <td>15721.0</td>\n",
       "      <td>1.0216</td>\n",
       "      <td>-0.221374</td>\n",
       "    </tr>\n",
       "    <tr>\n",
       "      <th>Wellingdorf Stadtteilzentrum</th>\n",
       "      <td>6035.0</td>\n",
       "      <td>6136.0</td>\n",
       "      <td>1.0167</td>\n",
       "      <td>-0.166667</td>\n",
       "    </tr>\n",
       "    <tr>\n",
       "      <th>Alter Markt</th>\n",
       "      <td>15439.0</td>\n",
       "      <td>15676.0</td>\n",
       "      <td>1.0154</td>\n",
       "      <td>-0.307692</td>\n",
       "    </tr>\n",
       "    <tr>\n",
       "      <th>Anleger Dietrichsdorf</th>\n",
       "      <td>4627.0</td>\n",
       "      <td>4683.0</td>\n",
       "      <td>1.0121</td>\n",
       "      <td>-0.155378</td>\n",
       "    </tr>\n",
       "    <tr>\n",
       "      <th>thyssenkrupp Marine Systems</th>\n",
       "      <td>11136.0</td>\n",
       "      <td>11255.0</td>\n",
       "      <td>1.0107</td>\n",
       "      <td>-0.129412</td>\n",
       "    </tr>\n",
       "    <tr>\n",
       "      <th>Hörnbad</th>\n",
       "      <td>9990.0</td>\n",
       "      <td>10091.0</td>\n",
       "      <td>1.0101</td>\n",
       "      <td>-0.231076</td>\n",
       "    </tr>\n",
       "    <tr>\n",
       "      <th>Tilsiter Platz</th>\n",
       "      <td>5658.0</td>\n",
       "      <td>5697.0</td>\n",
       "      <td>1.0069</td>\n",
       "      <td>-0.205426</td>\n",
       "    </tr>\n",
       "    <tr>\n",
       "      <th>Vinetaplatz</th>\n",
       "      <td>8225.0</td>\n",
       "      <td>8281.0</td>\n",
       "      <td>1.0068</td>\n",
       "      <td>-0.131687</td>\n",
       "    </tr>\n",
       "    <tr>\n",
       "      <th>Alte Mu/Brunswiker Str.</th>\n",
       "      <td>7544.0</td>\n",
       "      <td>7593.0</td>\n",
       "      <td>1.0065</td>\n",
       "      <td>-0.086735</td>\n",
       "    </tr>\n",
       "    <tr>\n",
       "      <th>Sophienhof</th>\n",
       "      <td>5490.0</td>\n",
       "      <td>5524.0</td>\n",
       "      <td>1.0062</td>\n",
       "      <td>-0.033784</td>\n",
       "    </tr>\n",
       "    <tr>\n",
       "      <th>Kieler Innovations- und Technologiezentrum</th>\n",
       "      <td>5270.0</td>\n",
       "      <td>5287.0</td>\n",
       "      <td>1.0032</td>\n",
       "      <td>-0.092105</td>\n",
       "    </tr>\n",
       "    <tr>\n",
       "      <th>KVG Betriebshof Diedrichstraße</th>\n",
       "      <td>4449.0</td>\n",
       "      <td>4463.0</td>\n",
       "      <td>1.0031</td>\n",
       "      <td>-0.110169</td>\n",
       "    </tr>\n",
       "    <tr>\n",
       "      <th>Kirchhofallee</th>\n",
       "      <td>16458.0</td>\n",
       "      <td>16504.0</td>\n",
       "      <td>1.0028</td>\n",
       "      <td>-0.209486</td>\n",
       "    </tr>\n",
       "    <tr>\n",
       "      <th>Hansastr./Gutenbergstr.</th>\n",
       "      <td>13110.0</td>\n",
       "      <td>13141.0</td>\n",
       "      <td>1.0024</td>\n",
       "      <td>-0.157895</td>\n",
       "    </tr>\n",
       "    <tr>\n",
       "      <th>CAU Sportstätten</th>\n",
       "      <td>14981.0</td>\n",
       "      <td>15008.0</td>\n",
       "      <td>1.0018</td>\n",
       "      <td>-0.051282</td>\n",
       "    </tr>\n",
       "    <tr>\n",
       "      <th>RBZ Wirtschaft</th>\n",
       "      <td>4599.0</td>\n",
       "      <td>4602.0</td>\n",
       "      <td>1.0007</td>\n",
       "      <td>-0.115385</td>\n",
       "    </tr>\n",
       "    <tr>\n",
       "      <th>ADAC-Station</th>\n",
       "      <td>4067.0</td>\n",
       "      <td>4069.0</td>\n",
       "      <td>1.0005</td>\n",
       "      <td>-0.060773</td>\n",
       "    </tr>\n",
       "    <tr>\n",
       "      <th>Umsteiger</th>\n",
       "      <td>7633.0</td>\n",
       "      <td>7629.0</td>\n",
       "      <td>0.9995</td>\n",
       "      <td>-0.138889</td>\n",
       "    </tr>\n",
       "    <tr>\n",
       "      <th>Dreiecksplatz</th>\n",
       "      <td>16186.0</td>\n",
       "      <td>16167.0</td>\n",
       "      <td>0.9988</td>\n",
       "      <td>-0.284047</td>\n",
       "    </tr>\n",
       "    <tr>\n",
       "      <th>Westring/Eckernförder Str.</th>\n",
       "      <td>17096.0</td>\n",
       "      <td>17057.0</td>\n",
       "      <td>0.9977</td>\n",
       "      <td>-0.122047</td>\n",
       "    </tr>\n",
       "    <tr>\n",
       "      <th>Andreas-Gayk-Straße</th>\n",
       "      <td>6413.0</td>\n",
       "      <td>6396.0</td>\n",
       "      <td>0.9973</td>\n",
       "      <td>-0.035398</td>\n",
       "    </tr>\n",
       "    <tr>\n",
       "      <th>Wilhelmplatz</th>\n",
       "      <td>14328.0</td>\n",
       "      <td>14285.0</td>\n",
       "      <td>0.9970</td>\n",
       "      <td>-0.122047</td>\n",
       "    </tr>\n",
       "    <tr>\n",
       "      <th>Anleger Reventlou</th>\n",
       "      <td>30232.0</td>\n",
       "      <td>30138.0</td>\n",
       "      <td>0.9969</td>\n",
       "      <td>-0.127072</td>\n",
       "    </tr>\n",
       "    <tr>\n",
       "      <th>Zur Fähre</th>\n",
       "      <td>4331.0</td>\n",
       "      <td>4314.0</td>\n",
       "      <td>0.9961</td>\n",
       "      <td>-0.034247</td>\n",
       "    </tr>\n",
       "    <tr>\n",
       "      <th>Exerzierplatz</th>\n",
       "      <td>10965.0</td>\n",
       "      <td>10911.0</td>\n",
       "      <td>0.9951</td>\n",
       "      <td>-0.195349</td>\n",
       "    </tr>\n",
       "    <tr>\n",
       "      <th>Hauptbahnhof</th>\n",
       "      <td>57838.0</td>\n",
       "      <td>57410.0</td>\n",
       "      <td>0.9926</td>\n",
       "      <td>-0.298851</td>\n",
       "    </tr>\n",
       "    <tr>\n",
       "      <th>Studiale</th>\n",
       "      <td>4031.0</td>\n",
       "      <td>3990.0</td>\n",
       "      <td>0.9898</td>\n",
       "      <td>-0.243243</td>\n",
       "    </tr>\n",
       "    <tr>\n",
       "      <th>Seefischmarkt</th>\n",
       "      <td>1121.0</td>\n",
       "      <td>1108.0</td>\n",
       "      <td>0.9884</td>\n",
       "      <td>-0.011976</td>\n",
       "    </tr>\n",
       "    <tr>\n",
       "      <th>UKSH</th>\n",
       "      <td>5396.0</td>\n",
       "      <td>5325.0</td>\n",
       "      <td>0.9868</td>\n",
       "      <td>-0.058824</td>\n",
       "    </tr>\n",
       "    <tr>\n",
       "      <th>Blücherplatz</th>\n",
       "      <td>16528.0</td>\n",
       "      <td>16299.0</td>\n",
       "      <td>0.9861</td>\n",
       "      <td>-0.280952</td>\n",
       "    </tr>\n",
       "    <tr>\n",
       "      <th>Förde Sparkasse Lorentzendamm</th>\n",
       "      <td>7966.0</td>\n",
       "      <td>7843.0</td>\n",
       "      <td>0.9846</td>\n",
       "      <td>-0.056769</td>\n",
       "    </tr>\n",
       "    <tr>\n",
       "      <th>Bernhard-Minetti-Platz</th>\n",
       "      <td>21473.0</td>\n",
       "      <td>20836.0</td>\n",
       "      <td>0.9703</td>\n",
       "      <td>-0.051546</td>\n",
       "    </tr>\n",
       "    <tr>\n",
       "      <th>Christian-Albrechts-Platz</th>\n",
       "      <td>6469.0</td>\n",
       "      <td>6053.0</td>\n",
       "      <td>0.9357</td>\n",
       "      <td>-0.066667</td>\n",
       "    </tr>\n",
       "    <tr>\n",
       "      <th>Krausstraße</th>\n",
       "      <td>6329.0</td>\n",
       "      <td>5865.0</td>\n",
       "      <td>0.9267</td>\n",
       "      <td>-0.103448</td>\n",
       "    </tr>\n",
       "    <tr>\n",
       "      <th>Sandkrug</th>\n",
       "      <td>694.0</td>\n",
       "      <td>570.0</td>\n",
       "      <td>0.8213</td>\n",
       "      <td>-0.178808</td>\n",
       "    </tr>\n",
       "  </tbody>\n",
       "</table>\n",
       "</div>"
      ],
      "text/plain": [
       "                                            pickups  dropoffs  \\\n",
       "name                                                            \n",
       " Wik, Kanalfähre - Busstation                2929.0    3033.0   \n",
       "MEKUN Olympiahochhaus                       15389.0   15721.0   \n",
       "Wellingdorf Stadtteilzentrum                 6035.0    6136.0   \n",
       "Alter Markt                                 15439.0   15676.0   \n",
       "Anleger Dietrichsdorf                        4627.0    4683.0   \n",
       "thyssenkrupp Marine Systems                 11136.0   11255.0   \n",
       "Hörnbad                                      9990.0   10091.0   \n",
       "Tilsiter Platz                               5658.0    5697.0   \n",
       "Vinetaplatz                                  8225.0    8281.0   \n",
       "Alte Mu/Brunswiker Str.                      7544.0    7593.0   \n",
       "Sophienhof                                   5490.0    5524.0   \n",
       "Kieler Innovations- und Technologiezentrum   5270.0    5287.0   \n",
       "KVG Betriebshof Diedrichstraße               4449.0    4463.0   \n",
       "Kirchhofallee                               16458.0   16504.0   \n",
       "Hansastr./Gutenbergstr.                     13110.0   13141.0   \n",
       "CAU Sportstätten                            14981.0   15008.0   \n",
       "RBZ Wirtschaft                               4599.0    4602.0   \n",
       "ADAC-Station                                 4067.0    4069.0   \n",
       "Umsteiger                                    7633.0    7629.0   \n",
       "Dreiecksplatz                               16186.0   16167.0   \n",
       "Westring/Eckernförder Str.                  17096.0   17057.0   \n",
       "Andreas-Gayk-Straße                          6413.0    6396.0   \n",
       "Wilhelmplatz                                14328.0   14285.0   \n",
       "Anleger Reventlou                           30232.0   30138.0   \n",
       "Zur Fähre                                    4331.0    4314.0   \n",
       "Exerzierplatz                               10965.0   10911.0   \n",
       "Hauptbahnhof                                57838.0   57410.0   \n",
       "Studiale                                     4031.0    3990.0   \n",
       "Seefischmarkt                                1121.0    1108.0   \n",
       "UKSH                                         5396.0    5325.0   \n",
       "Blücherplatz                                16528.0   16299.0   \n",
       "Förde Sparkasse Lorentzendamm                7966.0    7843.0   \n",
       "Bernhard-Minetti-Platz                      21473.0   20836.0   \n",
       "Christian-Albrechts-Platz                    6469.0    6053.0   \n",
       "Krausstraße                                  6329.0    5865.0   \n",
       "Sandkrug                                      694.0     570.0   \n",
       "\n",
       "                                            pick_drop_relation  \\\n",
       "name                                                             \n",
       " Wik, Kanalfähre - Busstation                           1.0355   \n",
       "MEKUN Olympiahochhaus                                   1.0216   \n",
       "Wellingdorf Stadtteilzentrum                            1.0167   \n",
       "Alter Markt                                             1.0154   \n",
       "Anleger Dietrichsdorf                                   1.0121   \n",
       "thyssenkrupp Marine Systems                             1.0107   \n",
       "Hörnbad                                                 1.0101   \n",
       "Tilsiter Platz                                          1.0069   \n",
       "Vinetaplatz                                             1.0068   \n",
       "Alte Mu/Brunswiker Str.                                 1.0065   \n",
       "Sophienhof                                              1.0062   \n",
       "Kieler Innovations- und Technologiezentrum              1.0032   \n",
       "KVG Betriebshof Diedrichstraße                          1.0031   \n",
       "Kirchhofallee                                           1.0028   \n",
       "Hansastr./Gutenbergstr.                                 1.0024   \n",
       "CAU Sportstätten                                        1.0018   \n",
       "RBZ Wirtschaft                                          1.0007   \n",
       "ADAC-Station                                            1.0005   \n",
       "Umsteiger                                               0.9995   \n",
       "Dreiecksplatz                                           0.9988   \n",
       "Westring/Eckernförder Str.                              0.9977   \n",
       "Andreas-Gayk-Straße                                     0.9973   \n",
       "Wilhelmplatz                                            0.9970   \n",
       "Anleger Reventlou                                       0.9969   \n",
       "Zur Fähre                                               0.9961   \n",
       "Exerzierplatz                                           0.9951   \n",
       "Hauptbahnhof                                            0.9926   \n",
       "Studiale                                                0.9898   \n",
       "Seefischmarkt                                           0.9884   \n",
       "UKSH                                                    0.9868   \n",
       "Blücherplatz                                            0.9861   \n",
       "Förde Sparkasse Lorentzendamm                           0.9846   \n",
       "Bernhard-Minetti-Platz                                  0.9703   \n",
       "Christian-Albrechts-Platz                               0.9357   \n",
       "Krausstraße                                             0.9267   \n",
       "Sandkrug                                                0.8213   \n",
       "\n",
       "                                            pick_drop_deficit  \n",
       "name                                                           \n",
       " Wik, Kanalfähre - Busstation                       -0.250000  \n",
       "MEKUN Olympiahochhaus                               -0.221374  \n",
       "Wellingdorf Stadtteilzentrum                        -0.166667  \n",
       "Alter Markt                                         -0.307692  \n",
       "Anleger Dietrichsdorf                               -0.155378  \n",
       "thyssenkrupp Marine Systems                         -0.129412  \n",
       "Hörnbad                                             -0.231076  \n",
       "Tilsiter Platz                                      -0.205426  \n",
       "Vinetaplatz                                         -0.131687  \n",
       "Alte Mu/Brunswiker Str.                             -0.086735  \n",
       "Sophienhof                                          -0.033784  \n",
       "Kieler Innovations- und Technologiezentrum          -0.092105  \n",
       "KVG Betriebshof Diedrichstraße                      -0.110169  \n",
       "Kirchhofallee                                       -0.209486  \n",
       "Hansastr./Gutenbergstr.                             -0.157895  \n",
       "CAU Sportstätten                                    -0.051282  \n",
       "RBZ Wirtschaft                                      -0.115385  \n",
       "ADAC-Station                                        -0.060773  \n",
       "Umsteiger                                           -0.138889  \n",
       "Dreiecksplatz                                       -0.284047  \n",
       "Westring/Eckernförder Str.                          -0.122047  \n",
       "Andreas-Gayk-Straße                                 -0.035398  \n",
       "Wilhelmplatz                                        -0.122047  \n",
       "Anleger Reventlou                                   -0.127072  \n",
       "Zur Fähre                                           -0.034247  \n",
       "Exerzierplatz                                       -0.195349  \n",
       "Hauptbahnhof                                        -0.298851  \n",
       "Studiale                                            -0.243243  \n",
       "Seefischmarkt                                       -0.011976  \n",
       "UKSH                                                -0.058824  \n",
       "Blücherplatz                                        -0.280952  \n",
       "Förde Sparkasse Lorentzendamm                       -0.056769  \n",
       "Bernhard-Minetti-Platz                              -0.051546  \n",
       "Christian-Albrechts-Platz                           -0.066667  \n",
       "Krausstraße                                         -0.103448  \n",
       "Sandkrug                                            -0.178808  "
      ]
     },
     "execution_count": 81,
     "metadata": {},
     "output_type": "execute_result"
    }
   ],
   "source": [
    "#find discrepency where bikes dont regulate themselves\n",
    "df_combined.sort_values(\"pick_drop_relation\",ascending=True)\n",
    "df_combined.groupby(by=\"name\")[['pickups', \"dropoffs\", \"pick_drop_relation\", \"pick_drop_deficit\"]].mean().sort_values(\"pick_drop_relation\", ascending=False)"
   ]
  },
  {
   "cell_type": "markdown",
   "metadata": {},
   "source": [
    "## Dataframe IDA"
   ]
  },
  {
   "cell_type": "code",
   "execution_count": 82,
   "metadata": {},
   "outputs": [
    {
     "name": "stdout",
     "output_type": "stream",
     "text": [
      "The data lists 36 unique ids and 36 unique names.\n"
     ]
    }
   ],
   "source": [
    "print(f'The data lists {len(df_combined.id.unique())} unique ids and {len(df_combined.name.unique())} unique names.')\n",
    "#time series of specific place\n",
    "sandkrug_df = df_combined[df_combined['name'] == 'Sandkrug'].sort_values(\"Days in full_date\", ascending=False)"
   ]
  },
  {
   "cell_type": "code",
   "execution_count": 83,
   "metadata": {},
   "outputs": [
    {
     "data": {
      "application/vnd.plotly.v1+json": {
       "config": {
        "plotlyServerURL": "https://plot.ly"
       },
       "data": [
        {
         "mode": "lines",
         "name": "Value",
         "type": "scatter",
         "x": [
          "2024-09-18T00:00:00",
          "2024-09-17T00:00:00",
          "2024-09-16T00:00:00",
          "2024-09-15T00:00:00",
          "2024-09-14T00:00:00",
          "2024-09-13T00:00:00",
          "2024-09-12T00:00:00",
          "2024-09-11T00:00:00",
          "2024-09-10T00:00:00",
          "2024-09-09T00:00:00",
          "2024-09-08T00:00:00",
          "2024-09-07T00:00:00",
          "2024-09-06T00:00:00",
          "2024-09-05T00:00:00",
          "2024-09-04T00:00:00",
          "2024-09-03T00:00:00",
          "2024-09-02T00:00:00",
          "2024-09-01T00:00:00",
          "2024-08-31T00:00:00",
          "2024-08-30T00:00:00",
          "2024-08-29T00:00:00",
          "2024-08-28T00:00:00",
          "2024-08-27T00:00:00",
          "2024-08-26T00:00:00",
          "2024-08-25T00:00:00",
          "2024-08-24T00:00:00",
          "2024-08-23T00:00:00",
          "2024-08-22T00:00:00",
          "2024-08-20T00:00:00",
          "2024-08-15T00:00:00",
          "2024-08-14T00:00:00",
          "2024-08-12T00:00:00",
          "2024-08-11T00:00:00",
          "2024-08-10T00:00:00",
          "2024-08-08T00:00:00",
          "2024-08-05T00:00:00",
          "2024-08-04T00:00:00",
          "2024-08-02T00:00:00",
          "2024-07-30T00:00:00",
          "2024-07-29T00:00:00",
          "2024-07-28T00:00:00",
          "2024-07-27T00:00:00",
          "2024-07-21T00:00:00",
          "2024-07-19T00:00:00",
          "2024-07-14T00:00:00",
          "2024-07-13T00:00:00",
          "2024-07-10T00:00:00",
          "2024-06-29T00:00:00",
          "2024-06-28T00:00:00",
          "2024-06-27T00:00:00",
          "2024-06-26T00:00:00",
          "2024-06-25T00:00:00",
          "2024-06-24T00:00:00",
          "2024-06-23T00:00:00",
          "2024-06-20T00:00:00",
          "2024-06-19T00:00:00",
          "2024-06-18T00:00:00",
          "2024-06-16T00:00:00",
          "2024-06-14T00:00:00",
          "2024-06-10T00:00:00",
          "2024-06-08T00:00:00",
          "2024-06-07T00:00:00",
          "2024-06-06T00:00:00",
          "2024-06-05T00:00:00",
          "2024-06-03T00:00:00",
          "2024-06-02T00:00:00",
          "2024-06-01T00:00:00",
          "2024-05-30T00:00:00",
          "2024-05-29T00:00:00",
          "2024-05-28T00:00:00",
          "2024-05-27T00:00:00",
          "2024-05-19T00:00:00",
          "2024-05-18T00:00:00",
          "2024-05-17T00:00:00",
          "2024-05-16T00:00:00",
          "2024-05-15T00:00:00",
          "2024-05-14T00:00:00",
          "2024-05-13T00:00:00",
          "2024-05-12T00:00:00",
          "2024-05-11T00:00:00",
          "2024-05-10T00:00:00",
          "2024-05-09T00:00:00",
          "2024-05-08T00:00:00",
          "2024-05-07T00:00:00",
          "2024-05-06T00:00:00",
          "2024-05-05T00:00:00",
          "2024-05-04T00:00:00",
          "2024-05-03T00:00:00",
          "2024-05-02T00:00:00",
          "2024-05-01T00:00:00",
          "2024-04-30T00:00:00",
          "2024-04-29T00:00:00",
          "2024-04-28T00:00:00",
          "2024-04-27T00:00:00",
          "2024-04-26T00:00:00",
          "2024-04-25T00:00:00",
          "2024-04-24T00:00:00",
          "2024-04-23T00:00:00",
          "2024-04-22T00:00:00",
          "2024-04-21T00:00:00",
          "2024-04-20T00:00:00",
          "2024-04-16T00:00:00",
          "2024-04-15T00:00:00",
          "2024-04-14T00:00:00",
          "2024-04-13T00:00:00",
          "2024-04-12T00:00:00",
          "2024-04-11T00:00:00",
          "2024-04-10T00:00:00",
          "2024-04-09T00:00:00",
          "2024-04-08T00:00:00",
          "2024-04-07T00:00:00",
          "2024-04-06T00:00:00",
          "2024-04-05T00:00:00",
          "2024-04-04T00:00:00",
          "2024-04-03T00:00:00",
          "2024-04-02T00:00:00",
          "2024-04-01T00:00:00",
          "2024-03-31T00:00:00",
          "2024-03-30T00:00:00",
          "2024-03-29T00:00:00",
          "2024-03-28T00:00:00",
          "2024-03-27T00:00:00",
          "2024-03-26T00:00:00",
          "2024-03-25T00:00:00",
          "2024-03-24T00:00:00",
          "2024-03-23T00:00:00",
          "2024-03-22T00:00:00",
          "2024-03-20T00:00:00",
          "2024-03-19T00:00:00",
          "2024-03-18T00:00:00",
          "2024-03-16T00:00:00",
          "2024-03-15T00:00:00",
          "2024-03-14T00:00:00",
          "2024-03-13T00:00:00",
          "2024-03-10T00:00:00",
          "2024-03-09T00:00:00",
          "2024-03-07T00:00:00",
          "2024-03-02T00:00:00",
          "2024-03-01T00:00:00",
          "2024-02-29T00:00:00",
          "2024-02-28T00:00:00",
          "2024-02-27T00:00:00",
          "2024-02-26T00:00:00",
          "2024-02-24T00:00:00",
          "2024-02-20T00:00:00",
          "2024-02-19T00:00:00",
          "2024-02-18T00:00:00",
          "2024-02-17T00:00:00",
          "2024-02-16T00:00:00",
          "2024-02-15T00:00:00",
          "2024-01-17T00:00:00"
         ],
         "y": [
          1,
          -1,
          0,
          1,
          -2,
          0,
          0,
          0,
          0,
          -1,
          1,
          1,
          -1,
          1,
          0,
          0,
          0,
          -1,
          -1,
          1,
          0,
          0,
          0,
          0,
          1,
          0,
          1,
          0,
          0,
          0,
          -1,
          -1,
          0,
          -1,
          -1,
          1,
          0,
          0,
          0,
          0,
          0,
          0,
          0,
          0,
          -1,
          0,
          0,
          0,
          0,
          0,
          0,
          0,
          0,
          0,
          0,
          0,
          0,
          0,
          0,
          0,
          0,
          1,
          -1,
          -1,
          0,
          0,
          -1,
          0,
          0,
          0,
          0,
          0,
          -2,
          0,
          1,
          0,
          0,
          0,
          1,
          0,
          1,
          -1,
          -2,
          0,
          0,
          0,
          -1,
          0,
          1,
          1,
          0,
          0,
          -1,
          0,
          0,
          -2,
          -2,
          -1,
          -1,
          0,
          -1,
          0,
          0,
          -1,
          0,
          0,
          -1,
          -1,
          0,
          0,
          -1,
          0,
          1,
          1,
          0,
          0,
          -1,
          -1,
          1,
          0,
          1,
          0,
          -2,
          0,
          0,
          -1,
          0,
          0,
          0,
          0,
          -1,
          -1,
          0,
          0,
          -1,
          0,
          0,
          0,
          0,
          -1,
          -1,
          -2,
          -1,
          -1,
          0,
          0,
          0,
          1,
          0,
          0,
          0
         ]
        }
       ],
       "layout": {
        "template": {
         "data": {
          "bar": [
           {
            "error_x": {
             "color": "#2a3f5f"
            },
            "error_y": {
             "color": "#2a3f5f"
            },
            "marker": {
             "line": {
              "color": "#E5ECF6",
              "width": 0.5
             },
             "pattern": {
              "fillmode": "overlay",
              "size": 10,
              "solidity": 0.2
             }
            },
            "type": "bar"
           }
          ],
          "barpolar": [
           {
            "marker": {
             "line": {
              "color": "#E5ECF6",
              "width": 0.5
             },
             "pattern": {
              "fillmode": "overlay",
              "size": 10,
              "solidity": 0.2
             }
            },
            "type": "barpolar"
           }
          ],
          "carpet": [
           {
            "aaxis": {
             "endlinecolor": "#2a3f5f",
             "gridcolor": "white",
             "linecolor": "white",
             "minorgridcolor": "white",
             "startlinecolor": "#2a3f5f"
            },
            "baxis": {
             "endlinecolor": "#2a3f5f",
             "gridcolor": "white",
             "linecolor": "white",
             "minorgridcolor": "white",
             "startlinecolor": "#2a3f5f"
            },
            "type": "carpet"
           }
          ],
          "choropleth": [
           {
            "colorbar": {
             "outlinewidth": 0,
             "ticks": ""
            },
            "type": "choropleth"
           }
          ],
          "contour": [
           {
            "colorbar": {
             "outlinewidth": 0,
             "ticks": ""
            },
            "colorscale": [
             [
              0,
              "#0d0887"
             ],
             [
              0.1111111111111111,
              "#46039f"
             ],
             [
              0.2222222222222222,
              "#7201a8"
             ],
             [
              0.3333333333333333,
              "#9c179e"
             ],
             [
              0.4444444444444444,
              "#bd3786"
             ],
             [
              0.5555555555555556,
              "#d8576b"
             ],
             [
              0.6666666666666666,
              "#ed7953"
             ],
             [
              0.7777777777777778,
              "#fb9f3a"
             ],
             [
              0.8888888888888888,
              "#fdca26"
             ],
             [
              1,
              "#f0f921"
             ]
            ],
            "type": "contour"
           }
          ],
          "contourcarpet": [
           {
            "colorbar": {
             "outlinewidth": 0,
             "ticks": ""
            },
            "type": "contourcarpet"
           }
          ],
          "heatmap": [
           {
            "colorbar": {
             "outlinewidth": 0,
             "ticks": ""
            },
            "colorscale": [
             [
              0,
              "#0d0887"
             ],
             [
              0.1111111111111111,
              "#46039f"
             ],
             [
              0.2222222222222222,
              "#7201a8"
             ],
             [
              0.3333333333333333,
              "#9c179e"
             ],
             [
              0.4444444444444444,
              "#bd3786"
             ],
             [
              0.5555555555555556,
              "#d8576b"
             ],
             [
              0.6666666666666666,
              "#ed7953"
             ],
             [
              0.7777777777777778,
              "#fb9f3a"
             ],
             [
              0.8888888888888888,
              "#fdca26"
             ],
             [
              1,
              "#f0f921"
             ]
            ],
            "type": "heatmap"
           }
          ],
          "heatmapgl": [
           {
            "colorbar": {
             "outlinewidth": 0,
             "ticks": ""
            },
            "colorscale": [
             [
              0,
              "#0d0887"
             ],
             [
              0.1111111111111111,
              "#46039f"
             ],
             [
              0.2222222222222222,
              "#7201a8"
             ],
             [
              0.3333333333333333,
              "#9c179e"
             ],
             [
              0.4444444444444444,
              "#bd3786"
             ],
             [
              0.5555555555555556,
              "#d8576b"
             ],
             [
              0.6666666666666666,
              "#ed7953"
             ],
             [
              0.7777777777777778,
              "#fb9f3a"
             ],
             [
              0.8888888888888888,
              "#fdca26"
             ],
             [
              1,
              "#f0f921"
             ]
            ],
            "type": "heatmapgl"
           }
          ],
          "histogram": [
           {
            "marker": {
             "pattern": {
              "fillmode": "overlay",
              "size": 10,
              "solidity": 0.2
             }
            },
            "type": "histogram"
           }
          ],
          "histogram2d": [
           {
            "colorbar": {
             "outlinewidth": 0,
             "ticks": ""
            },
            "colorscale": [
             [
              0,
              "#0d0887"
             ],
             [
              0.1111111111111111,
              "#46039f"
             ],
             [
              0.2222222222222222,
              "#7201a8"
             ],
             [
              0.3333333333333333,
              "#9c179e"
             ],
             [
              0.4444444444444444,
              "#bd3786"
             ],
             [
              0.5555555555555556,
              "#d8576b"
             ],
             [
              0.6666666666666666,
              "#ed7953"
             ],
             [
              0.7777777777777778,
              "#fb9f3a"
             ],
             [
              0.8888888888888888,
              "#fdca26"
             ],
             [
              1,
              "#f0f921"
             ]
            ],
            "type": "histogram2d"
           }
          ],
          "histogram2dcontour": [
           {
            "colorbar": {
             "outlinewidth": 0,
             "ticks": ""
            },
            "colorscale": [
             [
              0,
              "#0d0887"
             ],
             [
              0.1111111111111111,
              "#46039f"
             ],
             [
              0.2222222222222222,
              "#7201a8"
             ],
             [
              0.3333333333333333,
              "#9c179e"
             ],
             [
              0.4444444444444444,
              "#bd3786"
             ],
             [
              0.5555555555555556,
              "#d8576b"
             ],
             [
              0.6666666666666666,
              "#ed7953"
             ],
             [
              0.7777777777777778,
              "#fb9f3a"
             ],
             [
              0.8888888888888888,
              "#fdca26"
             ],
             [
              1,
              "#f0f921"
             ]
            ],
            "type": "histogram2dcontour"
           }
          ],
          "mesh3d": [
           {
            "colorbar": {
             "outlinewidth": 0,
             "ticks": ""
            },
            "type": "mesh3d"
           }
          ],
          "parcoords": [
           {
            "line": {
             "colorbar": {
              "outlinewidth": 0,
              "ticks": ""
             }
            },
            "type": "parcoords"
           }
          ],
          "pie": [
           {
            "automargin": true,
            "type": "pie"
           }
          ],
          "scatter": [
           {
            "fillpattern": {
             "fillmode": "overlay",
             "size": 10,
             "solidity": 0.2
            },
            "type": "scatter"
           }
          ],
          "scatter3d": [
           {
            "line": {
             "colorbar": {
              "outlinewidth": 0,
              "ticks": ""
             }
            },
            "marker": {
             "colorbar": {
              "outlinewidth": 0,
              "ticks": ""
             }
            },
            "type": "scatter3d"
           }
          ],
          "scattercarpet": [
           {
            "marker": {
             "colorbar": {
              "outlinewidth": 0,
              "ticks": ""
             }
            },
            "type": "scattercarpet"
           }
          ],
          "scattergeo": [
           {
            "marker": {
             "colorbar": {
              "outlinewidth": 0,
              "ticks": ""
             }
            },
            "type": "scattergeo"
           }
          ],
          "scattergl": [
           {
            "marker": {
             "colorbar": {
              "outlinewidth": 0,
              "ticks": ""
             }
            },
            "type": "scattergl"
           }
          ],
          "scattermapbox": [
           {
            "marker": {
             "colorbar": {
              "outlinewidth": 0,
              "ticks": ""
             }
            },
            "type": "scattermapbox"
           }
          ],
          "scatterpolar": [
           {
            "marker": {
             "colorbar": {
              "outlinewidth": 0,
              "ticks": ""
             }
            },
            "type": "scatterpolar"
           }
          ],
          "scatterpolargl": [
           {
            "marker": {
             "colorbar": {
              "outlinewidth": 0,
              "ticks": ""
             }
            },
            "type": "scatterpolargl"
           }
          ],
          "scatterternary": [
           {
            "marker": {
             "colorbar": {
              "outlinewidth": 0,
              "ticks": ""
             }
            },
            "type": "scatterternary"
           }
          ],
          "surface": [
           {
            "colorbar": {
             "outlinewidth": 0,
             "ticks": ""
            },
            "colorscale": [
             [
              0,
              "#0d0887"
             ],
             [
              0.1111111111111111,
              "#46039f"
             ],
             [
              0.2222222222222222,
              "#7201a8"
             ],
             [
              0.3333333333333333,
              "#9c179e"
             ],
             [
              0.4444444444444444,
              "#bd3786"
             ],
             [
              0.5555555555555556,
              "#d8576b"
             ],
             [
              0.6666666666666666,
              "#ed7953"
             ],
             [
              0.7777777777777778,
              "#fb9f3a"
             ],
             [
              0.8888888888888888,
              "#fdca26"
             ],
             [
              1,
              "#f0f921"
             ]
            ],
            "type": "surface"
           }
          ],
          "table": [
           {
            "cells": {
             "fill": {
              "color": "#EBF0F8"
             },
             "line": {
              "color": "white"
             }
            },
            "header": {
             "fill": {
              "color": "#C8D4E3"
             },
             "line": {
              "color": "white"
             }
            },
            "type": "table"
           }
          ]
         },
         "layout": {
          "annotationdefaults": {
           "arrowcolor": "#2a3f5f",
           "arrowhead": 0,
           "arrowwidth": 1
          },
          "autotypenumbers": "strict",
          "coloraxis": {
           "colorbar": {
            "outlinewidth": 0,
            "ticks": ""
           }
          },
          "colorscale": {
           "diverging": [
            [
             0,
             "#8e0152"
            ],
            [
             0.1,
             "#c51b7d"
            ],
            [
             0.2,
             "#de77ae"
            ],
            [
             0.3,
             "#f1b6da"
            ],
            [
             0.4,
             "#fde0ef"
            ],
            [
             0.5,
             "#f7f7f7"
            ],
            [
             0.6,
             "#e6f5d0"
            ],
            [
             0.7,
             "#b8e186"
            ],
            [
             0.8,
             "#7fbc41"
            ],
            [
             0.9,
             "#4d9221"
            ],
            [
             1,
             "#276419"
            ]
           ],
           "sequential": [
            [
             0,
             "#0d0887"
            ],
            [
             0.1111111111111111,
             "#46039f"
            ],
            [
             0.2222222222222222,
             "#7201a8"
            ],
            [
             0.3333333333333333,
             "#9c179e"
            ],
            [
             0.4444444444444444,
             "#bd3786"
            ],
            [
             0.5555555555555556,
             "#d8576b"
            ],
            [
             0.6666666666666666,
             "#ed7953"
            ],
            [
             0.7777777777777778,
             "#fb9f3a"
            ],
            [
             0.8888888888888888,
             "#fdca26"
            ],
            [
             1,
             "#f0f921"
            ]
           ],
           "sequentialminus": [
            [
             0,
             "#0d0887"
            ],
            [
             0.1111111111111111,
             "#46039f"
            ],
            [
             0.2222222222222222,
             "#7201a8"
            ],
            [
             0.3333333333333333,
             "#9c179e"
            ],
            [
             0.4444444444444444,
             "#bd3786"
            ],
            [
             0.5555555555555556,
             "#d8576b"
            ],
            [
             0.6666666666666666,
             "#ed7953"
            ],
            [
             0.7777777777777778,
             "#fb9f3a"
            ],
            [
             0.8888888888888888,
             "#fdca26"
            ],
            [
             1,
             "#f0f921"
            ]
           ]
          },
          "colorway": [
           "#636efa",
           "#EF553B",
           "#00cc96",
           "#ab63fa",
           "#FFA15A",
           "#19d3f3",
           "#FF6692",
           "#B6E880",
           "#FF97FF",
           "#FECB52"
          ],
          "font": {
           "color": "#2a3f5f"
          },
          "geo": {
           "bgcolor": "white",
           "lakecolor": "white",
           "landcolor": "#E5ECF6",
           "showlakes": true,
           "showland": true,
           "subunitcolor": "white"
          },
          "hoverlabel": {
           "align": "left"
          },
          "hovermode": "closest",
          "mapbox": {
           "style": "light"
          },
          "paper_bgcolor": "white",
          "plot_bgcolor": "#E5ECF6",
          "polar": {
           "angularaxis": {
            "gridcolor": "white",
            "linecolor": "white",
            "ticks": ""
           },
           "bgcolor": "#E5ECF6",
           "radialaxis": {
            "gridcolor": "white",
            "linecolor": "white",
            "ticks": ""
           }
          },
          "scene": {
           "xaxis": {
            "backgroundcolor": "#E5ECF6",
            "gridcolor": "white",
            "gridwidth": 2,
            "linecolor": "white",
            "showbackground": true,
            "ticks": "",
            "zerolinecolor": "white"
           },
           "yaxis": {
            "backgroundcolor": "#E5ECF6",
            "gridcolor": "white",
            "gridwidth": 2,
            "linecolor": "white",
            "showbackground": true,
            "ticks": "",
            "zerolinecolor": "white"
           },
           "zaxis": {
            "backgroundcolor": "#E5ECF6",
            "gridcolor": "white",
            "gridwidth": 2,
            "linecolor": "white",
            "showbackground": true,
            "ticks": "",
            "zerolinecolor": "white"
           }
          },
          "shapedefaults": {
           "line": {
            "color": "#2a3f5f"
           }
          },
          "ternary": {
           "aaxis": {
            "gridcolor": "white",
            "linecolor": "white",
            "ticks": ""
           },
           "baxis": {
            "gridcolor": "white",
            "linecolor": "white",
            "ticks": ""
           },
           "bgcolor": "#E5ECF6",
           "caxis": {
            "gridcolor": "white",
            "linecolor": "white",
            "ticks": ""
           }
          },
          "title": {
           "x": 0.05
          },
          "xaxis": {
           "automargin": true,
           "gridcolor": "white",
           "linecolor": "white",
           "ticks": "",
           "title": {
            "standoff": 15
           },
           "zerolinecolor": "white",
           "zerolinewidth": 2
          },
          "yaxis": {
           "automargin": true,
           "gridcolor": "white",
           "linecolor": "white",
           "ticks": "",
           "title": {
            "standoff": 15
           },
           "zerolinecolor": "white",
           "zerolinewidth": 2
          }
         }
        },
        "title": {
         "text": "Time Series Line Plot"
        },
        "xaxis": {
         "title": {
          "text": "Date"
         }
        },
        "yaxis": {
         "title": {
          "text": "Value"
         }
        }
       }
      }
     },
     "metadata": {},
     "output_type": "display_data"
    }
   ],
   "source": [
    "fig = go.Figure()\n",
    "fig.add_trace(go.Scatter(x=sandkrug_df['Days in full_date'], y=sandkrug_df['pick_drop_deficit'], mode='lines', name='Value'))\n",
    "fig.update_layout(title='Time Series Line Plot', xaxis_title='Date', yaxis_title='Value')\n",
    "fig.show()"
   ]
  },
  {
   "cell_type": "code",
   "execution_count": 84,
   "metadata": {},
   "outputs": [
    {
     "data": {
      "application/vnd.plotly.v1+json": {
       "config": {
        "plotlyServerURL": "https://plot.ly"
       },
       "data": [
        {
         "mode": "lines",
         "name": "Dropoff",
         "type": "scatter",
         "x": [
          "2024-09-18T00:00:00",
          "2024-09-17T00:00:00",
          "2024-09-16T00:00:00",
          "2024-09-15T00:00:00",
          "2024-09-14T00:00:00",
          "2024-09-13T00:00:00",
          "2024-09-12T00:00:00",
          "2024-09-11T00:00:00",
          "2024-09-10T00:00:00",
          "2024-09-09T00:00:00",
          "2024-09-08T00:00:00",
          "2024-09-07T00:00:00",
          "2024-09-06T00:00:00",
          "2024-09-05T00:00:00",
          "2024-09-04T00:00:00",
          "2024-09-03T00:00:00",
          "2024-09-02T00:00:00",
          "2024-09-01T00:00:00",
          "2024-08-31T00:00:00",
          "2024-08-30T00:00:00",
          "2024-08-29T00:00:00",
          "2024-08-28T00:00:00",
          "2024-08-27T00:00:00",
          "2024-08-26T00:00:00",
          "2024-08-25T00:00:00",
          "2024-08-24T00:00:00",
          "2024-08-23T00:00:00",
          "2024-08-22T00:00:00",
          "2024-08-20T00:00:00",
          "2024-08-15T00:00:00",
          "2024-08-14T00:00:00",
          "2024-08-12T00:00:00",
          "2024-08-11T00:00:00",
          "2024-08-10T00:00:00",
          "2024-08-08T00:00:00",
          "2024-08-05T00:00:00",
          "2024-08-04T00:00:00",
          "2024-08-02T00:00:00",
          "2024-07-30T00:00:00",
          "2024-07-29T00:00:00",
          "2024-07-28T00:00:00",
          "2024-07-27T00:00:00",
          "2024-07-21T00:00:00",
          "2024-07-19T00:00:00",
          "2024-07-14T00:00:00",
          "2024-07-13T00:00:00",
          "2024-07-10T00:00:00",
          "2024-06-29T00:00:00",
          "2024-06-28T00:00:00",
          "2024-06-27T00:00:00",
          "2024-06-26T00:00:00",
          "2024-06-25T00:00:00",
          "2024-06-24T00:00:00",
          "2024-06-23T00:00:00",
          "2024-06-20T00:00:00",
          "2024-06-19T00:00:00",
          "2024-06-18T00:00:00",
          "2024-06-16T00:00:00",
          "2024-06-14T00:00:00",
          "2024-06-10T00:00:00",
          "2024-06-08T00:00:00",
          "2024-06-07T00:00:00",
          "2024-06-06T00:00:00",
          "2024-06-05T00:00:00",
          "2024-06-03T00:00:00",
          "2024-06-02T00:00:00",
          "2024-06-01T00:00:00",
          "2024-05-30T00:00:00",
          "2024-05-29T00:00:00",
          "2024-05-28T00:00:00",
          "2024-05-27T00:00:00",
          "2024-05-19T00:00:00",
          "2024-05-18T00:00:00",
          "2024-05-17T00:00:00",
          "2024-05-16T00:00:00",
          "2024-05-15T00:00:00",
          "2024-05-14T00:00:00",
          "2024-05-13T00:00:00",
          "2024-05-12T00:00:00",
          "2024-05-11T00:00:00",
          "2024-05-10T00:00:00",
          "2024-05-09T00:00:00",
          "2024-05-08T00:00:00",
          "2024-05-07T00:00:00",
          "2024-05-06T00:00:00",
          "2024-05-05T00:00:00",
          "2024-05-04T00:00:00",
          "2024-05-03T00:00:00",
          "2024-05-02T00:00:00",
          "2024-05-01T00:00:00",
          "2024-04-30T00:00:00",
          "2024-04-29T00:00:00",
          "2024-04-28T00:00:00",
          "2024-04-27T00:00:00",
          "2024-04-26T00:00:00",
          "2024-04-25T00:00:00",
          "2024-04-24T00:00:00",
          "2024-04-23T00:00:00",
          "2024-04-22T00:00:00",
          "2024-04-21T00:00:00",
          "2024-04-20T00:00:00",
          "2024-04-16T00:00:00",
          "2024-04-15T00:00:00",
          "2024-04-14T00:00:00",
          "2024-04-13T00:00:00",
          "2024-04-12T00:00:00",
          "2024-04-11T00:00:00",
          "2024-04-10T00:00:00",
          "2024-04-09T00:00:00",
          "2024-04-08T00:00:00",
          "2024-04-07T00:00:00",
          "2024-04-06T00:00:00",
          "2024-04-05T00:00:00",
          "2024-04-04T00:00:00",
          "2024-04-03T00:00:00",
          "2024-04-02T00:00:00",
          "2024-04-01T00:00:00",
          "2024-03-31T00:00:00",
          "2024-03-30T00:00:00",
          "2024-03-29T00:00:00",
          "2024-03-28T00:00:00",
          "2024-03-27T00:00:00",
          "2024-03-26T00:00:00",
          "2024-03-25T00:00:00",
          "2024-03-24T00:00:00",
          "2024-03-23T00:00:00",
          "2024-03-22T00:00:00",
          "2024-03-20T00:00:00",
          "2024-03-19T00:00:00",
          "2024-03-18T00:00:00",
          "2024-03-16T00:00:00",
          "2024-03-15T00:00:00",
          "2024-03-14T00:00:00",
          "2024-03-13T00:00:00",
          "2024-03-10T00:00:00",
          "2024-03-09T00:00:00",
          "2024-03-07T00:00:00",
          "2024-03-02T00:00:00",
          "2024-03-01T00:00:00",
          "2024-02-29T00:00:00",
          "2024-02-28T00:00:00",
          "2024-02-27T00:00:00",
          "2024-02-26T00:00:00",
          "2024-02-24T00:00:00",
          "2024-02-20T00:00:00",
          "2024-02-19T00:00:00",
          "2024-02-18T00:00:00",
          "2024-02-17T00:00:00",
          "2024-02-16T00:00:00",
          "2024-02-15T00:00:00",
          "2024-01-17T00:00:00"
         ],
         "y": [
          6,
          5,
          3,
          8,
          5,
          2,
          4,
          4,
          2,
          0,
          6,
          4,
          3,
          3,
          3,
          4,
          5,
          2,
          4,
          3,
          1,
          3,
          3,
          3,
          3,
          4,
          5,
          7,
          1,
          1,
          0,
          0,
          5,
          2,
          0,
          3,
          2,
          3,
          4,
          7,
          6,
          5,
          1,
          1,
          0,
          1,
          1,
          3,
          16,
          6,
          9,
          3,
          5,
          2,
          2,
          2,
          1,
          1,
          2,
          1,
          1,
          4,
          2,
          1,
          4,
          3,
          0,
          2,
          1,
          3,
          1,
          3,
          2,
          9,
          8,
          5,
          2,
          4,
          2,
          5,
          6,
          10,
          5,
          5,
          5,
          4,
          1,
          6,
          4,
          5,
          4,
          1,
          1,
          1,
          2,
          4,
          3,
          5,
          1,
          4,
          0,
          2,
          1,
          3,
          4,
          3,
          1,
          2,
          3,
          1,
          10,
          4,
          9,
          10,
          2,
          1,
          3,
          2,
          4,
          1,
          3,
          1,
          6,
          3,
          4,
          9,
          3,
          5,
          1,
          2,
          0,
          1,
          1,
          1,
          0,
          3,
          1,
          1,
          4,
          2,
          0,
          2,
          1,
          1,
          3,
          1,
          1,
          2,
          2,
          2,
          1
         ]
        },
        {
         "mode": "lines",
         "name": "Pickup",
         "type": "scatter",
         "x": [
          "2024-09-18T00:00:00",
          "2024-09-17T00:00:00",
          "2024-09-16T00:00:00",
          "2024-09-15T00:00:00",
          "2024-09-14T00:00:00",
          "2024-09-13T00:00:00",
          "2024-09-12T00:00:00",
          "2024-09-11T00:00:00",
          "2024-09-10T00:00:00",
          "2024-09-09T00:00:00",
          "2024-09-08T00:00:00",
          "2024-09-07T00:00:00",
          "2024-09-06T00:00:00",
          "2024-09-05T00:00:00",
          "2024-09-04T00:00:00",
          "2024-09-03T00:00:00",
          "2024-09-02T00:00:00",
          "2024-09-01T00:00:00",
          "2024-08-31T00:00:00",
          "2024-08-30T00:00:00",
          "2024-08-29T00:00:00",
          "2024-08-28T00:00:00",
          "2024-08-27T00:00:00",
          "2024-08-26T00:00:00",
          "2024-08-25T00:00:00",
          "2024-08-24T00:00:00",
          "2024-08-23T00:00:00",
          "2024-08-22T00:00:00",
          "2024-08-20T00:00:00",
          "2024-08-15T00:00:00",
          "2024-08-14T00:00:00",
          "2024-08-12T00:00:00",
          "2024-08-11T00:00:00",
          "2024-08-10T00:00:00",
          "2024-08-08T00:00:00",
          "2024-08-05T00:00:00",
          "2024-08-04T00:00:00",
          "2024-08-02T00:00:00",
          "2024-07-30T00:00:00",
          "2024-07-29T00:00:00",
          "2024-07-28T00:00:00",
          "2024-07-27T00:00:00",
          "2024-07-21T00:00:00",
          "2024-07-19T00:00:00",
          "2024-07-14T00:00:00",
          "2024-07-13T00:00:00",
          "2024-07-10T00:00:00",
          "2024-06-29T00:00:00",
          "2024-06-28T00:00:00",
          "2024-06-27T00:00:00",
          "2024-06-26T00:00:00",
          "2024-06-25T00:00:00",
          "2024-06-24T00:00:00",
          "2024-06-23T00:00:00",
          "2024-06-20T00:00:00",
          "2024-06-19T00:00:00",
          "2024-06-18T00:00:00",
          "2024-06-16T00:00:00",
          "2024-06-14T00:00:00",
          "2024-06-10T00:00:00",
          "2024-06-08T00:00:00",
          "2024-06-07T00:00:00",
          "2024-06-06T00:00:00",
          "2024-06-05T00:00:00",
          "2024-06-03T00:00:00",
          "2024-06-02T00:00:00",
          "2024-06-01T00:00:00",
          "2024-05-30T00:00:00",
          "2024-05-29T00:00:00",
          "2024-05-28T00:00:00",
          "2024-05-27T00:00:00",
          "2024-05-19T00:00:00",
          "2024-05-18T00:00:00",
          "2024-05-17T00:00:00",
          "2024-05-16T00:00:00",
          "2024-05-15T00:00:00",
          "2024-05-14T00:00:00",
          "2024-05-13T00:00:00",
          "2024-05-12T00:00:00",
          "2024-05-11T00:00:00",
          "2024-05-10T00:00:00",
          "2024-05-09T00:00:00",
          "2024-05-08T00:00:00",
          "2024-05-07T00:00:00",
          "2024-05-06T00:00:00",
          "2024-05-05T00:00:00",
          "2024-05-04T00:00:00",
          "2024-05-03T00:00:00",
          "2024-05-02T00:00:00",
          "2024-05-01T00:00:00",
          "2024-04-30T00:00:00",
          "2024-04-29T00:00:00",
          "2024-04-28T00:00:00",
          "2024-04-27T00:00:00",
          "2024-04-26T00:00:00",
          "2024-04-25T00:00:00",
          "2024-04-24T00:00:00",
          "2024-04-23T00:00:00",
          "2024-04-22T00:00:00",
          "2024-04-21T00:00:00",
          "2024-04-20T00:00:00",
          "2024-04-16T00:00:00",
          "2024-04-15T00:00:00",
          "2024-04-14T00:00:00",
          "2024-04-13T00:00:00",
          "2024-04-12T00:00:00",
          "2024-04-11T00:00:00",
          "2024-04-10T00:00:00",
          "2024-04-09T00:00:00",
          "2024-04-08T00:00:00",
          "2024-04-07T00:00:00",
          "2024-04-06T00:00:00",
          "2024-04-05T00:00:00",
          "2024-04-04T00:00:00",
          "2024-04-03T00:00:00",
          "2024-04-02T00:00:00",
          "2024-04-01T00:00:00",
          "2024-03-31T00:00:00",
          "2024-03-30T00:00:00",
          "2024-03-29T00:00:00",
          "2024-03-28T00:00:00",
          "2024-03-27T00:00:00",
          "2024-03-26T00:00:00",
          "2024-03-25T00:00:00",
          "2024-03-24T00:00:00",
          "2024-03-23T00:00:00",
          "2024-03-22T00:00:00",
          "2024-03-20T00:00:00",
          "2024-03-19T00:00:00",
          "2024-03-18T00:00:00",
          "2024-03-16T00:00:00",
          "2024-03-15T00:00:00",
          "2024-03-14T00:00:00",
          "2024-03-13T00:00:00",
          "2024-03-10T00:00:00",
          "2024-03-09T00:00:00",
          "2024-03-07T00:00:00",
          "2024-03-02T00:00:00",
          "2024-03-01T00:00:00",
          "2024-02-29T00:00:00",
          "2024-02-28T00:00:00",
          "2024-02-27T00:00:00",
          "2024-02-26T00:00:00",
          "2024-02-24T00:00:00",
          "2024-02-20T00:00:00",
          "2024-02-19T00:00:00",
          "2024-02-18T00:00:00",
          "2024-02-17T00:00:00",
          "2024-02-16T00:00:00",
          "2024-02-15T00:00:00",
          "2024-01-17T00:00:00"
         ],
         "y": [
          5,
          6,
          3,
          7,
          7,
          2,
          4,
          4,
          2,
          1,
          5,
          3,
          4,
          2,
          3,
          4,
          5,
          3,
          5,
          2,
          1,
          3,
          3,
          3,
          2,
          4,
          4,
          7,
          1,
          1,
          1,
          1,
          5,
          3,
          1,
          2,
          2,
          3,
          4,
          7,
          6,
          5,
          1,
          1,
          1,
          1,
          1,
          3,
          16,
          6,
          9,
          3,
          5,
          2,
          2,
          2,
          1,
          1,
          2,
          1,
          1,
          3,
          3,
          2,
          4,
          3,
          1,
          2,
          1,
          3,
          1,
          3,
          4,
          9,
          7,
          5,
          2,
          4,
          1,
          5,
          5,
          11,
          7,
          5,
          5,
          4,
          2,
          6,
          3,
          4,
          4,
          1,
          2,
          1,
          2,
          6,
          5,
          6,
          2,
          4,
          1,
          2,
          1,
          4,
          4,
          3,
          2,
          3,
          3,
          1,
          11,
          4,
          8,
          9,
          2,
          1,
          4,
          3,
          3,
          1,
          2,
          1,
          8,
          3,
          4,
          10,
          3,
          5,
          1,
          2,
          1,
          2,
          1,
          1,
          1,
          3,
          1,
          1,
          4,
          3,
          1,
          4,
          2,
          2,
          3,
          1,
          1,
          1,
          2,
          2,
          1
         ]
        }
       ],
       "layout": {
        "template": {
         "data": {
          "bar": [
           {
            "error_x": {
             "color": "#2a3f5f"
            },
            "error_y": {
             "color": "#2a3f5f"
            },
            "marker": {
             "line": {
              "color": "#E5ECF6",
              "width": 0.5
             },
             "pattern": {
              "fillmode": "overlay",
              "size": 10,
              "solidity": 0.2
             }
            },
            "type": "bar"
           }
          ],
          "barpolar": [
           {
            "marker": {
             "line": {
              "color": "#E5ECF6",
              "width": 0.5
             },
             "pattern": {
              "fillmode": "overlay",
              "size": 10,
              "solidity": 0.2
             }
            },
            "type": "barpolar"
           }
          ],
          "carpet": [
           {
            "aaxis": {
             "endlinecolor": "#2a3f5f",
             "gridcolor": "white",
             "linecolor": "white",
             "minorgridcolor": "white",
             "startlinecolor": "#2a3f5f"
            },
            "baxis": {
             "endlinecolor": "#2a3f5f",
             "gridcolor": "white",
             "linecolor": "white",
             "minorgridcolor": "white",
             "startlinecolor": "#2a3f5f"
            },
            "type": "carpet"
           }
          ],
          "choropleth": [
           {
            "colorbar": {
             "outlinewidth": 0,
             "ticks": ""
            },
            "type": "choropleth"
           }
          ],
          "contour": [
           {
            "colorbar": {
             "outlinewidth": 0,
             "ticks": ""
            },
            "colorscale": [
             [
              0,
              "#0d0887"
             ],
             [
              0.1111111111111111,
              "#46039f"
             ],
             [
              0.2222222222222222,
              "#7201a8"
             ],
             [
              0.3333333333333333,
              "#9c179e"
             ],
             [
              0.4444444444444444,
              "#bd3786"
             ],
             [
              0.5555555555555556,
              "#d8576b"
             ],
             [
              0.6666666666666666,
              "#ed7953"
             ],
             [
              0.7777777777777778,
              "#fb9f3a"
             ],
             [
              0.8888888888888888,
              "#fdca26"
             ],
             [
              1,
              "#f0f921"
             ]
            ],
            "type": "contour"
           }
          ],
          "contourcarpet": [
           {
            "colorbar": {
             "outlinewidth": 0,
             "ticks": ""
            },
            "type": "contourcarpet"
           }
          ],
          "heatmap": [
           {
            "colorbar": {
             "outlinewidth": 0,
             "ticks": ""
            },
            "colorscale": [
             [
              0,
              "#0d0887"
             ],
             [
              0.1111111111111111,
              "#46039f"
             ],
             [
              0.2222222222222222,
              "#7201a8"
             ],
             [
              0.3333333333333333,
              "#9c179e"
             ],
             [
              0.4444444444444444,
              "#bd3786"
             ],
             [
              0.5555555555555556,
              "#d8576b"
             ],
             [
              0.6666666666666666,
              "#ed7953"
             ],
             [
              0.7777777777777778,
              "#fb9f3a"
             ],
             [
              0.8888888888888888,
              "#fdca26"
             ],
             [
              1,
              "#f0f921"
             ]
            ],
            "type": "heatmap"
           }
          ],
          "heatmapgl": [
           {
            "colorbar": {
             "outlinewidth": 0,
             "ticks": ""
            },
            "colorscale": [
             [
              0,
              "#0d0887"
             ],
             [
              0.1111111111111111,
              "#46039f"
             ],
             [
              0.2222222222222222,
              "#7201a8"
             ],
             [
              0.3333333333333333,
              "#9c179e"
             ],
             [
              0.4444444444444444,
              "#bd3786"
             ],
             [
              0.5555555555555556,
              "#d8576b"
             ],
             [
              0.6666666666666666,
              "#ed7953"
             ],
             [
              0.7777777777777778,
              "#fb9f3a"
             ],
             [
              0.8888888888888888,
              "#fdca26"
             ],
             [
              1,
              "#f0f921"
             ]
            ],
            "type": "heatmapgl"
           }
          ],
          "histogram": [
           {
            "marker": {
             "pattern": {
              "fillmode": "overlay",
              "size": 10,
              "solidity": 0.2
             }
            },
            "type": "histogram"
           }
          ],
          "histogram2d": [
           {
            "colorbar": {
             "outlinewidth": 0,
             "ticks": ""
            },
            "colorscale": [
             [
              0,
              "#0d0887"
             ],
             [
              0.1111111111111111,
              "#46039f"
             ],
             [
              0.2222222222222222,
              "#7201a8"
             ],
             [
              0.3333333333333333,
              "#9c179e"
             ],
             [
              0.4444444444444444,
              "#bd3786"
             ],
             [
              0.5555555555555556,
              "#d8576b"
             ],
             [
              0.6666666666666666,
              "#ed7953"
             ],
             [
              0.7777777777777778,
              "#fb9f3a"
             ],
             [
              0.8888888888888888,
              "#fdca26"
             ],
             [
              1,
              "#f0f921"
             ]
            ],
            "type": "histogram2d"
           }
          ],
          "histogram2dcontour": [
           {
            "colorbar": {
             "outlinewidth": 0,
             "ticks": ""
            },
            "colorscale": [
             [
              0,
              "#0d0887"
             ],
             [
              0.1111111111111111,
              "#46039f"
             ],
             [
              0.2222222222222222,
              "#7201a8"
             ],
             [
              0.3333333333333333,
              "#9c179e"
             ],
             [
              0.4444444444444444,
              "#bd3786"
             ],
             [
              0.5555555555555556,
              "#d8576b"
             ],
             [
              0.6666666666666666,
              "#ed7953"
             ],
             [
              0.7777777777777778,
              "#fb9f3a"
             ],
             [
              0.8888888888888888,
              "#fdca26"
             ],
             [
              1,
              "#f0f921"
             ]
            ],
            "type": "histogram2dcontour"
           }
          ],
          "mesh3d": [
           {
            "colorbar": {
             "outlinewidth": 0,
             "ticks": ""
            },
            "type": "mesh3d"
           }
          ],
          "parcoords": [
           {
            "line": {
             "colorbar": {
              "outlinewidth": 0,
              "ticks": ""
             }
            },
            "type": "parcoords"
           }
          ],
          "pie": [
           {
            "automargin": true,
            "type": "pie"
           }
          ],
          "scatter": [
           {
            "fillpattern": {
             "fillmode": "overlay",
             "size": 10,
             "solidity": 0.2
            },
            "type": "scatter"
           }
          ],
          "scatter3d": [
           {
            "line": {
             "colorbar": {
              "outlinewidth": 0,
              "ticks": ""
             }
            },
            "marker": {
             "colorbar": {
              "outlinewidth": 0,
              "ticks": ""
             }
            },
            "type": "scatter3d"
           }
          ],
          "scattercarpet": [
           {
            "marker": {
             "colorbar": {
              "outlinewidth": 0,
              "ticks": ""
             }
            },
            "type": "scattercarpet"
           }
          ],
          "scattergeo": [
           {
            "marker": {
             "colorbar": {
              "outlinewidth": 0,
              "ticks": ""
             }
            },
            "type": "scattergeo"
           }
          ],
          "scattergl": [
           {
            "marker": {
             "colorbar": {
              "outlinewidth": 0,
              "ticks": ""
             }
            },
            "type": "scattergl"
           }
          ],
          "scattermapbox": [
           {
            "marker": {
             "colorbar": {
              "outlinewidth": 0,
              "ticks": ""
             }
            },
            "type": "scattermapbox"
           }
          ],
          "scatterpolar": [
           {
            "marker": {
             "colorbar": {
              "outlinewidth": 0,
              "ticks": ""
             }
            },
            "type": "scatterpolar"
           }
          ],
          "scatterpolargl": [
           {
            "marker": {
             "colorbar": {
              "outlinewidth": 0,
              "ticks": ""
             }
            },
            "type": "scatterpolargl"
           }
          ],
          "scatterternary": [
           {
            "marker": {
             "colorbar": {
              "outlinewidth": 0,
              "ticks": ""
             }
            },
            "type": "scatterternary"
           }
          ],
          "surface": [
           {
            "colorbar": {
             "outlinewidth": 0,
             "ticks": ""
            },
            "colorscale": [
             [
              0,
              "#0d0887"
             ],
             [
              0.1111111111111111,
              "#46039f"
             ],
             [
              0.2222222222222222,
              "#7201a8"
             ],
             [
              0.3333333333333333,
              "#9c179e"
             ],
             [
              0.4444444444444444,
              "#bd3786"
             ],
             [
              0.5555555555555556,
              "#d8576b"
             ],
             [
              0.6666666666666666,
              "#ed7953"
             ],
             [
              0.7777777777777778,
              "#fb9f3a"
             ],
             [
              0.8888888888888888,
              "#fdca26"
             ],
             [
              1,
              "#f0f921"
             ]
            ],
            "type": "surface"
           }
          ],
          "table": [
           {
            "cells": {
             "fill": {
              "color": "#EBF0F8"
             },
             "line": {
              "color": "white"
             }
            },
            "header": {
             "fill": {
              "color": "#C8D4E3"
             },
             "line": {
              "color": "white"
             }
            },
            "type": "table"
           }
          ]
         },
         "layout": {
          "annotationdefaults": {
           "arrowcolor": "#2a3f5f",
           "arrowhead": 0,
           "arrowwidth": 1
          },
          "autotypenumbers": "strict",
          "coloraxis": {
           "colorbar": {
            "outlinewidth": 0,
            "ticks": ""
           }
          },
          "colorscale": {
           "diverging": [
            [
             0,
             "#8e0152"
            ],
            [
             0.1,
             "#c51b7d"
            ],
            [
             0.2,
             "#de77ae"
            ],
            [
             0.3,
             "#f1b6da"
            ],
            [
             0.4,
             "#fde0ef"
            ],
            [
             0.5,
             "#f7f7f7"
            ],
            [
             0.6,
             "#e6f5d0"
            ],
            [
             0.7,
             "#b8e186"
            ],
            [
             0.8,
             "#7fbc41"
            ],
            [
             0.9,
             "#4d9221"
            ],
            [
             1,
             "#276419"
            ]
           ],
           "sequential": [
            [
             0,
             "#0d0887"
            ],
            [
             0.1111111111111111,
             "#46039f"
            ],
            [
             0.2222222222222222,
             "#7201a8"
            ],
            [
             0.3333333333333333,
             "#9c179e"
            ],
            [
             0.4444444444444444,
             "#bd3786"
            ],
            [
             0.5555555555555556,
             "#d8576b"
            ],
            [
             0.6666666666666666,
             "#ed7953"
            ],
            [
             0.7777777777777778,
             "#fb9f3a"
            ],
            [
             0.8888888888888888,
             "#fdca26"
            ],
            [
             1,
             "#f0f921"
            ]
           ],
           "sequentialminus": [
            [
             0,
             "#0d0887"
            ],
            [
             0.1111111111111111,
             "#46039f"
            ],
            [
             0.2222222222222222,
             "#7201a8"
            ],
            [
             0.3333333333333333,
             "#9c179e"
            ],
            [
             0.4444444444444444,
             "#bd3786"
            ],
            [
             0.5555555555555556,
             "#d8576b"
            ],
            [
             0.6666666666666666,
             "#ed7953"
            ],
            [
             0.7777777777777778,
             "#fb9f3a"
            ],
            [
             0.8888888888888888,
             "#fdca26"
            ],
            [
             1,
             "#f0f921"
            ]
           ]
          },
          "colorway": [
           "#636efa",
           "#EF553B",
           "#00cc96",
           "#ab63fa",
           "#FFA15A",
           "#19d3f3",
           "#FF6692",
           "#B6E880",
           "#FF97FF",
           "#FECB52"
          ],
          "font": {
           "color": "#2a3f5f"
          },
          "geo": {
           "bgcolor": "white",
           "lakecolor": "white",
           "landcolor": "#E5ECF6",
           "showlakes": true,
           "showland": true,
           "subunitcolor": "white"
          },
          "hoverlabel": {
           "align": "left"
          },
          "hovermode": "closest",
          "mapbox": {
           "style": "light"
          },
          "paper_bgcolor": "white",
          "plot_bgcolor": "#E5ECF6",
          "polar": {
           "angularaxis": {
            "gridcolor": "white",
            "linecolor": "white",
            "ticks": ""
           },
           "bgcolor": "#E5ECF6",
           "radialaxis": {
            "gridcolor": "white",
            "linecolor": "white",
            "ticks": ""
           }
          },
          "scene": {
           "xaxis": {
            "backgroundcolor": "#E5ECF6",
            "gridcolor": "white",
            "gridwidth": 2,
            "linecolor": "white",
            "showbackground": true,
            "ticks": "",
            "zerolinecolor": "white"
           },
           "yaxis": {
            "backgroundcolor": "#E5ECF6",
            "gridcolor": "white",
            "gridwidth": 2,
            "linecolor": "white",
            "showbackground": true,
            "ticks": "",
            "zerolinecolor": "white"
           },
           "zaxis": {
            "backgroundcolor": "#E5ECF6",
            "gridcolor": "white",
            "gridwidth": 2,
            "linecolor": "white",
            "showbackground": true,
            "ticks": "",
            "zerolinecolor": "white"
           }
          },
          "shapedefaults": {
           "line": {
            "color": "#2a3f5f"
           }
          },
          "ternary": {
           "aaxis": {
            "gridcolor": "white",
            "linecolor": "white",
            "ticks": ""
           },
           "baxis": {
            "gridcolor": "white",
            "linecolor": "white",
            "ticks": ""
           },
           "bgcolor": "#E5ECF6",
           "caxis": {
            "gridcolor": "white",
            "linecolor": "white",
            "ticks": ""
           }
          },
          "title": {
           "x": 0.05
          },
          "xaxis": {
           "automargin": true,
           "gridcolor": "white",
           "linecolor": "white",
           "ticks": "",
           "title": {
            "standoff": 15
           },
           "zerolinecolor": "white",
           "zerolinewidth": 2
          },
          "yaxis": {
           "automargin": true,
           "gridcolor": "white",
           "linecolor": "white",
           "ticks": "",
           "title": {
            "standoff": 15
           },
           "zerolinecolor": "white",
           "zerolinewidth": 2
          }
         }
        },
        "title": {
         "text": "Time Series Line Plot"
        },
        "xaxis": {
         "title": {
          "text": "Date"
         }
        },
        "yaxis": {
         "title": {
          "text": "Value"
         }
        }
       }
      }
     },
     "metadata": {},
     "output_type": "display_data"
    }
   ],
   "source": [
    "fig = go.Figure()\n",
    "fig.add_trace(go.Scatter(x=sandkrug_df['Days in full_date'], y=sandkrug_df['# of unique dropoff_hub_id'], mode='lines', name='Dropoff'))\n",
    "fig.add_trace(go.Scatter(x=sandkrug_df['Days in full_date'], y=sandkrug_df['# of unique pickup_hub_id'], mode='lines', name='Pickup'))\n",
    "fig.update_layout(title='Time Series Line Plot', xaxis_title='Date', yaxis_title='Value')\n",
    "fig.show()"
   ]
  },
  {
   "cell_type": "code",
   "execution_count": 85,
   "metadata": {},
   "outputs": [
    {
     "data": {
      "application/vnd.plotly.v1+json": {
       "config": {
        "plotlyServerURL": "https://plot.ly"
       },
       "data": [
        {
         "mode": "lines",
         "name": "Dropoff",
         "type": "scatter",
         "x": [
          "2024-09-18T00:00:00",
          "2024-09-17T00:00:00",
          "2024-09-16T00:00:00",
          "2024-09-15T00:00:00",
          "2024-09-14T00:00:00",
          "2024-09-13T00:00:00",
          "2024-09-12T00:00:00",
          "2024-09-11T00:00:00",
          "2024-09-10T00:00:00",
          "2024-09-09T00:00:00",
          "2024-09-08T00:00:00",
          "2024-09-07T00:00:00",
          "2024-09-06T00:00:00",
          "2024-09-05T00:00:00",
          "2024-09-04T00:00:00",
          "2024-09-03T00:00:00",
          "2024-09-02T00:00:00",
          "2024-09-01T00:00:00",
          "2024-08-31T00:00:00",
          "2024-08-30T00:00:00",
          "2024-08-29T00:00:00",
          "2024-08-28T00:00:00",
          "2024-08-27T00:00:00",
          "2024-08-26T00:00:00",
          "2024-08-25T00:00:00",
          "2024-08-24T00:00:00",
          "2024-08-23T00:00:00",
          "2024-08-22T00:00:00",
          "2024-08-21T00:00:00",
          "2024-08-20T00:00:00",
          "2024-08-19T00:00:00",
          "2024-08-18T00:00:00",
          "2024-08-17T00:00:00",
          "2024-08-16T00:00:00",
          "2024-08-15T00:00:00",
          "2024-08-14T00:00:00",
          "2024-08-13T00:00:00",
          "2024-08-12T00:00:00",
          "2024-08-11T00:00:00",
          "2024-08-10T00:00:00",
          "2024-08-09T00:00:00",
          "2024-08-08T00:00:00",
          "2024-08-07T00:00:00",
          "2024-08-06T00:00:00",
          "2024-08-05T00:00:00",
          "2024-08-04T00:00:00",
          "2024-08-03T00:00:00",
          "2024-08-02T00:00:00",
          "2024-08-01T00:00:00",
          "2024-07-31T00:00:00",
          "2024-07-30T00:00:00",
          "2024-07-29T00:00:00",
          "2024-07-28T00:00:00",
          "2024-07-27T00:00:00",
          "2024-07-26T00:00:00",
          "2024-07-25T00:00:00",
          "2024-07-24T00:00:00",
          "2024-07-23T00:00:00",
          "2024-07-22T00:00:00",
          "2024-07-21T00:00:00",
          "2024-07-20T00:00:00",
          "2024-07-19T00:00:00",
          "2024-07-18T00:00:00",
          "2024-07-17T00:00:00",
          "2024-07-16T00:00:00",
          "2024-07-15T00:00:00",
          "2024-07-14T00:00:00",
          "2024-07-13T00:00:00",
          "2024-07-12T00:00:00",
          "2024-07-11T00:00:00",
          "2024-07-10T00:00:00",
          "2024-07-09T00:00:00",
          "2024-07-08T00:00:00",
          "2024-07-07T00:00:00",
          "2024-07-06T00:00:00",
          "2024-07-05T00:00:00",
          "2024-07-04T00:00:00",
          "2024-07-03T00:00:00",
          "2024-07-02T00:00:00",
          "2024-07-01T00:00:00",
          "2024-06-30T00:00:00",
          "2024-06-29T00:00:00",
          "2024-06-28T00:00:00",
          "2024-06-27T00:00:00",
          "2024-06-26T00:00:00",
          "2024-06-25T00:00:00",
          "2024-06-24T00:00:00",
          "2024-06-23T00:00:00",
          "2024-06-22T00:00:00",
          "2024-06-21T00:00:00",
          "2024-06-20T00:00:00",
          "2024-06-19T00:00:00",
          "2024-06-18T00:00:00",
          "2024-06-17T00:00:00",
          "2024-06-16T00:00:00",
          "2024-06-15T00:00:00",
          "2024-06-14T00:00:00",
          "2024-06-13T00:00:00",
          "2024-06-12T00:00:00",
          "2024-06-11T00:00:00",
          "2024-06-10T00:00:00",
          "2024-06-09T00:00:00",
          "2024-06-08T00:00:00",
          "2024-06-07T00:00:00",
          "2024-06-06T00:00:00",
          "2024-06-05T00:00:00",
          "2024-06-04T00:00:00",
          "2024-06-03T00:00:00",
          "2024-06-02T00:00:00",
          "2024-06-01T00:00:00",
          "2024-05-31T00:00:00",
          "2024-05-30T00:00:00",
          "2024-05-29T00:00:00",
          "2024-05-28T00:00:00",
          "2024-05-27T00:00:00",
          "2024-05-26T00:00:00",
          "2024-05-25T00:00:00",
          "2024-05-24T00:00:00",
          "2024-05-23T00:00:00",
          "2024-05-22T00:00:00",
          "2024-05-21T00:00:00",
          "2024-05-20T00:00:00",
          "2024-05-19T00:00:00",
          "2024-05-18T00:00:00",
          "2024-05-17T00:00:00",
          "2024-05-16T00:00:00",
          "2024-05-15T00:00:00",
          "2024-05-14T00:00:00",
          "2024-05-13T00:00:00",
          "2024-05-12T00:00:00",
          "2024-05-11T00:00:00",
          "2024-05-10T00:00:00",
          "2024-05-09T00:00:00",
          "2024-05-08T00:00:00",
          "2024-05-07T00:00:00",
          "2024-05-06T00:00:00",
          "2024-05-05T00:00:00",
          "2024-05-04T00:00:00",
          "2024-05-03T00:00:00",
          "2024-05-02T00:00:00",
          "2024-05-01T00:00:00",
          "2024-04-30T00:00:00",
          "2024-04-29T00:00:00",
          "2024-04-28T00:00:00",
          "2024-04-27T00:00:00",
          "2024-04-26T00:00:00",
          "2024-04-25T00:00:00",
          "2024-04-24T00:00:00",
          "2024-04-23T00:00:00",
          "2024-04-22T00:00:00",
          "2024-04-21T00:00:00",
          "2024-04-20T00:00:00",
          "2024-04-18T00:00:00",
          "2024-04-17T00:00:00",
          "2024-04-16T00:00:00",
          "2024-04-15T00:00:00",
          "2024-04-14T00:00:00",
          "2024-04-13T00:00:00",
          "2024-04-12T00:00:00",
          "2024-04-11T00:00:00",
          "2024-04-10T00:00:00",
          "2024-04-09T00:00:00",
          "2024-04-08T00:00:00",
          "2024-04-07T00:00:00",
          "2024-04-06T00:00:00",
          "2024-04-05T00:00:00",
          "2024-04-04T00:00:00",
          "2024-04-03T00:00:00",
          "2024-04-02T00:00:00",
          "2024-04-01T00:00:00",
          "2024-03-31T00:00:00",
          "2024-03-30T00:00:00",
          "2024-03-29T00:00:00",
          "2024-03-28T00:00:00",
          "2024-03-27T00:00:00",
          "2024-03-26T00:00:00",
          "2024-03-25T00:00:00",
          "2024-03-24T00:00:00",
          "2024-03-23T00:00:00",
          "2024-03-22T00:00:00",
          "2024-03-20T00:00:00",
          "2024-03-19T00:00:00",
          "2024-03-18T00:00:00",
          "2024-03-17T00:00:00",
          "2024-03-16T00:00:00",
          "2024-03-15T00:00:00",
          "2024-03-14T00:00:00",
          "2024-03-13T00:00:00",
          "2024-03-12T00:00:00",
          "2024-03-11T00:00:00",
          "2024-03-10T00:00:00",
          "2024-03-09T00:00:00",
          "2024-03-08T00:00:00",
          "2024-03-07T00:00:00",
          "2024-03-06T00:00:00",
          "2024-03-05T00:00:00",
          "2024-03-04T00:00:00",
          "2024-03-03T00:00:00",
          "2024-03-02T00:00:00",
          "2024-03-01T00:00:00",
          "2024-02-29T00:00:00",
          "2024-02-28T00:00:00",
          "2024-02-27T00:00:00",
          "2024-02-26T00:00:00",
          "2024-02-25T00:00:00",
          "2024-02-24T00:00:00",
          "2024-02-23T00:00:00",
          "2024-02-22T00:00:00",
          "2024-02-21T00:00:00",
          "2024-02-20T00:00:00",
          "2024-02-19T00:00:00",
          "2024-02-18T00:00:00",
          "2024-02-17T00:00:00",
          "2024-02-16T00:00:00",
          "2024-02-15T00:00:00",
          "2024-02-14T00:00:00",
          "2024-02-13T00:00:00",
          "2024-02-12T00:00:00",
          "2024-02-11T00:00:00",
          "2024-02-10T00:00:00",
          "2024-02-09T00:00:00",
          "2024-02-08T00:00:00",
          "2024-02-07T00:00:00",
          "2024-02-06T00:00:00",
          "2024-02-05T00:00:00",
          "2024-02-04T00:00:00",
          "2024-02-03T00:00:00",
          "2024-02-02T00:00:00",
          "2024-02-01T00:00:00",
          "2024-01-31T00:00:00",
          "2024-01-30T00:00:00",
          "2024-01-29T00:00:00",
          "2024-01-28T00:00:00",
          "2024-01-27T00:00:00",
          "2024-01-26T00:00:00",
          "2024-01-25T00:00:00",
          "2024-01-24T00:00:00",
          "2024-01-23T00:00:00",
          "2024-01-22T00:00:00",
          "2024-01-21T00:00:00",
          "2024-01-20T00:00:00",
          "2024-01-19T00:00:00",
          "2024-01-18T00:00:00",
          "2024-01-17T00:00:00",
          "2024-01-16T00:00:00",
          "2024-01-15T00:00:00",
          "2024-01-14T00:00:00",
          "2024-01-13T00:00:00",
          "2024-01-12T00:00:00",
          "2024-01-11T00:00:00",
          "2024-01-10T00:00:00",
          "2024-01-09T00:00:00",
          "2024-01-08T00:00:00",
          "2024-01-07T00:00:00",
          "2024-01-06T00:00:00",
          "2024-01-05T00:00:00",
          "2024-01-04T00:00:00",
          "2024-01-03T00:00:00",
          "2024-01-02T00:00:00",
          "2024-01-01T00:00:00"
         ],
         "y": [
          4,
          6,
          11,
          27,
          22,
          19,
          25,
          20,
          22,
          15,
          24,
          24,
          29,
          19,
          22,
          18,
          17,
          17,
          20,
          20,
          23,
          24,
          25,
          31,
          22,
          18,
          17,
          13,
          6,
          18,
          21,
          18,
          19,
          17,
          19,
          21,
          16,
          18,
          18,
          18,
          16,
          18,
          15,
          24,
          17,
          15,
          19,
          17,
          20,
          21,
          33,
          16,
          12,
          9,
          14,
          19,
          17,
          25,
          13,
          14,
          21,
          24,
          17,
          19,
          25,
          13,
          17,
          16,
          22,
          20,
          25,
          18,
          20,
          12,
          13,
          13,
          9,
          11,
          19,
          8,
          11,
          25,
          24,
          19,
          24,
          25,
          26,
          35,
          37,
          33,
          26,
          15,
          21,
          19,
          12,
          6,
          15,
          5,
          8,
          14,
          8,
          4,
          16,
          21,
          6,
          7,
          9,
          11,
          10,
          18,
          18,
          19,
          10,
          19,
          13,
          15,
          16,
          14,
          26,
          4,
          19,
          19,
          10,
          13,
          15,
          17,
          16,
          20,
          15,
          23,
          16,
          13,
          12,
          19,
          11,
          14,
          3,
          16,
          14,
          22,
          19,
          25,
          15,
          11,
          12,
          16,
          22,
          15,
          8,
          16,
          11,
          10,
          12,
          15,
          16,
          11,
          11,
          13,
          8,
          7,
          8,
          8,
          12,
          9,
          16,
          12,
          7,
          16,
          9,
          7,
          7,
          8,
          14,
          8,
          12,
          29,
          16,
          13,
          9,
          18,
          6,
          12,
          22,
          15,
          16,
          24,
          24,
          22,
          18,
          16,
          18,
          27,
          20,
          8,
          3,
          7,
          10,
          24,
          27,
          25,
          17,
          10,
          15,
          10,
          2,
          17,
          13,
          13,
          15,
          16,
          9,
          5,
          11,
          26,
          25,
          25,
          1,
          11,
          11,
          12,
          8,
          8,
          1,
          2,
          5,
          13,
          24,
          20,
          8,
          11,
          18,
          15,
          10,
          14,
          17,
          19,
          14,
          9,
          12,
          7,
          12,
          7,
          9,
          5,
          19,
          12,
          8,
          6,
          19,
          13,
          3,
          10,
          12,
          4,
          6,
          6,
          9,
          4,
          4,
          9
         ]
        },
        {
         "mode": "lines",
         "name": "Pickup",
         "type": "scatter",
         "x": [
          "2024-09-18T00:00:00",
          "2024-09-17T00:00:00",
          "2024-09-16T00:00:00",
          "2024-09-15T00:00:00",
          "2024-09-14T00:00:00",
          "2024-09-13T00:00:00",
          "2024-09-12T00:00:00",
          "2024-09-11T00:00:00",
          "2024-09-10T00:00:00",
          "2024-09-09T00:00:00",
          "2024-09-08T00:00:00",
          "2024-09-07T00:00:00",
          "2024-09-06T00:00:00",
          "2024-09-05T00:00:00",
          "2024-09-04T00:00:00",
          "2024-09-03T00:00:00",
          "2024-09-02T00:00:00",
          "2024-09-01T00:00:00",
          "2024-08-31T00:00:00",
          "2024-08-30T00:00:00",
          "2024-08-29T00:00:00",
          "2024-08-28T00:00:00",
          "2024-08-27T00:00:00",
          "2024-08-26T00:00:00",
          "2024-08-25T00:00:00",
          "2024-08-24T00:00:00",
          "2024-08-23T00:00:00",
          "2024-08-22T00:00:00",
          "2024-08-21T00:00:00",
          "2024-08-20T00:00:00",
          "2024-08-19T00:00:00",
          "2024-08-18T00:00:00",
          "2024-08-17T00:00:00",
          "2024-08-16T00:00:00",
          "2024-08-15T00:00:00",
          "2024-08-14T00:00:00",
          "2024-08-13T00:00:00",
          "2024-08-12T00:00:00",
          "2024-08-11T00:00:00",
          "2024-08-10T00:00:00",
          "2024-08-09T00:00:00",
          "2024-08-08T00:00:00",
          "2024-08-07T00:00:00",
          "2024-08-06T00:00:00",
          "2024-08-05T00:00:00",
          "2024-08-04T00:00:00",
          "2024-08-03T00:00:00",
          "2024-08-02T00:00:00",
          "2024-08-01T00:00:00",
          "2024-07-31T00:00:00",
          "2024-07-30T00:00:00",
          "2024-07-29T00:00:00",
          "2024-07-28T00:00:00",
          "2024-07-27T00:00:00",
          "2024-07-26T00:00:00",
          "2024-07-25T00:00:00",
          "2024-07-24T00:00:00",
          "2024-07-23T00:00:00",
          "2024-07-22T00:00:00",
          "2024-07-21T00:00:00",
          "2024-07-20T00:00:00",
          "2024-07-19T00:00:00",
          "2024-07-18T00:00:00",
          "2024-07-17T00:00:00",
          "2024-07-16T00:00:00",
          "2024-07-15T00:00:00",
          "2024-07-14T00:00:00",
          "2024-07-13T00:00:00",
          "2024-07-12T00:00:00",
          "2024-07-11T00:00:00",
          "2024-07-10T00:00:00",
          "2024-07-09T00:00:00",
          "2024-07-08T00:00:00",
          "2024-07-07T00:00:00",
          "2024-07-06T00:00:00",
          "2024-07-05T00:00:00",
          "2024-07-04T00:00:00",
          "2024-07-03T00:00:00",
          "2024-07-02T00:00:00",
          "2024-07-01T00:00:00",
          "2024-06-30T00:00:00",
          "2024-06-29T00:00:00",
          "2024-06-28T00:00:00",
          "2024-06-27T00:00:00",
          "2024-06-26T00:00:00",
          "2024-06-25T00:00:00",
          "2024-06-24T00:00:00",
          "2024-06-23T00:00:00",
          "2024-06-22T00:00:00",
          "2024-06-21T00:00:00",
          "2024-06-20T00:00:00",
          "2024-06-19T00:00:00",
          "2024-06-18T00:00:00",
          "2024-06-17T00:00:00",
          "2024-06-16T00:00:00",
          "2024-06-15T00:00:00",
          "2024-06-14T00:00:00",
          "2024-06-13T00:00:00",
          "2024-06-12T00:00:00",
          "2024-06-11T00:00:00",
          "2024-06-10T00:00:00",
          "2024-06-09T00:00:00",
          "2024-06-08T00:00:00",
          "2024-06-07T00:00:00",
          "2024-06-06T00:00:00",
          "2024-06-05T00:00:00",
          "2024-06-04T00:00:00",
          "2024-06-03T00:00:00",
          "2024-06-02T00:00:00",
          "2024-06-01T00:00:00",
          "2024-05-31T00:00:00",
          "2024-05-30T00:00:00",
          "2024-05-29T00:00:00",
          "2024-05-28T00:00:00",
          "2024-05-27T00:00:00",
          "2024-05-26T00:00:00",
          "2024-05-25T00:00:00",
          "2024-05-24T00:00:00",
          "2024-05-23T00:00:00",
          "2024-05-22T00:00:00",
          "2024-05-21T00:00:00",
          "2024-05-20T00:00:00",
          "2024-05-19T00:00:00",
          "2024-05-18T00:00:00",
          "2024-05-17T00:00:00",
          "2024-05-16T00:00:00",
          "2024-05-15T00:00:00",
          "2024-05-14T00:00:00",
          "2024-05-13T00:00:00",
          "2024-05-12T00:00:00",
          "2024-05-11T00:00:00",
          "2024-05-10T00:00:00",
          "2024-05-09T00:00:00",
          "2024-05-08T00:00:00",
          "2024-05-07T00:00:00",
          "2024-05-06T00:00:00",
          "2024-05-05T00:00:00",
          "2024-05-04T00:00:00",
          "2024-05-03T00:00:00",
          "2024-05-02T00:00:00",
          "2024-05-01T00:00:00",
          "2024-04-30T00:00:00",
          "2024-04-29T00:00:00",
          "2024-04-28T00:00:00",
          "2024-04-27T00:00:00",
          "2024-04-26T00:00:00",
          "2024-04-25T00:00:00",
          "2024-04-24T00:00:00",
          "2024-04-23T00:00:00",
          "2024-04-22T00:00:00",
          "2024-04-21T00:00:00",
          "2024-04-20T00:00:00",
          "2024-04-18T00:00:00",
          "2024-04-17T00:00:00",
          "2024-04-16T00:00:00",
          "2024-04-15T00:00:00",
          "2024-04-14T00:00:00",
          "2024-04-13T00:00:00",
          "2024-04-12T00:00:00",
          "2024-04-11T00:00:00",
          "2024-04-10T00:00:00",
          "2024-04-09T00:00:00",
          "2024-04-08T00:00:00",
          "2024-04-07T00:00:00",
          "2024-04-06T00:00:00",
          "2024-04-05T00:00:00",
          "2024-04-04T00:00:00",
          "2024-04-03T00:00:00",
          "2024-04-02T00:00:00",
          "2024-04-01T00:00:00",
          "2024-03-31T00:00:00",
          "2024-03-30T00:00:00",
          "2024-03-29T00:00:00",
          "2024-03-28T00:00:00",
          "2024-03-27T00:00:00",
          "2024-03-26T00:00:00",
          "2024-03-25T00:00:00",
          "2024-03-24T00:00:00",
          "2024-03-23T00:00:00",
          "2024-03-22T00:00:00",
          "2024-03-20T00:00:00",
          "2024-03-19T00:00:00",
          "2024-03-18T00:00:00",
          "2024-03-17T00:00:00",
          "2024-03-16T00:00:00",
          "2024-03-15T00:00:00",
          "2024-03-14T00:00:00",
          "2024-03-13T00:00:00",
          "2024-03-12T00:00:00",
          "2024-03-11T00:00:00",
          "2024-03-10T00:00:00",
          "2024-03-09T00:00:00",
          "2024-03-08T00:00:00",
          "2024-03-07T00:00:00",
          "2024-03-06T00:00:00",
          "2024-03-05T00:00:00",
          "2024-03-04T00:00:00",
          "2024-03-03T00:00:00",
          "2024-03-02T00:00:00",
          "2024-03-01T00:00:00",
          "2024-02-29T00:00:00",
          "2024-02-28T00:00:00",
          "2024-02-27T00:00:00",
          "2024-02-26T00:00:00",
          "2024-02-25T00:00:00",
          "2024-02-24T00:00:00",
          "2024-02-23T00:00:00",
          "2024-02-22T00:00:00",
          "2024-02-21T00:00:00",
          "2024-02-20T00:00:00",
          "2024-02-19T00:00:00",
          "2024-02-18T00:00:00",
          "2024-02-17T00:00:00",
          "2024-02-16T00:00:00",
          "2024-02-15T00:00:00",
          "2024-02-14T00:00:00",
          "2024-02-13T00:00:00",
          "2024-02-12T00:00:00",
          "2024-02-11T00:00:00",
          "2024-02-10T00:00:00",
          "2024-02-09T00:00:00",
          "2024-02-08T00:00:00",
          "2024-02-07T00:00:00",
          "2024-02-06T00:00:00",
          "2024-02-05T00:00:00",
          "2024-02-04T00:00:00",
          "2024-02-03T00:00:00",
          "2024-02-02T00:00:00",
          "2024-02-01T00:00:00",
          "2024-01-31T00:00:00",
          "2024-01-30T00:00:00",
          "2024-01-29T00:00:00",
          "2024-01-28T00:00:00",
          "2024-01-27T00:00:00",
          "2024-01-26T00:00:00",
          "2024-01-25T00:00:00",
          "2024-01-24T00:00:00",
          "2024-01-23T00:00:00",
          "2024-01-22T00:00:00",
          "2024-01-21T00:00:00",
          "2024-01-20T00:00:00",
          "2024-01-19T00:00:00",
          "2024-01-18T00:00:00",
          "2024-01-17T00:00:00",
          "2024-01-16T00:00:00",
          "2024-01-15T00:00:00",
          "2024-01-14T00:00:00",
          "2024-01-13T00:00:00",
          "2024-01-12T00:00:00",
          "2024-01-11T00:00:00",
          "2024-01-10T00:00:00",
          "2024-01-09T00:00:00",
          "2024-01-08T00:00:00",
          "2024-01-07T00:00:00",
          "2024-01-06T00:00:00",
          "2024-01-05T00:00:00",
          "2024-01-04T00:00:00",
          "2024-01-03T00:00:00",
          "2024-01-02T00:00:00",
          "2024-01-01T00:00:00"
         ],
         "y": [
          4,
          8,
          10,
          29,
          23,
          20,
          27,
          22,
          21,
          18,
          23,
          23,
          33,
          18,
          20,
          21,
          17,
          15,
          22,
          21,
          22,
          24,
          25,
          31,
          20,
          15,
          17,
          14,
          7,
          16,
          23,
          18,
          19,
          18,
          18,
          21,
          19,
          21,
          18,
          17,
          18,
          18,
          14,
          23,
          17,
          15,
          18,
          17,
          22,
          23,
          32,
          19,
          11,
          8,
          15,
          19,
          16,
          24,
          14,
          15,
          23,
          23,
          16,
          20,
          24,
          18,
          17,
          17,
          22,
          21,
          24,
          19,
          20,
          12,
          12,
          12,
          10,
          11,
          20,
          9,
          11,
          26,
          24,
          19,
          25,
          26,
          27,
          36,
          37,
          34,
          25,
          15,
          22,
          20,
          13,
          6,
          14,
          7,
          9,
          12,
          9,
          4,
          16,
          23,
          6,
          9,
          9,
          10,
          10,
          18,
          18,
          22,
          10,
          17,
          14,
          16,
          13,
          13,
          24,
          4,
          18,
          21,
          10,
          15,
          13,
          19,
          15,
          21,
          16,
          22,
          18,
          13,
          13,
          20,
          11,
          14,
          3,
          17,
          14,
          21,
          17,
          26,
          16,
          11,
          13,
          15,
          22,
          12,
          9,
          14,
          12,
          11,
          12,
          16,
          16,
          10,
          11,
          13,
          6,
          7,
          9,
          7,
          11,
          10,
          17,
          15,
          8,
          18,
          11,
          8,
          6,
          8,
          15,
          10,
          13,
          30,
          17,
          12,
          12,
          17,
          8,
          13,
          18,
          16,
          17,
          21,
          24,
          23,
          18,
          15,
          17,
          29,
          19,
          7,
          3,
          7,
          11,
          26,
          28,
          24,
          15,
          12,
          16,
          8,
          2,
          16,
          16,
          13,
          17,
          17,
          10,
          8,
          10,
          28,
          24,
          25,
          1,
          10,
          9,
          14,
          7,
          7,
          1,
          2,
          5,
          12,
          25,
          20,
          9,
          12,
          19,
          18,
          7,
          14,
          17,
          18,
          15,
          11,
          12,
          7,
          11,
          7,
          9,
          4,
          18,
          10,
          8,
          4,
          21,
          14,
          4,
          8,
          15,
          4,
          6,
          6,
          10,
          4,
          5,
          9
         ]
        }
       ],
       "layout": {
        "template": {
         "data": {
          "bar": [
           {
            "error_x": {
             "color": "#2a3f5f"
            },
            "error_y": {
             "color": "#2a3f5f"
            },
            "marker": {
             "line": {
              "color": "#E5ECF6",
              "width": 0.5
             },
             "pattern": {
              "fillmode": "overlay",
              "size": 10,
              "solidity": 0.2
             }
            },
            "type": "bar"
           }
          ],
          "barpolar": [
           {
            "marker": {
             "line": {
              "color": "#E5ECF6",
              "width": 0.5
             },
             "pattern": {
              "fillmode": "overlay",
              "size": 10,
              "solidity": 0.2
             }
            },
            "type": "barpolar"
           }
          ],
          "carpet": [
           {
            "aaxis": {
             "endlinecolor": "#2a3f5f",
             "gridcolor": "white",
             "linecolor": "white",
             "minorgridcolor": "white",
             "startlinecolor": "#2a3f5f"
            },
            "baxis": {
             "endlinecolor": "#2a3f5f",
             "gridcolor": "white",
             "linecolor": "white",
             "minorgridcolor": "white",
             "startlinecolor": "#2a3f5f"
            },
            "type": "carpet"
           }
          ],
          "choropleth": [
           {
            "colorbar": {
             "outlinewidth": 0,
             "ticks": ""
            },
            "type": "choropleth"
           }
          ],
          "contour": [
           {
            "colorbar": {
             "outlinewidth": 0,
             "ticks": ""
            },
            "colorscale": [
             [
              0,
              "#0d0887"
             ],
             [
              0.1111111111111111,
              "#46039f"
             ],
             [
              0.2222222222222222,
              "#7201a8"
             ],
             [
              0.3333333333333333,
              "#9c179e"
             ],
             [
              0.4444444444444444,
              "#bd3786"
             ],
             [
              0.5555555555555556,
              "#d8576b"
             ],
             [
              0.6666666666666666,
              "#ed7953"
             ],
             [
              0.7777777777777778,
              "#fb9f3a"
             ],
             [
              0.8888888888888888,
              "#fdca26"
             ],
             [
              1,
              "#f0f921"
             ]
            ],
            "type": "contour"
           }
          ],
          "contourcarpet": [
           {
            "colorbar": {
             "outlinewidth": 0,
             "ticks": ""
            },
            "type": "contourcarpet"
           }
          ],
          "heatmap": [
           {
            "colorbar": {
             "outlinewidth": 0,
             "ticks": ""
            },
            "colorscale": [
             [
              0,
              "#0d0887"
             ],
             [
              0.1111111111111111,
              "#46039f"
             ],
             [
              0.2222222222222222,
              "#7201a8"
             ],
             [
              0.3333333333333333,
              "#9c179e"
             ],
             [
              0.4444444444444444,
              "#bd3786"
             ],
             [
              0.5555555555555556,
              "#d8576b"
             ],
             [
              0.6666666666666666,
              "#ed7953"
             ],
             [
              0.7777777777777778,
              "#fb9f3a"
             ],
             [
              0.8888888888888888,
              "#fdca26"
             ],
             [
              1,
              "#f0f921"
             ]
            ],
            "type": "heatmap"
           }
          ],
          "heatmapgl": [
           {
            "colorbar": {
             "outlinewidth": 0,
             "ticks": ""
            },
            "colorscale": [
             [
              0,
              "#0d0887"
             ],
             [
              0.1111111111111111,
              "#46039f"
             ],
             [
              0.2222222222222222,
              "#7201a8"
             ],
             [
              0.3333333333333333,
              "#9c179e"
             ],
             [
              0.4444444444444444,
              "#bd3786"
             ],
             [
              0.5555555555555556,
              "#d8576b"
             ],
             [
              0.6666666666666666,
              "#ed7953"
             ],
             [
              0.7777777777777778,
              "#fb9f3a"
             ],
             [
              0.8888888888888888,
              "#fdca26"
             ],
             [
              1,
              "#f0f921"
             ]
            ],
            "type": "heatmapgl"
           }
          ],
          "histogram": [
           {
            "marker": {
             "pattern": {
              "fillmode": "overlay",
              "size": 10,
              "solidity": 0.2
             }
            },
            "type": "histogram"
           }
          ],
          "histogram2d": [
           {
            "colorbar": {
             "outlinewidth": 0,
             "ticks": ""
            },
            "colorscale": [
             [
              0,
              "#0d0887"
             ],
             [
              0.1111111111111111,
              "#46039f"
             ],
             [
              0.2222222222222222,
              "#7201a8"
             ],
             [
              0.3333333333333333,
              "#9c179e"
             ],
             [
              0.4444444444444444,
              "#bd3786"
             ],
             [
              0.5555555555555556,
              "#d8576b"
             ],
             [
              0.6666666666666666,
              "#ed7953"
             ],
             [
              0.7777777777777778,
              "#fb9f3a"
             ],
             [
              0.8888888888888888,
              "#fdca26"
             ],
             [
              1,
              "#f0f921"
             ]
            ],
            "type": "histogram2d"
           }
          ],
          "histogram2dcontour": [
           {
            "colorbar": {
             "outlinewidth": 0,
             "ticks": ""
            },
            "colorscale": [
             [
              0,
              "#0d0887"
             ],
             [
              0.1111111111111111,
              "#46039f"
             ],
             [
              0.2222222222222222,
              "#7201a8"
             ],
             [
              0.3333333333333333,
              "#9c179e"
             ],
             [
              0.4444444444444444,
              "#bd3786"
             ],
             [
              0.5555555555555556,
              "#d8576b"
             ],
             [
              0.6666666666666666,
              "#ed7953"
             ],
             [
              0.7777777777777778,
              "#fb9f3a"
             ],
             [
              0.8888888888888888,
              "#fdca26"
             ],
             [
              1,
              "#f0f921"
             ]
            ],
            "type": "histogram2dcontour"
           }
          ],
          "mesh3d": [
           {
            "colorbar": {
             "outlinewidth": 0,
             "ticks": ""
            },
            "type": "mesh3d"
           }
          ],
          "parcoords": [
           {
            "line": {
             "colorbar": {
              "outlinewidth": 0,
              "ticks": ""
             }
            },
            "type": "parcoords"
           }
          ],
          "pie": [
           {
            "automargin": true,
            "type": "pie"
           }
          ],
          "scatter": [
           {
            "fillpattern": {
             "fillmode": "overlay",
             "size": 10,
             "solidity": 0.2
            },
            "type": "scatter"
           }
          ],
          "scatter3d": [
           {
            "line": {
             "colorbar": {
              "outlinewidth": 0,
              "ticks": ""
             }
            },
            "marker": {
             "colorbar": {
              "outlinewidth": 0,
              "ticks": ""
             }
            },
            "type": "scatter3d"
           }
          ],
          "scattercarpet": [
           {
            "marker": {
             "colorbar": {
              "outlinewidth": 0,
              "ticks": ""
             }
            },
            "type": "scattercarpet"
           }
          ],
          "scattergeo": [
           {
            "marker": {
             "colorbar": {
              "outlinewidth": 0,
              "ticks": ""
             }
            },
            "type": "scattergeo"
           }
          ],
          "scattergl": [
           {
            "marker": {
             "colorbar": {
              "outlinewidth": 0,
              "ticks": ""
             }
            },
            "type": "scattergl"
           }
          ],
          "scattermapbox": [
           {
            "marker": {
             "colorbar": {
              "outlinewidth": 0,
              "ticks": ""
             }
            },
            "type": "scattermapbox"
           }
          ],
          "scatterpolar": [
           {
            "marker": {
             "colorbar": {
              "outlinewidth": 0,
              "ticks": ""
             }
            },
            "type": "scatterpolar"
           }
          ],
          "scatterpolargl": [
           {
            "marker": {
             "colorbar": {
              "outlinewidth": 0,
              "ticks": ""
             }
            },
            "type": "scatterpolargl"
           }
          ],
          "scatterternary": [
           {
            "marker": {
             "colorbar": {
              "outlinewidth": 0,
              "ticks": ""
             }
            },
            "type": "scatterternary"
           }
          ],
          "surface": [
           {
            "colorbar": {
             "outlinewidth": 0,
             "ticks": ""
            },
            "colorscale": [
             [
              0,
              "#0d0887"
             ],
             [
              0.1111111111111111,
              "#46039f"
             ],
             [
              0.2222222222222222,
              "#7201a8"
             ],
             [
              0.3333333333333333,
              "#9c179e"
             ],
             [
              0.4444444444444444,
              "#bd3786"
             ],
             [
              0.5555555555555556,
              "#d8576b"
             ],
             [
              0.6666666666666666,
              "#ed7953"
             ],
             [
              0.7777777777777778,
              "#fb9f3a"
             ],
             [
              0.8888888888888888,
              "#fdca26"
             ],
             [
              1,
              "#f0f921"
             ]
            ],
            "type": "surface"
           }
          ],
          "table": [
           {
            "cells": {
             "fill": {
              "color": "#EBF0F8"
             },
             "line": {
              "color": "white"
             }
            },
            "header": {
             "fill": {
              "color": "#C8D4E3"
             },
             "line": {
              "color": "white"
             }
            },
            "type": "table"
           }
          ]
         },
         "layout": {
          "annotationdefaults": {
           "arrowcolor": "#2a3f5f",
           "arrowhead": 0,
           "arrowwidth": 1
          },
          "autotypenumbers": "strict",
          "coloraxis": {
           "colorbar": {
            "outlinewidth": 0,
            "ticks": ""
           }
          },
          "colorscale": {
           "diverging": [
            [
             0,
             "#8e0152"
            ],
            [
             0.1,
             "#c51b7d"
            ],
            [
             0.2,
             "#de77ae"
            ],
            [
             0.3,
             "#f1b6da"
            ],
            [
             0.4,
             "#fde0ef"
            ],
            [
             0.5,
             "#f7f7f7"
            ],
            [
             0.6,
             "#e6f5d0"
            ],
            [
             0.7,
             "#b8e186"
            ],
            [
             0.8,
             "#7fbc41"
            ],
            [
             0.9,
             "#4d9221"
            ],
            [
             1,
             "#276419"
            ]
           ],
           "sequential": [
            [
             0,
             "#0d0887"
            ],
            [
             0.1111111111111111,
             "#46039f"
            ],
            [
             0.2222222222222222,
             "#7201a8"
            ],
            [
             0.3333333333333333,
             "#9c179e"
            ],
            [
             0.4444444444444444,
             "#bd3786"
            ],
            [
             0.5555555555555556,
             "#d8576b"
            ],
            [
             0.6666666666666666,
             "#ed7953"
            ],
            [
             0.7777777777777778,
             "#fb9f3a"
            ],
            [
             0.8888888888888888,
             "#fdca26"
            ],
            [
             1,
             "#f0f921"
            ]
           ],
           "sequentialminus": [
            [
             0,
             "#0d0887"
            ],
            [
             0.1111111111111111,
             "#46039f"
            ],
            [
             0.2222222222222222,
             "#7201a8"
            ],
            [
             0.3333333333333333,
             "#9c179e"
            ],
            [
             0.4444444444444444,
             "#bd3786"
            ],
            [
             0.5555555555555556,
             "#d8576b"
            ],
            [
             0.6666666666666666,
             "#ed7953"
            ],
            [
             0.7777777777777778,
             "#fb9f3a"
            ],
            [
             0.8888888888888888,
             "#fdca26"
            ],
            [
             1,
             "#f0f921"
            ]
           ]
          },
          "colorway": [
           "#636efa",
           "#EF553B",
           "#00cc96",
           "#ab63fa",
           "#FFA15A",
           "#19d3f3",
           "#FF6692",
           "#B6E880",
           "#FF97FF",
           "#FECB52"
          ],
          "font": {
           "color": "#2a3f5f"
          },
          "geo": {
           "bgcolor": "white",
           "lakecolor": "white",
           "landcolor": "#E5ECF6",
           "showlakes": true,
           "showland": true,
           "subunitcolor": "white"
          },
          "hoverlabel": {
           "align": "left"
          },
          "hovermode": "closest",
          "mapbox": {
           "style": "light"
          },
          "paper_bgcolor": "white",
          "plot_bgcolor": "#E5ECF6",
          "polar": {
           "angularaxis": {
            "gridcolor": "white",
            "linecolor": "white",
            "ticks": ""
           },
           "bgcolor": "#E5ECF6",
           "radialaxis": {
            "gridcolor": "white",
            "linecolor": "white",
            "ticks": ""
           }
          },
          "scene": {
           "xaxis": {
            "backgroundcolor": "#E5ECF6",
            "gridcolor": "white",
            "gridwidth": 2,
            "linecolor": "white",
            "showbackground": true,
            "ticks": "",
            "zerolinecolor": "white"
           },
           "yaxis": {
            "backgroundcolor": "#E5ECF6",
            "gridcolor": "white",
            "gridwidth": 2,
            "linecolor": "white",
            "showbackground": true,
            "ticks": "",
            "zerolinecolor": "white"
           },
           "zaxis": {
            "backgroundcolor": "#E5ECF6",
            "gridcolor": "white",
            "gridwidth": 2,
            "linecolor": "white",
            "showbackground": true,
            "ticks": "",
            "zerolinecolor": "white"
           }
          },
          "shapedefaults": {
           "line": {
            "color": "#2a3f5f"
           }
          },
          "ternary": {
           "aaxis": {
            "gridcolor": "white",
            "linecolor": "white",
            "ticks": ""
           },
           "baxis": {
            "gridcolor": "white",
            "linecolor": "white",
            "ticks": ""
           },
           "bgcolor": "#E5ECF6",
           "caxis": {
            "gridcolor": "white",
            "linecolor": "white",
            "ticks": ""
           }
          },
          "title": {
           "x": 0.05
          },
          "xaxis": {
           "automargin": true,
           "gridcolor": "white",
           "linecolor": "white",
           "ticks": "",
           "title": {
            "standoff": 15
           },
           "zerolinecolor": "white",
           "zerolinewidth": 2
          },
          "yaxis": {
           "automargin": true,
           "gridcolor": "white",
           "linecolor": "white",
           "ticks": "",
           "title": {
            "standoff": 15
           },
           "zerolinecolor": "white",
           "zerolinewidth": 2
          }
         }
        },
        "title": {
         "text": "Time Series Line Plot"
        },
        "xaxis": {
         "title": {
          "text": "Date"
         }
        },
        "yaxis": {
         "title": {
          "text": "Value"
         }
        }
       }
      }
     },
     "metadata": {},
     "output_type": "display_data"
    }
   ],
   "source": [
    "Wik_bus_df = df_combined[df_combined['name'] == ' Wik, Kanalfähre - Busstation'].sort_values(\"Days in full_date\", ascending=False)\n",
    "fig = go.Figure()\n",
    "fig.add_trace(go.Scatter(x=Wik_bus_df['Days in full_date'], y=Wik_bus_df['# of unique dropoff_hub_id'], mode='lines', name='Dropoff'))\n",
    "fig.add_trace(go.Scatter(x=Wik_bus_df['Days in full_date'], y=Wik_bus_df['# of unique pickup_hub_id'], mode='lines', name='Pickup'))\n",
    "fig.update_layout(title='Time Series Line Plot', xaxis_title='Date', yaxis_title='Value')\n",
    "fig.show()"
   ]
  },
  {
   "cell_type": "markdown",
   "metadata": {},
   "source": [
    "# API\n",
    "## API ACCESS"
   ]
  },
  {
   "cell_type": "code",
   "execution_count": 86,
   "metadata": {},
   "outputs": [],
   "source": [
    "# .env\n",
    "config = dotenv.dotenv_values(\"paul_sprotte.env\")\n",
    "\n",
    "PASSWORD = config[\"PASSWORD\"]\n",
    "\n",
    "CLIENT_SECRET = config[\"CLIENT_SECRET\"]"
   ]
  },
  {
   "cell_type": "code",
   "execution_count": 87,
   "metadata": {},
   "outputs": [
    {
     "name": "stdout",
     "output_type": "stream",
     "text": [
      "Bearer Token successful requested\n",
      "Access Token erfolgreich in die .env-Datei geschrieben.\n"
     ]
    }
   ],
   "source": [
    "token_url = 'https://accounts.kielregion.addix.io/realms/infoportal/protocol/openid-connect/token'\n",
    "headers = {\n",
    "    'Content-Type': 'application/x-www-form-urlencoded'\n",
    "}\n",
    "\n",
    "data = {\n",
    "    'grant_type': 'password',\n",
    "    'username': 'business.brodmapa@outlook.com', \n",
    "    'password': PASSWORD,\n",
    "    'client_id': 'quantumleap',\n",
    "    'client_secret': CLIENT_SECRET\n",
    "}\n",
    "\n",
    "response = requests.post(token_url, headers=headers, data=data)\n",
    "\n",
    "if response.status_code == 200:\n",
    "    token_data = response.json()\n",
    "    access_token = token_data['access_token']\n",
    "    print(f\"Bearer Token successful requested\")\n",
    "    if access_token:\n",
    "        dotenv_path = '.env'\n",
    "        \n",
    "        dotenv.set_key(dotenv_path, 'ACCESS_TOKEN', access_token)\n",
    "        print(f\"Access Token erfolgreich in die .env-Datei geschrieben.\")\n",
    "else:\n",
    "    print(f\"Error: {response.status_code}, {response.text}\")"
   ]
  },
  {
   "cell_type": "code",
   "execution_count": 88,
   "metadata": {},
   "outputs": [],
   "source": [
    "ACCESS_TOKEN = config[\"ACCESS_TOKEN\"]"
   ]
  },
  {
   "cell_type": "code",
   "execution_count": 89,
   "metadata": {},
   "outputs": [
    {
     "name": "stdout",
     "output_type": "stream",
     "text": [
      "Error: 401, {\"error\":\"invalid_grant\",\"error_description\":\"Invalid bearer token\"}\n"
     ]
    }
   ],
   "source": [
    "url = \"https://apis.kielregion.addix.io/ql/v2/entities/urn:ngsi-ld:BikeHireDockingStation:KielRegion:26889\"\n",
    "params = {\n",
    "    'type': 'BikeHireDockingStation',\n",
    "    'fromDate': '2024-09-13T00:00:00',\n",
    "    'toDate': '2024-09-13T23:59:59',\n",
    "    'attrs': 'name,totalSlotNumber,availableBikeNumber,freeSlotNumber'\n",
    "}\n",
    "\n",
    "headers = {\n",
    "    'NGSILD-Tenant': 'infoportal',\n",
    "    'Authorization': f'Bearer {ACCESS_TOKEN}'\n",
    "}\n",
    "\n",
    "response = requests.get(url, headers=headers, params=params)\n",
    "\n",
    "if response.status_code == 200:\n",
    "    response_data = response.json()\n",
    "    print('got a response')\n",
    "else:\n",
    "    print(f\"Error: {response.status_code}, {response.text}\")"
   ]
  },
  {
   "cell_type": "code",
   "execution_count": 90,
   "metadata": {},
   "outputs": [
    {
     "ename": "NameError",
     "evalue": "name 'response_data' is not defined",
     "output_type": "error",
     "traceback": [
      "\u001b[0;31m---------------------------------------------------------------------------\u001b[0m",
      "\u001b[0;31mNameError\u001b[0m                                 Traceback (most recent call last)",
      "Cell \u001b[0;32mIn[90], line 1\u001b[0m\n\u001b[0;32m----> 1\u001b[0m \u001b[38;5;28mprint\u001b[39m(\u001b[43mresponse_data\u001b[49m)\n",
      "\u001b[0;31mNameError\u001b[0m: name 'response_data' is not defined"
     ]
    }
   ],
   "source": [
    "print(response_data)"
   ]
  },
  {
   "cell_type": "markdown",
   "metadata": {},
   "source": [
    "## Weather"
   ]
  },
  {
   "cell_type": "code",
   "execution_count": 92,
   "metadata": {},
   "outputs": [],
   "source": [
    "from pprint import pprint\n",
    "\n",
    "import matplotlib as mpl\n",
    "import matplotlib.pyplot as plt\n",
    "import numpy as np\n",
    "import polars as pl\n",
    "from matplotlib import colormaps\n",
    "\n",
    "from wetterdienst import Settings\n",
    "from wetterdienst.provider.dwd.observation import (\n",
    "    DwdObservationDataset,\n",
    "    DwdObservationParameter,\n",
    "    DwdObservationPeriod,\n",
    "    DwdObservationRequest,\n",
    "    DwdObservationResolution,\n",
    ")\n",
    "%matplotlib inline"
   ]
  },
  {
   "cell_type": "code",
   "execution_count": 95,
   "metadata": {},
   "outputs": [
    {
     "name": "stdout",
     "output_type": "stream",
     "text": [
      "{'annual': {'cloud_cover_total': {'origin': '1/8', 'si': 'pct'},\n",
      "            'count_weather_type_dew': {'origin': '-', 'si': '-'},\n",
      "            'count_weather_type_fog': {'origin': '-', 'si': '-'},\n",
      "            'count_weather_type_glaze': {'origin': '-', 'si': '-'},\n",
      "            'count_weather_type_hail': {'origin': '-', 'si': '-'},\n",
      "            'count_weather_type_sleet': {'origin': '-', 'si': '-'},\n",
      "            'count_weather_type_storm_stormier_wind': {'origin': '-',\n",
      "                                                       'si': '-'},\n",
      "            'count_weather_type_storm_strong_wind': {'origin': '-', 'si': '-'},\n",
      "            'count_weather_type_thunder': {'origin': '-', 'si': '-'},\n",
      "            'precipitation_height': {'origin': 'mm', 'si': 'kg / m ** 2'},\n",
      "            'precipitation_height_max': {'origin': 'mm', 'si': 'kg / m ** 2'},\n",
      "            'snow_depth': {'origin': 'cm', 'si': 'm'},\n",
      "            'snow_depth_new': {'origin': 'cm', 'si': 'm'},\n",
      "            'sunshine_duration': {'origin': 'h', 'si': 's'},\n",
      "            'temperature_air_max_2m': {'origin': '°C', 'si': 'K'},\n",
      "            'temperature_air_max_2m_mean': {'origin': '°C', 'si': 'K'},\n",
      "            'temperature_air_mean_2m': {'origin': '°C', 'si': 'K'},\n",
      "            'temperature_air_min_2m': {'origin': '°C', 'si': 'K'},\n",
      "            'temperature_air_min_2m_mean': {'origin': '°C', 'si': 'K'},\n",
      "            'wind_force_beaufort': {'origin': 'bft', 'si': 'bft'},\n",
      "            'wind_gust_max': {'origin': 'm / s', 'si': 'm / s'}},\n",
      " 'daily': {'cloud_cover_total': {'origin': '1/8', 'si': 'pct'},\n",
      "           'count_weather_type_dew': {'origin': '-', 'si': '-'},\n",
      "           'count_weather_type_fog': {'origin': '-', 'si': '-'},\n",
      "           'count_weather_type_glaze': {'origin': '-', 'si': '-'},\n",
      "           'count_weather_type_hail': {'origin': '-', 'si': '-'},\n",
      "           'count_weather_type_ripe': {'origin': '-', 'si': '-'},\n",
      "           'count_weather_type_sleet': {'origin': '-', 'si': '-'},\n",
      "           'count_weather_type_storm_stormier_wind': {'origin': '-', 'si': '-'},\n",
      "           'count_weather_type_storm_strong_wind': {'origin': '-', 'si': '-'},\n",
      "           'count_weather_type_thunder': {'origin': '-', 'si': '-'},\n",
      "           'humidity': {'origin': 'pct', 'si': 'pct'},\n",
      "           'precipitation_form': {'origin': '-', 'si': '-'},\n",
      "           'precipitation_height': {'origin': 'mm', 'si': 'kg / m ** 2'},\n",
      "           'pressure_air_site': {'origin': 'hPa', 'si': 'Pa'},\n",
      "           'pressure_vapor': {'origin': 'hPa', 'si': 'Pa'},\n",
      "           'radiation_global': {'origin': 'J / cm ** 2', 'si': 'J / m ** 2'},\n",
      "           'radiation_sky_long_wave': {'origin': 'J / cm ** 2',\n",
      "                                       'si': 'J / m ** 2'},\n",
      "           'radiation_sky_short_wave_diffuse': {'origin': 'J / cm ** 2',\n",
      "                                                'si': 'J / m ** 2'},\n",
      "           'snow_depth': {'origin': 'cm', 'si': 'm'},\n",
      "           'snow_depth_excelled': {'origin': 'cm', 'si': 'm'},\n",
      "           'snow_depth_new': {'origin': 'cm', 'si': 'm'},\n",
      "           'sunshine_duration': {'origin': 'h', 'si': 's'},\n",
      "           'temperature_air_max_2m': {'origin': '°C', 'si': 'K'},\n",
      "           'temperature_air_mean_2m': {'origin': '°C', 'si': 'K'},\n",
      "           'temperature_air_min_0_05m': {'origin': '°C', 'si': 'K'},\n",
      "           'temperature_air_min_2m': {'origin': '°C', 'si': 'K'},\n",
      "           'temperature_soil_mean_0_02m': {'origin': '°C', 'si': 'K'},\n",
      "           'temperature_soil_mean_0_05m': {'origin': '°C', 'si': 'K'},\n",
      "           'temperature_soil_mean_0_1m': {'origin': '°C', 'si': 'K'},\n",
      "           'temperature_soil_mean_0_2m': {'origin': '°C', 'si': 'K'},\n",
      "           'temperature_soil_mean_0_5m': {'origin': '°C', 'si': 'K'},\n",
      "           'temperature_soil_mean_1m': {'origin': '°C', 'si': 'K'},\n",
      "           'water_equivalent_snow_depth': {'origin': 'mm', 'si': 'kg / m ** 2'},\n",
      "           'water_equivalent_snow_depth_excelled': {'origin': 'mm',\n",
      "                                                    'si': 'kg / m ** 2'},\n",
      "           'wind_gust_max': {'origin': 'm / s', 'si': 'm / s'},\n",
      "           'wind_speed': {'origin': 'm / s', 'si': 'm / s'}},\n",
      " 'hourly': {'cloud_cover_layer1': {'origin': '1/8', 'si': 'pct'},\n",
      "            'cloud_cover_layer2': {'origin': '1/8', 'si': 'pct'},\n",
      "            'cloud_cover_layer3': {'origin': '1/8', 'si': 'pct'},\n",
      "            'cloud_cover_layer4': {'origin': '1/8', 'si': 'pct'},\n",
      "            'cloud_cover_total': {'origin': '1/8', 'si': 'pct'},\n",
      "            'cloud_cover_total_index': {'origin': '-', 'si': '-'},\n",
      "            'cloud_height_layer1': {'origin': 'm', 'si': 'm'},\n",
      "            'cloud_height_layer2': {'origin': 'm', 'si': 'm'},\n",
      "            'cloud_height_layer3': {'origin': 'm', 'si': 'm'},\n",
      "            'cloud_height_layer4': {'origin': 'm', 'si': 'm'},\n",
      "            'cloud_type_layer1': {'origin': '-', 'si': '-'},\n",
      "            'cloud_type_layer2': {'origin': '-', 'si': '-'},\n",
      "            'cloud_type_layer3': {'origin': '-', 'si': '-'},\n",
      "            'cloud_type_layer4': {'origin': '-', 'si': '-'},\n",
      "            'humidity': {'origin': 'pct', 'si': 'pct'},\n",
      "            'humidity_absolute': {'origin': '-', 'si': '-'},\n",
      "            'precipitation_form': {'origin': '-', 'si': '-'},\n",
      "            'precipitation_height': {'origin': 'mm', 'si': 'kg / m ** 2'},\n",
      "            'precipitation_index': {'origin': '-', 'si': '-'},\n",
      "            'pressure_air_sea_level': {'origin': 'hPa', 'si': 'Pa'},\n",
      "            'pressure_air_site': {'origin': 'hPa', 'si': 'Pa'},\n",
      "            'pressure_vapor': {'origin': 'hPa', 'si': 'Pa'},\n",
      "            'radiation_global': {'origin': 'J / cm ** 2', 'si': 'J / m ** 2'},\n",
      "            'radiation_sky_long_wave': {'origin': 'J / cm ** 2',\n",
      "                                        'si': 'J / m ** 2'},\n",
      "            'radiation_sky_short_wave_diffuse': {'origin': 'J / cm ** 2',\n",
      "                                                 'si': 'J / m ** 2'},\n",
      "            'sun_zenith_angle': {'origin': 'deg', 'si': 'deg'},\n",
      "            'sunshine_duration': {'origin': 'min', 'si': 's'},\n",
      "            'temperature_air_mean_2m': {'origin': '°C', 'si': 'K'},\n",
      "            'temperature_dew_point_mean_2m': {'origin': '°C', 'si': 'K'},\n",
      "            'temperature_soil_mean_0_02m': {'origin': '°C', 'si': 'K'},\n",
      "            'temperature_soil_mean_0_05m': {'origin': '°C', 'si': 'K'},\n",
      "            'temperature_soil_mean_0_1m': {'origin': '°C', 'si': 'K'},\n",
      "            'temperature_soil_mean_0_2m': {'origin': '°C', 'si': 'K'},\n",
      "            'temperature_soil_mean_0_5m': {'origin': '°C', 'si': 'K'},\n",
      "            'temperature_soil_mean_1m': {'origin': '°C', 'si': 'K'},\n",
      "            'temperature_wet_mean_2m': {'origin': '°C', 'si': 'K'},\n",
      "            'visibility_range': {'origin': 'm', 'si': 'm'},\n",
      "            'visibility_range_index': {'origin': '-', 'si': '-'},\n",
      "            'weather': {'origin': '-', 'si': '-'},\n",
      "            'wind_direction': {'origin': 'deg', 'si': 'deg'},\n",
      "            'wind_gust_max': {'origin': 'm / s', 'si': 'm / s'},\n",
      "            'wind_speed': {'origin': 'm / s', 'si': 'm / s'}},\n",
      " 'minute_1': {'precipitation_height': {'origin': 'mm', 'si': 'kg / m ** 2'},\n",
      "              'precipitation_height_droplet': {'origin': 'mm',\n",
      "                                               'si': 'kg / m ** 2'},\n",
      "              'precipitation_height_rocker': {'origin': 'mm',\n",
      "                                              'si': 'kg / m ** 2'},\n",
      "              'precipitation_index': {'origin': '-', 'si': '-'}},\n",
      " 'minute_10': {'humidity': {'origin': 'pct', 'si': 'pct'},\n",
      "               'precipitation_duration': {'origin': 'min', 'si': 's'},\n",
      "               'precipitation_height': {'origin': 'mm', 'si': 'kg / m ** 2'},\n",
      "               'precipitation_index': {'origin': '-', 'si': '-'},\n",
      "               'pressure_air_site': {'origin': 'hPa', 'si': 'Pa'},\n",
      "               'radiation_global': {'origin': 'J / cm ** 2',\n",
      "                                    'si': 'J / m ** 2'},\n",
      "               'radiation_sky_long_wave': {'origin': 'J / cm ** 2',\n",
      "                                           'si': 'J / m ** 2'},\n",
      "               'radiation_sky_short_wave_diffuse': {'origin': 'J / cm ** 2',\n",
      "                                                    'si': 'J / m ** 2'},\n",
      "               'sunshine_duration': {'origin': 'h', 'si': 's'},\n",
      "               'temperature_air_max_0_05m': {'origin': '°C', 'si': 'K'},\n",
      "               'temperature_air_max_2m': {'origin': '°C', 'si': 'K'},\n",
      "               'temperature_air_mean_0_05m': {'origin': '°C', 'si': 'K'},\n",
      "               'temperature_air_mean_2m': {'origin': '°C', 'si': 'K'},\n",
      "               'temperature_air_min_0_05m': {'origin': '°C', 'si': 'K'},\n",
      "               'temperature_air_min_2m': {'origin': '°C', 'si': 'K'},\n",
      "               'temperature_dew_point_mean_2m': {'origin': '°C', 'si': 'K'},\n",
      "               'wind_direction': {'origin': 'deg', 'si': 'deg'},\n",
      "               'wind_direction_gust_max': {'origin': 'deg', 'si': 'deg'},\n",
      "               'wind_gust_max': {'origin': 'm / s', 'si': 'm / s'},\n",
      "               'wind_speed': {'origin': 'm / s', 'si': 'm / s'},\n",
      "               'wind_speed_min': {'origin': 'm / s', 'si': 'm / s'},\n",
      "               'wind_speed_rolling_mean_max': {'origin': 'm / s',\n",
      "                                               'si': 'm / s'}},\n",
      " 'minute_5': {'precipitation_height': {'origin': 'mm', 'si': 'kg / m ** 2'},\n",
      "              'precipitation_height_droplet': {'origin': 'mm',\n",
      "                                               'si': 'kg / m ** 2'},\n",
      "              'precipitation_height_rocker': {'origin': 'mm',\n",
      "                                              'si': 'kg / m ** 2'},\n",
      "              'precipitation_index': {'origin': '-', 'si': '-'}},\n",
      " 'monthly': {'cloud_cover_total': {'origin': '1/8', 'si': 'pct'},\n",
      "             'count_weather_type_dew': {'origin': '-', 'si': '-'},\n",
      "             'count_weather_type_fog': {'origin': '-', 'si': '-'},\n",
      "             'count_weather_type_glaze': {'origin': '-', 'si': '-'},\n",
      "             'count_weather_type_hail': {'origin': '-', 'si': '-'},\n",
      "             'count_weather_type_sleet': {'origin': '-', 'si': '-'},\n",
      "             'count_weather_type_storm_stormier_wind': {'origin': '-',\n",
      "                                                        'si': '-'},\n",
      "             'count_weather_type_storm_strong_wind': {'origin': '-', 'si': '-'},\n",
      "             'count_weather_type_thunder': {'origin': '-', 'si': '-'},\n",
      "             'precipitation_height': {'origin': 'mm', 'si': 'kg / m ** 2'},\n",
      "             'precipitation_height_max': {'origin': 'mm', 'si': 'kg / m ** 2'},\n",
      "             'snow_depth': {'origin': 'cm', 'si': 'm'},\n",
      "             'snow_depth_new': {'origin': 'cm', 'si': 'm'},\n",
      "             'sunshine_duration': {'origin': 'h', 'si': 's'},\n",
      "             'temperature_air_max_2m': {'origin': '°C', 'si': 'K'},\n",
      "             'temperature_air_max_2m_mean': {'origin': '°C', 'si': 'K'},\n",
      "             'temperature_air_mean_2m': {'origin': '°C', 'si': 'K'},\n",
      "             'temperature_air_min_2m': {'origin': '°C', 'si': 'K'},\n",
      "             'temperature_air_min_2m_mean': {'origin': '°C', 'si': 'K'},\n",
      "             'wind_force_beaufort': {'origin': 'bft', 'si': 'bft'},\n",
      "             'wind_gust_max': {'origin': 'm / s', 'si': 'm / s'}},\n",
      " 'subdaily': {'cloud_cover_total': {'origin': '1/8', 'si': 'pct'},\n",
      "              'cloud_density': {'origin': '-', 'si': '-'},\n",
      "              'humidity': {'origin': 'pct', 'si': 'pct'},\n",
      "              'pressure_air_site': {'origin': 'hPa', 'si': 'Pa'},\n",
      "              'pressure_vapor': {'origin': 'hPa', 'si': 'Pa'},\n",
      "              'temperature_air_mean_0_05m': {'origin': '°C', 'si': 'K'},\n",
      "              'temperature_air_mean_2m': {'origin': '°C', 'si': 'K'},\n",
      "              'temperature_soil_mean_0_05m': {'origin': '°C', 'si': 'K'},\n",
      "              'visibility_range': {'origin': 'm', 'si': 'm'},\n",
      "              'wind_direction': {'origin': 'deg', 'si': 'deg'},\n",
      "              'wind_force_beaufort': {'origin': 'bft', 'si': 'bft'},\n",
      "              'wind_gust_max_last_3h': {'origin': 'm / s', 'si': 'm / s'},\n",
      "              'wind_gust_max_last_6h': {'origin': 'm / s', 'si': 'm / s'}}}\n"
     ]
    }
   ],
   "source": [
    "pprint(DwdObservationRequest.discover())"
   ]
  },
  {
   "cell_type": "code",
   "execution_count": 96,
   "metadata": {},
   "outputs": [
    {
     "data": {
      "text/html": [
       "<div><style>\n",
       ".dataframe > thead > tr,\n",
       ".dataframe > tbody > tr {\n",
       "  text-align: right;\n",
       "  white-space: pre-wrap;\n",
       "}\n",
       "</style>\n",
       "<small>shape: (5, 8)</small><table border=\"1\" class=\"dataframe\"><thead><tr><th>station_id</th><th>start_date</th><th>end_date</th><th>latitude</th><th>longitude</th><th>height</th><th>name</th><th>state</th></tr><tr><td>str</td><td>datetime[μs, UTC]</td><td>datetime[μs, UTC]</td><td>f64</td><td>f64</td><td>f64</td><td>str</td><td>str</td></tr></thead><tbody><tr><td>&quot;00001&quot;</td><td>1912-01-01 00:00:00 UTC</td><td>1986-06-30 00:00:00 UTC</td><td>47.8413</td><td>8.8493</td><td>478.0</td><td>&quot;Aach&quot;</td><td>&quot;Baden-Württemberg&quot;</td></tr><tr><td>&quot;00002&quot;</td><td>1951-01-01 00:00:00 UTC</td><td>2006-12-31 00:00:00 UTC</td><td>50.8066</td><td>6.0996</td><td>138.0</td><td>&quot;Aachen (Kläranlage)&quot;</td><td>&quot;Nordrhein-Westfalen&quot;</td></tr><tr><td>&quot;00003&quot;</td><td>1891-01-01 00:00:00 UTC</td><td>2011-03-31 00:00:00 UTC</td><td>50.7827</td><td>6.0941</td><td>202.0</td><td>&quot;Aachen&quot;</td><td>&quot;Nordrhein-Westfalen&quot;</td></tr><tr><td>&quot;00004&quot;</td><td>1951-01-01 00:00:00 UTC</td><td>1979-10-31 00:00:00 UTC</td><td>50.7683</td><td>6.1207</td><td>243.0</td><td>&quot;Aachen-Brand&quot;</td><td>&quot;Nordrhein-Westfalen&quot;</td></tr><tr><td>&quot;00006&quot;</td><td>1982-11-01 00:00:00 UTC</td><td>2024-09-29 00:00:00 UTC</td><td>48.8361</td><td>10.0598</td><td>455.0</td><td>&quot;Aalen-Unterrombach&quot;</td><td>&quot;Baden-Württemberg&quot;</td></tr></tbody></table></div>"
      ],
      "text/plain": [
       "shape: (5, 8)\n",
       "┌────────────┬─────────────┬─────────────┬──────────┬───────────┬────────┬────────────┬────────────┐\n",
       "│ station_id ┆ start_date  ┆ end_date    ┆ latitude ┆ longitude ┆ height ┆ name       ┆ state      │\n",
       "│ ---        ┆ ---         ┆ ---         ┆ ---      ┆ ---       ┆ ---    ┆ ---        ┆ ---        │\n",
       "│ str        ┆ datetime[μs ┆ datetime[μs ┆ f64      ┆ f64       ┆ f64    ┆ str        ┆ str        │\n",
       "│            ┆ , UTC]      ┆ , UTC]      ┆          ┆           ┆        ┆            ┆            │\n",
       "╞════════════╪═════════════╪═════════════╪══════════╪═══════════╪════════╪════════════╪════════════╡\n",
       "│ 00001      ┆ 1912-01-01  ┆ 1986-06-30  ┆ 47.8413  ┆ 8.8493    ┆ 478.0  ┆ Aach       ┆ Baden-Würt │\n",
       "│            ┆ 00:00:00    ┆ 00:00:00    ┆          ┆           ┆        ┆            ┆ temberg    │\n",
       "│            ┆ UTC         ┆ UTC         ┆          ┆           ┆        ┆            ┆            │\n",
       "│ 00002      ┆ 1951-01-01  ┆ 2006-12-31  ┆ 50.8066  ┆ 6.0996    ┆ 138.0  ┆ Aachen (Kl ┆ Nordrhein- │\n",
       "│            ┆ 00:00:00    ┆ 00:00:00    ┆          ┆           ┆        ┆ äranlage)  ┆ Westfalen  │\n",
       "│            ┆ UTC         ┆ UTC         ┆          ┆           ┆        ┆            ┆            │\n",
       "│ 00003      ┆ 1891-01-01  ┆ 2011-03-31  ┆ 50.7827  ┆ 6.0941    ┆ 202.0  ┆ Aachen     ┆ Nordrhein- │\n",
       "│            ┆ 00:00:00    ┆ 00:00:00    ┆          ┆           ┆        ┆            ┆ Westfalen  │\n",
       "│            ┆ UTC         ┆ UTC         ┆          ┆           ┆        ┆            ┆            │\n",
       "│ 00004      ┆ 1951-01-01  ┆ 1979-10-31  ┆ 50.7683  ┆ 6.1207    ┆ 243.0  ┆ Aachen-Bra ┆ Nordrhein- │\n",
       "│            ┆ 00:00:00    ┆ 00:00:00    ┆          ┆           ┆        ┆ nd         ┆ Westfalen  │\n",
       "│            ┆ UTC         ┆ UTC         ┆          ┆           ┆        ┆            ┆            │\n",
       "│ 00006      ┆ 1982-11-01  ┆ 2024-09-29  ┆ 48.8361  ┆ 10.0598   ┆ 455.0  ┆ Aalen-Unte ┆ Baden-Würt │\n",
       "│            ┆ 00:00:00    ┆ 00:00:00    ┆          ┆           ┆        ┆ rrombach   ┆ temberg    │\n",
       "│            ┆ UTC         ┆ UTC         ┆          ┆           ┆        ┆            ┆            │\n",
       "└────────────┴─────────────┴─────────────┴──────────┴───────────┴────────┴────────────┴────────────┘"
      ]
     },
     "execution_count": 96,
     "metadata": {},
     "output_type": "execute_result"
    }
   ],
   "source": [
    "request = DwdObservationRequest(\n",
    "    parameter=DwdObservationDataset.PRECIPITATION_MORE,\n",
    "    resolution=DwdObservationResolution.DAILY,\n",
    "    period=DwdObservationPeriod.HISTORICAL,\n",
    ").all()\n",
    "request.df.head()"
   ]
  },
  {
   "cell_type": "code",
   "execution_count": 97,
   "metadata": {},
   "outputs": [
    {
     "data": {
      "text/plain": [
       "(5740, 8)"
      ]
     },
     "execution_count": 97,
     "metadata": {},
     "output_type": "execute_result"
    }
   ],
   "source": [
    "request.df.shape"
   ]
  },
  {
   "cell_type": "code",
   "execution_count": 99,
   "metadata": {},
   "outputs": [
    {
     "name": "stderr",
     "output_type": "stream",
     "text": [
      "/Users/paulbrodmann/Documents/Studium/Master/Kiel/WiSe2024-25/Application_Project/Project/.venv/lib/python3.12/site-packages/wetterdienst/provider/dwd/observation/parser.py:151: PerformanceWarning:\n",
      "\n",
      "Determining the column names of a LazyFrame requires resolving its schema, which is a potentially expensive operation. Use `LazyFrame.collect_schema().names()` to get the column names without this warning.\n",
      "\n"
     ]
    },
    {
     "data": {
      "text/html": [
       "<div><style>\n",
       ".dataframe > thead > tr,\n",
       ".dataframe > tbody > tr {\n",
       "  text-align: right;\n",
       "  white-space: pre-wrap;\n",
       "}\n",
       "</style>\n",
       "<small>shape: (5, 6)</small><table border=\"1\" class=\"dataframe\"><thead><tr><th>station_id</th><th>dataset</th><th>parameter</th><th>date</th><th>value</th><th>quality</th></tr><tr><td>str</td><td>str</td><td>str</td><td>datetime[μs, UTC]</td><td>f64</td><td>f64</td></tr></thead><tbody><tr><td>&quot;02564&quot;</td><td>&quot;precipitation_more&quot;</td><td>&quot;precipitation_form&quot;</td><td>1986-06-01 00:00:00 UTC</td><td>6.0</td><td>10.0</td></tr><tr><td>&quot;02564&quot;</td><td>&quot;precipitation_more&quot;</td><td>&quot;precipitation_form&quot;</td><td>1986-06-02 00:00:00 UTC</td><td>0.0</td><td>10.0</td></tr><tr><td>&quot;02564&quot;</td><td>&quot;precipitation_more&quot;</td><td>&quot;precipitation_form&quot;</td><td>1986-06-03 00:00:00 UTC</td><td>6.0</td><td>10.0</td></tr><tr><td>&quot;02564&quot;</td><td>&quot;precipitation_more&quot;</td><td>&quot;precipitation_form&quot;</td><td>1986-06-04 00:00:00 UTC</td><td>6.0</td><td>10.0</td></tr><tr><td>&quot;02564&quot;</td><td>&quot;precipitation_more&quot;</td><td>&quot;precipitation_form&quot;</td><td>1986-06-05 00:00:00 UTC</td><td>6.0</td><td>10.0</td></tr></tbody></table></div>"
      ],
      "text/plain": [
       "shape: (5, 6)\n",
       "┌────────────┬────────────────────┬────────────────────┬─────────────────────────┬───────┬─────────┐\n",
       "│ station_id ┆ dataset            ┆ parameter          ┆ date                    ┆ value ┆ quality │\n",
       "│ ---        ┆ ---                ┆ ---                ┆ ---                     ┆ ---   ┆ ---     │\n",
       "│ str        ┆ str                ┆ str                ┆ datetime[μs, UTC]       ┆ f64   ┆ f64     │\n",
       "╞════════════╪════════════════════╪════════════════════╪═════════════════════════╪═══════╪═════════╡\n",
       "│ 02564      ┆ precipitation_more ┆ precipitation_form ┆ 1986-06-01 00:00:00 UTC ┆ 6.0   ┆ 10.0    │\n",
       "│ 02564      ┆ precipitation_more ┆ precipitation_form ┆ 1986-06-02 00:00:00 UTC ┆ 0.0   ┆ 10.0    │\n",
       "│ 02564      ┆ precipitation_more ┆ precipitation_form ┆ 1986-06-03 00:00:00 UTC ┆ 6.0   ┆ 10.0    │\n",
       "│ 02564      ┆ precipitation_more ┆ precipitation_form ┆ 1986-06-04 00:00:00 UTC ┆ 6.0   ┆ 10.0    │\n",
       "│ 02564      ┆ precipitation_more ┆ precipitation_form ┆ 1986-06-05 00:00:00 UTC ┆ 6.0   ┆ 10.0    │\n",
       "└────────────┴────────────────────┴────────────────────┴─────────────────────────┴───────┴─────────┘"
      ]
     },
     "execution_count": 99,
     "metadata": {},
     "output_type": "execute_result"
    }
   ],
   "source": [
    "values = (\n",
    "    DwdObservationRequest(\n",
    "        parameter=DwdObservationDataset.PRECIPITATION_MORE,\n",
    "        resolution=DwdObservationResolution.DAILY,\n",
    "        period=DwdObservationPeriod.HISTORICAL,\n",
    "    )\n",
    "    #https://www.dwd.de/DE/leistungen/klimadatendeutschland/stationsuebersicht.html\n",
    "    .filter_by_station_id(station_id=[2564])\n",
    "    .values.all()\n",
    "    .df\n",
    ")\n",
    "values.drop_nulls().head()"
   ]
  },
  {
   "cell_type": "code",
   "execution_count": null,
   "metadata": {},
   "outputs": [],
   "source": []
  }
 ],
 "metadata": {
  "kernelspec": {
   "display_name": ".venv",
   "language": "python",
   "name": "python3"
  },
  "language_info": {
   "codemirror_mode": {
    "name": "ipython",
    "version": 3
   },
   "file_extension": ".py",
   "mimetype": "text/x-python",
   "name": "python",
   "nbconvert_exporter": "python",
   "pygments_lexer": "ipython3",
   "version": "3.12.3"
  }
 },
 "nbformat": 4,
 "nbformat_minor": 2
}
