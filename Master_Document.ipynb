{
 "cells": [
  {
   "cell_type": "markdown",
   "metadata": {},
   "source": [
    "<div class=\"alert alert-block alert-warning\">\n",
    "<b>Warning:</b> THIS IS THE MASTER DOCUMENT! DO NOT MAKE UNAGREED CHANGES!!</a>\n",
    "</div>"
   ]
  },
  {
   "cell_type": "markdown",
   "metadata": {},
   "source": [
    "***\n",
    "***\n",
    "# Table of Contents\n"
   ]
  },
  {
   "cell_type": "markdown",
   "metadata": {},
   "source": [
    "[Imports](#imports)\n",
    "\n",
    "[1. Project Overview](#1-project-overview)\n",
    "\n",
    "[2. Project Introduction](#2-project-introduction)\n",
    "\n",
    "[3. Data Description](#3-data-description)\n",
    "\n",
    "[4. Data Preprocessing](#4-data-preprocessing)\n",
    "\n",
    "[5. Analysis and Model Training](#5-analysis-and-model-training)\n",
    "\n",
    "[6. Results](#6-results)\n",
    "\n",
    "[7. Conclusion and Outlook](#7-conclusion-and-outlook)\n",
    "\n",
    "[Appendix](#appendix)"
   ]
  },
  {
   "cell_type": "markdown",
   "metadata": {},
   "source": [
    "***\n",
    "***\n",
    "# Imports"
   ]
  },
  {
   "cell_type": "code",
   "execution_count": 2,
   "metadata": {},
   "outputs": [],
   "source": [
    "import dotenv\n",
    "import matplotlib.pyplot as plt\n",
    "import numpy as np\n",
    "import pandas as pd\n",
    "import re\n",
    "import requests\n",
    "import seaborn as sns"
   ]
  },
  {
   "cell_type": "markdown",
   "metadata": {},
   "source": [
    "***\n",
    "# 1. Project Overview"
   ]
  },
  {
   "cell_type": "markdown",
   "metadata": {},
   "source": [
    "## **Sprottenflotte**\n",
    "\n",
    "**Authors:**\n",
    "- Claas Resow - claas.resow@student.fh-kiel.de\n",
    "- Felix Haack - felix.haack@student.fh-kiel.de\n",
    "- Justus Heilingbrunner - justus.heilingbrunner@student.fh-kiel.de\n",
    "- Paul Brodmann - paul.brodmann@student.fh-kiel.de\n",
    "\n",
    "**Summary:**\n",
    "\n",
    "A brief description of the project, its objectives and results."
   ]
  },
  {
   "cell_type": "markdown",
   "metadata": {},
   "source": [
    "***\n",
    "# 2. Project Introduction"
   ]
  },
  {
   "cell_type": "markdown",
   "metadata": {},
   "source": [
    "**Problem statement:**\n",
    "\n",
    "A detailed description of the problem that your project addresses.\n",
    "\n",
    "**Objectives and hypotheses:**\n",
    "\n",
    "Clearly stated objectives and possibly the hypotheses you want to test."
   ]
  },
  {
   "cell_type": "markdown",
   "metadata": {},
   "source": [
    "***\n",
    "# 3. Data Description"
   ]
  },
  {
   "cell_type": "markdown",
   "metadata": {},
   "source": [
    "- Data sources: Where does the data come from? (e.g. public databases, proprietary data)\n",
    "\n",
    "- Data structure: Describe the format of the data (e.g. CSV, JSON) and the key variables.\n",
    "\n",
    "- Data exploration: Brief preliminary analysis of the data, including statistics on key variables and possibly initial visualizations."
   ]
  },
  {
   "cell_type": "markdown",
   "metadata": {},
   "source": [
    "***\n",
    "# 4. Data Preprocessing"
   ]
  },
  {
   "cell_type": "markdown",
   "metadata": {},
   "source": [
    "- Data cleaning\n",
    "- Transformations\n",
    "- Feature engineering"
   ]
  },
  {
   "cell_type": "markdown",
   "metadata": {},
   "source": [
    "***\n",
    "# 5. Analysis and Model Training"
   ]
  },
  {
   "cell_type": "markdown",
   "metadata": {},
   "source": [
    "- Exploratory data analysis (EDA): More detailed analyses and visualizations to gain insights.\n",
    "\n",
    "- Model selection and justification: Which models were tried and why? (e.g. linear regression, decision trees, neural networks)\n",
    "\n",
    "- Training process: details on how the models were trained, including hyperparameter settings, cross-validation, etc.\n",
    "\n",
    "- Evaluation and comparison: Metrics for model evaluation and a comparison of the different models."
   ]
  },
  {
   "cell_type": "markdown",
   "metadata": {},
   "source": [
    "***\n",
    "# 6. Results"
   ]
  },
  {
   "cell_type": "markdown",
   "metadata": {},
   "source": [
    "- Final results: Presentation of the best models and their performance.\n",
    "\n",
    "- Visualizations: Diagrams and plots that clearly illustrate the results.\n",
    "\n",
    "- Interpretation of the results: Analysis and interpretation of key findings."
   ]
  },
  {
   "cell_type": "markdown",
   "metadata": {},
   "source": [
    "***\n",
    "# 7. Conclusion and Outlook"
   ]
  },
  {
   "cell_type": "markdown",
   "metadata": {},
   "source": [
    "- Summary of the results: Brief summary of the most important results and findings.\n",
    "\n",
    "- Limitations of the project: Mention of possible limitations and challenges.\n",
    "\n",
    "- Future work: Suggestions for future improvements or further research."
   ]
  },
  {
   "cell_type": "markdown",
   "metadata": {},
   "source": [
    "[to Table of Contents](#table-of-contents)"
   ]
  },
  {
   "cell_type": "markdown",
   "metadata": {},
   "source": [
    "***\n",
    "# Appendix"
   ]
  },
  {
   "cell_type": "markdown",
   "metadata": {},
   "source": [
    "- Code snippets: Important but too long code snippets that would unnecessarily bloat the main document.\n",
    "\n",
    "- Additional data: Further exploratory analysis or test runs.\n",
    "\n",
    "- Sources and references: Cite any paper, book, or online resources used."
   ]
  },
  {
   "cell_type": "code",
   "execution_count": null,
   "metadata": {},
   "outputs": [],
   "source": []
  }
 ],
 "metadata": {
  "kernelspec": {
   "display_name": ".venv",
   "language": "python",
   "name": "python3"
  },
  "language_info": {
   "codemirror_mode": {
    "name": "ipython",
    "version": 3
   },
   "file_extension": ".py",
   "mimetype": "text/x-python",
   "name": "python",
   "nbconvert_exporter": "python",
   "pygments_lexer": "ipython3",
   "version": "3.12.2"
  }
 },
 "nbformat": 4,
 "nbformat_minor": 2
}
