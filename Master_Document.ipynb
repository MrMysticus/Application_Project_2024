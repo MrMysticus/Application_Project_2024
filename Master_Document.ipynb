{
 "cells": [
  {
   "cell_type": "markdown",
   "metadata": {},
   "source": [
    "<div class=\"alert alert-block alert-warning\">\n",
    "<b>Warning:</b> THIS IS THE MASTER DOCUMENT! DO NOT MAKE UNAGREED CHANGES!!</a>\n",
    "</div>"
   ]
  },
  {
   "cell_type": "markdown",
   "metadata": {},
   "source": [
    "***\n",
    "***\n",
    "# Table of Contents\n"
   ]
  },
  {
   "cell_type": "markdown",
   "metadata": {},
   "source": [
    "[Imports](#imports)\n",
    "\n",
    "[1. Project Overview](#1-project-overview)\n",
    "\n",
    "[2. Project Introduction](#2-project-introduction)\n",
    "\n",
    "[3. Data Description](#3-data-description)\n",
    "\n",
    "[4. Data Preprocessing](#4-data-preprocessing)\n",
    "\n",
    "[5. Analysis and Model Training](#5-analysis-and-model-training)\n",
    "\n",
    "[6. Results](#6-results)\n",
    "\n",
    "[7. Conclusion and Outlook](#7-conclusion-and-outlook)\n",
    "\n",
    "[Appendix](#appendix)"
   ]
  },
  {
   "cell_type": "markdown",
   "metadata": {},
   "source": [
    "***\n",
    "***\n",
    "# Imports"
   ]
  },
  {
   "cell_type": "code",
   "execution_count": 5,
   "metadata": {},
   "outputs": [],
   "source": [
    "import dotenv\n",
    "import matplotlib.pyplot as plt\n",
    "import numpy as np\n",
    "import pandas as pd\n",
    "import re\n",
    "import requests\n",
    "import seaborn as sns"
   ]
  },
  {
   "cell_type": "code",
   "execution_count": null,
   "metadata": {},
   "outputs": [],
   "source": [
    "import geopandas as gpd\n",
    "import matplotlib.pyplot as plt\n",
    "from shapely.geometry import Point\n",
    "import ast\n",
    "import osmnx as ox"
   ]
  },
  {
   "cell_type": "markdown",
   "metadata": {},
   "source": [
    "***\n",
    "# 1. Project Overview"
   ]
  },
  {
   "cell_type": "markdown",
   "metadata": {},
   "source": [
    "## **Sprottenflotte**\n",
    "\n",
    "**Authors:**\n",
    "- Claas Resow - claas.resow@student.fh-kiel.de\n",
    "- Felix Haack - felix.haack@student.fh-kiel.de\n",
    "- Justus Heilingbrunner - justus.heilingbrunner@student.fh-kiel.de\n",
    "- Paul Brodmann - paul.brodmann@student.fh-kiel.de\n",
    "\n",
    "**Summary:**\n",
    "\n",
    "A brief description of the project, its objectives and results."
   ]
  },
  {
   "cell_type": "markdown",
   "metadata": {},
   "source": [
    "***\n",
    "# 2. Project Introduction"
   ]
  },
  {
   "cell_type": "markdown",
   "metadata": {},
   "source": [
    "**Problem statement:**\n",
    "\n",
    "A detailed description of the problem that your project addresses.\n",
    "\n",
    "**Objectives and hypotheses:**\n",
    "\n",
    "Clearly stated objectives and possibly the hypotheses you want to test."
   ]
  },
  {
   "cell_type": "markdown",
   "metadata": {},
   "source": [
    "***\n",
    "# 3. Data Description"
   ]
  },
  {
   "cell_type": "markdown",
   "metadata": {},
   "source": [
    "- Data sources: Where does the data come from? (e.g. public databases, proprietary data)\n",
    "    - API"
   ]
  },
  {
   "cell_type": "markdown",
   "metadata": {},
   "source": [
    "\n",
    "- Data structure: Describe the format of the data (e.g. CSV, JSON) and the key variables.\n",
    "    - in .csv format\n",
    "    - Key Variables:\n",
    " "
   ]
  },
  {
   "cell_type": "markdown",
   "metadata": {},
   "source": [
    "**Hub List all time + pick up and drop offs.csv | Features:**\n",
    "\n",
    "1. **id**: \n",
    "2. **name**: \n",
    "3. **state**: \n",
    "4. **created_at**: \n",
    "5. **maximum_capacity**: \n",
    "6. **pickups**: \n",
    "7. **dropoffs**: "
   ]
  },
  {
   "cell_type": "code",
   "execution_count": null,
   "metadata": {},
   "outputs": [],
   "source": [
    "df_stations = pd.read_csv('Data/Hub List all time + pick up and drop offs.csv')\n",
    "print(df_stations.shape)\n",
    "df_stations.head()"
   ]
  },
  {
   "cell_type": "code",
   "execution_count": null,
   "metadata": {},
   "outputs": [],
   "source": [
    "df_stations['name'].unique()"
   ]
  },
  {
   "cell_type": "code",
   "execution_count": null,
   "metadata": {},
   "outputs": [],
   "source": [
    "print('number of missing values:', df_stations.isnull().sum().sum())\n",
    "print('number of NaN values:', df_stations.isna().sum().sum())\n",
    "df_stations.info()"
   ]
  },
  {
   "cell_type": "code",
   "execution_count": null,
   "metadata": {},
   "outputs": [],
   "source": [
    "# look at dataset\n",
    "print('Shape:', df_stations.shape)\n",
    "print('Columns:', df_stations.columns)\n",
    "print('\\ndifferent names:', df_stations['name'].nunique())\n",
    "print('unique states:', df_stations['state'].nunique())\n",
    "print(df_stations['state'].unique())\n",
    "print('\\nmaximal capacity:', df_stations['maximum_capacity'].max())\n",
    "print('minimal capacity:', df_stations['maximum_capacity'].min())\n",
    "print(df_stations['maximum_capacity'].unique())\n",
    "print('\\n')\n",
    "print(df_stations['maximum_capacity'].value_counts()[:5])"
   ]
  },
  {
   "cell_type": "markdown",
   "metadata": {},
   "source": [
    "***"
   ]
  },
  {
   "cell_type": "markdown",
   "metadata": {},
   "source": [
    "**FelixData_final_main_kiel.csv | Features:**\n",
    "\n",
    "1. **index** - ids\n",
    "2. **entityId** - ids\n",
    "3. **entitiyType** - ids\n",
    "4. **name** - ids\n",
    "5. **availableBikeNumber** - ids\n",
    "6. **freeSlotNumber** - ids    \n",
    "7. **totatlSlotNumber** - ids    \n",
    "8. **pickups** - ids    \n",
    "9. **dropoffs** - ids   "
   ]
  },
  {
   "cell_type": "code",
   "execution_count": 2,
   "metadata": {},
   "outputs": [
    {
     "data": {
      "text/html": [
       "<div>\n",
       "<style scoped>\n",
       "    .dataframe tbody tr th:only-of-type {\n",
       "        vertical-align: middle;\n",
       "    }\n",
       "\n",
       "    .dataframe tbody tr th {\n",
       "        vertical-align: top;\n",
       "    }\n",
       "\n",
       "    .dataframe thead th {\n",
       "        text-align: right;\n",
       "    }\n",
       "</style>\n",
       "<table border=\"1\" class=\"dataframe\">\n",
       "  <thead>\n",
       "    <tr style=\"text-align: right;\">\n",
       "      <th></th>\n",
       "      <th>index</th>\n",
       "      <th>entityId</th>\n",
       "      <th>entityType</th>\n",
       "      <th>name</th>\n",
       "      <th>availableBikeNumber</th>\n",
       "      <th>freeSlotNumber</th>\n",
       "      <th>totalSlotNumber</th>\n",
       "      <th>pickups</th>\n",
       "      <th>dropoffs</th>\n",
       "    </tr>\n",
       "  </thead>\n",
       "  <tbody>\n",
       "    <tr>\n",
       "      <th>0</th>\n",
       "      <td>2024-06-17T11:00:00.000+00:00</td>\n",
       "      <td>24367</td>\n",
       "      <td>BikeHireDockingStation</td>\n",
       "      <td>Anleger Dietrichsdorf</td>\n",
       "      <td>5.032787</td>\n",
       "      <td>25.000000</td>\n",
       "      <td>30.0</td>\n",
       "      <td>4627</td>\n",
       "      <td>4683</td>\n",
       "    </tr>\n",
       "    <tr>\n",
       "      <th>1</th>\n",
       "      <td>2024-06-17T12:00:00.000+00:00</td>\n",
       "      <td>24367</td>\n",
       "      <td>BikeHireDockingStation</td>\n",
       "      <td>Anleger Dietrichsdorf</td>\n",
       "      <td>6.762712</td>\n",
       "      <td>24.237288</td>\n",
       "      <td>30.0</td>\n",
       "      <td>4627</td>\n",
       "      <td>4683</td>\n",
       "    </tr>\n",
       "    <tr>\n",
       "      <th>2</th>\n",
       "      <td>2024-06-17T13:00:00.000+00:00</td>\n",
       "      <td>24367</td>\n",
       "      <td>BikeHireDockingStation</td>\n",
       "      <td>Anleger Dietrichsdorf</td>\n",
       "      <td>6.864407</td>\n",
       "      <td>24.000000</td>\n",
       "      <td>30.0</td>\n",
       "      <td>4627</td>\n",
       "      <td>4683</td>\n",
       "    </tr>\n",
       "    <tr>\n",
       "      <th>3</th>\n",
       "      <td>2024-06-17T14:00:00.000+00:00</td>\n",
       "      <td>24367</td>\n",
       "      <td>BikeHireDockingStation</td>\n",
       "      <td>Anleger Dietrichsdorf</td>\n",
       "      <td>5.846154</td>\n",
       "      <td>24.153846</td>\n",
       "      <td>30.0</td>\n",
       "      <td>4627</td>\n",
       "      <td>4683</td>\n",
       "    </tr>\n",
       "    <tr>\n",
       "      <th>4</th>\n",
       "      <td>2024-06-17T15:00:00.000+00:00</td>\n",
       "      <td>24367</td>\n",
       "      <td>BikeHireDockingStation</td>\n",
       "      <td>Anleger Dietrichsdorf</td>\n",
       "      <td>5.305556</td>\n",
       "      <td>24.694444</td>\n",
       "      <td>30.0</td>\n",
       "      <td>4627</td>\n",
       "      <td>4683</td>\n",
       "    </tr>\n",
       "  </tbody>\n",
       "</table>\n",
       "</div>"
      ],
      "text/plain": [
       "                           index  entityId              entityType  \\\n",
       "0  2024-06-17T11:00:00.000+00:00     24367  BikeHireDockingStation   \n",
       "1  2024-06-17T12:00:00.000+00:00     24367  BikeHireDockingStation   \n",
       "2  2024-06-17T13:00:00.000+00:00     24367  BikeHireDockingStation   \n",
       "3  2024-06-17T14:00:00.000+00:00     24367  BikeHireDockingStation   \n",
       "4  2024-06-17T15:00:00.000+00:00     24367  BikeHireDockingStation   \n",
       "\n",
       "                    name  availableBikeNumber  freeSlotNumber  \\\n",
       "0  Anleger Dietrichsdorf             5.032787       25.000000   \n",
       "1  Anleger Dietrichsdorf             6.762712       24.237288   \n",
       "2  Anleger Dietrichsdorf             6.864407       24.000000   \n",
       "3  Anleger Dietrichsdorf             5.846154       24.153846   \n",
       "4  Anleger Dietrichsdorf             5.305556       24.694444   \n",
       "\n",
       "   totalSlotNumber  pickups  dropoffs  \n",
       "0             30.0     4627      4683  \n",
       "1             30.0     4627      4683  \n",
       "2             30.0     4627      4683  \n",
       "3             30.0     4627      4683  \n",
       "4             30.0     4627      4683  "
      ]
     },
     "execution_count": 2,
     "metadata": {},
     "output_type": "execute_result"
    }
   ],
   "source": [
    "df = pd.read_csv('FelixData_final_main_kiel.csv')\n",
    "print(df.shape)\n",
    "df.head()"
   ]
  },
  {
   "cell_type": "code",
   "execution_count": 4,
   "metadata": {},
   "outputs": [
    {
     "data": {
      "text/plain": [
       "Index(['index', 'entityId', 'entityType', 'name', 'availableBikeNumber',\n",
       "       'freeSlotNumber', 'totalSlotNumber', 'pickups', 'dropoffs'],\n",
       "      dtype='object')"
      ]
     },
     "execution_count": 4,
     "metadata": {},
     "output_type": "execute_result"
    }
   ],
   "source": [
    "df.columns"
   ]
  },
  {
   "cell_type": "code",
   "execution_count": null,
   "metadata": {},
   "outputs": [],
   "source": [
    "print('number of missing values:', df.isnull().sum().sum())\n",
    "print('number of NaN values:', df.isna().sum().sum())\n",
    "df.info()"
   ]
  },
  {
   "cell_type": "code",
   "execution_count": null,
   "metadata": {},
   "outputs": [],
   "source": [
    "# look at dataset\n",
    "print('Shape:', df.shape)\n",
    "print('Columns:', df.columns)"
   ]
  },
  {
   "cell_type": "markdown",
   "metadata": {},
   "source": [
    "\n",
    "- Data exploration: Brief preliminary analysis of the data, including statistics on key variables and possibly initial visualizations.\n",
    "    - visualisations\n",
    "        - geo map with bikestations\n",
    "        "
   ]
  },
  {
   "cell_type": "code",
   "execution_count": 6,
   "metadata": {},
   "outputs": [
    {
     "data": {
      "text/html": [
       "<div>\n",
       "<style scoped>\n",
       "    .dataframe tbody tr th:only-of-type {\n",
       "        vertical-align: middle;\n",
       "    }\n",
       "\n",
       "    .dataframe tbody tr th {\n",
       "        vertical-align: top;\n",
       "    }\n",
       "\n",
       "    .dataframe thead th {\n",
       "        text-align: right;\n",
       "    }\n",
       "</style>\n",
       "<table border=\"1\" class=\"dataframe\">\n",
       "  <thead>\n",
       "    <tr style=\"text-align: right;\">\n",
       "      <th></th>\n",
       "      <th>entityId</th>\n",
       "      <th>availableBikeNumber</th>\n",
       "      <th>freeSlotNumber</th>\n",
       "      <th>totalSlotNumber</th>\n",
       "      <th>pickups</th>\n",
       "      <th>dropoffs</th>\n",
       "    </tr>\n",
       "  </thead>\n",
       "  <tbody>\n",
       "    <tr>\n",
       "      <th>count</th>\n",
       "      <td>86501.000000</td>\n",
       "      <td>86501.000000</td>\n",
       "      <td>86501.000000</td>\n",
       "      <td>86022.000000</td>\n",
       "      <td>86501.000000</td>\n",
       "      <td>86501.000000</td>\n",
       "    </tr>\n",
       "    <tr>\n",
       "      <th>mean</th>\n",
       "      <td>24526.825227</td>\n",
       "      <td>4.976350</td>\n",
       "      <td>20.367157</td>\n",
       "      <td>26.131431</td>\n",
       "      <td>10763.219974</td>\n",
       "      <td>10722.754847</td>\n",
       "    </tr>\n",
       "    <tr>\n",
       "      <th>std</th>\n",
       "      <td>500.767548</td>\n",
       "      <td>6.808609</td>\n",
       "      <td>10.806578</td>\n",
       "      <td>10.999875</td>\n",
       "      <td>10015.680102</td>\n",
       "      <td>9952.040947</td>\n",
       "    </tr>\n",
       "    <tr>\n",
       "      <th>min</th>\n",
       "      <td>24367.000000</td>\n",
       "      <td>0.000000</td>\n",
       "      <td>0.000000</td>\n",
       "      <td>15.000000</td>\n",
       "      <td>694.000000</td>\n",
       "      <td>570.000000</td>\n",
       "    </tr>\n",
       "    <tr>\n",
       "      <th>25%</th>\n",
       "      <td>24380.000000</td>\n",
       "      <td>0.423729</td>\n",
       "      <td>14.550000</td>\n",
       "      <td>20.000000</td>\n",
       "      <td>4627.000000</td>\n",
       "      <td>4683.000000</td>\n",
       "    </tr>\n",
       "    <tr>\n",
       "      <th>50%</th>\n",
       "      <td>24397.000000</td>\n",
       "      <td>2.000000</td>\n",
       "      <td>19.000000</td>\n",
       "      <td>25.000000</td>\n",
       "      <td>7544.000000</td>\n",
       "      <td>7593.000000</td>\n",
       "    </tr>\n",
       "    <tr>\n",
       "      <th>75%</th>\n",
       "      <td>24457.000000</td>\n",
       "      <td>6.615385</td>\n",
       "      <td>26.000000</td>\n",
       "      <td>30.000000</td>\n",
       "      <td>14981.000000</td>\n",
       "      <td>15008.000000</td>\n",
       "    </tr>\n",
       "    <tr>\n",
       "      <th>max</th>\n",
       "      <td>26889.000000</td>\n",
       "      <td>63.433333</td>\n",
       "      <td>80.000000</td>\n",
       "      <td>80.000000</td>\n",
       "      <td>57838.000000</td>\n",
       "      <td>57410.000000</td>\n",
       "    </tr>\n",
       "  </tbody>\n",
       "</table>\n",
       "</div>"
      ],
      "text/plain": [
       "           entityId  availableBikeNumber  freeSlotNumber  totalSlotNumber  \\\n",
       "count  86501.000000         86501.000000    86501.000000     86022.000000   \n",
       "mean   24526.825227             4.976350       20.367157        26.131431   \n",
       "std      500.767548             6.808609       10.806578        10.999875   \n",
       "min    24367.000000             0.000000        0.000000        15.000000   \n",
       "25%    24380.000000             0.423729       14.550000        20.000000   \n",
       "50%    24397.000000             2.000000       19.000000        25.000000   \n",
       "75%    24457.000000             6.615385       26.000000        30.000000   \n",
       "max    26889.000000            63.433333       80.000000        80.000000   \n",
       "\n",
       "            pickups      dropoffs  \n",
       "count  86501.000000  86501.000000  \n",
       "mean   10763.219974  10722.754847  \n",
       "std    10015.680102   9952.040947  \n",
       "min      694.000000    570.000000  \n",
       "25%     4627.000000   4683.000000  \n",
       "50%     7544.000000   7593.000000  \n",
       "75%    14981.000000  15008.000000  \n",
       "max    57838.000000  57410.000000  "
      ]
     },
     "execution_count": 6,
     "metadata": {},
     "output_type": "execute_result"
    }
   ],
   "source": [
    "df.describe()"
   ]
  },
  {
   "cell_type": "code",
   "execution_count": 20,
   "metadata": {},
   "outputs": [
    {
     "data": {
      "text/html": [
       "<div>\n",
       "<style scoped>\n",
       "    .dataframe tbody tr th:only-of-type {\n",
       "        vertical-align: middle;\n",
       "    }\n",
       "\n",
       "    .dataframe tbody tr th {\n",
       "        vertical-align: top;\n",
       "    }\n",
       "\n",
       "    .dataframe thead th {\n",
       "        text-align: right;\n",
       "    }\n",
       "</style>\n",
       "<table border=\"1\" class=\"dataframe\">\n",
       "  <thead>\n",
       "    <tr style=\"text-align: right;\">\n",
       "      <th></th>\n",
       "      <th>ID</th>\n",
       "      <th>Status</th>\n",
       "      <th>Name</th>\n",
       "      <th>Location</th>\n",
       "    </tr>\n",
       "  </thead>\n",
       "  <tbody>\n",
       "    <tr>\n",
       "      <th>0</th>\n",
       "      <td>30467</td>\n",
       "      <td>0</td>\n",
       "      <td>NaN</td>\n",
       "      <td>NaN</td>\n",
       "    </tr>\n",
       "    <tr>\n",
       "      <th>1</th>\n",
       "      <td>30466</td>\n",
       "      <td>0</td>\n",
       "      <td>NaN</td>\n",
       "      <td>NaN</td>\n",
       "    </tr>\n",
       "    <tr>\n",
       "      <th>2</th>\n",
       "      <td>30464</td>\n",
       "      <td>1</td>\n",
       "      <td>Pop Up Rathaus event</td>\n",
       "      <td>[10.132222, 54.322469]</td>\n",
       "    </tr>\n",
       "    <tr>\n",
       "      <th>3</th>\n",
       "      <td>30434</td>\n",
       "      <td>1</td>\n",
       "      <td>Felde Gemeindezentrum</td>\n",
       "      <td>[9.933817, 54.299552]</td>\n",
       "    </tr>\n",
       "    <tr>\n",
       "      <th>4</th>\n",
       "      <td>30420</td>\n",
       "      <td>0</td>\n",
       "      <td>NaN</td>\n",
       "      <td>NaN</td>\n",
       "    </tr>\n",
       "  </tbody>\n",
       "</table>\n",
       "</div>"
      ],
      "text/plain": [
       "      ID  Status                   Name                Location\n",
       "0  30467       0                    NaN                     NaN\n",
       "1  30466       0                    NaN                     NaN\n",
       "2  30464       1   Pop Up Rathaus event  [10.132222, 54.322469]\n",
       "3  30434       1  Felde Gemeindezentrum   [9.933817, 54.299552]\n",
       "4  30420       0                    NaN                     NaN"
      ]
     },
     "execution_count": 20,
     "metadata": {},
     "output_type": "execute_result"
    }
   ],
   "source": [
    "geo_data = pd.read_csv('data/response_IDs_KielRegion.csv')\n",
    "geo_data.head()"
   ]
  },
  {
   "cell_type": "code",
   "execution_count": 21,
   "metadata": {},
   "outputs": [
    {
     "data": {
      "text/plain": [
       "'[9.933817, 54.299552]'"
      ]
     },
     "execution_count": 21,
     "metadata": {},
     "output_type": "execute_result"
    }
   ],
   "source": [
    "geo_data['Location'][3]"
   ]
  },
  {
   "cell_type": "code",
   "execution_count": 22,
   "metadata": {},
   "outputs": [
    {
     "data": {
      "text/html": [
       "<div>\n",
       "<style scoped>\n",
       "    .dataframe tbody tr th:only-of-type {\n",
       "        vertical-align: middle;\n",
       "    }\n",
       "\n",
       "    .dataframe tbody tr th {\n",
       "        vertical-align: top;\n",
       "    }\n",
       "\n",
       "    .dataframe thead th {\n",
       "        text-align: right;\n",
       "    }\n",
       "</style>\n",
       "<table border=\"1\" class=\"dataframe\">\n",
       "  <thead>\n",
       "    <tr style=\"text-align: right;\">\n",
       "      <th></th>\n",
       "      <th>element_type</th>\n",
       "      <th>osmid</th>\n",
       "      <th>source</th>\n",
       "      <th>geometry</th>\n",
       "      <th>name</th>\n",
       "      <th>note</th>\n",
       "      <th>fixme</th>\n",
       "      <th>nodes</th>\n",
       "      <th>wikidata</th>\n",
       "      <th>admin_level</th>\n",
       "      <th>boundary</th>\n",
       "      <th>description</th>\n",
       "      <th>ways</th>\n",
       "      <th>type</th>\n",
       "      <th>name:lt</th>\n",
       "    </tr>\n",
       "  </thead>\n",
       "  <tbody>\n",
       "    <tr>\n",
       "      <th>57</th>\n",
       "      <td>relation</td>\n",
       "      <td>968220</td>\n",
       "      <td>description wikipedia http://de.wikipedia.org/...</td>\n",
       "      <td>POLYGON ((10.10165 54.34537, 10.10205 54.34551...</td>\n",
       "      <td>Ravensberg</td>\n",
       "      <td>NaN</td>\n",
       "      <td>NaN</td>\n",
       "      <td>[[[6579922566, 4210616712, 4210616718, 4210616...</td>\n",
       "      <td>Q1301655</td>\n",
       "      <td>10</td>\n",
       "      <td>administrative</td>\n",
       "      <td>NaN</td>\n",
       "      <td>[95922356, 8033159, 700080203, 37332588, 11226...</td>\n",
       "      <td>boundary</td>\n",
       "      <td>NaN</td>\n",
       "    </tr>\n",
       "    <tr>\n",
       "      <th>58</th>\n",
       "      <td>relation</td>\n",
       "      <td>969228</td>\n",
       "      <td>NaN</td>\n",
       "      <td>POLYGON ((10.13046 54.33575, 10.13097 54.33614...</td>\n",
       "      <td>Blücherplatz</td>\n",
       "      <td>NaN</td>\n",
       "      <td>NaN</td>\n",
       "      <td>[[[1584227487, 195530776, 6906815974, 83197278...</td>\n",
       "      <td>Q1740941</td>\n",
       "      <td>10</td>\n",
       "      <td>administrative</td>\n",
       "      <td>NaN</td>\n",
       "      <td>[144949011, 155075900, 997472904, 12519965, 10...</td>\n",
       "      <td>boundary</td>\n",
       "      <td>NaN</td>\n",
       "    </tr>\n",
       "    <tr>\n",
       "      <th>59</th>\n",
       "      <td>relation</td>\n",
       "      <td>969563</td>\n",
       "      <td>NaN</td>\n",
       "      <td>POLYGON ((10.09509 54.3289, 10.09596 54.32939,...</td>\n",
       "      <td>Schreventeich</td>\n",
       "      <td>NaN</td>\n",
       "      <td>NaN</td>\n",
       "      <td>[[[323631212, 323642031, 324059936, 323398901,...</td>\n",
       "      <td>Q978752</td>\n",
       "      <td>10</td>\n",
       "      <td>administrative</td>\n",
       "      <td>NaN</td>\n",
       "      <td>[373722897, 373722896, 62247422, 911887650, 53...</td>\n",
       "      <td>boundary</td>\n",
       "      <td>NaN</td>\n",
       "    </tr>\n",
       "  </tbody>\n",
       "</table>\n",
       "</div>"
      ],
      "text/plain": [
       "   element_type   osmid                                             source  \\\n",
       "57     relation  968220  description wikipedia http://de.wikipedia.org/...   \n",
       "58     relation  969228                                                NaN   \n",
       "59     relation  969563                                                NaN   \n",
       "\n",
       "                                             geometry           name note  \\\n",
       "57  POLYGON ((10.10165 54.34537, 10.10205 54.34551...     Ravensberg  NaN   \n",
       "58  POLYGON ((10.13046 54.33575, 10.13097 54.33614...   Blücherplatz  NaN   \n",
       "59  POLYGON ((10.09509 54.3289, 10.09596 54.32939,...  Schreventeich  NaN   \n",
       "\n",
       "   fixme                                              nodes  wikidata  \\\n",
       "57   NaN  [[[6579922566, 4210616712, 4210616718, 4210616...  Q1301655   \n",
       "58   NaN  [[[1584227487, 195530776, 6906815974, 83197278...  Q1740941   \n",
       "59   NaN  [[[323631212, 323642031, 324059936, 323398901,...   Q978752   \n",
       "\n",
       "   admin_level        boundary description  \\\n",
       "57          10  administrative         NaN   \n",
       "58          10  administrative         NaN   \n",
       "59          10  administrative         NaN   \n",
       "\n",
       "                                                 ways      type name:lt  \n",
       "57  [95922356, 8033159, 700080203, 37332588, 11226...  boundary     NaN  \n",
       "58  [144949011, 155075900, 997472904, 12519965, 10...  boundary     NaN  \n",
       "59  [373722897, 373722896, 62247422, 911887650, 53...  boundary     NaN  "
      ]
     },
     "execution_count": 22,
     "metadata": {},
     "output_type": "execute_result"
    }
   ],
   "source": [
    "# Geo Data kiel from Open Street Map\n",
    "\n",
    "tags = {'admin_level': '10'}\n",
    "geo = ox.features_from_place(\n",
    "    query=\"Kiel, Germany\",\n",
    "    tags=tags)\n",
    "geo = geo.reset_index()\n",
    "geo = geo[geo.element_type=='relation']\n",
    "geo.head(3)"
   ]
  },
  {
   "cell_type": "code",
   "execution_count": 23,
   "metadata": {},
   "outputs": [
    {
     "data": {
      "text/html": [
       "<div>\n",
       "<style scoped>\n",
       "    .dataframe tbody tr th:only-of-type {\n",
       "        vertical-align: middle;\n",
       "    }\n",
       "\n",
       "    .dataframe tbody tr th {\n",
       "        vertical-align: top;\n",
       "    }\n",
       "\n",
       "    .dataframe thead th {\n",
       "        text-align: right;\n",
       "    }\n",
       "</style>\n",
       "<table border=\"1\" class=\"dataframe\">\n",
       "  <thead>\n",
       "    <tr style=\"text-align: right;\">\n",
       "      <th></th>\n",
       "      <th>name</th>\n",
       "      <th>geometry</th>\n",
       "    </tr>\n",
       "  </thead>\n",
       "  <tbody>\n",
       "    <tr>\n",
       "      <th>57</th>\n",
       "      <td>Ravensberg</td>\n",
       "      <td>POLYGON ((10.10165 54.34537, 10.10205 54.34551...</td>\n",
       "    </tr>\n",
       "    <tr>\n",
       "      <th>58</th>\n",
       "      <td>Blücherplatz</td>\n",
       "      <td>POLYGON ((10.13046 54.33575, 10.13097 54.33614...</td>\n",
       "    </tr>\n",
       "    <tr>\n",
       "      <th>59</th>\n",
       "      <td>Schreventeich</td>\n",
       "      <td>POLYGON ((10.09509 54.3289, 10.09596 54.32939,...</td>\n",
       "    </tr>\n",
       "  </tbody>\n",
       "</table>\n",
       "</div>"
      ],
      "text/plain": [
       "             name                                           geometry\n",
       "57     Ravensberg  POLYGON ((10.10165 54.34537, 10.10205 54.34551...\n",
       "58   Blücherplatz  POLYGON ((10.13046 54.33575, 10.13097 54.33614...\n",
       "59  Schreventeich  POLYGON ((10.09509 54.3289, 10.09596 54.32939,..."
      ]
     },
     "execution_count": 23,
     "metadata": {},
     "output_type": "execute_result"
    }
   ],
   "source": [
    "geo = geo[['name','geometry']]\n",
    "geo.head(3)"
   ]
  },
  {
   "cell_type": "code",
   "execution_count": 79,
   "metadata": {},
   "outputs": [
    {
     "data": {
      "image/png": "[encoded data removed]",
      "text/plain": [
       "<Figure size 1000x1000 with 1 Axes>"
      ]
     },
     "metadata": {},
     "output_type": "display_data"
    }
   ],
   "source": [
    "# Beispielkoordinaten\n",
    "# coordinates_list = [(10.122253, 54.341647), (10.3, 54.5), (10.5, 54.4)]  # Füge hier deine Koordinaten ein\n",
    "\n",
    "def extract_coordinates(location):\n",
    "    \"\"\" Annahme: 'location' enthält Tupel aus (Längengrad, Breitengrad) \"\"\"\n",
    "    # return Point(location_str)\n",
    "    try:\n",
    "        # Konvertiere den String in eine Liste von Koordinaten\n",
    "        if isinstance(location, str):\n",
    "            location = ast.literal_eval(location)\n",
    "        # Erstelle Point, nur wenn es eine valide Liste von zwei Koordinaten ist\n",
    "        if isinstance(location, list) and len(location) == 2:\n",
    "            return Point(location[0], location[1])\n",
    "    except (ValueError, SyntaxError):\n",
    "        pass\n",
    "    return None\n",
    "\n",
    "# Erstelle eine GeoSeries aus den Koordinaten, indem du für jede Koordinate einen Point erstellst\n",
    "geometry = geo_data['Location'].apply(extract_coordinates)\n",
    "\n",
    "# Erstelle ein GeoDataFrame mit der Spalte 'geometry'\n",
    "gdf_points = gpd.GeoDataFrame(geometry=geometry)\n",
    "\n",
    "gdf_region = geo # geo\n",
    "\n",
    "#########\n",
    "# Plotte die Karte\n",
    "fig, ax = plt.subplots(figsize=(10, 10))\n",
    "\n",
    "# Zeichne die Region\n",
    "gdf_region.plot(ax=ax, color='lightblue', edgecolor='black')\n",
    "\n",
    "# Zeichne die Punkte\n",
    "gdf_points.plot(ax=ax, marker='o', color='red', markersize=10)\n",
    "\n",
    "plt.title('Geoplot der Koordinaten mit der Kieler Region')\n",
    "plt.xlabel('Längengrad')\n",
    "plt.ylabel('Breitengrad')\n",
    "plt.grid(True)\n",
    "\n",
    "# Zeige die Karte\n",
    "plt.show()"
   ]
  },
  {
   "cell_type": "code",
   "execution_count": 17,
   "metadata": {},
   "outputs": [
    {
     "data": {
      "text/plain": [
       "0                             None\n",
       "1                             None\n",
       "2      POINT (10.132222 54.322469)\n",
       "3       POINT (9.933817 54.299552)\n",
       "4                             None\n",
       "                  ...             \n",
       "228                           None\n",
       "229                           None\n",
       "230                           None\n",
       "231    POINT (10.131167 54.314861)\n",
       "232    POINT (10.178556 54.329611)\n",
       "Name: Location, Length: 233, dtype: object"
      ]
     },
     "execution_count": 17,
     "metadata": {},
     "output_type": "execute_result"
    }
   ],
   "source": [
    "geometry"
   ]
  },
  {
   "cell_type": "markdown",
   "metadata": {},
   "source": [
    "***\n",
    "# 4. Data Preprocessing"
   ]
  },
  {
   "cell_type": "markdown",
   "metadata": {},
   "source": [
    "- Data cleaning\n",
    "- Transformations\n",
    "- Feature engineering"
   ]
  },
  {
   "cell_type": "markdown",
   "metadata": {},
   "source": [
    "***\n",
    "# 5. Analysis and Model Training"
   ]
  },
  {
   "cell_type": "markdown",
   "metadata": {},
   "source": [
    "- Exploratory data analysis (EDA): More detailed analyses and visualizations to gain insights.\n",
    "\n",
    "- Model selection and justification: Which models were tried and why? (e.g. linear regression, decision trees, neural networks)\n",
    "\n",
    "- Training process: details on how the models were trained, including hyperparameter settings, cross-validation, etc.\n",
    "\n",
    "- Evaluation and comparison: Metrics for model evaluation and a comparison of the different models."
   ]
  },
  {
   "cell_type": "markdown",
   "metadata": {},
   "source": [
    "***\n",
    "# 6. Results"
   ]
  },
  {
   "cell_type": "markdown",
   "metadata": {},
   "source": [
    "- Final results: Presentation of the best models and their performance.\n",
    "\n",
    "- Visualizations: Diagrams and plots that clearly illustrate the results.\n",
    "\n",
    "- Interpretation of the results: Analysis and interpretation of key findings."
   ]
  },
  {
   "cell_type": "markdown",
   "metadata": {},
   "source": [
    "***\n",
    "# 7. Conclusion and Outlook"
   ]
  },
  {
   "cell_type": "markdown",
   "metadata": {},
   "source": [
    "- Summary of the results: Brief summary of the most important results and findings.\n",
    "\n",
    "- Limitations of the project: Mention of possible limitations and challenges.\n",
    "\n",
    "- Future work: Suggestions for future improvements or further research."
   ]
  },
  {
   "cell_type": "markdown",
   "metadata": {},
   "source": [
    "[to Table of Contents](#table-of-contents)"
   ]
  },
  {
   "cell_type": "markdown",
   "metadata": {},
   "source": [
    "***\n",
    "# Appendix"
   ]
  },
  {
   "cell_type": "markdown",
   "metadata": {},
   "source": [
    "- Code snippets: Important but too long code snippets that would unnecessarily bloat the main document.\n",
    "\n",
    "- Additional data: Further exploratory analysis or test runs.\n",
    "\n",
    "- Sources and references: Cite any paper, book, or online resources used."
   ]
  },
  {
   "cell_type": "code",
   "execution_count": null,
   "metadata": {},
   "outputs": [],
   "source": []
  }
 ],
 "metadata": {
  "kernelspec": {
   "display_name": ".venv",
   "language": "python",
   "name": "python3"
  },
  "language_info": {
   "codemirror_mode": {
    "name": "ipython",
    "version": 3
   },
   "file_extension": ".py",
   "mimetype": "text/x-python",
   "name": "python",
   "nbconvert_exporter": "python",
   "pygments_lexer": "ipython3",
   "version": "3.12.2"
  }
 },
 "nbformat": 4,
 "nbformat_minor": 2
}
